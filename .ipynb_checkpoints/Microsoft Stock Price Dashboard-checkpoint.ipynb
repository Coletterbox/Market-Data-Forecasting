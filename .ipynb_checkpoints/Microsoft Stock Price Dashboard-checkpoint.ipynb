{
 "cells": [
  {
   "cell_type": "code",
   "execution_count": 363,
   "metadata": {
    "extensions": {
     "jupyter_dashboards": {
      "version": 1,
      "views": {
       "grid_default": {},
       "report_default": {
        "hidden": true
       }
      }
     }
    }
   },
   "outputs": [],
   "source": [
    "import requests\n",
    "import pandas as pd\n",
    "import matplotlib.pyplot as plt\n",
    "import numpy as np\n",
    "import plotly.graph_objs as go\n",
    "\n",
    "from api_key_container import api_key"
   ]
  },
  {
   "cell_type": "code",
   "execution_count": 364,
   "metadata": {
    "extensions": {
     "jupyter_dashboards": {
      "version": 1,
      "views": {
       "grid_default": {},
       "report_default": {
        "hidden": false
       }
      }
     }
    }
   },
   "outputs": [],
   "source": [
    "url = \"https://api.marketstack.com/v1/tickers?access_key=\" + api_key\n",
    "response = requests.get(url)\n",
    "response_json = response.json()"
   ]
  },
  {
   "cell_type": "code",
   "execution_count": 365,
   "metadata": {
    "extensions": {
     "jupyter_dashboards": {
      "version": 1,
      "views": {
       "grid_default": {},
       "report_default": {
        "hidden": true
       }
      }
     }
    }
   },
   "outputs": [
    {
     "data": {
      "text/html": [
       "<div>\n",
       "<style scoped>\n",
       "    .dataframe tbody tr th:only-of-type {\n",
       "        vertical-align: middle;\n",
       "    }\n",
       "\n",
       "    .dataframe tbody tr th {\n",
       "        vertical-align: top;\n",
       "    }\n",
       "\n",
       "    .dataframe thead th {\n",
       "        text-align: right;\n",
       "    }\n",
       "</style>\n",
       "<table border=\"1\" class=\"dataframe\">\n",
       "  <thead>\n",
       "    <tr style=\"text-align: right;\">\n",
       "      <th></th>\n",
       "      <th>name</th>\n",
       "      <th>symbol</th>\n",
       "      <th>has_intraday</th>\n",
       "      <th>has_eod</th>\n",
       "      <th>country</th>\n",
       "      <th>stock_exchange.name</th>\n",
       "      <th>stock_exchange.acronym</th>\n",
       "      <th>stock_exchange.mic</th>\n",
       "      <th>stock_exchange.country</th>\n",
       "      <th>stock_exchange.country_code</th>\n",
       "      <th>stock_exchange.city</th>\n",
       "      <th>stock_exchange.website</th>\n",
       "    </tr>\n",
       "  </thead>\n",
       "  <tbody>\n",
       "    <tr>\n",
       "      <th>0</th>\n",
       "      <td>Microsoft Corporation</td>\n",
       "      <td>MSFT</td>\n",
       "      <td>False</td>\n",
       "      <td>True</td>\n",
       "      <td>None</td>\n",
       "      <td>NASDAQ - ALL MARKETS</td>\n",
       "      <td>NASDAQ</td>\n",
       "      <td>XNAS</td>\n",
       "      <td>None</td>\n",
       "      <td>US</td>\n",
       "      <td>NEW YORK</td>\n",
       "      <td>www.nasdaq.com</td>\n",
       "    </tr>\n",
       "    <tr>\n",
       "      <th>1</th>\n",
       "      <td>Apple Inc</td>\n",
       "      <td>AAPL</td>\n",
       "      <td>False</td>\n",
       "      <td>True</td>\n",
       "      <td>None</td>\n",
       "      <td>NASDAQ - ALL MARKETS</td>\n",
       "      <td>NASDAQ</td>\n",
       "      <td>XNAS</td>\n",
       "      <td>None</td>\n",
       "      <td>US</td>\n",
       "      <td>NEW YORK</td>\n",
       "      <td>www.nasdaq.com</td>\n",
       "    </tr>\n",
       "    <tr>\n",
       "      <th>2</th>\n",
       "      <td>Amazon.com Inc</td>\n",
       "      <td>AMZN</td>\n",
       "      <td>False</td>\n",
       "      <td>True</td>\n",
       "      <td>None</td>\n",
       "      <td>NASDAQ - ALL MARKETS</td>\n",
       "      <td>NASDAQ</td>\n",
       "      <td>XNAS</td>\n",
       "      <td>None</td>\n",
       "      <td>US</td>\n",
       "      <td>NEW YORK</td>\n",
       "      <td>www.nasdaq.com</td>\n",
       "    </tr>\n",
       "    <tr>\n",
       "      <th>3</th>\n",
       "      <td>Alphabet Inc - Class C</td>\n",
       "      <td>GOOG</td>\n",
       "      <td>False</td>\n",
       "      <td>True</td>\n",
       "      <td>None</td>\n",
       "      <td>NASDAQ - ALL MARKETS</td>\n",
       "      <td>NASDAQ</td>\n",
       "      <td>XNAS</td>\n",
       "      <td>None</td>\n",
       "      <td>US</td>\n",
       "      <td>NEW YORK</td>\n",
       "      <td>www.nasdaq.com</td>\n",
       "    </tr>\n",
       "    <tr>\n",
       "      <th>4</th>\n",
       "      <td>Alphabet Inc - Class A</td>\n",
       "      <td>GOOGL</td>\n",
       "      <td>False</td>\n",
       "      <td>True</td>\n",
       "      <td>None</td>\n",
       "      <td>NASDAQ - ALL MARKETS</td>\n",
       "      <td>NASDAQ</td>\n",
       "      <td>XNAS</td>\n",
       "      <td>None</td>\n",
       "      <td>US</td>\n",
       "      <td>NEW YORK</td>\n",
       "      <td>www.nasdaq.com</td>\n",
       "    </tr>\n",
       "  </tbody>\n",
       "</table>\n",
       "</div>"
      ],
      "text/plain": [
       "                     name symbol  has_intraday  has_eod country  \\\n",
       "0   Microsoft Corporation   MSFT         False     True    None   \n",
       "1               Apple Inc   AAPL         False     True    None   \n",
       "2          Amazon.com Inc   AMZN         False     True    None   \n",
       "3  Alphabet Inc - Class C   GOOG         False     True    None   \n",
       "4  Alphabet Inc - Class A  GOOGL         False     True    None   \n",
       "\n",
       "    stock_exchange.name stock_exchange.acronym stock_exchange.mic  \\\n",
       "0  NASDAQ - ALL MARKETS                 NASDAQ               XNAS   \n",
       "1  NASDAQ - ALL MARKETS                 NASDAQ               XNAS   \n",
       "2  NASDAQ - ALL MARKETS                 NASDAQ               XNAS   \n",
       "3  NASDAQ - ALL MARKETS                 NASDAQ               XNAS   \n",
       "4  NASDAQ - ALL MARKETS                 NASDAQ               XNAS   \n",
       "\n",
       "  stock_exchange.country stock_exchange.country_code stock_exchange.city  \\\n",
       "0                   None                          US            NEW YORK   \n",
       "1                   None                          US            NEW YORK   \n",
       "2                   None                          US            NEW YORK   \n",
       "3                   None                          US            NEW YORK   \n",
       "4                   None                          US            NEW YORK   \n",
       "\n",
       "  stock_exchange.website  \n",
       "0         www.nasdaq.com  \n",
       "1         www.nasdaq.com  \n",
       "2         www.nasdaq.com  \n",
       "3         www.nasdaq.com  \n",
       "4         www.nasdaq.com  "
      ]
     },
     "execution_count": 365,
     "metadata": {},
     "output_type": "execute_result"
    }
   ],
   "source": [
    "companies = response_json['data']\n",
    "df = pd.json_normalize(companies, meta=['name'])\n",
    "df.head(5)"
   ]
  },
  {
   "cell_type": "code",
   "execution_count": 366,
   "metadata": {
    "extensions": {
     "jupyter_dashboards": {
      "version": 1,
      "views": {
       "grid_default": {},
       "report_default": {
        "hidden": false
       }
      }
     }
    },
    "scrolled": true
   },
   "outputs": [],
   "source": [
    "url = \"https://api.marketstack.com/v1/eod?access_key=\" + api_key\n",
    "querystring = {\"symbols\":\"MSFT\",\"date_from\":\"2023-12-19\", \"date_to\":\"2024-12-19\"}\n",
    "response = requests.get(url, params=querystring)"
   ]
  },
  {
   "cell_type": "code",
   "execution_count": 367,
   "metadata": {
    "extensions": {
     "jupyter_dashboards": {
      "version": 1,
      "views": {
       "grid_default": {},
       "report_default": {
        "hidden": false
       }
      }
     }
    }
   },
   "outputs": [],
   "source": [
    "historical_data = response.json()['data']"
   ]
  },
  {
   "cell_type": "code",
   "execution_count": 368,
   "metadata": {
    "extensions": {
     "jupyter_dashboards": {
      "version": 1,
      "views": {
       "grid_default": {},
       "report_default": {
        "hidden": false
       }
      }
     }
    }
   },
   "outputs": [
    {
     "data": {
      "text/html": [
       "<div>\n",
       "<style scoped>\n",
       "    .dataframe tbody tr th:only-of-type {\n",
       "        vertical-align: middle;\n",
       "    }\n",
       "\n",
       "    .dataframe tbody tr th {\n",
       "        vertical-align: top;\n",
       "    }\n",
       "\n",
       "    .dataframe thead th {\n",
       "        text-align: right;\n",
       "    }\n",
       "</style>\n",
       "<table border=\"1\" class=\"dataframe\">\n",
       "  <thead>\n",
       "    <tr style=\"text-align: right;\">\n",
       "      <th></th>\n",
       "      <th>open</th>\n",
       "      <th>high</th>\n",
       "      <th>low</th>\n",
       "      <th>close</th>\n",
       "      <th>volume</th>\n",
       "      <th>adj_high</th>\n",
       "      <th>adj_low</th>\n",
       "      <th>adj_close</th>\n",
       "      <th>adj_open</th>\n",
       "      <th>adj_volume</th>\n",
       "      <th>split_factor</th>\n",
       "      <th>dividend</th>\n",
       "      <th>symbol</th>\n",
       "      <th>exchange</th>\n",
       "      <th>date</th>\n",
       "    </tr>\n",
       "  </thead>\n",
       "  <tbody>\n",
       "    <tr>\n",
       "      <th>0</th>\n",
       "      <td>451.010</td>\n",
       "      <td>455.2900</td>\n",
       "      <td>449.57</td>\n",
       "      <td>454.46</td>\n",
       "      <td>22716300.0</td>\n",
       "      <td>455.2900</td>\n",
       "      <td>449.57</td>\n",
       "      <td>454.46</td>\n",
       "      <td>451.010</td>\n",
       "      <td>22733494.0</td>\n",
       "      <td>1.0</td>\n",
       "      <td>0.0</td>\n",
       "      <td>MSFT</td>\n",
       "      <td>XNAS</td>\n",
       "      <td>2024-12-17T00:00:00+0000</td>\n",
       "    </tr>\n",
       "    <tr>\n",
       "      <th>1</th>\n",
       "      <td>447.270</td>\n",
       "      <td>452.1800</td>\n",
       "      <td>445.28</td>\n",
       "      <td>451.59</td>\n",
       "      <td>23586700.0</td>\n",
       "      <td>452.1800</td>\n",
       "      <td>445.28</td>\n",
       "      <td>451.59</td>\n",
       "      <td>447.270</td>\n",
       "      <td>23598834.0</td>\n",
       "      <td>1.0</td>\n",
       "      <td>0.0</td>\n",
       "      <td>MSFT</td>\n",
       "      <td>XNAS</td>\n",
       "      <td>2024-12-16T00:00:00+0000</td>\n",
       "    </tr>\n",
       "    <tr>\n",
       "      <th>2</th>\n",
       "      <td>448.440</td>\n",
       "      <td>451.4300</td>\n",
       "      <td>445.58</td>\n",
       "      <td>447.27</td>\n",
       "      <td>20172200.0</td>\n",
       "      <td>451.4300</td>\n",
       "      <td>445.58</td>\n",
       "      <td>447.27</td>\n",
       "      <td>448.435</td>\n",
       "      <td>20177833.0</td>\n",
       "      <td>1.0</td>\n",
       "      <td>0.0</td>\n",
       "      <td>MSFT</td>\n",
       "      <td>XNAS</td>\n",
       "      <td>2024-12-13T00:00:00+0000</td>\n",
       "    </tr>\n",
       "    <tr>\n",
       "      <th>3</th>\n",
       "      <td>449.555</td>\n",
       "      <td>456.1648</td>\n",
       "      <td>449.13</td>\n",
       "      <td>449.56</td>\n",
       "      <td>20719891.0</td>\n",
       "      <td>456.1648</td>\n",
       "      <td>449.11</td>\n",
       "      <td>449.56</td>\n",
       "      <td>449.110</td>\n",
       "      <td>20834779.0</td>\n",
       "      <td>1.0</td>\n",
       "      <td>0.0</td>\n",
       "      <td>MSFT</td>\n",
       "      <td>XNAS</td>\n",
       "      <td>2024-12-12T00:00:00+0000</td>\n",
       "    </tr>\n",
       "    <tr>\n",
       "      <th>4</th>\n",
       "      <td>444.050</td>\n",
       "      <td>450.3500</td>\n",
       "      <td>444.05</td>\n",
       "      <td>448.99</td>\n",
       "      <td>17183159.0</td>\n",
       "      <td>450.3500</td>\n",
       "      <td>444.05</td>\n",
       "      <td>448.99</td>\n",
       "      <td>444.050</td>\n",
       "      <td>19200208.0</td>\n",
       "      <td>1.0</td>\n",
       "      <td>0.0</td>\n",
       "      <td>MSFT</td>\n",
       "      <td>XNAS</td>\n",
       "      <td>2024-12-11T00:00:00+0000</td>\n",
       "    </tr>\n",
       "  </tbody>\n",
       "</table>\n",
       "</div>"
      ],
      "text/plain": [
       "      open      high     low   close      volume  adj_high  adj_low  \\\n",
       "0  451.010  455.2900  449.57  454.46  22716300.0  455.2900   449.57   \n",
       "1  447.270  452.1800  445.28  451.59  23586700.0  452.1800   445.28   \n",
       "2  448.440  451.4300  445.58  447.27  20172200.0  451.4300   445.58   \n",
       "3  449.555  456.1648  449.13  449.56  20719891.0  456.1648   449.11   \n",
       "4  444.050  450.3500  444.05  448.99  17183159.0  450.3500   444.05   \n",
       "\n",
       "   adj_close  adj_open  adj_volume  split_factor  dividend symbol exchange  \\\n",
       "0     454.46   451.010  22733494.0           1.0       0.0   MSFT     XNAS   \n",
       "1     451.59   447.270  23598834.0           1.0       0.0   MSFT     XNAS   \n",
       "2     447.27   448.435  20177833.0           1.0       0.0   MSFT     XNAS   \n",
       "3     449.56   449.110  20834779.0           1.0       0.0   MSFT     XNAS   \n",
       "4     448.99   444.050  19200208.0           1.0       0.0   MSFT     XNAS   \n",
       "\n",
       "                       date  \n",
       "0  2024-12-17T00:00:00+0000  \n",
       "1  2024-12-16T00:00:00+0000  \n",
       "2  2024-12-13T00:00:00+0000  \n",
       "3  2024-12-12T00:00:00+0000  \n",
       "4  2024-12-11T00:00:00+0000  "
      ]
     },
     "execution_count": 368,
     "metadata": {},
     "output_type": "execute_result"
    }
   ],
   "source": [
    "df = pd.json_normalize(historical_data, meta=['date'])\n",
    "df.head(5)"
   ]
  },
  {
   "cell_type": "code",
   "execution_count": 369,
   "metadata": {
    "extensions": {
     "jupyter_dashboards": {
      "version": 1,
      "views": {
       "grid_default": {},
       "report_default": {
        "hidden": true
       }
      }
     }
    }
   },
   "outputs": [],
   "source": [
    "df['date'] = pd.to_datetime(df['date'])"
   ]
  },
  {
   "cell_type": "code",
   "execution_count": 370,
   "metadata": {
    "extensions": {
     "jupyter_dashboards": {
      "version": 1,
      "views": {
       "grid_default": {},
       "report_default": {
        "hidden": true
       }
      }
     }
    }
   },
   "outputs": [],
   "source": [
    "monthly = df.groupby(pd.Grouper(key='date', freq='M')).mean()"
   ]
  },
  {
   "cell_type": "code",
   "execution_count": 371,
   "metadata": {
    "extensions": {
     "jupyter_dashboards": {
      "version": 1,
      "views": {
       "grid_default": {},
       "report_default": {
        "hidden": true
       }
      }
     }
    }
   },
   "outputs": [],
   "source": [
    "weekly = df.groupby(pd.Grouper(key='date', freq='W')).mean()"
   ]
  },
  {
   "cell_type": "code",
   "execution_count": 372,
   "metadata": {
    "extensions": {
     "jupyter_dashboards": {
      "version": 1,
      "views": {
       "grid_default": {},
       "report_default": {
        "hidden": false
       }
      }
     }
    }
   },
   "outputs": [],
   "source": [
    "def shorten_date(date):\n",
    "    return date[0:10]"
   ]
  },
  {
   "cell_type": "code",
   "execution_count": 373,
   "metadata": {
    "extensions": {
     "jupyter_dashboards": {
      "version": 1,
      "views": {
       "grid_default": {},
       "report_default": {
        "hidden": false
       }
      }
     }
    }
   },
   "outputs": [
    {
     "data": {
      "image/png": "[encoded data removed]",
      "text/plain": [
       "<Figure size 864x360 with 2 Axes>"
      ]
     },
     "metadata": {
      "needs_background": "light"
     },
     "output_type": "display_data"
    }
   ],
   "source": [
    "color = '#113d5c'\n",
    "\n",
    "fig, ax = plt.subplots(figsize=(12,5))\n",
    "ax2 = ax.twinx()\n",
    "ax.set_title('Average Weekly Closing Price and Volume', pad=40, family='Arial', size=16, color=color)\n",
    "ax.set_xlabel('Date', family='Arial', labelpad=20, size=14, color=color)\n",
    "plt.xticks(rotation=90)\n",
    "plt.plot(kind='bar')\n",
    "ax.plot(weekly['adj_close'], label='Closing Price', color='cyan', marker='x')\n",
    "ax2.plot(weekly['volume'], label='Volume', color='orange', marker='o')\n",
    "ax.set_ylabel('Closing Price (USD)', family='Arial', size=14, color=color, labelpad=20)\n",
    "ax2.set_ylabel('Volume', family='Arial', size=14, color=color, labelpad=20)\n",
    "ax2.spines['right'].set_color(color)\n",
    "ax2.spines['left'].set_color(color)\n",
    "ax2.spines['top'].set_color(color)\n",
    "ax2.spines['bottom'].set_color(color)\n",
    "ax.tick_params(colors=color)\n",
    "ax2.tick_params(colors=color)\n",
    "legend1 = ax.legend(loc='upper left')\n",
    "for text in legend1.get_texts():\n",
    "    text.set_color(color)\n",
    "legend2 = ax2.legend()\n",
    "for text in legend2.get_texts():\n",
    "    text.set_color(color)\n",
    "for tick in ax.get_yticklabels():\n",
    "    tick.set_fontname('Arial')\n",
    "for tick in ax.get_xticklabels():\n",
    "    tick.set_fontname('Arial')\n",
    "for tick in ax2.get_yticklabels():\n",
    "    tick.set_fontname('Arial')\n",
    "plt.show()"
   ]
  },
  {
   "cell_type": "code",
   "execution_count": 374,
   "metadata": {},
   "outputs": [
    {
     "data": {
      "application/vnd.plotly.v1+json": {
       "config": {
        "plotlyServerURL": "https://plot.ly"
       },
       "data": [
        {
         "close": [
          454.46,
          451.59,
          447.27,
          449.56,
          448.99,
          443.33,
          446.02,
          443.57,
          442.62,
          437.42,
          431.2,
          430.98,
          423.46,
          422.99,
          427.99,
          418.79,
          417,
          412.87,
          414.66,
          417.79,
          415.76,
          415,
          426.89,
          425.2,
          423.03,
          418.01,
          422.54,
          425.43,
          420.18,
          411.46,
          408.46,
          410.37,
          406.35,
          432.53,
          431.95,
          426.59,
          428.15,
          424.73,
          424.6,
          427.51,
          418.78,
          418.16,
          416.72,
          416.12,
          418.74,
          419.14,
          416.32,
          415.84,
          417.46,
          414.71,
          409.54,
          416.06,
          416.54,
          417.13,
          420.69,
          430.3,
          428.02,
          431.31,
          432.11,
          429.17,
          433.51,
          435.27,
          438.69,
          430.81,
          435.15,
          431.34,
          430.59,
          427,
          423.04,
          414.2,
          405.72,
          401.7,
          408.39,
          408.9,
          409.44,
          417.14,
          413.12,
          410.6,
          413.84,
          413.49,
          416.79,
          415.55,
          424.14,
          424.8,
          421.53,
          418.47,
          421.03,
          416.11,
          414.01,
          406.81,
          406.02,
          402.69,
          398.43,
          399.61,
          395.15,
          408.49,
          417.11,
          418.35,
          422.92,
          426.73
         ],
         "high": [
          455.29,
          452.18,
          451.43,
          456.1648,
          450.35,
          449.62,
          448.33,
          446.1,
          444.66,
          439.67,
          432.47,
          433,
          424.88,
          427.2299,
          429.0414,
          421.08,
          417.4,
          419.78,
          417.29,
          417.94,
          418.4037,
          422.8,
          428.17,
          429.325,
          424.44,
          424.81,
          426.5,
          426.85,
          420.45,
          414.9,
          410.415,
          415.5,
          416.16,
          438.5,
          433.17,
          431.94,
          432.52,
          425.9782,
          431.08,
          430.5793,
          418.96,
          419.65,
          422.5,
          416.36,
          422.48,
          424.04,
          417.13,
          417.35,
          420.38,
          415.66,
          417.11,
          419.75,
          419.55,
          422.82,
          428.48,
          430.42,
          431.85,
          435.3,
          433.119,
          433.35,
          436.46,
          439.24,
          441.5,
          436.03,
          441.85,
          433.53,
          431.83,
          427.3692,
          423.99,
          416.33,
          408.65,
          410.65,
          413.1,
          411.24,
          419.88,
          417.49,
          422.05,
          415,
          414.36,
          417.2799,
          419.26,
          426.7899,
          426.4,
          425.86,
          421.75,
          421.34,
          421.11,
          417.72,
          414.95,
          408.76,
          408.05,
          405.86,
          410.08,
          405.67,
          401.04,
          415,
          427.46,
          421.775,
          429.05,
          432.15
         ],
         "low": [
          449.57,
          445.28,
          445.58,
          449.11,
          444.05,
          441.6,
          440.5,
          441.7703,
          436.171,
          432.63,
          427.74,
          421.31,
          417.8,
          422.02,
          418.85,
          414.85,
          411.06,
          410.2887,
          410.58,
          411.55,
          412.1,
          413.64,
          420,
          418.21,
          417.2,
          416,
          421.78,
          419.88,
          410.52,
          408.08,
          405.5713,
          407.5,
          406.3,
          432.1,
          425.8001,
          426.3,
          426.565,
          422.4,
          422.53,
          418.04,
          413.7501,
          416.2601,
          415.59,
          410.48,
          415.26,
          417.52,
          413.25,
          413.15,
          414.3,
          408.17,
          409,
          414.97,
          414.29,
          416.71,
          418.81,
          425.37,
          427.47,
          429.13,
          428.57,
          426.1,
          430.3889,
          434.22,
          436.9,
          430.41,
          432.27,
          428.22,
          425.46,
          419.75,
          409.58,
          407.7,
          402.15,
          400.8,
          406.13,
          404.37,
          407.03,
          412.13,
          410.6,
          407.31,
          410.25,
          411.34,
          412.09,
          414.61,
          421.72,
          421.64,
          416.46,
          417.3,
          417.66,
          412.4456,
          409.57,
          404.2434,
          402.2624,
          399.9407,
          397.47,
          398.5,
          385.58,
          404.34,
          413.0901,
          412.21,
          417.36,
          424.7042
         ],
         "open": [
          451.01,
          447.27,
          448.435,
          449.11,
          444.05,
          444.39,
          442.6,
          442.3,
          437.92,
          433.03,
          429.84,
          421.57,
          420.09,
          425.105,
          419.585,
          418.38,
          411.365,
          419.5,
          416.87,
          413.11,
          414.87,
          419.82,
          425,
          421.64,
          418.25,
          422.515,
          425.32,
          421.28,
          412.42,
          408.37,
          409.8,
          409.01,
          415.36,
          437.435,
          428,
          431.655,
          426.76,
          425.325,
          430.855,
          418.49,
          416.12,
          417.14,
          422.36,
          415.17,
          422.18,
          417.77,
          416.135,
          415.225,
          415.86,
          410.9,
          416,
          418.24,
          417.63,
          422.58,
          428.45,
          428.21,
          431.52,
          435.085,
          429.83,
          433,
          434.28,
          437.22,
          441.225,
          435,
          440.23,
          430.6,
          425.825,
          423.31,
          415.5,
          408.2,
          407.24,
          409.06,
          407.62,
          405.91,
          417.91,
          415.6,
          414.94,
          414.88,
          412.86,
          416.365,
          416.98,
          424.36,
          424.075,
          421.7,
          418.96,
          420.6,
          419.8,
          414.8,
          409.59,
          407.06,
          404.03,
          402.44,
          408.635,
          400,
          389.17,
          412.49,
          420.785,
          420.495,
          427.72,
          431.58
         ],
         "type": "candlestick",
         "x": [
          "2024-12-17T00:00:00+00:00",
          "2024-12-16T00:00:00+00:00",
          "2024-12-13T00:00:00+00:00",
          "2024-12-12T00:00:00+00:00",
          "2024-12-11T00:00:00+00:00",
          "2024-12-10T00:00:00+00:00",
          "2024-12-09T00:00:00+00:00",
          "2024-12-06T00:00:00+00:00",
          "2024-12-05T00:00:00+00:00",
          "2024-12-04T00:00:00+00:00",
          "2024-12-03T00:00:00+00:00",
          "2024-12-02T00:00:00+00:00",
          "2024-11-29T00:00:00+00:00",
          "2024-11-27T00:00:00+00:00",
          "2024-11-26T00:00:00+00:00",
          "2024-11-25T00:00:00+00:00",
          "2024-11-22T00:00:00+00:00",
          "2024-11-21T00:00:00+00:00",
          "2024-11-20T00:00:00+00:00",
          "2024-11-19T00:00:00+00:00",
          "2024-11-18T00:00:00+00:00",
          "2024-11-15T00:00:00+00:00",
          "2024-11-14T00:00:00+00:00",
          "2024-11-13T00:00:00+00:00",
          "2024-11-12T00:00:00+00:00",
          "2024-11-11T00:00:00+00:00",
          "2024-11-08T00:00:00+00:00",
          "2024-11-07T00:00:00+00:00",
          "2024-11-06T00:00:00+00:00",
          "2024-11-05T00:00:00+00:00",
          "2024-11-04T00:00:00+00:00",
          "2024-11-01T00:00:00+00:00",
          "2024-10-31T00:00:00+00:00",
          "2024-10-30T00:00:00+00:00",
          "2024-10-29T00:00:00+00:00",
          "2024-10-28T00:00:00+00:00",
          "2024-10-25T00:00:00+00:00",
          "2024-10-24T00:00:00+00:00",
          "2024-10-23T00:00:00+00:00",
          "2024-10-22T00:00:00+00:00",
          "2024-10-21T00:00:00+00:00",
          "2024-10-18T00:00:00+00:00",
          "2024-10-17T00:00:00+00:00",
          "2024-10-16T00:00:00+00:00",
          "2024-10-15T00:00:00+00:00",
          "2024-10-14T00:00:00+00:00",
          "2024-10-11T00:00:00+00:00",
          "2024-10-10T00:00:00+00:00",
          "2024-10-09T00:00:00+00:00",
          "2024-10-08T00:00:00+00:00",
          "2024-10-07T00:00:00+00:00",
          "2024-10-04T00:00:00+00:00",
          "2024-10-03T00:00:00+00:00",
          "2024-10-02T00:00:00+00:00",
          "2024-10-01T00:00:00+00:00",
          "2024-09-30T00:00:00+00:00",
          "2024-09-27T00:00:00+00:00",
          "2024-09-26T00:00:00+00:00",
          "2024-09-25T00:00:00+00:00",
          "2024-09-24T00:00:00+00:00",
          "2024-09-23T00:00:00+00:00",
          "2024-09-20T00:00:00+00:00",
          "2024-09-19T00:00:00+00:00",
          "2024-09-18T00:00:00+00:00",
          "2024-09-17T00:00:00+00:00",
          "2024-09-16T00:00:00+00:00",
          "2024-09-13T00:00:00+00:00",
          "2024-09-12T00:00:00+00:00",
          "2024-09-11T00:00:00+00:00",
          "2024-09-10T00:00:00+00:00",
          "2024-09-09T00:00:00+00:00",
          "2024-09-06T00:00:00+00:00",
          "2024-09-05T00:00:00+00:00",
          "2024-09-04T00:00:00+00:00",
          "2024-09-03T00:00:00+00:00",
          "2024-08-30T00:00:00+00:00",
          "2024-08-29T00:00:00+00:00",
          "2024-08-28T00:00:00+00:00",
          "2024-08-27T00:00:00+00:00",
          "2024-08-26T00:00:00+00:00",
          "2024-08-23T00:00:00+00:00",
          "2024-08-22T00:00:00+00:00",
          "2024-08-21T00:00:00+00:00",
          "2024-08-20T00:00:00+00:00",
          "2024-08-19T00:00:00+00:00",
          "2024-08-16T00:00:00+00:00",
          "2024-08-15T00:00:00+00:00",
          "2024-08-14T00:00:00+00:00",
          "2024-08-13T00:00:00+00:00",
          "2024-08-12T00:00:00+00:00",
          "2024-08-09T00:00:00+00:00",
          "2024-08-08T00:00:00+00:00",
          "2024-08-07T00:00:00+00:00",
          "2024-08-06T00:00:00+00:00",
          "2024-08-05T00:00:00+00:00",
          "2024-08-02T00:00:00+00:00",
          "2024-08-01T00:00:00+00:00",
          "2024-07-31T00:00:00+00:00",
          "2024-07-30T00:00:00+00:00",
          "2024-07-29T00:00:00+00:00"
         ]
        }
       ],
       "layout": {
        "font": {
         "color": "#113d5c",
         "family": "Arial"
        },
        "template": {
         "data": {
          "bar": [
           {
            "error_x": {
             "color": "#2a3f5f"
            },
            "error_y": {
             "color": "#2a3f5f"
            },
            "marker": {
             "line": {
              "color": "#E5ECF6",
              "width": 0.5
             },
             "pattern": {
              "fillmode": "overlay",
              "size": 10,
              "solidity": 0.2
             }
            },
            "type": "bar"
           }
          ],
          "barpolar": [
           {
            "marker": {
             "line": {
              "color": "#E5ECF6",
              "width": 0.5
             },
             "pattern": {
              "fillmode": "overlay",
              "size": 10,
              "solidity": 0.2
             }
            },
            "type": "barpolar"
           }
          ],
          "carpet": [
           {
            "aaxis": {
             "endlinecolor": "#2a3f5f",
             "gridcolor": "white",
             "linecolor": "white",
             "minorgridcolor": "white",
             "startlinecolor": "#2a3f5f"
            },
            "baxis": {
             "endlinecolor": "#2a3f5f",
             "gridcolor": "white",
             "linecolor": "white",
             "minorgridcolor": "white",
             "startlinecolor": "#2a3f5f"
            },
            "type": "carpet"
           }
          ],
          "choropleth": [
           {
            "colorbar": {
             "outlinewidth": 0,
             "ticks": ""
            },
            "type": "choropleth"
           }
          ],
          "contour": [
           {
            "colorbar": {
             "outlinewidth": 0,
             "ticks": ""
            },
            "colorscale": [
             [
              0,
              "#0d0887"
             ],
             [
              0.1111111111111111,
              "#46039f"
             ],
             [
              0.2222222222222222,
              "#7201a8"
             ],
             [
              0.3333333333333333,
              "#9c179e"
             ],
             [
              0.4444444444444444,
              "#bd3786"
             ],
             [
              0.5555555555555556,
              "#d8576b"
             ],
             [
              0.6666666666666666,
              "#ed7953"
             ],
             [
              0.7777777777777778,
              "#fb9f3a"
             ],
             [
              0.8888888888888888,
              "#fdca26"
             ],
             [
              1,
              "#f0f921"
             ]
            ],
            "type": "contour"
           }
          ],
          "contourcarpet": [
           {
            "colorbar": {
             "outlinewidth": 0,
             "ticks": ""
            },
            "type": "contourcarpet"
           }
          ],
          "heatmap": [
           {
            "colorbar": {
             "outlinewidth": 0,
             "ticks": ""
            },
            "colorscale": [
             [
              0,
              "#0d0887"
             ],
             [
              0.1111111111111111,
              "#46039f"
             ],
             [
              0.2222222222222222,
              "#7201a8"
             ],
             [
              0.3333333333333333,
              "#9c179e"
             ],
             [
              0.4444444444444444,
              "#bd3786"
             ],
             [
              0.5555555555555556,
              "#d8576b"
             ],
             [
              0.6666666666666666,
              "#ed7953"
             ],
             [
              0.7777777777777778,
              "#fb9f3a"
             ],
             [
              0.8888888888888888,
              "#fdca26"
             ],
             [
              1,
              "#f0f921"
             ]
            ],
            "type": "heatmap"
           }
          ],
          "heatmapgl": [
           {
            "colorbar": {
             "outlinewidth": 0,
             "ticks": ""
            },
            "colorscale": [
             [
              0,
              "#0d0887"
             ],
             [
              0.1111111111111111,
              "#46039f"
             ],
             [
              0.2222222222222222,
              "#7201a8"
             ],
             [
              0.3333333333333333,
              "#9c179e"
             ],
             [
              0.4444444444444444,
              "#bd3786"
             ],
             [
              0.5555555555555556,
              "#d8576b"
             ],
             [
              0.6666666666666666,
              "#ed7953"
             ],
             [
              0.7777777777777778,
              "#fb9f3a"
             ],
             [
              0.8888888888888888,
              "#fdca26"
             ],
             [
              1,
              "#f0f921"
             ]
            ],
            "type": "heatmapgl"
           }
          ],
          "histogram": [
           {
            "marker": {
             "pattern": {
              "fillmode": "overlay",
              "size": 10,
              "solidity": 0.2
             }
            },
            "type": "histogram"
           }
          ],
          "histogram2d": [
           {
            "colorbar": {
             "outlinewidth": 0,
             "ticks": ""
            },
            "colorscale": [
             [
              0,
              "#0d0887"
             ],
             [
              0.1111111111111111,
              "#46039f"
             ],
             [
              0.2222222222222222,
              "#7201a8"
             ],
             [
              0.3333333333333333,
              "#9c179e"
             ],
             [
              0.4444444444444444,
              "#bd3786"
             ],
             [
              0.5555555555555556,
              "#d8576b"
             ],
             [
              0.6666666666666666,
              "#ed7953"
             ],
             [
              0.7777777777777778,
              "#fb9f3a"
             ],
             [
              0.8888888888888888,
              "#fdca26"
             ],
             [
              1,
              "#f0f921"
             ]
            ],
            "type": "histogram2d"
           }
          ],
          "histogram2dcontour": [
           {
            "colorbar": {
             "outlinewidth": 0,
             "ticks": ""
            },
            "colorscale": [
             [
              0,
              "#0d0887"
             ],
             [
              0.1111111111111111,
              "#46039f"
             ],
             [
              0.2222222222222222,
              "#7201a8"
             ],
             [
              0.3333333333333333,
              "#9c179e"
             ],
             [
              0.4444444444444444,
              "#bd3786"
             ],
             [
              0.5555555555555556,
              "#d8576b"
             ],
             [
              0.6666666666666666,
              "#ed7953"
             ],
             [
              0.7777777777777778,
              "#fb9f3a"
             ],
             [
              0.8888888888888888,
              "#fdca26"
             ],
             [
              1,
              "#f0f921"
             ]
            ],
            "type": "histogram2dcontour"
           }
          ],
          "mesh3d": [
           {
            "colorbar": {
             "outlinewidth": 0,
             "ticks": ""
            },
            "type": "mesh3d"
           }
          ],
          "parcoords": [
           {
            "line": {
             "colorbar": {
              "outlinewidth": 0,
              "ticks": ""
             }
            },
            "type": "parcoords"
           }
          ],
          "pie": [
           {
            "automargin": true,
            "type": "pie"
           }
          ],
          "scatter": [
           {
            "fillpattern": {
             "fillmode": "overlay",
             "size": 10,
             "solidity": 0.2
            },
            "type": "scatter"
           }
          ],
          "scatter3d": [
           {
            "line": {
             "colorbar": {
              "outlinewidth": 0,
              "ticks": ""
             }
            },
            "marker": {
             "colorbar": {
              "outlinewidth": 0,
              "ticks": ""
             }
            },
            "type": "scatter3d"
           }
          ],
          "scattercarpet": [
           {
            "marker": {
             "colorbar": {
              "outlinewidth": 0,
              "ticks": ""
             }
            },
            "type": "scattercarpet"
           }
          ],
          "scattergeo": [
           {
            "marker": {
             "colorbar": {
              "outlinewidth": 0,
              "ticks": ""
             }
            },
            "type": "scattergeo"
           }
          ],
          "scattergl": [
           {
            "marker": {
             "colorbar": {
              "outlinewidth": 0,
              "ticks": ""
             }
            },
            "type": "scattergl"
           }
          ],
          "scattermapbox": [
           {
            "marker": {
             "colorbar": {
              "outlinewidth": 0,
              "ticks": ""
             }
            },
            "type": "scattermapbox"
           }
          ],
          "scatterpolar": [
           {
            "marker": {
             "colorbar": {
              "outlinewidth": 0,
              "ticks": ""
             }
            },
            "type": "scatterpolar"
           }
          ],
          "scatterpolargl": [
           {
            "marker": {
             "colorbar": {
              "outlinewidth": 0,
              "ticks": ""
             }
            },
            "type": "scatterpolargl"
           }
          ],
          "scatterternary": [
           {
            "marker": {
             "colorbar": {
              "outlinewidth": 0,
              "ticks": ""
             }
            },
            "type": "scatterternary"
           }
          ],
          "surface": [
           {
            "colorbar": {
             "outlinewidth": 0,
             "ticks": ""
            },
            "colorscale": [
             [
              0,
              "#0d0887"
             ],
             [
              0.1111111111111111,
              "#46039f"
             ],
             [
              0.2222222222222222,
              "#7201a8"
             ],
             [
              0.3333333333333333,
              "#9c179e"
             ],
             [
              0.4444444444444444,
              "#bd3786"
             ],
             [
              0.5555555555555556,
              "#d8576b"
             ],
             [
              0.6666666666666666,
              "#ed7953"
             ],
             [
              0.7777777777777778,
              "#fb9f3a"
             ],
             [
              0.8888888888888888,
              "#fdca26"
             ],
             [
              1,
              "#f0f921"
             ]
            ],
            "type": "surface"
           }
          ],
          "table": [
           {
            "cells": {
             "fill": {
              "color": "#EBF0F8"
             },
             "line": {
              "color": "white"
             }
            },
            "header": {
             "fill": {
              "color": "#C8D4E3"
             },
             "line": {
              "color": "white"
             }
            },
            "type": "table"
           }
          ]
         },
         "layout": {
          "annotationdefaults": {
           "arrowcolor": "#2a3f5f",
           "arrowhead": 0,
           "arrowwidth": 1
          },
          "autotypenumbers": "strict",
          "coloraxis": {
           "colorbar": {
            "outlinewidth": 0,
            "ticks": ""
           }
          },
          "colorscale": {
           "diverging": [
            [
             0,
             "#8e0152"
            ],
            [
             0.1,
             "#c51b7d"
            ],
            [
             0.2,
             "#de77ae"
            ],
            [
             0.3,
             "#f1b6da"
            ],
            [
             0.4,
             "#fde0ef"
            ],
            [
             0.5,
             "#f7f7f7"
            ],
            [
             0.6,
             "#e6f5d0"
            ],
            [
             0.7,
             "#b8e186"
            ],
            [
             0.8,
             "#7fbc41"
            ],
            [
             0.9,
             "#4d9221"
            ],
            [
             1,
             "#276419"
            ]
           ],
           "sequential": [
            [
             0,
             "#0d0887"
            ],
            [
             0.1111111111111111,
             "#46039f"
            ],
            [
             0.2222222222222222,
             "#7201a8"
            ],
            [
             0.3333333333333333,
             "#9c179e"
            ],
            [
             0.4444444444444444,
             "#bd3786"
            ],
            [
             0.5555555555555556,
             "#d8576b"
            ],
            [
             0.6666666666666666,
             "#ed7953"
            ],
            [
             0.7777777777777778,
             "#fb9f3a"
            ],
            [
             0.8888888888888888,
             "#fdca26"
            ],
            [
             1,
             "#f0f921"
            ]
           ],
           "sequentialminus": [
            [
             0,
             "#0d0887"
            ],
            [
             0.1111111111111111,
             "#46039f"
            ],
            [
             0.2222222222222222,
             "#7201a8"
            ],
            [
             0.3333333333333333,
             "#9c179e"
            ],
            [
             0.4444444444444444,
             "#bd3786"
            ],
            [
             0.5555555555555556,
             "#d8576b"
            ],
            [
             0.6666666666666666,
             "#ed7953"
            ],
            [
             0.7777777777777778,
             "#fb9f3a"
            ],
            [
             0.8888888888888888,
             "#fdca26"
            ],
            [
             1,
             "#f0f921"
            ]
           ]
          },
          "colorway": [
           "#636efa",
           "#EF553B",
           "#00cc96",
           "#ab63fa",
           "#FFA15A",
           "#19d3f3",
           "#FF6692",
           "#B6E880",
           "#FF97FF",
           "#FECB52"
          ],
          "font": {
           "color": "#2a3f5f"
          },
          "geo": {
           "bgcolor": "white",
           "lakecolor": "white",
           "landcolor": "#E5ECF6",
           "showlakes": true,
           "showland": true,
           "subunitcolor": "white"
          },
          "hoverlabel": {
           "align": "left"
          },
          "hovermode": "closest",
          "mapbox": {
           "style": "light"
          },
          "paper_bgcolor": "white",
          "plot_bgcolor": "#E5ECF6",
          "polar": {
           "angularaxis": {
            "gridcolor": "white",
            "linecolor": "white",
            "ticks": ""
           },
           "bgcolor": "#E5ECF6",
           "radialaxis": {
            "gridcolor": "white",
            "linecolor": "white",
            "ticks": ""
           }
          },
          "scene": {
           "xaxis": {
            "backgroundcolor": "#E5ECF6",
            "gridcolor": "white",
            "gridwidth": 2,
            "linecolor": "white",
            "showbackground": true,
            "ticks": "",
            "zerolinecolor": "white"
           },
           "yaxis": {
            "backgroundcolor": "#E5ECF6",
            "gridcolor": "white",
            "gridwidth": 2,
            "linecolor": "white",
            "showbackground": true,
            "ticks": "",
            "zerolinecolor": "white"
           },
           "zaxis": {
            "backgroundcolor": "#E5ECF6",
            "gridcolor": "white",
            "gridwidth": 2,
            "linecolor": "white",
            "showbackground": true,
            "ticks": "",
            "zerolinecolor": "white"
           }
          },
          "shapedefaults": {
           "line": {
            "color": "#2a3f5f"
           }
          },
          "ternary": {
           "aaxis": {
            "gridcolor": "white",
            "linecolor": "white",
            "ticks": ""
           },
           "baxis": {
            "gridcolor": "white",
            "linecolor": "white",
            "ticks": ""
           },
           "bgcolor": "#E5ECF6",
           "caxis": {
            "gridcolor": "white",
            "linecolor": "white",
            "ticks": ""
           }
          },
          "title": {
           "x": 0.05
          },
          "xaxis": {
           "automargin": true,
           "gridcolor": "white",
           "linecolor": "white",
           "ticks": "",
           "title": {
            "standoff": 15
           },
           "zerolinecolor": "white",
           "zerolinewidth": 2
          },
          "yaxis": {
           "automargin": true,
           "gridcolor": "white",
           "linecolor": "white",
           "ticks": "",
           "title": {
            "standoff": 15
           },
           "zerolinecolor": "white",
           "zerolinewidth": 2
          }
         }
        },
        "title": {
         "font": {
          "size": 16
         },
         "pad": {
          "b": -10,
          "l": 20,
          "r": 20,
          "t": -10
         },
         "text": "Candlestick Chart",
         "x": 0.5
        },
        "xaxis": {
         "rangeslider": {
          "visible": false
         },
         "tickformat": "%Y-%m",
         "title": {
          "text": "Date"
         }
        },
        "yaxis": {
         "title": {
          "text": "Price (USD)"
         }
        }
       }
      },
      "text/html": [
       "<div>                            <div id=\"0b5ada6c-62c7-4c5c-aacd-bd19d9144382\" class=\"plotly-graph-div\" style=\"height:525px; width:100%;\"></div>            <script type=\"text/javascript\">                require([\"plotly\"], function(Plotly) {                    window.PLOTLYENV=window.PLOTLYENV || {};                                    if (document.getElementById(\"0b5ada6c-62c7-4c5c-aacd-bd19d9144382\")) {                    Plotly.newPlot(                        \"0b5ada6c-62c7-4c5c-aacd-bd19d9144382\",                        [{\"close\":[454.46,451.59,447.27,449.56,448.99,443.33,446.02,443.57,442.62,437.42,431.2,430.98,423.46,422.99,427.99,418.79,417.0,412.87,414.66,417.79,415.76,415.0,426.89,425.2,423.03,418.01,422.54,425.43,420.18,411.46,408.46,410.37,406.35,432.53,431.95,426.59,428.15,424.73,424.6,427.51,418.78,418.16,416.72,416.12,418.74,419.14,416.32,415.84,417.46,414.71,409.54,416.06,416.54,417.13,420.69,430.3,428.02,431.31,432.11,429.17,433.51,435.27,438.69,430.81,435.15,431.34,430.59,427.0,423.04,414.2,405.72,401.7,408.39,408.9,409.44,417.14,413.12,410.6,413.84,413.49,416.79,415.55,424.14,424.8,421.53,418.47,421.03,416.11,414.01,406.81,406.02,402.69,398.43,399.61,395.15,408.49,417.11,418.35,422.92,426.73],\"high\":[455.29,452.18,451.43,456.1648,450.35,449.62,448.33,446.1,444.66,439.67,432.47,433.0,424.88,427.2299,429.0414,421.08,417.4,419.78,417.29,417.94,418.4037,422.8,428.17,429.325,424.44,424.81,426.5,426.85,420.45,414.9,410.415,415.5,416.16,438.5,433.17,431.94,432.52,425.9782,431.08,430.5793,418.96,419.65,422.5,416.36,422.48,424.04,417.13,417.35,420.38,415.66,417.11,419.75,419.55,422.82,428.48,430.42,431.85,435.3,433.119,433.35,436.46,439.24,441.5,436.03,441.85,433.53,431.83,427.3692,423.99,416.33,408.65,410.65,413.1,411.24,419.88,417.49,422.05,415.0,414.36,417.2799,419.26,426.7899,426.4,425.86,421.75,421.34,421.11,417.72,414.95,408.76,408.05,405.86,410.08,405.67,401.04,415.0,427.46,421.775,429.05,432.15],\"low\":[449.57,445.28,445.58,449.11,444.05,441.6,440.5,441.7703,436.171,432.63,427.74,421.31,417.8,422.02,418.85,414.85,411.06,410.2887,410.58,411.55,412.1,413.64,420.0,418.21,417.2,416.0,421.78,419.88,410.52,408.08,405.5713,407.5,406.3,432.1,425.8001,426.3,426.565,422.4,422.53,418.04,413.7501,416.2601,415.59,410.48,415.26,417.52,413.25,413.15,414.3,408.17,409.0,414.97,414.29,416.71,418.81,425.37,427.47,429.13,428.57,426.1,430.3889,434.22,436.9,430.41,432.27,428.22,425.46,419.75,409.58,407.7,402.15,400.8,406.13,404.37,407.03,412.13,410.6,407.31,410.25,411.34,412.09,414.61,421.72,421.64,416.46,417.3,417.66,412.4456,409.57,404.2434,402.2624,399.9407,397.47,398.5,385.58,404.34,413.0901,412.21,417.36,424.7042],\"open\":[451.01,447.27,448.435,449.11,444.05,444.39,442.6,442.3,437.92,433.03,429.84,421.57,420.09,425.105,419.585,418.38,411.365,419.5,416.87,413.11,414.87,419.82,425.0,421.64,418.25,422.515,425.32,421.28,412.42,408.37,409.8,409.01,415.36,437.435,428.0,431.655,426.76,425.325,430.855,418.49,416.12,417.14,422.36,415.17,422.18,417.77,416.135,415.225,415.86,410.9,416.0,418.24,417.63,422.58,428.45,428.21,431.52,435.085,429.83,433.0,434.28,437.22,441.225,435.0,440.23,430.6,425.825,423.31,415.5,408.2,407.24,409.06,407.62,405.91,417.91,415.6,414.94,414.88,412.86,416.365,416.98,424.36,424.075,421.7,418.96,420.6,419.8,414.8,409.59,407.06,404.03,402.44,408.635,400.0,389.17,412.49,420.785,420.495,427.72,431.58],\"x\":[\"2024-12-17T00:00:00+00:00\",\"2024-12-16T00:00:00+00:00\",\"2024-12-13T00:00:00+00:00\",\"2024-12-12T00:00:00+00:00\",\"2024-12-11T00:00:00+00:00\",\"2024-12-10T00:00:00+00:00\",\"2024-12-09T00:00:00+00:00\",\"2024-12-06T00:00:00+00:00\",\"2024-12-05T00:00:00+00:00\",\"2024-12-04T00:00:00+00:00\",\"2024-12-03T00:00:00+00:00\",\"2024-12-02T00:00:00+00:00\",\"2024-11-29T00:00:00+00:00\",\"2024-11-27T00:00:00+00:00\",\"2024-11-26T00:00:00+00:00\",\"2024-11-25T00:00:00+00:00\",\"2024-11-22T00:00:00+00:00\",\"2024-11-21T00:00:00+00:00\",\"2024-11-20T00:00:00+00:00\",\"2024-11-19T00:00:00+00:00\",\"2024-11-18T00:00:00+00:00\",\"2024-11-15T00:00:00+00:00\",\"2024-11-14T00:00:00+00:00\",\"2024-11-13T00:00:00+00:00\",\"2024-11-12T00:00:00+00:00\",\"2024-11-11T00:00:00+00:00\",\"2024-11-08T00:00:00+00:00\",\"2024-11-07T00:00:00+00:00\",\"2024-11-06T00:00:00+00:00\",\"2024-11-05T00:00:00+00:00\",\"2024-11-04T00:00:00+00:00\",\"2024-11-01T00:00:00+00:00\",\"2024-10-31T00:00:00+00:00\",\"2024-10-30T00:00:00+00:00\",\"2024-10-29T00:00:00+00:00\",\"2024-10-28T00:00:00+00:00\",\"2024-10-25T00:00:00+00:00\",\"2024-10-24T00:00:00+00:00\",\"2024-10-23T00:00:00+00:00\",\"2024-10-22T00:00:00+00:00\",\"2024-10-21T00:00:00+00:00\",\"2024-10-18T00:00:00+00:00\",\"2024-10-17T00:00:00+00:00\",\"2024-10-16T00:00:00+00:00\",\"2024-10-15T00:00:00+00:00\",\"2024-10-14T00:00:00+00:00\",\"2024-10-11T00:00:00+00:00\",\"2024-10-10T00:00:00+00:00\",\"2024-10-09T00:00:00+00:00\",\"2024-10-08T00:00:00+00:00\",\"2024-10-07T00:00:00+00:00\",\"2024-10-04T00:00:00+00:00\",\"2024-10-03T00:00:00+00:00\",\"2024-10-02T00:00:00+00:00\",\"2024-10-01T00:00:00+00:00\",\"2024-09-30T00:00:00+00:00\",\"2024-09-27T00:00:00+00:00\",\"2024-09-26T00:00:00+00:00\",\"2024-09-25T00:00:00+00:00\",\"2024-09-24T00:00:00+00:00\",\"2024-09-23T00:00:00+00:00\",\"2024-09-20T00:00:00+00:00\",\"2024-09-19T00:00:00+00:00\",\"2024-09-18T00:00:00+00:00\",\"2024-09-17T00:00:00+00:00\",\"2024-09-16T00:00:00+00:00\",\"2024-09-13T00:00:00+00:00\",\"2024-09-12T00:00:00+00:00\",\"2024-09-11T00:00:00+00:00\",\"2024-09-10T00:00:00+00:00\",\"2024-09-09T00:00:00+00:00\",\"2024-09-06T00:00:00+00:00\",\"2024-09-05T00:00:00+00:00\",\"2024-09-04T00:00:00+00:00\",\"2024-09-03T00:00:00+00:00\",\"2024-08-30T00:00:00+00:00\",\"2024-08-29T00:00:00+00:00\",\"2024-08-28T00:00:00+00:00\",\"2024-08-27T00:00:00+00:00\",\"2024-08-26T00:00:00+00:00\",\"2024-08-23T00:00:00+00:00\",\"2024-08-22T00:00:00+00:00\",\"2024-08-21T00:00:00+00:00\",\"2024-08-20T00:00:00+00:00\",\"2024-08-19T00:00:00+00:00\",\"2024-08-16T00:00:00+00:00\",\"2024-08-15T00:00:00+00:00\",\"2024-08-14T00:00:00+00:00\",\"2024-08-13T00:00:00+00:00\",\"2024-08-12T00:00:00+00:00\",\"2024-08-09T00:00:00+00:00\",\"2024-08-08T00:00:00+00:00\",\"2024-08-07T00:00:00+00:00\",\"2024-08-06T00:00:00+00:00\",\"2024-08-05T00:00:00+00:00\",\"2024-08-02T00:00:00+00:00\",\"2024-08-01T00:00:00+00:00\",\"2024-07-31T00:00:00+00:00\",\"2024-07-30T00:00:00+00:00\",\"2024-07-29T00:00:00+00:00\"],\"type\":\"candlestick\"}],                        {\"template\":{\"data\":{\"histogram2dcontour\":[{\"type\":\"histogram2dcontour\",\"colorbar\":{\"outlinewidth\":0,\"ticks\":\"\"},\"colorscale\":[[0.0,\"#0d0887\"],[0.1111111111111111,\"#46039f\"],[0.2222222222222222,\"#7201a8\"],[0.3333333333333333,\"#9c179e\"],[0.4444444444444444,\"#bd3786\"],[0.5555555555555556,\"#d8576b\"],[0.6666666666666666,\"#ed7953\"],[0.7777777777777778,\"#fb9f3a\"],[0.8888888888888888,\"#fdca26\"],[1.0,\"#f0f921\"]]}],\"choropleth\":[{\"type\":\"choropleth\",\"colorbar\":{\"outlinewidth\":0,\"ticks\":\"\"}}],\"histogram2d\":[{\"type\":\"histogram2d\",\"colorbar\":{\"outlinewidth\":0,\"ticks\":\"\"},\"colorscale\":[[0.0,\"#0d0887\"],[0.1111111111111111,\"#46039f\"],[0.2222222222222222,\"#7201a8\"],[0.3333333333333333,\"#9c179e\"],[0.4444444444444444,\"#bd3786\"],[0.5555555555555556,\"#d8576b\"],[0.6666666666666666,\"#ed7953\"],[0.7777777777777778,\"#fb9f3a\"],[0.8888888888888888,\"#fdca26\"],[1.0,\"#f0f921\"]]}],\"heatmap\":[{\"type\":\"heatmap\",\"colorbar\":{\"outlinewidth\":0,\"ticks\":\"\"},\"colorscale\":[[0.0,\"#0d0887\"],[0.1111111111111111,\"#46039f\"],[0.2222222222222222,\"#7201a8\"],[0.3333333333333333,\"#9c179e\"],[0.4444444444444444,\"#bd3786\"],[0.5555555555555556,\"#d8576b\"],[0.6666666666666666,\"#ed7953\"],[0.7777777777777778,\"#fb9f3a\"],[0.8888888888888888,\"#fdca26\"],[1.0,\"#f0f921\"]]}],\"heatmapgl\":[{\"type\":\"heatmapgl\",\"colorbar\":{\"outlinewidth\":0,\"ticks\":\"\"},\"colorscale\":[[0.0,\"#0d0887\"],[0.1111111111111111,\"#46039f\"],[0.2222222222222222,\"#7201a8\"],[0.3333333333333333,\"#9c179e\"],[0.4444444444444444,\"#bd3786\"],[0.5555555555555556,\"#d8576b\"],[0.6666666666666666,\"#ed7953\"],[0.7777777777777778,\"#fb9f3a\"],[0.8888888888888888,\"#fdca26\"],[1.0,\"#f0f921\"]]}],\"contourcarpet\":[{\"type\":\"contourcarpet\",\"colorbar\":{\"outlinewidth\":0,\"ticks\":\"\"}}],\"contour\":[{\"type\":\"contour\",\"colorbar\":{\"outlinewidth\":0,\"ticks\":\"\"},\"colorscale\":[[0.0,\"#0d0887\"],[0.1111111111111111,\"#46039f\"],[0.2222222222222222,\"#7201a8\"],[0.3333333333333333,\"#9c179e\"],[0.4444444444444444,\"#bd3786\"],[0.5555555555555556,\"#d8576b\"],[0.6666666666666666,\"#ed7953\"],[0.7777777777777778,\"#fb9f3a\"],[0.8888888888888888,\"#fdca26\"],[1.0,\"#f0f921\"]]}],\"surface\":[{\"type\":\"surface\",\"colorbar\":{\"outlinewidth\":0,\"ticks\":\"\"},\"colorscale\":[[0.0,\"#0d0887\"],[0.1111111111111111,\"#46039f\"],[0.2222222222222222,\"#7201a8\"],[0.3333333333333333,\"#9c179e\"],[0.4444444444444444,\"#bd3786\"],[0.5555555555555556,\"#d8576b\"],[0.6666666666666666,\"#ed7953\"],[0.7777777777777778,\"#fb9f3a\"],[0.8888888888888888,\"#fdca26\"],[1.0,\"#f0f921\"]]}],\"mesh3d\":[{\"type\":\"mesh3d\",\"colorbar\":{\"outlinewidth\":0,\"ticks\":\"\"}}],\"scatter\":[{\"fillpattern\":{\"fillmode\":\"overlay\",\"size\":10,\"solidity\":0.2},\"type\":\"scatter\"}],\"parcoords\":[{\"type\":\"parcoords\",\"line\":{\"colorbar\":{\"outlinewidth\":0,\"ticks\":\"\"}}}],\"scatterpolargl\":[{\"type\":\"scatterpolargl\",\"marker\":{\"colorbar\":{\"outlinewidth\":0,\"ticks\":\"\"}}}],\"bar\":[{\"error_x\":{\"color\":\"#2a3f5f\"},\"error_y\":{\"color\":\"#2a3f5f\"},\"marker\":{\"line\":{\"color\":\"#E5ECF6\",\"width\":0.5},\"pattern\":{\"fillmode\":\"overlay\",\"size\":10,\"solidity\":0.2}},\"type\":\"bar\"}],\"scattergeo\":[{\"type\":\"scattergeo\",\"marker\":{\"colorbar\":{\"outlinewidth\":0,\"ticks\":\"\"}}}],\"scatterpolar\":[{\"type\":\"scatterpolar\",\"marker\":{\"colorbar\":{\"outlinewidth\":0,\"ticks\":\"\"}}}],\"histogram\":[{\"marker\":{\"pattern\":{\"fillmode\":\"overlay\",\"size\":10,\"solidity\":0.2}},\"type\":\"histogram\"}],\"scattergl\":[{\"type\":\"scattergl\",\"marker\":{\"colorbar\":{\"outlinewidth\":0,\"ticks\":\"\"}}}],\"scatter3d\":[{\"type\":\"scatter3d\",\"line\":{\"colorbar\":{\"outlinewidth\":0,\"ticks\":\"\"}},\"marker\":{\"colorbar\":{\"outlinewidth\":0,\"ticks\":\"\"}}}],\"scattermapbox\":[{\"type\":\"scattermapbox\",\"marker\":{\"colorbar\":{\"outlinewidth\":0,\"ticks\":\"\"}}}],\"scatterternary\":[{\"type\":\"scatterternary\",\"marker\":{\"colorbar\":{\"outlinewidth\":0,\"ticks\":\"\"}}}],\"scattercarpet\":[{\"type\":\"scattercarpet\",\"marker\":{\"colorbar\":{\"outlinewidth\":0,\"ticks\":\"\"}}}],\"carpet\":[{\"aaxis\":{\"endlinecolor\":\"#2a3f5f\",\"gridcolor\":\"white\",\"linecolor\":\"white\",\"minorgridcolor\":\"white\",\"startlinecolor\":\"#2a3f5f\"},\"baxis\":{\"endlinecolor\":\"#2a3f5f\",\"gridcolor\":\"white\",\"linecolor\":\"white\",\"minorgridcolor\":\"white\",\"startlinecolor\":\"#2a3f5f\"},\"type\":\"carpet\"}],\"table\":[{\"cells\":{\"fill\":{\"color\":\"#EBF0F8\"},\"line\":{\"color\":\"white\"}},\"header\":{\"fill\":{\"color\":\"#C8D4E3\"},\"line\":{\"color\":\"white\"}},\"type\":\"table\"}],\"barpolar\":[{\"marker\":{\"line\":{\"color\":\"#E5ECF6\",\"width\":0.5},\"pattern\":{\"fillmode\":\"overlay\",\"size\":10,\"solidity\":0.2}},\"type\":\"barpolar\"}],\"pie\":[{\"automargin\":true,\"type\":\"pie\"}]},\"layout\":{\"autotypenumbers\":\"strict\",\"colorway\":[\"#636efa\",\"#EF553B\",\"#00cc96\",\"#ab63fa\",\"#FFA15A\",\"#19d3f3\",\"#FF6692\",\"#B6E880\",\"#FF97FF\",\"#FECB52\"],\"font\":{\"color\":\"#2a3f5f\"},\"hovermode\":\"closest\",\"hoverlabel\":{\"align\":\"left\"},\"paper_bgcolor\":\"white\",\"plot_bgcolor\":\"#E5ECF6\",\"polar\":{\"bgcolor\":\"#E5ECF6\",\"angularaxis\":{\"gridcolor\":\"white\",\"linecolor\":\"white\",\"ticks\":\"\"},\"radialaxis\":{\"gridcolor\":\"white\",\"linecolor\":\"white\",\"ticks\":\"\"}},\"ternary\":{\"bgcolor\":\"#E5ECF6\",\"aaxis\":{\"gridcolor\":\"white\",\"linecolor\":\"white\",\"ticks\":\"\"},\"baxis\":{\"gridcolor\":\"white\",\"linecolor\":\"white\",\"ticks\":\"\"},\"caxis\":{\"gridcolor\":\"white\",\"linecolor\":\"white\",\"ticks\":\"\"}},\"coloraxis\":{\"colorbar\":{\"outlinewidth\":0,\"ticks\":\"\"}},\"colorscale\":{\"sequential\":[[0.0,\"#0d0887\"],[0.1111111111111111,\"#46039f\"],[0.2222222222222222,\"#7201a8\"],[0.3333333333333333,\"#9c179e\"],[0.4444444444444444,\"#bd3786\"],[0.5555555555555556,\"#d8576b\"],[0.6666666666666666,\"#ed7953\"],[0.7777777777777778,\"#fb9f3a\"],[0.8888888888888888,\"#fdca26\"],[1.0,\"#f0f921\"]],\"sequentialminus\":[[0.0,\"#0d0887\"],[0.1111111111111111,\"#46039f\"],[0.2222222222222222,\"#7201a8\"],[0.3333333333333333,\"#9c179e\"],[0.4444444444444444,\"#bd3786\"],[0.5555555555555556,\"#d8576b\"],[0.6666666666666666,\"#ed7953\"],[0.7777777777777778,\"#fb9f3a\"],[0.8888888888888888,\"#fdca26\"],[1.0,\"#f0f921\"]],\"diverging\":[[0,\"#8e0152\"],[0.1,\"#c51b7d\"],[0.2,\"#de77ae\"],[0.3,\"#f1b6da\"],[0.4,\"#fde0ef\"],[0.5,\"#f7f7f7\"],[0.6,\"#e6f5d0\"],[0.7,\"#b8e186\"],[0.8,\"#7fbc41\"],[0.9,\"#4d9221\"],[1,\"#276419\"]]},\"xaxis\":{\"gridcolor\":\"white\",\"linecolor\":\"white\",\"ticks\":\"\",\"title\":{\"standoff\":15},\"zerolinecolor\":\"white\",\"automargin\":true,\"zerolinewidth\":2},\"yaxis\":{\"gridcolor\":\"white\",\"linecolor\":\"white\",\"ticks\":\"\",\"title\":{\"standoff\":15},\"zerolinecolor\":\"white\",\"automargin\":true,\"zerolinewidth\":2},\"scene\":{\"xaxis\":{\"backgroundcolor\":\"#E5ECF6\",\"gridcolor\":\"white\",\"linecolor\":\"white\",\"showbackground\":true,\"ticks\":\"\",\"zerolinecolor\":\"white\",\"gridwidth\":2},\"yaxis\":{\"backgroundcolor\":\"#E5ECF6\",\"gridcolor\":\"white\",\"linecolor\":\"white\",\"showbackground\":true,\"ticks\":\"\",\"zerolinecolor\":\"white\",\"gridwidth\":2},\"zaxis\":{\"backgroundcolor\":\"#E5ECF6\",\"gridcolor\":\"white\",\"linecolor\":\"white\",\"showbackground\":true,\"ticks\":\"\",\"zerolinecolor\":\"white\",\"gridwidth\":2}},\"shapedefaults\":{\"line\":{\"color\":\"#2a3f5f\"}},\"annotationdefaults\":{\"arrowcolor\":\"#2a3f5f\",\"arrowhead\":0,\"arrowwidth\":1},\"geo\":{\"bgcolor\":\"white\",\"landcolor\":\"#E5ECF6\",\"subunitcolor\":\"white\",\"showland\":true,\"showlakes\":true,\"lakecolor\":\"white\"},\"title\":{\"x\":0.05},\"mapbox\":{\"style\":\"light\"}}},\"title\":{\"text\":\"Candlestick Chart\",\"font\":{\"size\":16},\"x\":0.5,\"pad\":{\"b\":-10,\"l\":20,\"r\":20,\"t\":-10}},\"xaxis\":{\"rangeslider\":{\"visible\":false},\"title\":{\"text\":\"Date\"},\"tickformat\":\"%Y-%m\"},\"font\":{\"family\":\"Arial\",\"color\":\"#113d5c\"},\"yaxis\":{\"title\":{\"text\":\"Price (USD)\"}}},                        {\"responsive\": true}                    ).then(function(){\n",
       "                            \n",
       "var gd = document.getElementById('0b5ada6c-62c7-4c5c-aacd-bd19d9144382');\n",
       "var x = new MutationObserver(function (mutations, observer) {{\n",
       "        var display = window.getComputedStyle(gd).display;\n",
       "        if (!display || display === 'none') {{\n",
       "            console.log([gd, 'removed!']);\n",
       "            Plotly.purge(gd);\n",
       "            observer.disconnect();\n",
       "        }}\n",
       "}});\n",
       "\n",
       "// Listen for the removal of the full notebook cells\n",
       "var notebookContainer = gd.closest('#notebook-container');\n",
       "if (notebookContainer) {{\n",
       "    x.observe(notebookContainer, {childList: true});\n",
       "}}\n",
       "\n",
       "// Listen for the clearing of the current output cell\n",
       "var outputEl = gd.closest('.output');\n",
       "if (outputEl) {{\n",
       "    x.observe(outputEl, {childList: true});\n",
       "}}\n",
       "\n",
       "                        })                };                });            </script>        </div>"
      ]
     },
     "metadata": {},
     "output_type": "display_data"
    }
   ],
   "source": [
    "candlestick_chart = go.Figure(data=[go.Candlestick(x=df['date'], open=df['adj_open'], high=df['adj_high'], low=df['adj_low'], close=df['adj_close'])])\n",
    "candlestick_chart.update_layout(title='Candlestick Chart', title_font_size=16, title_x=0.5, xaxis_title='Date', xaxis=dict(tickformat='%Y-%m'), yaxis_title='Price (USD)', font_family='Arial', font_color=color, xaxis_rangeslider_visible=False, title_pad_b=-10, title_pad_l=20, title_pad_r=20, title_pad_t=-10)\n",
    "candlestick_chart.show()"
   ]
  },
  {
   "cell_type": "code",
   "execution_count": 375,
   "metadata": {
    "extensions": {
     "jupyter_dashboards": {
      "version": 1,
      "views": {
       "grid_default": {},
       "report_default": {
        "hidden": false
       }
      }
     }
    }
   },
   "outputs": [
    {
     "name": "stdout",
     "output_type": "stream",
     "text": [
      "Overall\n",
      "Highest Volume\n"
     ]
    },
    {
     "data": {
      "text/plain": [
       "55155300"
      ]
     },
     "execution_count": 375,
     "metadata": {},
     "output_type": "execute_result"
    }
   ],
   "source": [
    "print('Overall')\n",
    "print('Highest Volume')\n",
    "int(df['volume'].max())"
   ]
  },
  {
   "cell_type": "code",
   "execution_count": 376,
   "metadata": {
    "extensions": {
     "jupyter_dashboards": {
      "version": 1,
      "views": {
       "grid_default": {},
       "report_default": {
        "hidden": false
       }
      }
     }
    }
   },
   "outputs": [
    {
     "name": "stdout",
     "output_type": "stream",
     "text": [
      "Overall\n",
      "Lowest Volume\n"
     ]
    },
    {
     "data": {
      "text/plain": [
       "13134700"
      ]
     },
     "execution_count": 376,
     "metadata": {},
     "output_type": "execute_result"
    }
   ],
   "source": [
    "print('Overall')\n",
    "print('Lowest Volume')\n",
    "int(df['volume'].min())"
   ]
  },
  {
   "cell_type": "code",
   "execution_count": 377,
   "metadata": {
    "extensions": {
     "jupyter_dashboards": {
      "version": 1,
      "views": {
       "grid_default": {},
       "report_default": {
        "hidden": false
       }
      }
     }
    }
   },
   "outputs": [
    {
     "name": "stdout",
     "output_type": "stream",
     "text": [
      "Overall\n",
      "Highest Price (Adjusted)\n"
     ]
    },
    {
     "data": {
      "text/plain": [
       "456.16"
      ]
     },
     "execution_count": 377,
     "metadata": {},
     "output_type": "execute_result"
    }
   ],
   "source": [
    "print('Overall')\n",
    "print('Highest Price (Adjusted)')\n",
    "round(df['adj_high'].max(), 2)"
   ]
  },
  {
   "cell_type": "code",
   "execution_count": 378,
   "metadata": {
    "extensions": {
     "jupyter_dashboards": {
      "version": 1,
      "views": {
       "grid_default": {},
       "report_default": {
        "hidden": false
       }
      }
     }
    }
   },
   "outputs": [
    {
     "name": "stdout",
     "output_type": "stream",
     "text": [
      "Overall\n",
      "Lowest Price (Adjusted)\n"
     ]
    },
    {
     "data": {
      "text/plain": [
       "385.58"
      ]
     },
     "execution_count": 378,
     "metadata": {},
     "output_type": "execute_result"
    }
   ],
   "source": [
    "print('Overall')\n",
    "print('Lowest Price (Adjusted)')\n",
    "df['adj_low'].min()"
   ]
  },
  {
   "cell_type": "code",
   "execution_count": 392,
   "metadata": {},
   "outputs": [],
   "source": [
    "df_last_week = df.loc[df['date'].between('2024-12-11','2024-12-17', inclusive=True)]"
   ]
  },
  {
   "cell_type": "code",
   "execution_count": 379,
   "metadata": {
    "extensions": {
     "jupyter_dashboards": {
      "version": 1,
      "views": {
       "grid_default": {},
       "report_default": {
        "hidden": false
       }
      }
     }
    }
   },
   "outputs": [
    {
     "name": "stdout",
     "output_type": "stream",
     "text": [
      "Last Week\n",
      "Average Volume\n"
     ]
    },
    {
     "data": {
      "text/plain": [
       "20875650"
      ]
     },
     "execution_count": 379,
     "metadata": {},
     "output_type": "execute_result"
    }
   ],
   "source": [
    "print('Last Week')\n",
    "print('Average Volume')\n",
    "int(df_last_week['volume'].mean())"
   ]
  },
  {
   "cell_type": "code",
   "execution_count": 380,
   "metadata": {
    "extensions": {
     "jupyter_dashboards": {
      "version": 1,
      "views": {
       "grid_default": {},
       "report_default": {
        "hidden": false
       }
      }
     }
    }
   },
   "outputs": [
    {
     "name": "stdout",
     "output_type": "stream",
     "text": [
      "Last Week\n",
      "Highest Price (Adjusted)\n"
     ]
    },
    {
     "data": {
      "text/plain": [
       "456.16"
      ]
     },
     "execution_count": 380,
     "metadata": {},
     "output_type": "execute_result"
    }
   ],
   "source": [
    "print('Last Week')\n",
    "print('Highest Price (Adjusted)')\n",
    "round(df_last_week['adj_high'].max(), 2)"
   ]
  },
  {
   "cell_type": "code",
   "execution_count": 381,
   "metadata": {
    "extensions": {
     "jupyter_dashboards": {
      "version": 1,
      "views": {
       "grid_default": {},
       "report_default": {
        "hidden": false
       }
      }
     }
    }
   },
   "outputs": [
    {
     "name": "stdout",
     "output_type": "stream",
     "text": [
      "Last Week\n",
      "Lowest Price (Adjusted)\n"
     ]
    },
    {
     "data": {
      "text/plain": [
       "444.05"
      ]
     },
     "execution_count": 381,
     "metadata": {},
     "output_type": "execute_result"
    }
   ],
   "source": [
    "print('Last Week')\n",
    "print('Lowest Price (Adjusted)')\n",
    "round(df_last_week['adj_low'].min(), 2)"
   ]
  },
  {
   "cell_type": "code",
   "execution_count": 382,
   "metadata": {
    "extensions": {
     "jupyter_dashboards": {
      "version": 1,
      "views": {
       "grid_default": {},
       "report_default": {
        "hidden": false
       }
      }
     }
    }
   },
   "outputs": [
    {
     "name": "stdout",
     "output_type": "stream",
     "text": [
      "Last Week\n",
      "Average Closing Price (Adjusted)\n"
     ]
    },
    {
     "data": {
      "text/plain": [
       "450.37"
      ]
     },
     "execution_count": 382,
     "metadata": {},
     "output_type": "execute_result"
    }
   ],
   "source": [
    "print('Last Week')\n",
    "print('Average Closing Price (Adjusted)')\n",
    "round(df_last_week['adj_close'].mean(), 2)"
   ]
  },
  {
   "cell_type": "code",
   "execution_count": 383,
   "metadata": {
    "extensions": {
     "jupyter_dashboards": {
      "version": 1,
      "views": {
       "grid_default": {},
       "report_default": {
        "hidden": true
       }
      }
     }
    }
   },
   "outputs": [],
   "source": [
    "df_last_two_weeks = df.loc[df['date'].between('2024-12-04','2024-12-17', inclusive=True)]"
   ]
  },
  {
   "cell_type": "code",
   "execution_count": 384,
   "metadata": {
    "extensions": {
     "jupyter_dashboards": {
      "version": 1,
      "views": {
       "grid_default": {},
       "report_default": {
        "hidden": false
       }
      }
     }
    }
   },
   "outputs": [
    {
     "name": "stdout",
     "output_type": "stream",
     "text": [
      "Last Two Weeks\n",
      "Average Volume\n"
     ]
    },
    {
     "data": {
      "text/plain": [
       "20842295"
      ]
     },
     "execution_count": 384,
     "metadata": {},
     "output_type": "execute_result"
    }
   ],
   "source": [
    "print('Last Two Weeks')\n",
    "print('Average Volume')\n",
    "int(df_last_two_weeks['volume'].mean())"
   ]
  },
  {
   "cell_type": "code",
   "execution_count": 385,
   "metadata": {
    "extensions": {
     "jupyter_dashboards": {
      "version": 1,
      "views": {
       "grid_default": {},
       "report_default": {
        "hidden": false
       }
      }
     }
    }
   },
   "outputs": [
    {
     "name": "stdout",
     "output_type": "stream",
     "text": [
      "Last Two Weeks\n",
      "Highest Price (Adjusted)\n"
     ]
    },
    {
     "data": {
      "text/plain": [
       "456.16"
      ]
     },
     "execution_count": 385,
     "metadata": {},
     "output_type": "execute_result"
    }
   ],
   "source": [
    "print('Last Two Weeks')\n",
    "print('Highest Price (Adjusted)')\n",
    "round(df_last_two_weeks['adj_high'].max(), 2)"
   ]
  },
  {
   "cell_type": "code",
   "execution_count": 386,
   "metadata": {
    "extensions": {
     "jupyter_dashboards": {
      "version": 1,
      "views": {
       "grid_default": {},
       "report_default": {
        "hidden": false
       }
      }
     }
    }
   },
   "outputs": [
    {
     "name": "stdout",
     "output_type": "stream",
     "text": [
      "Last Two Weeks\n",
      "Lowest Price (Adjusted)\n"
     ]
    },
    {
     "data": {
      "text/plain": [
       "432.63"
      ]
     },
     "execution_count": 386,
     "metadata": {},
     "output_type": "execute_result"
    }
   ],
   "source": [
    "print('Last Two Weeks')\n",
    "print('Lowest Price (Adjusted)')\n",
    "round(df_last_two_weeks['adj_low'].min(), 2)"
   ]
  },
  {
   "cell_type": "code",
   "execution_count": 387,
   "metadata": {
    "extensions": {
     "jupyter_dashboards": {
      "version": 1,
      "views": {
       "grid_default": {},
       "report_default": {
        "hidden": false
       }
      }
     }
    }
   },
   "outputs": [
    {
     "name": "stdout",
     "output_type": "stream",
     "text": [
      "Last Two Weeks\n",
      "Average Closing Price (Adjusted)\n"
     ]
    },
    {
     "data": {
      "text/plain": [
       "446.48"
      ]
     },
     "execution_count": 387,
     "metadata": {},
     "output_type": "execute_result"
    }
   ],
   "source": [
    "print('Last Two Weeks')\n",
    "print('Average Closing Price (Adjusted)')\n",
    "round(df_last_two_weeks['adj_close'].mean(), 2)"
   ]
  },
  {
   "cell_type": "code",
   "execution_count": 388,
   "metadata": {
    "extensions": {
     "jupyter_dashboards": {
      "version": 1,
      "views": {
       "grid_default": {},
       "report_default": {
        "hidden": false
       }
      }
     }
    }
   },
   "outputs": [
    {
     "name": "stdout",
     "output_type": "stream",
     "text": [
      "Last Six Months\n",
      "Average Volume\n"
     ]
    },
    {
     "data": {
      "text/plain": [
       "20331555"
      ]
     },
     "execution_count": 388,
     "metadata": {},
     "output_type": "execute_result"
    }
   ],
   "source": [
    "print('Last Six Months')\n",
    "print('Average Volume')\n",
    "int(df['volume'].mean())"
   ]
  },
  {
   "cell_type": "code",
   "execution_count": 389,
   "metadata": {
    "extensions": {
     "jupyter_dashboards": {
      "version": 1,
      "views": {
       "grid_default": {},
       "report_default": {
        "hidden": false
       }
      }
     }
    }
   },
   "outputs": [
    {
     "name": "stdout",
     "output_type": "stream",
     "text": [
      "Last Six Months\n",
      "Highest Price (Adjusted)\n"
     ]
    },
    {
     "data": {
      "text/plain": [
       "456.16"
      ]
     },
     "execution_count": 389,
     "metadata": {},
     "output_type": "execute_result"
    }
   ],
   "source": [
    "print('Last Six Months')\n",
    "print('Highest Price (Adjusted)')\n",
    "round(df['adj_high'].max(), 2)"
   ]
  },
  {
   "cell_type": "code",
   "execution_count": 390,
   "metadata": {
    "extensions": {
     "jupyter_dashboards": {
      "version": 1,
      "views": {
       "grid_default": {},
       "report_default": {
        "hidden": false
       }
      }
     }
    }
   },
   "outputs": [
    {
     "name": "stdout",
     "output_type": "stream",
     "text": [
      "Last Six Months\n",
      "Lowest Price (Adjusted)\n"
     ]
    },
    {
     "data": {
      "text/plain": [
       "385.58"
      ]
     },
     "execution_count": 390,
     "metadata": {},
     "output_type": "execute_result"
    }
   ],
   "source": [
    "print('Last Six Months')\n",
    "print('Lowest Price (Adjusted)')\n",
    "round(df['adj_low'].min(), 2)"
   ]
  },
  {
   "cell_type": "code",
   "execution_count": 391,
   "metadata": {
    "extensions": {
     "jupyter_dashboards": {
      "version": 1,
      "views": {
       "grid_default": {},
       "report_default": {
        "hidden": false
       }
      }
     }
    }
   },
   "outputs": [
    {
     "name": "stdout",
     "output_type": "stream",
     "text": [
      "Last Six Months\n",
      "Average Volume\n"
     ]
    },
    {
     "data": {
      "text/plain": [
       "421.87"
      ]
     },
     "execution_count": 391,
     "metadata": {},
     "output_type": "execute_result"
    }
   ],
   "source": [
    "print('Last Six Months')\n",
    "print('Average Volume')\n",
    "round(df['adj_close'].mean(), 2)"
   ]
  },
  {
   "cell_type": "code",
   "execution_count": null,
   "metadata": {},
   "outputs": [],
   "source": []
  }
 ],
 "metadata": {
  "extensions": {
   "jupyter_dashboards": {
    "activeView": "report_default",
    "version": 1,
    "views": {
     "grid_default": {
      "cellMargin": 10,
      "defaultCellHeight": 20,
      "maxColumns": 12,
      "name": "grid",
      "type": "grid"
     },
     "report_default": {
      "name": "report",
      "type": "report"
     }
    }
   }
  },
  "kernelspec": {
   "display_name": "Python 3",
   "language": "python",
   "name": "python3"
  },
  "language_info": {
   "codemirror_mode": {
    "name": "ipython",
    "version": 3
   },
   "file_extension": ".py",
   "mimetype": "text/x-python",
   "name": "python",
   "nbconvert_exporter": "python",
   "pygments_lexer": "ipython3",
   "version": "3.8.5"
  }
 },
 "nbformat": 4,
 "nbformat_minor": 4
}
