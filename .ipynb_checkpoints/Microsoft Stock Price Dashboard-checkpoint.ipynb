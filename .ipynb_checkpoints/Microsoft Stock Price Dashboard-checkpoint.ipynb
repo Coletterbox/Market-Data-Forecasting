{
 "cells": [
  {
   "cell_type": "code",
   "execution_count": 1,
   "metadata": {
    "extensions": {
     "jupyter_dashboards": {
      "version": 1,
      "views": {
       "grid_default": {},
       "report_default": {
        "hidden": true
       }
      }
     }
    }
   },
   "outputs": [],
   "source": [
    "import requests\n",
    "import pandas as pd\n",
    "import matplotlib.pyplot as plt\n",
    "import numpy as np\n",
    "from api_key_container import api_key"
   ]
  },
  {
   "cell_type": "code",
   "execution_count": 31,
   "metadata": {
    "extensions": {
     "jupyter_dashboards": {
      "version": 1,
      "views": {
       "grid_default": {},
       "report_default": {
        "hidden": false
       }
      }
     }
    }
   },
   "outputs": [
    {
     "name": "stdout",
     "output_type": "stream",
     "text": [
      "{'pagination': {'limit': 100, 'offset': 0, 'count': 100, 'total': 294986}, 'data': [{'name': 'Microsoft Corporation', 'symbol': 'MSFT', 'has_intraday': False, 'has_eod': True, 'country': None, 'stock_exchange': {'name': 'NASDAQ Stock Exchange', 'acronym': 'NASDAQ', 'mic': 'XNAS', 'country': 'USA', 'country_code': 'US', 'city': 'New York', 'website': 'www.nasdaq.com'}}, {'name': 'Apple Inc', 'symbol': 'AAPL', 'has_intraday': False, 'has_eod': True, 'country': None, 'stock_exchange': {'name': 'NASDAQ Stock Exchange', 'acronym': 'NASDAQ', 'mic': 'XNAS', 'country': 'USA', 'country_code': 'US', 'city': 'New York', 'website': 'www.nasdaq.com'}}, {'name': 'Amazon.com Inc', 'symbol': 'AMZN', 'has_intraday': False, 'has_eod': True, 'country': None, 'stock_exchange': {'name': 'NASDAQ Stock Exchange', 'acronym': 'NASDAQ', 'mic': 'XNAS', 'country': 'USA', 'country_code': 'US', 'city': 'New York', 'website': 'www.nasdaq.com'}}, {'name': 'Alphabet Inc - Class C', 'symbol': 'GOOG', 'has_intraday': False, 'has_eod': True, 'country': None, 'stock_exchange': {'name': 'NASDAQ Stock Exchange', 'acronym': 'NASDAQ', 'mic': 'XNAS', 'country': 'USA', 'country_code': 'US', 'city': 'New York', 'website': 'www.nasdaq.com'}}, {'name': 'Alphabet Inc - Class A', 'symbol': 'GOOGL', 'has_intraday': False, 'has_eod': True, 'country': None, 'stock_exchange': {'name': 'NASDAQ Stock Exchange', 'acronym': 'NASDAQ', 'mic': 'XNAS', 'country': 'USA', 'country_code': 'US', 'city': 'New York', 'website': 'www.nasdaq.com'}}, {'name': 'Alibaba Group Holding Ltd', 'symbol': 'BABA', 'has_intraday': False, 'has_eod': True, 'country': None, 'stock_exchange': {'name': 'New York Stock Exchange', 'acronym': 'NYSE', 'mic': 'XNYS', 'country': 'USA', 'country_code': 'US', 'city': 'New York', 'website': 'www.nyse.com'}}, {'name': 'Meta Platforms Inc - Class A', 'symbol': 'FB', 'has_intraday': False, 'has_eod': True, 'country': None, 'stock_exchange': {'name': 'NASDAQ Stock Exchange', 'acronym': 'NASDAQ', 'mic': 'XNAS', 'country': 'USA', 'country_code': 'US', 'city': 'New York', 'website': 'www.nasdaq.com'}}, {'name': 'BERKSHIRE HATHAWAY INC', 'symbol': 'BRK.B', 'has_intraday': False, 'has_eod': False, 'country': None, 'stock_exchange': {'name': 'New York Stock Exchange', 'acronym': 'NYSE', 'mic': 'XNYS', 'country': 'USA', 'country_code': 'US', 'city': 'New York', 'website': 'www.nyse.com'}}, {'name': 'BERKSHIRE HATHAWAY INC', 'symbol': 'BRK.A', 'has_intraday': False, 'has_eod': False, 'country': None, 'stock_exchange': {'name': 'New York Stock Exchange', 'acronym': 'NYSE', 'mic': 'XNYS', 'country': 'USA', 'country_code': 'US', 'city': 'New York', 'website': 'www.nyse.com'}}, {'name': 'Vodafone Group plc', 'symbol': 'VOD', 'has_intraday': False, 'has_eod': True, 'country': None, 'stock_exchange': {'name': 'NASDAQ Stock Exchange', 'acronym': 'NASDAQ', 'mic': 'XNAS', 'country': 'USA', 'country_code': 'US', 'city': 'New York', 'website': 'www.nasdaq.com'}}, {'name': 'Visa Inc - Class A', 'symbol': 'V', 'has_intraday': False, 'has_eod': True, 'country': None, 'stock_exchange': {'name': 'New York Stock Exchange', 'acronym': 'NYSE', 'mic': 'XNYS', 'country': 'USA', 'country_code': 'US', 'city': 'New York', 'website': 'www.nyse.com'}}, {'name': 'JPMorgan Chase & Company', 'symbol': 'JPM', 'has_intraday': False, 'has_eod': True, 'country': None, 'stock_exchange': {'name': 'New York Stock Exchange', 'acronym': 'NYSE', 'mic': 'XNYS', 'country': 'USA', 'country_code': 'US', 'city': 'New York', 'website': 'www.nyse.com'}}, {'name': 'Johnson & Johnson', 'symbol': 'JNJ', 'has_intraday': False, 'has_eod': True, 'country': None, 'stock_exchange': {'name': 'New York Stock Exchange', 'acronym': 'NYSE', 'mic': 'XNYS', 'country': 'USA', 'country_code': 'US', 'city': 'New York', 'website': 'www.nyse.com'}}, {'name': 'Walmart Inc', 'symbol': 'WMT', 'has_intraday': False, 'has_eod': True, 'country': None, 'stock_exchange': {'name': 'New York Stock Exchange', 'acronym': 'NYSE', 'mic': 'XNYS', 'country': 'USA', 'country_code': 'US', 'city': 'New York', 'website': 'www.nyse.com'}}, {'name': 'Mastercard Incorporated - Class A', 'symbol': 'MA', 'has_intraday': False, 'has_eod': True, 'country': None, 'stock_exchange': {'name': 'New York Stock Exchange', 'acronym': 'NYSE', 'mic': 'XNYS', 'country': 'USA', 'country_code': 'US', 'city': 'New York', 'website': 'www.nyse.com'}}, {'name': 'Procter & Gamble Company', 'symbol': 'PG', 'has_intraday': False, 'has_eod': True, 'country': None, 'stock_exchange': {'name': 'New York Stock Exchange', 'acronym': 'NYSE', 'mic': 'XNYS', 'country': 'USA', 'country_code': 'US', 'city': 'New York', 'website': 'www.nyse.com'}}, {'name': 'Taiwan Semiconductor Manufacturing', 'symbol': 'TSM', 'has_intraday': False, 'has_eod': True, 'country': None, 'stock_exchange': {'name': 'New York Stock Exchange', 'acronym': 'NYSE', 'mic': 'XNYS', 'country': 'USA', 'country_code': 'US', 'city': 'New York', 'website': 'www.nyse.com'}}, {'name': 'Chunghwa Telecom', 'symbol': 'CHT', 'has_intraday': False, 'has_eod': True, 'country': None, 'stock_exchange': {'name': 'New York Stock Exchange', 'acronym': 'NYSE', 'mic': 'XNYS', 'country': 'USA', 'country_code': 'US', 'city': 'New York', 'website': 'www.nyse.com'}}, {'name': 'Roche Holding AG', 'symbol': 'RHHBF', 'has_intraday': False, 'has_eod': True, 'country': None, 'stock_exchange': {'name': 'OTC Markets', 'acronym': '', 'mic': 'OTCM', 'country': 'USA', 'country_code': 'US', 'city': 'New York', 'website': 'www.otcmarkets.com'}}, {'name': 'Roche Holding AG', 'symbol': 'RHHVF', 'has_intraday': False, 'has_eod': True, 'country': None, 'stock_exchange': {'name': 'OTC Markets', 'acronym': '', 'mic': 'OTCM', 'country': 'USA', 'country_code': 'US', 'city': 'New York', 'website': 'www.otcmarkets.com'}}, {'name': 'AT&T Inc', 'symbol': 'T', 'has_intraday': False, 'has_eod': True, 'country': None, 'stock_exchange': {'name': 'New York Stock Exchange', 'acronym': 'NYSE', 'mic': 'XNYS', 'country': 'USA', 'country_code': 'US', 'city': 'New York', 'website': 'www.nyse.com'}}, {'name': 'Unitedhealth Group Inc', 'symbol': 'UNH', 'has_intraday': False, 'has_eod': True, 'country': None, 'stock_exchange': {'name': 'New York Stock Exchange', 'acronym': 'NYSE', 'mic': 'XNYS', 'country': 'USA', 'country_code': 'US', 'city': 'New York', 'website': 'www.nyse.com'}}, {'name': 'Bank Of America Corp', 'symbol': 'BAC', 'has_intraday': False, 'has_eod': True, 'country': None, 'stock_exchange': {'name': 'New York Stock Exchange', 'acronym': 'NYSE', 'mic': 'XNYS', 'country': 'USA', 'country_code': 'US', 'city': 'New York', 'website': 'www.nyse.com'}}, {'name': 'Home Depot Inc', 'symbol': 'HD', 'has_intraday': False, 'has_eod': True, 'country': None, 'stock_exchange': {'name': 'New York Stock Exchange', 'acronym': 'NYSE', 'mic': 'XNYS', 'country': 'USA', 'country_code': 'US', 'city': 'New York', 'website': 'www.nyse.com'}}, {'name': 'Intel Corp', 'symbol': 'INTC', 'has_intraday': False, 'has_eod': True, 'country': None, 'stock_exchange': {'name': 'NASDAQ Stock Exchange', 'acronym': 'NASDAQ', 'mic': 'XNAS', 'country': 'USA', 'country_code': 'US', 'city': 'New York', 'website': 'www.nasdaq.com'}}, {'name': 'Coca-Cola Company', 'symbol': 'KO', 'has_intraday': False, 'has_eod': True, 'country': None, 'stock_exchange': {'name': 'New York Stock Exchange', 'acronym': 'NYSE', 'mic': 'XNYS', 'country': 'USA', 'country_code': 'US', 'city': 'New York', 'website': 'www.nyse.com'}}, {'name': 'Verizon Communications Inc', 'symbol': 'VZ', 'has_intraday': False, 'has_eod': True, 'country': None, 'stock_exchange': {'name': 'New York Stock Exchange', 'acronym': 'NYSE', 'mic': 'XNYS', 'country': 'USA', 'country_code': 'US', 'city': 'New York', 'website': 'www.nyse.com'}}, {'name': 'Roche Holding AG', 'symbol': 'RHHBY', 'has_intraday': False, 'has_eod': True, 'country': None, 'stock_exchange': {'name': 'OTC Markets', 'acronym': '', 'mic': 'OTCM', 'country': 'USA', 'country_code': 'US', 'city': 'New York', 'website': 'www.otcmarkets.com'}}, {'name': 'Exxon Mobil Corp', 'symbol': 'XOM', 'has_intraday': False, 'has_eod': True, 'country': None, 'stock_exchange': {'name': 'New York Stock Exchange', 'acronym': 'NYSE', 'mic': 'XNYS', 'country': 'USA', 'country_code': 'US', 'city': 'New York', 'website': 'www.nyse.com'}}, {'name': 'Walt Disney Co (The)', 'symbol': 'DIS', 'has_intraday': False, 'has_eod': True, 'country': None, 'stock_exchange': {'name': 'New York Stock Exchange', 'acronym': 'NYSE', 'mic': 'XNYS', 'country': 'USA', 'country_code': 'US', 'city': 'New York', 'website': 'www.nyse.com'}}, {'name': 'Merck & Co Inc', 'symbol': 'MRK', 'has_intraday': False, 'has_eod': True, 'country': None, 'stock_exchange': {'name': 'New York Stock Exchange', 'acronym': 'NYSE', 'mic': 'XNYS', 'country': 'USA', 'country_code': 'US', 'city': 'New York', 'website': 'www.nyse.com'}}, {'name': 'Novartis AG', 'symbol': 'NVS', 'has_intraday': False, 'has_eod': True, 'country': None, 'stock_exchange': {'name': 'New York Stock Exchange', 'acronym': 'NYSE', 'mic': 'XNYS', 'country': 'USA', 'country_code': 'US', 'city': 'New York', 'website': 'www.nyse.com'}}, {'name': 'Comcast Corp - Class A', 'symbol': 'CMCSA', 'has_intraday': False, 'has_eod': True, 'country': None, 'stock_exchange': {'name': 'NASDAQ Stock Exchange', 'acronym': 'NASDAQ', 'mic': 'XNAS', 'country': 'USA', 'country_code': 'US', 'city': 'New York', 'website': 'www.nasdaq.com'}}, {'name': 'Pfizer Inc', 'symbol': 'PFE', 'has_intraday': False, 'has_eod': True, 'country': None, 'stock_exchange': {'name': 'New York Stock Exchange', 'acronym': 'NYSE', 'mic': 'XNYS', 'country': 'USA', 'country_code': 'US', 'city': 'New York', 'website': 'www.nyse.com'}}, {'name': 'PepsiCo Inc', 'symbol': 'PEP', 'has_intraday': False, 'has_eod': True, 'country': None, 'stock_exchange': {'name': 'NASDAQ Stock Exchange', 'acronym': 'NASDAQ', 'mic': 'XNAS', 'country': 'USA', 'country_code': 'US', 'city': 'New York', 'website': 'www.nasdaq.com'}}, {'name': 'Toyota Motor Corporation', 'symbol': 'TM', 'has_intraday': False, 'has_eod': True, 'country': None, 'stock_exchange': {'name': 'New York Stock Exchange', 'acronym': 'NYSE', 'mic': 'XNYS', 'country': 'USA', 'country_code': 'US', 'city': 'New York', 'website': 'www.nyse.com'}}, {'name': 'Chevron Corp', 'symbol': 'CVX', 'has_intraday': False, 'has_eod': True, 'country': None, 'stock_exchange': {'name': 'New York Stock Exchange', 'acronym': 'NYSE', 'mic': 'XNYS', 'country': 'USA', 'country_code': 'US', 'city': 'New York', 'website': 'www.nyse.com'}}, {'name': 'Adobe Inc', 'symbol': 'ADBE', 'has_intraday': False, 'has_eod': True, 'country': None, 'stock_exchange': {'name': 'NASDAQ Stock Exchange', 'acronym': 'NASDAQ', 'mic': 'XNAS', 'country': 'USA', 'country_code': 'US', 'city': 'New York', 'website': 'www.nasdaq.com'}}, {'name': 'Cisco Systems Inc', 'symbol': 'CSCO', 'has_intraday': False, 'has_eod': True, 'country': None, 'stock_exchange': {'name': 'NASDAQ Stock Exchange', 'acronym': 'NASDAQ', 'mic': 'XNAS', 'country': 'USA', 'country_code': 'US', 'city': 'New York', 'website': 'www.nasdaq.com'}}, {'name': 'Wells Fargo & Company', 'symbol': 'WFC', 'has_intraday': False, 'has_eod': True, 'country': None, 'stock_exchange': {'name': 'New York Stock Exchange', 'acronym': 'NYSE', 'mic': 'XNYS', 'country': 'USA', 'country_code': 'US', 'city': 'New York', 'website': 'www.nyse.com'}}, {'name': 'NVIDIA Corp', 'symbol': 'NVDA', 'has_intraday': False, 'has_eod': True, 'country': None, 'stock_exchange': {'name': 'NASDAQ Stock Exchange', 'acronym': 'NASDAQ', 'mic': 'XNAS', 'country': 'USA', 'country_code': 'US', 'city': 'New York', 'website': 'www.nasdaq.com'}}, {'name': 'Netflix Inc', 'symbol': 'NFLX', 'has_intraday': False, 'has_eod': True, 'country': None, 'stock_exchange': {'name': 'NASDAQ Stock Exchange', 'acronym': 'NASDAQ', 'mic': 'XNAS', 'country': 'USA', 'country_code': 'US', 'city': 'New York', 'website': 'www.nasdaq.com'}}, {'name': 'Oracle Corp', 'symbol': 'ORCL', 'has_intraday': False, 'has_eod': True, 'country': None, 'stock_exchange': {'name': 'New York Stock Exchange', 'acronym': 'NYSE', 'mic': 'XNYS', 'country': 'USA', 'country_code': 'US', 'city': 'New York', 'website': 'www.nyse.com'}}, {'name': 'Boeing Company', 'symbol': 'BA', 'has_intraday': False, 'has_eod': True, 'country': None, 'stock_exchange': {'name': 'New York Stock Exchange', 'acronym': 'NYSE', 'mic': 'XNYS', 'country': 'USA', 'country_code': 'US', 'city': 'New York', 'website': 'www.nyse.com'}}, {'name': 'China Mobile Ltd ADR', 'symbol': 'CHL', 'has_intraday': False, 'has_eod': True, 'country': None, 'stock_exchange': {'name': 'New York Stock Exchange', 'acronym': 'NYSE', 'mic': 'XNYS', 'country': 'USA', 'country_code': 'US', 'city': 'New York', 'website': 'www.nyse.com'}}, {'name': 'Salesforce Inc', 'symbol': 'CRM', 'has_intraday': False, 'has_eod': True, 'country': None, 'stock_exchange': {'name': 'New York Stock Exchange', 'acronym': 'NYSE', 'mic': 'XNYS', 'country': 'USA', 'country_code': 'US', 'city': 'New York', 'website': 'www.nyse.com'}}, {'name': 'Sap SE', 'symbol': 'SAP', 'has_intraday': False, 'has_eod': True, 'country': None, 'stock_exchange': {'name': 'New York Stock Exchange', 'acronym': 'NYSE', 'mic': 'XNYS', 'country': 'USA', 'country_code': 'US', 'city': 'New York', 'website': 'www.nyse.com'}}, {'name': 'McDonald`s Corp', 'symbol': 'MCD', 'has_intraday': False, 'has_eod': True, 'country': None, 'stock_exchange': {'name': 'New York Stock Exchange', 'acronym': 'NYSE', 'mic': 'XNYS', 'country': 'USA', 'country_code': 'US', 'city': 'New York', 'website': 'www.nyse.com'}}, {'name': 'Nike Inc - Class B', 'symbol': 'NKE', 'has_intraday': False, 'has_eod': True, 'country': None, 'stock_exchange': {'name': 'New York Stock Exchange', 'acronym': 'NYSE', 'mic': 'XNYS', 'country': 'USA', 'country_code': 'US', 'city': 'New York', 'website': 'www.nyse.com'}}, {'name': 'Abbott Laboratories', 'symbol': 'ABT', 'has_intraday': False, 'has_eod': True, 'country': None, 'stock_exchange': {'name': 'New York Stock Exchange', 'acronym': 'NYSE', 'mic': 'XNYS', 'country': 'USA', 'country_code': 'US', 'city': 'New York', 'website': 'www.nyse.com'}}, {'name': 'Citigroup Inc', 'symbol': 'C', 'has_intraday': False, 'has_eod': True, 'country': None, 'stock_exchange': {'name': 'New York Stock Exchange', 'acronym': 'NYSE', 'mic': 'XNYS', 'country': 'USA', 'country_code': 'US', 'city': 'New York', 'website': 'www.nyse.com'}}, {'name': 'Medtronic Plc', 'symbol': 'MDT', 'has_intraday': False, 'has_eod': True, 'country': None, 'stock_exchange': {'name': 'New York Stock Exchange', 'acronym': 'NYSE', 'mic': 'XNYS', 'country': 'USA', 'country_code': 'US', 'city': 'New York', 'website': 'www.nyse.com'}}, {'name': 'HSBC Holdings plc', 'symbol': 'HSBC', 'has_intraday': False, 'has_eod': True, 'country': None, 'stock_exchange': {'name': 'New York Stock Exchange', 'acronym': 'NYSE', 'mic': 'XNYS', 'country': 'USA', 'country_code': 'US', 'city': 'New York', 'website': 'www.nyse.com'}}, {'name': 'Tesla Inc', 'symbol': 'TSLA', 'has_intraday': False, 'has_eod': True, 'country': None, 'stock_exchange': {'name': 'NASDAQ Stock Exchange', 'acronym': 'NASDAQ', 'mic': 'XNAS', 'country': 'USA', 'country_code': 'US', 'city': 'New York', 'website': 'www.nasdaq.com'}}, {'name': 'Costco Wholesale Corp', 'symbol': 'COST', 'has_intraday': False, 'has_eod': True, 'country': None, 'stock_exchange': {'name': 'NASDAQ Stock Exchange', 'acronym': 'NASDAQ', 'mic': 'XNAS', 'country': 'USA', 'country_code': 'US', 'city': 'New York', 'website': 'www.nasdaq.com'}}, {'name': 'Bristol-Myers Squibb Company', 'symbol': 'BMY', 'has_intraday': False, 'has_eod': True, 'country': None, 'stock_exchange': {'name': 'New York Stock Exchange', 'acronym': 'NYSE', 'mic': 'XNYS', 'country': 'USA', 'country_code': 'US', 'city': 'New York', 'website': 'www.nyse.com'}}, {'name': \"HSBC HOLDINGS PLC ADR EACH REPR 1/40 PREF SERIES '\", 'symbol': 'HSBC/PA', 'has_intraday': False, 'has_eod': True, 'country': None, 'stock_exchange': {'name': 'New York Stock Exchange', 'acronym': 'NYSE', 'mic': 'XNYS', 'country': 'USA', 'country_code': 'US', 'city': 'New York', 'website': 'www.nyse.com'}}, {'name': 'PayPal Holdings Inc', 'symbol': 'PYPL', 'has_intraday': False, 'has_eod': True, 'country': None, 'stock_exchange': {'name': 'NASDAQ Stock Exchange', 'acronym': 'NASDAQ', 'mic': 'XNAS', 'country': 'USA', 'country_code': 'US', 'city': 'New York', 'website': 'www.nasdaq.com'}}, {'name': 'Philip Morris International Inc', 'symbol': 'PM', 'has_intraday': False, 'has_eod': True, 'country': None, 'stock_exchange': {'name': 'New York Stock Exchange', 'acronym': 'NYSE', 'mic': 'XNYS', 'country': 'USA', 'country_code': 'US', 'city': 'New York', 'website': 'www.nyse.com'}}, {'name': 'NextEra Energy Inc', 'symbol': 'NEE', 'has_intraday': False, 'has_eod': True, 'country': None, 'stock_exchange': {'name': 'New York Stock Exchange', 'acronym': 'NYSE', 'mic': 'XNYS', 'country': 'USA', 'country_code': 'US', 'city': 'New York', 'website': 'www.nyse.com'}}, {'name': 'Abbvie Inc', 'symbol': 'ABBV', 'has_intraday': False, 'has_eod': True, 'country': None, 'stock_exchange': {'name': 'New York Stock Exchange', 'acronym': 'NYSE', 'mic': 'XNYS', 'country': 'USA', 'country_code': 'US', 'city': 'New York', 'website': 'www.nyse.com'}}, {'name': 'Lilly(Eli) & Company', 'symbol': 'LLY', 'has_intraday': False, 'has_eod': True, 'country': None, 'stock_exchange': {'name': 'New York Stock Exchange', 'acronym': 'NYSE', 'mic': 'XNYS', 'country': 'USA', 'country_code': 'US', 'city': 'New York', 'website': 'www.nyse.com'}}, {'name': 'AMGEN Inc', 'symbol': 'AMGN', 'has_intraday': False, 'has_eod': True, 'country': None, 'stock_exchange': {'name': 'NASDAQ Stock Exchange', 'acronym': 'NASDAQ', 'mic': 'XNAS', 'country': 'USA', 'country_code': 'US', 'city': 'New York', 'website': 'www.nasdaq.com'}}, {'name': 'Sanofi', 'symbol': 'SNY', 'has_intraday': False, 'has_eod': True, 'country': None, 'stock_exchange': {'name': 'NASDAQ Stock Exchange', 'acronym': 'NASDAQ', 'mic': 'XNAS', 'country': 'USA', 'country_code': 'US', 'city': 'New York', 'website': 'www.nasdaq.com'}}, {'name': 'Thermo Fisher Scientific Inc', 'symbol': 'TMO', 'has_intraday': False, 'has_eod': True, 'country': None, 'stock_exchange': {'name': 'New York Stock Exchange', 'acronym': 'NYSE', 'mic': 'XNYS', 'country': 'USA', 'country_code': 'US', 'city': 'New York', 'website': 'www.nyse.com'}}, {'name': 'ASML Holding NV', 'symbol': 'ASML', 'has_intraday': False, 'has_eod': True, 'country': None, 'stock_exchange': {'name': 'NASDAQ Stock Exchange', 'acronym': 'NASDAQ', 'mic': 'XNAS', 'country': 'USA', 'country_code': 'US', 'city': 'New York', 'website': 'www.nasdaq.com'}}, {'name': 'Astrazeneca plc', 'symbol': 'AZN', 'has_intraday': False, 'has_eod': True, 'country': None, 'stock_exchange': {'name': 'New York Stock Exchange', 'acronym': 'NYSE', 'mic': 'XNYS', 'country': 'USA', 'country_code': 'US', 'city': 'New York', 'website': 'www.nyse.com'}}, {'name': 'Accenture plc - Class A', 'symbol': 'ACN', 'has_intraday': False, 'has_eod': True, 'country': None, 'stock_exchange': {'name': 'New York Stock Exchange', 'acronym': 'NYSE', 'mic': 'XNYS', 'country': 'USA', 'country_code': 'US', 'city': 'New York', 'website': 'www.nyse.com'}}, {'name': 'International Business Machines Corp', 'symbol': 'IBM', 'has_intraday': False, 'has_eod': True, 'country': None, 'stock_exchange': {'name': 'New York Stock Exchange', 'acronym': 'NYSE', 'mic': 'XNYS', 'country': 'USA', 'country_code': 'US', 'city': 'New York', 'website': 'www.nyse.com'}}, {'name': 'Honeywell International Inc', 'symbol': 'HON', 'has_intraday': False, 'has_eod': True, 'country': None, 'stock_exchange': {'name': 'New York Stock Exchange', 'acronym': 'NYSE', 'mic': 'XNYS', 'country': 'USA', 'country_code': 'US', 'city': 'New York', 'website': 'www.nyse.com'}}, {'name': 'UNITED TECHNOLOGIES CORP', 'symbol': 'UTX', 'has_intraday': False, 'has_eod': True, 'country': None, 'stock_exchange': {'name': 'New York Stock Exchange', 'acronym': 'NYSE', 'mic': 'XNYS', 'country': 'USA', 'country_code': 'US', 'city': 'New York', 'website': 'www.nyse.com'}}, {'name': 'TotalEnergies SE', 'symbol': 'TOT', 'has_intraday': False, 'has_eod': True, 'country': None, 'stock_exchange': {'name': 'New York Stock Exchange', 'acronym': 'NYSE', 'mic': 'XNYS', 'country': 'USA', 'country_code': 'US', 'city': 'New York', 'website': 'www.nyse.com'}}, {'name': 'Broadcom Inc', 'symbol': 'AVGO', 'has_intraday': False, 'has_eod': True, 'country': None, 'stock_exchange': {'name': 'NASDAQ Stock Exchange', 'acronym': 'NASDAQ', 'mic': 'XNAS', 'country': 'USA', 'country_code': 'US', 'city': 'New York', 'website': 'www.nasdaq.com'}}, {'name': 'Texas Instruments Inc', 'symbol': 'TXN', 'has_intraday': False, 'has_eod': True, 'country': None, 'stock_exchange': {'name': 'NASDAQ Stock Exchange', 'acronym': 'NASDAQ', 'mic': 'XNAS', 'country': 'USA', 'country_code': 'US', 'city': 'New York', 'website': 'www.nasdaq.com'}}, {'name': 'Novo Nordisk', 'symbol': 'NVO', 'has_intraday': False, 'has_eod': True, 'country': None, 'stock_exchange': {'name': 'New York Stock Exchange', 'acronym': 'NYSE', 'mic': 'XNYS', 'country': 'USA', 'country_code': 'US', 'city': 'New York', 'website': 'www.nyse.com'}}, {'name': 'Union Pacific Corp', 'symbol': 'UNP', 'has_intraday': False, 'has_eod': True, 'country': None, 'stock_exchange': {'name': 'New York Stock Exchange', 'acronym': 'NYSE', 'mic': 'XNYS', 'country': 'USA', 'country_code': 'US', 'city': 'New York', 'website': 'www.nyse.com'}}, {'name': 'Royal Bank Of Canada', 'symbol': 'RY', 'has_intraday': False, 'has_eod': True, 'country': None, 'stock_exchange': {'name': 'New York Stock Exchange', 'acronym': 'NYSE', 'mic': 'XNYS', 'country': 'USA', 'country_code': 'US', 'city': 'New York', 'website': 'www.nyse.com'}}, {'name': 'BP plc', 'symbol': 'BP', 'has_intraday': False, 'has_eod': True, 'country': None, 'stock_exchange': {'name': 'New York Stock Exchange', 'acronym': 'NYSE', 'mic': 'XNYS', 'country': 'USA', 'country_code': 'US', 'city': 'New York', 'website': 'www.nyse.com'}}, {'name': 'Lockheed Martin Corp', 'symbol': 'LMT', 'has_intraday': False, 'has_eod': True, 'country': None, 'stock_exchange': {'name': 'New York Stock Exchange', 'acronym': 'NYSE', 'mic': 'XNYS', 'country': 'USA', 'country_code': 'US', 'city': 'New York', 'website': 'www.nyse.com'}}, {'name': 'American Tower Corp', 'symbol': 'AMT', 'has_intraday': False, 'has_eod': True, 'country': None, 'stock_exchange': {'name': 'New York Stock Exchange', 'acronym': 'NYSE', 'mic': 'XNYS', 'country': 'USA', 'country_code': 'US', 'city': 'New York', 'website': 'www.nyse.com'}}, {'name': 'Linde Plc.', 'symbol': 'LIN', 'has_intraday': False, 'has_eod': True, 'country': None, 'stock_exchange': {'name': 'New York Stock Exchange', 'acronym': 'NYSE', 'mic': 'XNYS', 'country': 'USA', 'country_code': 'US', 'city': 'New York', 'website': 'www.nyse.com'}}, {'name': 'GSK Plc', 'symbol': 'GSK', 'has_intraday': False, 'has_eod': True, 'country': None, 'stock_exchange': {'name': 'New York Stock Exchange', 'acronym': 'NYSE', 'mic': 'XNYS', 'country': 'USA', 'country_code': 'US', 'city': 'New York', 'website': 'www.nyse.com'}}, {'name': 'Danaher Corp', 'symbol': 'DHR', 'has_intraday': False, 'has_eod': True, 'country': None, 'stock_exchange': {'name': 'New York Stock Exchange', 'acronym': 'NYSE', 'mic': 'XNYS', 'country': 'USA', 'country_code': 'US', 'city': 'New York', 'website': 'www.nyse.com'}}, {'name': 'Charter Communications Inc - Class A', 'symbol': 'CHTR', 'has_intraday': False, 'has_eod': True, 'country': None, 'stock_exchange': {'name': 'NASDAQ Stock Exchange', 'acronym': 'NASDAQ', 'mic': 'XNAS', 'country': 'USA', 'country_code': 'US', 'city': 'New York', 'website': 'www.nasdaq.com'}}, {'name': 'HDFC Bank Ltd', 'symbol': 'HDB', 'has_intraday': False, 'has_eod': True, 'country': None, 'stock_exchange': {'name': 'New York Stock Exchange', 'acronym': 'NYSE', 'mic': 'XNYS', 'country': 'USA', 'country_code': 'US', 'city': 'New York', 'website': 'www.nyse.com'}}, {'name': 'General Electric Company', 'symbol': 'GE', 'has_intraday': False, 'has_eod': True, 'country': None, 'stock_exchange': {'name': 'New York Stock Exchange', 'acronym': 'NYSE', 'mic': 'XNYS', 'country': 'USA', 'country_code': 'US', 'city': 'New York', 'website': 'www.nyse.com'}}, {'name': 'Starbucks Corp', 'symbol': 'SBUX', 'has_intraday': False, 'has_eod': True, 'country': None, 'stock_exchange': {'name': 'NASDAQ Stock Exchange', 'acronym': 'NASDAQ', 'mic': 'XNAS', 'country': 'USA', 'country_code': 'US', 'city': 'New York', 'website': 'www.nasdaq.com'}}, {'name': 'Anheuser-Busch InBev SA/NV', 'symbol': 'BUD', 'has_intraday': False, 'has_eod': True, 'country': None, 'stock_exchange': {'name': 'New York Stock Exchange', 'acronym': 'NYSE', 'mic': 'XNYS', 'country': 'USA', 'country_code': 'US', 'city': 'New York', 'website': 'www.nyse.com'}}, {'name': 'Gilead Sciences Inc', 'symbol': 'GILD', 'has_intraday': False, 'has_eod': True, 'country': None, 'stock_exchange': {'name': 'NASDAQ Stock Exchange', 'acronym': 'NASDAQ', 'mic': 'XNAS', 'country': 'USA', 'country_code': 'US', 'city': 'New York', 'website': 'www.nasdaq.com'}}, {'name': 'Toronto Dominion Bank', 'symbol': 'TD', 'has_intraday': False, 'has_eod': True, 'country': None, 'stock_exchange': {'name': 'New York Stock Exchange', 'acronym': 'NYSE', 'mic': 'XNYS', 'country': 'USA', 'country_code': 'US', 'city': 'New York', 'website': 'www.nyse.com'}}, {'name': 'Sinopec Shanghai Petrochemical Co. Ltd', 'symbol': 'SHI', 'has_intraday': False, 'has_eod': True, 'country': None, 'stock_exchange': {'name': 'New York Stock Exchange', 'acronym': 'NYSE', 'mic': 'XNYS', 'country': 'USA', 'country_code': 'US', 'city': 'New York', 'website': 'www.nyse.com'}}, {'name': 'Qualcomm Inc', 'symbol': 'QCOM', 'has_intraday': False, 'has_eod': True, 'country': None, 'stock_exchange': {'name': 'NASDAQ Stock Exchange', 'acronym': 'NASDAQ', 'mic': 'XNAS', 'country': 'USA', 'country_code': 'US', 'city': 'New York', 'website': 'www.nasdaq.com'}}, {'name': 'American Express Company', 'symbol': 'AXP', 'has_intraday': False, 'has_eod': True, 'country': None, 'stock_exchange': {'name': 'New York Stock Exchange', 'acronym': 'NYSE', 'mic': 'XNYS', 'country': 'USA', 'country_code': 'US', 'city': 'New York', 'website': 'www.nyse.com'}}, {'name': \"ROYAL DUTCH SHELL ADR EA REP 2 CL'A' EUR0.07\", 'symbol': 'RDS.A', 'has_intraday': False, 'has_eod': False, 'country': None, 'stock_exchange': {'name': 'New York Stock Exchange', 'acronym': 'NYSE', 'mic': 'XNYS', 'country': 'USA', 'country_code': 'US', 'city': 'New York', 'website': 'www.nyse.com'}}, {'name': 'Fidelity National Information Services Inc', 'symbol': 'FIS', 'has_intraday': False, 'has_eod': True, 'country': None, 'stock_exchange': {'name': 'New York Stock Exchange', 'acronym': 'NYSE', 'mic': 'XNYS', 'country': 'USA', 'country_code': 'US', 'city': 'New York', 'website': 'www.nyse.com'}}, {'name': 'British American Tobacco Plc', 'symbol': 'BTI', 'has_intraday': False, 'has_eod': True, 'country': None, 'stock_exchange': {'name': 'New York Stock Exchange', 'acronym': 'NYSE', 'mic': 'XNYS', 'country': 'USA', 'country_code': 'US', 'city': 'New York', 'website': 'www.nyse.com'}}, {'name': '3M Company', 'symbol': 'MMM', 'has_intraday': False, 'has_eod': True, 'country': None, 'stock_exchange': {'name': 'New York Stock Exchange', 'acronym': 'NYSE', 'mic': 'XNYS', 'country': 'USA', 'country_code': 'US', 'city': 'New York', 'website': 'www.nyse.com'}}, {'name': 'Lowe`s Cos. Inc', 'symbol': 'LOW', 'has_intraday': False, 'has_eod': True, 'country': None, 'stock_exchange': {'name': 'New York Stock Exchange', 'acronym': 'NYSE', 'mic': 'XNYS', 'country': 'USA', 'country_code': 'US', 'city': 'New York', 'website': 'www.nyse.com'}}, {'name': 'Diageo plc', 'symbol': 'DEO', 'has_intraday': False, 'has_eod': True, 'country': None, 'stock_exchange': {'name': 'New York Stock Exchange', 'acronym': 'NYSE', 'mic': 'XNYS', 'country': 'USA', 'country_code': 'US', 'city': 'New York', 'website': 'www.nyse.com'}}, {'name': \"ROYAL DUTCH SHELL ADR EA REP 2 CL'B' EUR0.07\", 'symbol': 'RDS.B', 'has_intraday': False, 'has_eod': False, 'country': None, 'stock_exchange': {'name': 'New York Stock Exchange', 'acronym': 'NYSE', 'mic': 'XNYS', 'country': 'USA', 'country_code': 'US', 'city': 'New York', 'website': 'www.nyse.com'}}]}\n"
     ]
    }
   ],
   "source": [
    "url = \"https://api.marketstack.com/v1/tickers?access_key=\" + api_key\n",
    "response = requests.get(url)\n",
    "response_json = response.json()\n",
    "print(response_json)"
   ]
  },
  {
   "cell_type": "code",
   "execution_count": null,
   "metadata": {
    "extensions": {
     "jupyter_dashboards": {
      "version": 1,
      "views": {
       "grid_default": {},
       "report_default": {
        "hidden": false
       }
      }
     }
    }
   },
   "outputs": [],
   "source": []
  },
  {
   "cell_type": "code",
   "execution_count": 4,
   "metadata": {
    "extensions": {
     "jupyter_dashboards": {
      "version": 1,
      "views": {
       "grid_default": {},
       "report_default": {
        "hidden": true
       }
      }
     }
    }
   },
   "outputs": [],
   "source": [
    "companies = response_json['data']"
   ]
  },
  {
   "cell_type": "code",
   "execution_count": 33,
   "metadata": {
    "extensions": {
     "jupyter_dashboards": {
      "version": 1,
      "views": {
       "grid_default": {},
       "report_default": {
        "hidden": false
       }
      }
     }
    }
   },
   "outputs": [
    {
     "name": "stdout",
     "output_type": "stream",
     "text": [
      "                                            name symbol  has_intraday  \\\n",
      "0                          Microsoft Corporation   MSFT         False   \n",
      "1                                      Apple Inc   AAPL         False   \n",
      "2                                 Amazon.com Inc   AMZN         False   \n",
      "3                         Alphabet Inc - Class C   GOOG         False   \n",
      "4                         Alphabet Inc - Class A  GOOGL         False   \n",
      "..                                           ...    ...           ...   \n",
      "95                  British American Tobacco Plc    BTI         False   \n",
      "96                                    3M Company    MMM         False   \n",
      "97                               Lowe`s Cos. Inc    LOW         False   \n",
      "98                                    Diageo plc    DEO         False   \n",
      "99  ROYAL DUTCH SHELL ADR EA REP 2 CL'B' EUR0.07  RDS.B         False   \n",
      "\n",
      "    has_eod country      stock_exchange.name stock_exchange.acronym  \\\n",
      "0      True    None    NASDAQ Stock Exchange                 NASDAQ   \n",
      "1      True    None    NASDAQ Stock Exchange                 NASDAQ   \n",
      "2      True    None    NASDAQ Stock Exchange                 NASDAQ   \n",
      "3      True    None    NASDAQ Stock Exchange                 NASDAQ   \n",
      "4      True    None    NASDAQ Stock Exchange                 NASDAQ   \n",
      "..      ...     ...                      ...                    ...   \n",
      "95     True    None  New York Stock Exchange                   NYSE   \n",
      "96     True    None  New York Stock Exchange                   NYSE   \n",
      "97     True    None  New York Stock Exchange                   NYSE   \n",
      "98     True    None  New York Stock Exchange                   NYSE   \n",
      "99    False    None  New York Stock Exchange                   NYSE   \n",
      "\n",
      "   stock_exchange.mic stock_exchange.country stock_exchange.country_code  \\\n",
      "0                XNAS                    USA                          US   \n",
      "1                XNAS                    USA                          US   \n",
      "2                XNAS                    USA                          US   \n",
      "3                XNAS                    USA                          US   \n",
      "4                XNAS                    USA                          US   \n",
      "..                ...                    ...                         ...   \n",
      "95               XNYS                    USA                          US   \n",
      "96               XNYS                    USA                          US   \n",
      "97               XNYS                    USA                          US   \n",
      "98               XNYS                    USA                          US   \n",
      "99               XNYS                    USA                          US   \n",
      "\n",
      "   stock_exchange.city stock_exchange.website  \n",
      "0             New York         www.nasdaq.com  \n",
      "1             New York         www.nasdaq.com  \n",
      "2             New York         www.nasdaq.com  \n",
      "3             New York         www.nasdaq.com  \n",
      "4             New York         www.nasdaq.com  \n",
      "..                 ...                    ...  \n",
      "95            New York           www.nyse.com  \n",
      "96            New York           www.nyse.com  \n",
      "97            New York           www.nyse.com  \n",
      "98            New York           www.nyse.com  \n",
      "99            New York           www.nyse.com  \n",
      "\n",
      "[100 rows x 12 columns]\n"
     ]
    }
   ],
   "source": [
    "df = pd.json_normalize(companies, meta=['name'])\n",
    "print(df)"
   ]
  },
  {
   "cell_type": "code",
   "execution_count": 6,
   "metadata": {
    "extensions": {
     "jupyter_dashboards": {
      "version": 1,
      "views": {
       "grid_default": {},
       "report_default": {
        "hidden": false
       }
      }
     }
    }
   },
   "outputs": [],
   "source": [
    "url = \"https://api.marketstack.com/v1/splits?access_key=\" + api_key\n",
    "querystring = {\"symbols\":\"MSFT\"}\n",
    "response = requests.get(url, params=querystring)\n",
    "# print(response.json())"
   ]
  },
  {
   "cell_type": "code",
   "execution_count": 7,
   "metadata": {
    "extensions": {
     "jupyter_dashboards": {
      "version": 1,
      "views": {
       "grid_default": {},
       "report_default": {
        "hidden": false
       }
      }
     }
    },
    "scrolled": true
   },
   "outputs": [],
   "source": [
    "url = \"https://api.marketstack.com/v1/eod?access_key=\" + api_key\n",
    "querystring = {\"symbols\":\"MSFT\",\"date_from\":\"2023-12-01\", \"date_to\":\"2024-12-01\"}\n",
    "response = requests.get(url, params=querystring)\n",
    "# print(response.json())"
   ]
  },
  {
   "cell_type": "code",
   "execution_count": 8,
   "metadata": {
    "extensions": {
     "jupyter_dashboards": {
      "version": 1,
      "views": {
       "grid_default": {},
       "report_default": {
        "hidden": false
       }
      }
     }
    }
   },
   "outputs": [],
   "source": [
    "historical_data = response.json()['data']\n",
    "# historical_data"
   ]
  },
  {
   "cell_type": "code",
   "execution_count": 34,
   "metadata": {
    "extensions": {
     "jupyter_dashboards": {
      "version": 1,
      "views": {
       "grid_default": {},
       "report_default": {
        "hidden": false
       }
      }
     }
    }
   },
   "outputs": [
    {
     "data": {
      "text/html": [
       "<div>\n",
       "<style scoped>\n",
       "    .dataframe tbody tr th:only-of-type {\n",
       "        vertical-align: middle;\n",
       "    }\n",
       "\n",
       "    .dataframe tbody tr th {\n",
       "        vertical-align: top;\n",
       "    }\n",
       "\n",
       "    .dataframe thead th {\n",
       "        text-align: right;\n",
       "    }\n",
       "</style>\n",
       "<table border=\"1\" class=\"dataframe\">\n",
       "  <thead>\n",
       "    <tr style=\"text-align: right;\">\n",
       "      <th></th>\n",
       "      <th>open</th>\n",
       "      <th>high</th>\n",
       "      <th>low</th>\n",
       "      <th>close</th>\n",
       "      <th>volume</th>\n",
       "      <th>adj_high</th>\n",
       "      <th>adj_low</th>\n",
       "      <th>adj_close</th>\n",
       "      <th>adj_open</th>\n",
       "      <th>adj_volume</th>\n",
       "      <th>split_factor</th>\n",
       "      <th>dividend</th>\n",
       "      <th>symbol</th>\n",
       "      <th>exchange</th>\n",
       "      <th>date</th>\n",
       "    </tr>\n",
       "  </thead>\n",
       "  <tbody>\n",
       "    <tr>\n",
       "      <th>0</th>\n",
       "      <td>420.090</td>\n",
       "      <td>424.8800</td>\n",
       "      <td>417.80</td>\n",
       "      <td>423.46</td>\n",
       "      <td>16271900.0</td>\n",
       "      <td>424.8800</td>\n",
       "      <td>417.800</td>\n",
       "      <td>423.46</td>\n",
       "      <td>420.090</td>\n",
       "      <td>16271921.0</td>\n",
       "      <td>1.0</td>\n",
       "      <td>0.0</td>\n",
       "      <td>MSFT</td>\n",
       "      <td>XNAS</td>\n",
       "      <td>2024-11-29T00:00:00+0000</td>\n",
       "    </tr>\n",
       "    <tr>\n",
       "      <th>1</th>\n",
       "      <td>425.105</td>\n",
       "      <td>427.2299</td>\n",
       "      <td>422.02</td>\n",
       "      <td>422.99</td>\n",
       "      <td>18332444.0</td>\n",
       "      <td>427.2299</td>\n",
       "      <td>422.020</td>\n",
       "      <td>422.99</td>\n",
       "      <td>425.105</td>\n",
       "      <td>18332444.0</td>\n",
       "      <td>1.0</td>\n",
       "      <td>0.0</td>\n",
       "      <td>MSFT</td>\n",
       "      <td>XNAS</td>\n",
       "      <td>2024-11-27T00:00:00+0000</td>\n",
       "    </tr>\n",
       "    <tr>\n",
       "      <th>2</th>\n",
       "      <td>419.590</td>\n",
       "      <td>429.0400</td>\n",
       "      <td>418.85</td>\n",
       "      <td>427.99</td>\n",
       "      <td>23439600.0</td>\n",
       "      <td>429.0414</td>\n",
       "      <td>418.850</td>\n",
       "      <td>427.99</td>\n",
       "      <td>419.585</td>\n",
       "      <td>23458889.0</td>\n",
       "      <td>1.0</td>\n",
       "      <td>0.0</td>\n",
       "      <td>MSFT</td>\n",
       "      <td>XNAS</td>\n",
       "      <td>2024-11-26T00:00:00+0000</td>\n",
       "    </tr>\n",
       "    <tr>\n",
       "      <th>3</th>\n",
       "      <td>418.380</td>\n",
       "      <td>421.0800</td>\n",
       "      <td>414.85</td>\n",
       "      <td>418.79</td>\n",
       "      <td>27651300.0</td>\n",
       "      <td>421.0800</td>\n",
       "      <td>414.850</td>\n",
       "      <td>418.79</td>\n",
       "      <td>418.380</td>\n",
       "      <td>27691090.0</td>\n",
       "      <td>1.0</td>\n",
       "      <td>0.0</td>\n",
       "      <td>MSFT</td>\n",
       "      <td>XNAS</td>\n",
       "      <td>2024-11-25T00:00:00+0000</td>\n",
       "    </tr>\n",
       "    <tr>\n",
       "      <th>4</th>\n",
       "      <td>411.370</td>\n",
       "      <td>417.4000</td>\n",
       "      <td>411.06</td>\n",
       "      <td>417.00</td>\n",
       "      <td>24802100.0</td>\n",
       "      <td>417.4000</td>\n",
       "      <td>411.060</td>\n",
       "      <td>417.00</td>\n",
       "      <td>411.365</td>\n",
       "      <td>24814626.0</td>\n",
       "      <td>1.0</td>\n",
       "      <td>0.0</td>\n",
       "      <td>MSFT</td>\n",
       "      <td>XNAS</td>\n",
       "      <td>2024-11-22T00:00:00+0000</td>\n",
       "    </tr>\n",
       "    <tr>\n",
       "      <th>...</th>\n",
       "      <td>...</td>\n",
       "      <td>...</td>\n",
       "      <td>...</td>\n",
       "      <td>...</td>\n",
       "      <td>...</td>\n",
       "      <td>...</td>\n",
       "      <td>...</td>\n",
       "      <td>...</td>\n",
       "      <td>...</td>\n",
       "      <td>...</td>\n",
       "      <td>...</td>\n",
       "      <td>...</td>\n",
       "      <td>...</td>\n",
       "      <td>...</td>\n",
       "      <td>...</td>\n",
       "    </tr>\n",
       "    <tr>\n",
       "      <th>95</th>\n",
       "      <td>442.430</td>\n",
       "      <td>444.8500</td>\n",
       "      <td>439.18</td>\n",
       "      <td>443.52</td>\n",
       "      <td>21741478.0</td>\n",
       "      <td>444.8500</td>\n",
       "      <td>439.180</td>\n",
       "      <td>443.52</td>\n",
       "      <td>442.590</td>\n",
       "      <td>21754021.0</td>\n",
       "      <td>1.0</td>\n",
       "      <td>0.0</td>\n",
       "      <td>MSFT</td>\n",
       "      <td>XNAS</td>\n",
       "      <td>2024-07-17T00:00:00+0000</td>\n",
       "    </tr>\n",
       "    <tr>\n",
       "      <th>96</th>\n",
       "      <td>454.220</td>\n",
       "      <td>454.3000</td>\n",
       "      <td>446.66</td>\n",
       "      <td>449.52</td>\n",
       "      <td>17038389.0</td>\n",
       "      <td>454.3000</td>\n",
       "      <td>446.660</td>\n",
       "      <td>449.52</td>\n",
       "      <td>454.220</td>\n",
       "      <td>17175679.0</td>\n",
       "      <td>1.0</td>\n",
       "      <td>0.0</td>\n",
       "      <td>MSFT</td>\n",
       "      <td>XNAS</td>\n",
       "      <td>2024-07-16T00:00:00+0000</td>\n",
       "    </tr>\n",
       "    <tr>\n",
       "      <th>97</th>\n",
       "      <td>453.420</td>\n",
       "      <td>457.2600</td>\n",
       "      <td>451.43</td>\n",
       "      <td>453.96</td>\n",
       "      <td>13621481.0</td>\n",
       "      <td>457.2600</td>\n",
       "      <td>451.430</td>\n",
       "      <td>453.96</td>\n",
       "      <td>453.300</td>\n",
       "      <td>14429447.0</td>\n",
       "      <td>1.0</td>\n",
       "      <td>0.0</td>\n",
       "      <td>MSFT</td>\n",
       "      <td>XNAS</td>\n",
       "      <td>2024-07-15T00:00:00+0000</td>\n",
       "    </tr>\n",
       "    <tr>\n",
       "      <th>98</th>\n",
       "      <td>454.330</td>\n",
       "      <td>456.3600</td>\n",
       "      <td>450.65</td>\n",
       "      <td>453.55</td>\n",
       "      <td>16311300.0</td>\n",
       "      <td>456.3600</td>\n",
       "      <td>450.645</td>\n",
       "      <td>453.55</td>\n",
       "      <td>454.325</td>\n",
       "      <td>16324274.0</td>\n",
       "      <td>1.0</td>\n",
       "      <td>0.0</td>\n",
       "      <td>MSFT</td>\n",
       "      <td>XNAS</td>\n",
       "      <td>2024-07-12T00:00:00+0000</td>\n",
       "    </tr>\n",
       "    <tr>\n",
       "      <th>99</th>\n",
       "      <td>462.730</td>\n",
       "      <td>464.7800</td>\n",
       "      <td>451.55</td>\n",
       "      <td>454.70</td>\n",
       "      <td>22835138.0</td>\n",
       "      <td>464.7800</td>\n",
       "      <td>451.550</td>\n",
       "      <td>454.70</td>\n",
       "      <td>462.980</td>\n",
       "      <td>23111175.0</td>\n",
       "      <td>1.0</td>\n",
       "      <td>0.0</td>\n",
       "      <td>MSFT</td>\n",
       "      <td>XNAS</td>\n",
       "      <td>2024-07-11T00:00:00+0000</td>\n",
       "    </tr>\n",
       "  </tbody>\n",
       "</table>\n",
       "<p>100 rows × 15 columns</p>\n",
       "</div>"
      ],
      "text/plain": [
       "       open      high     low   close      volume  adj_high  adj_low  \\\n",
       "0   420.090  424.8800  417.80  423.46  16271900.0  424.8800  417.800   \n",
       "1   425.105  427.2299  422.02  422.99  18332444.0  427.2299  422.020   \n",
       "2   419.590  429.0400  418.85  427.99  23439600.0  429.0414  418.850   \n",
       "3   418.380  421.0800  414.85  418.79  27651300.0  421.0800  414.850   \n",
       "4   411.370  417.4000  411.06  417.00  24802100.0  417.4000  411.060   \n",
       "..      ...       ...     ...     ...         ...       ...      ...   \n",
       "95  442.430  444.8500  439.18  443.52  21741478.0  444.8500  439.180   \n",
       "96  454.220  454.3000  446.66  449.52  17038389.0  454.3000  446.660   \n",
       "97  453.420  457.2600  451.43  453.96  13621481.0  457.2600  451.430   \n",
       "98  454.330  456.3600  450.65  453.55  16311300.0  456.3600  450.645   \n",
       "99  462.730  464.7800  451.55  454.70  22835138.0  464.7800  451.550   \n",
       "\n",
       "    adj_close  adj_open  adj_volume  split_factor  dividend symbol exchange  \\\n",
       "0      423.46   420.090  16271921.0           1.0       0.0   MSFT     XNAS   \n",
       "1      422.99   425.105  18332444.0           1.0       0.0   MSFT     XNAS   \n",
       "2      427.99   419.585  23458889.0           1.0       0.0   MSFT     XNAS   \n",
       "3      418.79   418.380  27691090.0           1.0       0.0   MSFT     XNAS   \n",
       "4      417.00   411.365  24814626.0           1.0       0.0   MSFT     XNAS   \n",
       "..        ...       ...         ...           ...       ...    ...      ...   \n",
       "95     443.52   442.590  21754021.0           1.0       0.0   MSFT     XNAS   \n",
       "96     449.52   454.220  17175679.0           1.0       0.0   MSFT     XNAS   \n",
       "97     453.96   453.300  14429447.0           1.0       0.0   MSFT     XNAS   \n",
       "98     453.55   454.325  16324274.0           1.0       0.0   MSFT     XNAS   \n",
       "99     454.70   462.980  23111175.0           1.0       0.0   MSFT     XNAS   \n",
       "\n",
       "                        date  \n",
       "0   2024-11-29T00:00:00+0000  \n",
       "1   2024-11-27T00:00:00+0000  \n",
       "2   2024-11-26T00:00:00+0000  \n",
       "3   2024-11-25T00:00:00+0000  \n",
       "4   2024-11-22T00:00:00+0000  \n",
       "..                       ...  \n",
       "95  2024-07-17T00:00:00+0000  \n",
       "96  2024-07-16T00:00:00+0000  \n",
       "97  2024-07-15T00:00:00+0000  \n",
       "98  2024-07-12T00:00:00+0000  \n",
       "99  2024-07-11T00:00:00+0000  \n",
       "\n",
       "[100 rows x 15 columns]"
      ]
     },
     "execution_count": 34,
     "metadata": {},
     "output_type": "execute_result"
    }
   ],
   "source": [
    "df = pd.json_normalize(historical_data, meta=['date'])\n",
    "df"
   ]
  },
  {
   "cell_type": "code",
   "execution_count": 36,
   "metadata": {},
   "outputs": [
    {
     "data": {
      "text/html": [
       "<div>\n",
       "<style scoped>\n",
       "    .dataframe tbody tr th:only-of-type {\n",
       "        vertical-align: middle;\n",
       "    }\n",
       "\n",
       "    .dataframe tbody tr th {\n",
       "        vertical-align: top;\n",
       "    }\n",
       "\n",
       "    .dataframe thead th {\n",
       "        text-align: right;\n",
       "    }\n",
       "</style>\n",
       "<table border=\"1\" class=\"dataframe\">\n",
       "  <thead>\n",
       "    <tr style=\"text-align: right;\">\n",
       "      <th></th>\n",
       "      <th>open</th>\n",
       "      <th>high</th>\n",
       "      <th>low</th>\n",
       "      <th>close</th>\n",
       "      <th>volume</th>\n",
       "      <th>adj_high</th>\n",
       "      <th>adj_low</th>\n",
       "      <th>adj_close</th>\n",
       "      <th>adj_open</th>\n",
       "      <th>adj_volume</th>\n",
       "      <th>split_factor</th>\n",
       "      <th>dividend</th>\n",
       "      <th>symbol</th>\n",
       "      <th>exchange</th>\n",
       "      <th>date</th>\n",
       "    </tr>\n",
       "  </thead>\n",
       "  <tbody>\n",
       "    <tr>\n",
       "      <th>0</th>\n",
       "      <td>420.090</td>\n",
       "      <td>424.8800</td>\n",
       "      <td>417.80</td>\n",
       "      <td>423.46</td>\n",
       "      <td>16271900.0</td>\n",
       "      <td>424.8800</td>\n",
       "      <td>417.800</td>\n",
       "      <td>423.46</td>\n",
       "      <td>420.090</td>\n",
       "      <td>16271921.0</td>\n",
       "      <td>1.0</td>\n",
       "      <td>0.0</td>\n",
       "      <td>MSFT</td>\n",
       "      <td>XNAS</td>\n",
       "      <td>2024-11-29 00:00:00+00:00</td>\n",
       "    </tr>\n",
       "    <tr>\n",
       "      <th>1</th>\n",
       "      <td>425.105</td>\n",
       "      <td>427.2299</td>\n",
       "      <td>422.02</td>\n",
       "      <td>422.99</td>\n",
       "      <td>18332444.0</td>\n",
       "      <td>427.2299</td>\n",
       "      <td>422.020</td>\n",
       "      <td>422.99</td>\n",
       "      <td>425.105</td>\n",
       "      <td>18332444.0</td>\n",
       "      <td>1.0</td>\n",
       "      <td>0.0</td>\n",
       "      <td>MSFT</td>\n",
       "      <td>XNAS</td>\n",
       "      <td>2024-11-27 00:00:00+00:00</td>\n",
       "    </tr>\n",
       "    <tr>\n",
       "      <th>2</th>\n",
       "      <td>419.590</td>\n",
       "      <td>429.0400</td>\n",
       "      <td>418.85</td>\n",
       "      <td>427.99</td>\n",
       "      <td>23439600.0</td>\n",
       "      <td>429.0414</td>\n",
       "      <td>418.850</td>\n",
       "      <td>427.99</td>\n",
       "      <td>419.585</td>\n",
       "      <td>23458889.0</td>\n",
       "      <td>1.0</td>\n",
       "      <td>0.0</td>\n",
       "      <td>MSFT</td>\n",
       "      <td>XNAS</td>\n",
       "      <td>2024-11-26 00:00:00+00:00</td>\n",
       "    </tr>\n",
       "    <tr>\n",
       "      <th>3</th>\n",
       "      <td>418.380</td>\n",
       "      <td>421.0800</td>\n",
       "      <td>414.85</td>\n",
       "      <td>418.79</td>\n",
       "      <td>27651300.0</td>\n",
       "      <td>421.0800</td>\n",
       "      <td>414.850</td>\n",
       "      <td>418.79</td>\n",
       "      <td>418.380</td>\n",
       "      <td>27691090.0</td>\n",
       "      <td>1.0</td>\n",
       "      <td>0.0</td>\n",
       "      <td>MSFT</td>\n",
       "      <td>XNAS</td>\n",
       "      <td>2024-11-25 00:00:00+00:00</td>\n",
       "    </tr>\n",
       "    <tr>\n",
       "      <th>4</th>\n",
       "      <td>411.370</td>\n",
       "      <td>417.4000</td>\n",
       "      <td>411.06</td>\n",
       "      <td>417.00</td>\n",
       "      <td>24802100.0</td>\n",
       "      <td>417.4000</td>\n",
       "      <td>411.060</td>\n",
       "      <td>417.00</td>\n",
       "      <td>411.365</td>\n",
       "      <td>24814626.0</td>\n",
       "      <td>1.0</td>\n",
       "      <td>0.0</td>\n",
       "      <td>MSFT</td>\n",
       "      <td>XNAS</td>\n",
       "      <td>2024-11-22 00:00:00+00:00</td>\n",
       "    </tr>\n",
       "    <tr>\n",
       "      <th>...</th>\n",
       "      <td>...</td>\n",
       "      <td>...</td>\n",
       "      <td>...</td>\n",
       "      <td>...</td>\n",
       "      <td>...</td>\n",
       "      <td>...</td>\n",
       "      <td>...</td>\n",
       "      <td>...</td>\n",
       "      <td>...</td>\n",
       "      <td>...</td>\n",
       "      <td>...</td>\n",
       "      <td>...</td>\n",
       "      <td>...</td>\n",
       "      <td>...</td>\n",
       "      <td>...</td>\n",
       "    </tr>\n",
       "    <tr>\n",
       "      <th>95</th>\n",
       "      <td>442.430</td>\n",
       "      <td>444.8500</td>\n",
       "      <td>439.18</td>\n",
       "      <td>443.52</td>\n",
       "      <td>21741478.0</td>\n",
       "      <td>444.8500</td>\n",
       "      <td>439.180</td>\n",
       "      <td>443.52</td>\n",
       "      <td>442.590</td>\n",
       "      <td>21754021.0</td>\n",
       "      <td>1.0</td>\n",
       "      <td>0.0</td>\n",
       "      <td>MSFT</td>\n",
       "      <td>XNAS</td>\n",
       "      <td>2024-07-17 00:00:00+00:00</td>\n",
       "    </tr>\n",
       "    <tr>\n",
       "      <th>96</th>\n",
       "      <td>454.220</td>\n",
       "      <td>454.3000</td>\n",
       "      <td>446.66</td>\n",
       "      <td>449.52</td>\n",
       "      <td>17038389.0</td>\n",
       "      <td>454.3000</td>\n",
       "      <td>446.660</td>\n",
       "      <td>449.52</td>\n",
       "      <td>454.220</td>\n",
       "      <td>17175679.0</td>\n",
       "      <td>1.0</td>\n",
       "      <td>0.0</td>\n",
       "      <td>MSFT</td>\n",
       "      <td>XNAS</td>\n",
       "      <td>2024-07-16 00:00:00+00:00</td>\n",
       "    </tr>\n",
       "    <tr>\n",
       "      <th>97</th>\n",
       "      <td>453.420</td>\n",
       "      <td>457.2600</td>\n",
       "      <td>451.43</td>\n",
       "      <td>453.96</td>\n",
       "      <td>13621481.0</td>\n",
       "      <td>457.2600</td>\n",
       "      <td>451.430</td>\n",
       "      <td>453.96</td>\n",
       "      <td>453.300</td>\n",
       "      <td>14429447.0</td>\n",
       "      <td>1.0</td>\n",
       "      <td>0.0</td>\n",
       "      <td>MSFT</td>\n",
       "      <td>XNAS</td>\n",
       "      <td>2024-07-15 00:00:00+00:00</td>\n",
       "    </tr>\n",
       "    <tr>\n",
       "      <th>98</th>\n",
       "      <td>454.330</td>\n",
       "      <td>456.3600</td>\n",
       "      <td>450.65</td>\n",
       "      <td>453.55</td>\n",
       "      <td>16311300.0</td>\n",
       "      <td>456.3600</td>\n",
       "      <td>450.645</td>\n",
       "      <td>453.55</td>\n",
       "      <td>454.325</td>\n",
       "      <td>16324274.0</td>\n",
       "      <td>1.0</td>\n",
       "      <td>0.0</td>\n",
       "      <td>MSFT</td>\n",
       "      <td>XNAS</td>\n",
       "      <td>2024-07-12 00:00:00+00:00</td>\n",
       "    </tr>\n",
       "    <tr>\n",
       "      <th>99</th>\n",
       "      <td>462.730</td>\n",
       "      <td>464.7800</td>\n",
       "      <td>451.55</td>\n",
       "      <td>454.70</td>\n",
       "      <td>22835138.0</td>\n",
       "      <td>464.7800</td>\n",
       "      <td>451.550</td>\n",
       "      <td>454.70</td>\n",
       "      <td>462.980</td>\n",
       "      <td>23111175.0</td>\n",
       "      <td>1.0</td>\n",
       "      <td>0.0</td>\n",
       "      <td>MSFT</td>\n",
       "      <td>XNAS</td>\n",
       "      <td>2024-07-11 00:00:00+00:00</td>\n",
       "    </tr>\n",
       "  </tbody>\n",
       "</table>\n",
       "<p>100 rows × 15 columns</p>\n",
       "</div>"
      ],
      "text/plain": [
       "       open      high     low   close      volume  adj_high  adj_low  \\\n",
       "0   420.090  424.8800  417.80  423.46  16271900.0  424.8800  417.800   \n",
       "1   425.105  427.2299  422.02  422.99  18332444.0  427.2299  422.020   \n",
       "2   419.590  429.0400  418.85  427.99  23439600.0  429.0414  418.850   \n",
       "3   418.380  421.0800  414.85  418.79  27651300.0  421.0800  414.850   \n",
       "4   411.370  417.4000  411.06  417.00  24802100.0  417.4000  411.060   \n",
       "..      ...       ...     ...     ...         ...       ...      ...   \n",
       "95  442.430  444.8500  439.18  443.52  21741478.0  444.8500  439.180   \n",
       "96  454.220  454.3000  446.66  449.52  17038389.0  454.3000  446.660   \n",
       "97  453.420  457.2600  451.43  453.96  13621481.0  457.2600  451.430   \n",
       "98  454.330  456.3600  450.65  453.55  16311300.0  456.3600  450.645   \n",
       "99  462.730  464.7800  451.55  454.70  22835138.0  464.7800  451.550   \n",
       "\n",
       "    adj_close  adj_open  adj_volume  split_factor  dividend symbol exchange  \\\n",
       "0      423.46   420.090  16271921.0           1.0       0.0   MSFT     XNAS   \n",
       "1      422.99   425.105  18332444.0           1.0       0.0   MSFT     XNAS   \n",
       "2      427.99   419.585  23458889.0           1.0       0.0   MSFT     XNAS   \n",
       "3      418.79   418.380  27691090.0           1.0       0.0   MSFT     XNAS   \n",
       "4      417.00   411.365  24814626.0           1.0       0.0   MSFT     XNAS   \n",
       "..        ...       ...         ...           ...       ...    ...      ...   \n",
       "95     443.52   442.590  21754021.0           1.0       0.0   MSFT     XNAS   \n",
       "96     449.52   454.220  17175679.0           1.0       0.0   MSFT     XNAS   \n",
       "97     453.96   453.300  14429447.0           1.0       0.0   MSFT     XNAS   \n",
       "98     453.55   454.325  16324274.0           1.0       0.0   MSFT     XNAS   \n",
       "99     454.70   462.980  23111175.0           1.0       0.0   MSFT     XNAS   \n",
       "\n",
       "                        date  \n",
       "0  2024-11-29 00:00:00+00:00  \n",
       "1  2024-11-27 00:00:00+00:00  \n",
       "2  2024-11-26 00:00:00+00:00  \n",
       "3  2024-11-25 00:00:00+00:00  \n",
       "4  2024-11-22 00:00:00+00:00  \n",
       "..                       ...  \n",
       "95 2024-07-17 00:00:00+00:00  \n",
       "96 2024-07-16 00:00:00+00:00  \n",
       "97 2024-07-15 00:00:00+00:00  \n",
       "98 2024-07-12 00:00:00+00:00  \n",
       "99 2024-07-11 00:00:00+00:00  \n",
       "\n",
       "[100 rows x 15 columns]"
      ]
     },
     "execution_count": 36,
     "metadata": {},
     "output_type": "execute_result"
    }
   ],
   "source": [
    "df['date'] = pd.to_datetime(df['date'])\n",
    "df"
   ]
  },
  {
   "cell_type": "code",
   "execution_count": 38,
   "metadata": {},
   "outputs": [
    {
     "data": {
      "text/html": [
       "<div>\n",
       "<style scoped>\n",
       "    .dataframe tbody tr th:only-of-type {\n",
       "        vertical-align: middle;\n",
       "    }\n",
       "\n",
       "    .dataframe tbody tr th {\n",
       "        vertical-align: top;\n",
       "    }\n",
       "\n",
       "    .dataframe thead th {\n",
       "        text-align: right;\n",
       "    }\n",
       "</style>\n",
       "<table border=\"1\" class=\"dataframe\">\n",
       "  <thead>\n",
       "    <tr style=\"text-align: right;\">\n",
       "      <th></th>\n",
       "      <th>open</th>\n",
       "      <th>high</th>\n",
       "      <th>low</th>\n",
       "      <th>close</th>\n",
       "      <th>volume</th>\n",
       "      <th>adj_high</th>\n",
       "      <th>adj_low</th>\n",
       "      <th>adj_close</th>\n",
       "      <th>adj_open</th>\n",
       "      <th>adj_volume</th>\n",
       "      <th>split_factor</th>\n",
       "      <th>dividend</th>\n",
       "    </tr>\n",
       "    <tr>\n",
       "      <th>date</th>\n",
       "      <th></th>\n",
       "      <th></th>\n",
       "      <th></th>\n",
       "      <th></th>\n",
       "      <th></th>\n",
       "      <th></th>\n",
       "      <th></th>\n",
       "      <th></th>\n",
       "      <th></th>\n",
       "      <th></th>\n",
       "      <th></th>\n",
       "      <th></th>\n",
       "    </tr>\n",
       "  </thead>\n",
       "  <tbody>\n",
       "    <tr>\n",
       "      <th>2024-07-31 00:00:00+00:00</th>\n",
       "      <td>439.834000</td>\n",
       "      <td>442.634000</td>\n",
       "      <td>433.634667</td>\n",
       "      <td>437.406000</td>\n",
       "      <td>2.211659e+07</td>\n",
       "      <td>442.633333</td>\n",
       "      <td>433.634447</td>\n",
       "      <td>437.406000</td>\n",
       "      <td>439.852333</td>\n",
       "      <td>2.229892e+07</td>\n",
       "      <td>1.0</td>\n",
       "      <td>0.000000</td>\n",
       "    </tr>\n",
       "    <tr>\n",
       "      <th>2024-08-31 00:00:00+00:00</th>\n",
       "      <td>413.220909</td>\n",
       "      <td>416.511364</td>\n",
       "      <td>409.116591</td>\n",
       "      <td>412.530909</td>\n",
       "      <td>2.036108e+07</td>\n",
       "      <td>416.512718</td>\n",
       "      <td>409.116009</td>\n",
       "      <td>412.496818</td>\n",
       "      <td>413.187273</td>\n",
       "      <td>2.054177e+07</td>\n",
       "      <td>1.0</td>\n",
       "      <td>0.034091</td>\n",
       "    </tr>\n",
       "    <tr>\n",
       "      <th>2024-09-30 00:00:00+00:00</th>\n",
       "      <td>424.858750</td>\n",
       "      <td>427.784500</td>\n",
       "      <td>420.601000</td>\n",
       "      <td>424.233000</td>\n",
       "      <td>1.876474e+07</td>\n",
       "      <td>427.784410</td>\n",
       "      <td>420.600945</td>\n",
       "      <td>424.233000</td>\n",
       "      <td>424.838750</td>\n",
       "      <td>1.883597e+07</td>\n",
       "      <td>1.0</td>\n",
       "      <td>0.000000</td>\n",
       "    </tr>\n",
       "    <tr>\n",
       "      <th>2024-10-31 00:00:00+00:00</th>\n",
       "      <td>421.167826</td>\n",
       "      <td>423.564561</td>\n",
       "      <td>417.029257</td>\n",
       "      <td>419.754783</td>\n",
       "      <td>1.884384e+07</td>\n",
       "      <td>423.571630</td>\n",
       "      <td>417.023709</td>\n",
       "      <td>419.754783</td>\n",
       "      <td>421.114783</td>\n",
       "      <td>1.916377e+07</td>\n",
       "      <td>1.0</td>\n",
       "      <td>0.000000</td>\n",
       "    </tr>\n",
       "    <tr>\n",
       "      <th>2024-11-30 00:00:00+00:00</th>\n",
       "      <td>417.609000</td>\n",
       "      <td>421.859180</td>\n",
       "      <td>414.374250</td>\n",
       "      <td>418.935500</td>\n",
       "      <td>2.200465e+07</td>\n",
       "      <td>421.860250</td>\n",
       "      <td>414.374000</td>\n",
       "      <td>418.894000</td>\n",
       "      <td>417.615000</td>\n",
       "      <td>2.211607e+07</td>\n",
       "      <td>1.0</td>\n",
       "      <td>0.041500</td>\n",
       "    </tr>\n",
       "  </tbody>\n",
       "</table>\n",
       "</div>"
      ],
      "text/plain": [
       "                                 open        high         low       close  \\\n",
       "date                                                                        \n",
       "2024-07-31 00:00:00+00:00  439.834000  442.634000  433.634667  437.406000   \n",
       "2024-08-31 00:00:00+00:00  413.220909  416.511364  409.116591  412.530909   \n",
       "2024-09-30 00:00:00+00:00  424.858750  427.784500  420.601000  424.233000   \n",
       "2024-10-31 00:00:00+00:00  421.167826  423.564561  417.029257  419.754783   \n",
       "2024-11-30 00:00:00+00:00  417.609000  421.859180  414.374250  418.935500   \n",
       "\n",
       "                                 volume    adj_high     adj_low   adj_close  \\\n",
       "date                                                                          \n",
       "2024-07-31 00:00:00+00:00  2.211659e+07  442.633333  433.634447  437.406000   \n",
       "2024-08-31 00:00:00+00:00  2.036108e+07  416.512718  409.116009  412.496818   \n",
       "2024-09-30 00:00:00+00:00  1.876474e+07  427.784410  420.600945  424.233000   \n",
       "2024-10-31 00:00:00+00:00  1.884384e+07  423.571630  417.023709  419.754783   \n",
       "2024-11-30 00:00:00+00:00  2.200465e+07  421.860250  414.374000  418.894000   \n",
       "\n",
       "                             adj_open    adj_volume  split_factor  dividend  \n",
       "date                                                                         \n",
       "2024-07-31 00:00:00+00:00  439.852333  2.229892e+07           1.0  0.000000  \n",
       "2024-08-31 00:00:00+00:00  413.187273  2.054177e+07           1.0  0.034091  \n",
       "2024-09-30 00:00:00+00:00  424.838750  1.883597e+07           1.0  0.000000  \n",
       "2024-10-31 00:00:00+00:00  421.114783  1.916377e+07           1.0  0.000000  \n",
       "2024-11-30 00:00:00+00:00  417.615000  2.211607e+07           1.0  0.041500  "
      ]
     },
     "execution_count": 38,
     "metadata": {},
     "output_type": "execute_result"
    }
   ],
   "source": [
    "monthly = df.groupby(pd.Grouper(key='date', freq='M')).mean() \n",
    "monthly"
   ]
  },
  {
   "cell_type": "code",
   "execution_count": 39,
   "metadata": {},
   "outputs": [
    {
     "data": {
      "text/html": [
       "<div>\n",
       "<style scoped>\n",
       "    .dataframe tbody tr th:only-of-type {\n",
       "        vertical-align: middle;\n",
       "    }\n",
       "\n",
       "    .dataframe tbody tr th {\n",
       "        vertical-align: top;\n",
       "    }\n",
       "\n",
       "    .dataframe thead th {\n",
       "        text-align: right;\n",
       "    }\n",
       "</style>\n",
       "<table border=\"1\" class=\"dataframe\">\n",
       "  <thead>\n",
       "    <tr style=\"text-align: right;\">\n",
       "      <th></th>\n",
       "      <th>open</th>\n",
       "      <th>high</th>\n",
       "      <th>low</th>\n",
       "      <th>close</th>\n",
       "      <th>volume</th>\n",
       "      <th>adj_high</th>\n",
       "      <th>adj_low</th>\n",
       "      <th>adj_close</th>\n",
       "      <th>adj_open</th>\n",
       "      <th>adj_volume</th>\n",
       "      <th>split_factor</th>\n",
       "      <th>dividend</th>\n",
       "    </tr>\n",
       "    <tr>\n",
       "      <th>date</th>\n",
       "      <th></th>\n",
       "      <th></th>\n",
       "      <th></th>\n",
       "      <th></th>\n",
       "      <th></th>\n",
       "      <th></th>\n",
       "      <th></th>\n",
       "      <th></th>\n",
       "      <th></th>\n",
       "      <th></th>\n",
       "      <th></th>\n",
       "      <th></th>\n",
       "    </tr>\n",
       "  </thead>\n",
       "  <tbody>\n",
       "    <tr>\n",
       "      <th>2024-07-14 00:00:00+00:00</th>\n",
       "      <td>458.53000</td>\n",
       "      <td>460.570000</td>\n",
       "      <td>451.10000</td>\n",
       "      <td>454.1250</td>\n",
       "      <td>19573219.0</td>\n",
       "      <td>460.570000</td>\n",
       "      <td>451.09750</td>\n",
       "      <td>454.1250</td>\n",
       "      <td>458.6525</td>\n",
       "      <td>19717724.50</td>\n",
       "      <td>1.0</td>\n",
       "      <td>0.000</td>\n",
       "    </tr>\n",
       "    <tr>\n",
       "      <th>2024-07-21 00:00:00+00:00</th>\n",
       "      <td>445.50200</td>\n",
       "      <td>448.440000</td>\n",
       "      <td>440.73400</td>\n",
       "      <td>444.8960</td>\n",
       "      <td>18797552.4</td>\n",
       "      <td>448.440000</td>\n",
       "      <td>440.73400</td>\n",
       "      <td>444.8960</td>\n",
       "      <td>445.5100</td>\n",
       "      <td>19018877.20</td>\n",
       "      <td>1.0</td>\n",
       "      <td>0.000</td>\n",
       "    </tr>\n",
       "    <tr>\n",
       "      <th>2024-07-28 00:00:00+00:00</th>\n",
       "      <td>434.62800</td>\n",
       "      <td>438.638000</td>\n",
       "      <td>428.87600</td>\n",
       "      <td>432.0720</td>\n",
       "      <td>21818540.0</td>\n",
       "      <td>438.637000</td>\n",
       "      <td>428.87550</td>\n",
       "      <td>432.0720</td>\n",
       "      <td>434.6270</td>\n",
       "      <td>21849847.80</td>\n",
       "      <td>1.0</td>\n",
       "      <td>0.000</td>\n",
       "    </tr>\n",
       "    <tr>\n",
       "      <th>2024-08-04 00:00:00+00:00</th>\n",
       "      <td>422.61600</td>\n",
       "      <td>425.088000</td>\n",
       "      <td>414.34000</td>\n",
       "      <td>418.7200</td>\n",
       "      <td>29830160.0</td>\n",
       "      <td>425.087000</td>\n",
       "      <td>414.34086</td>\n",
       "      <td>418.7200</td>\n",
       "      <td>422.6140</td>\n",
       "      <td>30087816.00</td>\n",
       "      <td>1.0</td>\n",
       "      <td>0.000</td>\n",
       "    </tr>\n",
       "    <tr>\n",
       "      <th>2024-08-11 00:00:00+00:00</th>\n",
       "      <td>400.90200</td>\n",
       "      <td>406.134000</td>\n",
       "      <td>396.75100</td>\n",
       "      <td>400.3800</td>\n",
       "      <td>24678226.8</td>\n",
       "      <td>406.140000</td>\n",
       "      <td>396.75062</td>\n",
       "      <td>400.3800</td>\n",
       "      <td>400.8550</td>\n",
       "      <td>25157273.00</td>\n",
       "      <td>1.0</td>\n",
       "      <td>0.000</td>\n",
       "    </tr>\n",
       "    <tr>\n",
       "      <th>2024-08-18 00:00:00+00:00</th>\n",
       "      <td>414.46800</td>\n",
       "      <td>416.776000</td>\n",
       "      <td>412.24600</td>\n",
       "      <td>415.4360</td>\n",
       "      <td>19400316.8</td>\n",
       "      <td>416.776000</td>\n",
       "      <td>412.24380</td>\n",
       "      <td>415.2860</td>\n",
       "      <td>414.3700</td>\n",
       "      <td>19594374.20</td>\n",
       "      <td>1.0</td>\n",
       "      <td>0.150</td>\n",
       "    </tr>\n",
       "    <tr>\n",
       "      <th>2024-08-25 00:00:00+00:00</th>\n",
       "      <td>421.21600</td>\n",
       "      <td>424.012000</td>\n",
       "      <td>417.30400</td>\n",
       "      <td>420.5620</td>\n",
       "      <td>17025660.0</td>\n",
       "      <td>424.011980</td>\n",
       "      <td>417.30400</td>\n",
       "      <td>420.5620</td>\n",
       "      <td>421.2150</td>\n",
       "      <td>17108904.20</td>\n",
       "      <td>1.0</td>\n",
       "      <td>0.000</td>\n",
       "    </tr>\n",
       "    <tr>\n",
       "      <th>2024-09-01 00:00:00+00:00</th>\n",
       "      <td>414.93000</td>\n",
       "      <td>417.236000</td>\n",
       "      <td>410.32600</td>\n",
       "      <td>413.6380</td>\n",
       "      <td>16558804.8</td>\n",
       "      <td>417.235980</td>\n",
       "      <td>410.32600</td>\n",
       "      <td>413.6380</td>\n",
       "      <td>414.9290</td>\n",
       "      <td>16576393.20</td>\n",
       "      <td>1.0</td>\n",
       "      <td>0.000</td>\n",
       "    </tr>\n",
       "    <tr>\n",
       "      <th>2024-09-08 00:00:00+00:00</th>\n",
       "      <td>410.22125</td>\n",
       "      <td>413.717500</td>\n",
       "      <td>404.58250</td>\n",
       "      <td>407.1075</td>\n",
       "      <td>17030365.5</td>\n",
       "      <td>413.717500</td>\n",
       "      <td>404.58250</td>\n",
       "      <td>407.1075</td>\n",
       "      <td>410.1250</td>\n",
       "      <td>17251338.75</td>\n",
       "      <td>1.0</td>\n",
       "      <td>0.000</td>\n",
       "    </tr>\n",
       "    <tr>\n",
       "      <th>2024-09-15 00:00:00+00:00</th>\n",
       "      <td>416.01600</td>\n",
       "      <td>421.634000</td>\n",
       "      <td>412.92800</td>\n",
       "      <td>420.1100</td>\n",
       "      <td>17467920.0</td>\n",
       "      <td>421.633840</td>\n",
       "      <td>412.92800</td>\n",
       "      <td>420.1100</td>\n",
       "      <td>416.0150</td>\n",
       "      <td>17489931.60</td>\n",
       "      <td>1.0</td>\n",
       "      <td>0.000</td>\n",
       "    </tr>\n",
       "    <tr>\n",
       "      <th>2024-09-22 00:00:00+00:00</th>\n",
       "      <td>436.85600</td>\n",
       "      <td>438.430000</td>\n",
       "      <td>432.40400</td>\n",
       "      <td>434.2520</td>\n",
       "      <td>25662580.0</td>\n",
       "      <td>438.430000</td>\n",
       "      <td>432.40400</td>\n",
       "      <td>434.2520</td>\n",
       "      <td>436.8550</td>\n",
       "      <td>25696127.00</td>\n",
       "      <td>1.0</td>\n",
       "      <td>0.000</td>\n",
       "    </tr>\n",
       "    <tr>\n",
       "      <th>2024-09-29 00:00:00+00:00</th>\n",
       "      <td>432.74400</td>\n",
       "      <td>434.016000</td>\n",
       "      <td>428.33200</td>\n",
       "      <td>430.8240</td>\n",
       "      <td>14942700.0</td>\n",
       "      <td>434.015800</td>\n",
       "      <td>428.33178</td>\n",
       "      <td>430.8240</td>\n",
       "      <td>432.7430</td>\n",
       "      <td>14985836.80</td>\n",
       "      <td>1.0</td>\n",
       "      <td>0.000</td>\n",
       "    </tr>\n",
       "    <tr>\n",
       "      <th>2024-10-06 00:00:00+00:00</th>\n",
       "      <td>423.05600</td>\n",
       "      <td>424.191980</td>\n",
       "      <td>418.03500</td>\n",
       "      <td>420.1440</td>\n",
       "      <td>16853735.8</td>\n",
       "      <td>424.204000</td>\n",
       "      <td>418.03000</td>\n",
       "      <td>420.1440</td>\n",
       "      <td>423.0220</td>\n",
       "      <td>17081428.40</td>\n",
       "      <td>1.0</td>\n",
       "      <td>0.000</td>\n",
       "    </tr>\n",
       "    <tr>\n",
       "      <th>2024-10-13 00:00:00+00:00</th>\n",
       "      <td>414.82500</td>\n",
       "      <td>417.526000</td>\n",
       "      <td>411.57400</td>\n",
       "      <td>414.7740</td>\n",
       "      <td>16315662.0</td>\n",
       "      <td>417.526000</td>\n",
       "      <td>411.57400</td>\n",
       "      <td>414.7740</td>\n",
       "      <td>414.8240</td>\n",
       "      <td>16623319.80</td>\n",
       "      <td>1.0</td>\n",
       "      <td>0.000</td>\n",
       "    </tr>\n",
       "    <tr>\n",
       "      <th>2024-10-20 00:00:00+00:00</th>\n",
       "      <td>418.91000</td>\n",
       "      <td>421.006000</td>\n",
       "      <td>415.02200</td>\n",
       "      <td>417.7760</td>\n",
       "      <td>16461336.0</td>\n",
       "      <td>421.006000</td>\n",
       "      <td>415.02202</td>\n",
       "      <td>417.7760</td>\n",
       "      <td>418.9240</td>\n",
       "      <td>16605508.00</td>\n",
       "      <td>1.0</td>\n",
       "      <td>0.000</td>\n",
       "    </tr>\n",
       "    <tr>\n",
       "      <th>2024-10-27 00:00:00+00:00</th>\n",
       "      <td>423.61300</td>\n",
       "      <td>427.822000</td>\n",
       "      <td>420.66958</td>\n",
       "      <td>424.7540</td>\n",
       "      <td>17450623.0</td>\n",
       "      <td>427.823500</td>\n",
       "      <td>420.65702</td>\n",
       "      <td>424.7540</td>\n",
       "      <td>423.5100</td>\n",
       "      <td>17964677.20</td>\n",
       "      <td>1.0</td>\n",
       "      <td>0.000</td>\n",
       "    </tr>\n",
       "    <tr>\n",
       "      <th>2024-11-03 00:00:00+00:00</th>\n",
       "      <td>424.41200</td>\n",
       "      <td>427.035000</td>\n",
       "      <td>419.60800</td>\n",
       "      <td>421.5580</td>\n",
       "      <td>27803633.8</td>\n",
       "      <td>427.054000</td>\n",
       "      <td>419.60002</td>\n",
       "      <td>421.5580</td>\n",
       "      <td>424.2920</td>\n",
       "      <td>28095419.20</td>\n",
       "      <td>1.0</td>\n",
       "      <td>0.000</td>\n",
       "    </tr>\n",
       "    <tr>\n",
       "      <th>2024-11-10 00:00:00+00:00</th>\n",
       "      <td>415.41100</td>\n",
       "      <td>419.818000</td>\n",
       "      <td>413.16700</td>\n",
       "      <td>417.6140</td>\n",
       "      <td>19926970.8</td>\n",
       "      <td>419.823000</td>\n",
       "      <td>413.16626</td>\n",
       "      <td>417.6140</td>\n",
       "      <td>415.4380</td>\n",
       "      <td>20154667.00</td>\n",
       "      <td>1.0</td>\n",
       "      <td>0.000</td>\n",
       "    </tr>\n",
       "    <tr>\n",
       "      <th>2024-11-17 00:00:00+00:00</th>\n",
       "      <td>421.44600</td>\n",
       "      <td>425.910000</td>\n",
       "      <td>417.01000</td>\n",
       "      <td>421.6260</td>\n",
       "      <td>24748840.0</td>\n",
       "      <td>425.909000</td>\n",
       "      <td>417.01000</td>\n",
       "      <td>421.6260</td>\n",
       "      <td>421.4450</td>\n",
       "      <td>24780247.00</td>\n",
       "      <td>1.0</td>\n",
       "      <td>0.000</td>\n",
       "    </tr>\n",
       "    <tr>\n",
       "      <th>2024-11-24 00:00:00+00:00</th>\n",
       "      <td>415.14400</td>\n",
       "      <td>418.162740</td>\n",
       "      <td>411.11600</td>\n",
       "      <td>415.7820</td>\n",
       "      <td>21361869.0</td>\n",
       "      <td>418.162740</td>\n",
       "      <td>411.11574</td>\n",
       "      <td>415.6160</td>\n",
       "      <td>415.1430</td>\n",
       "      <td>21532397.00</td>\n",
       "      <td>1.0</td>\n",
       "      <td>0.166</td>\n",
       "    </tr>\n",
       "    <tr>\n",
       "      <th>2024-12-01 00:00:00+00:00</th>\n",
       "      <td>420.79125</td>\n",
       "      <td>425.557475</td>\n",
       "      <td>418.38000</td>\n",
       "      <td>423.3075</td>\n",
       "      <td>21423811.0</td>\n",
       "      <td>425.557825</td>\n",
       "      <td>418.38000</td>\n",
       "      <td>423.3075</td>\n",
       "      <td>420.7900</td>\n",
       "      <td>21438586.00</td>\n",
       "      <td>1.0</td>\n",
       "      <td>0.000</td>\n",
       "    </tr>\n",
       "  </tbody>\n",
       "</table>\n",
       "</div>"
      ],
      "text/plain": [
       "                                open        high        low     close  \\\n",
       "date                                                                    \n",
       "2024-07-14 00:00:00+00:00  458.53000  460.570000  451.10000  454.1250   \n",
       "2024-07-21 00:00:00+00:00  445.50200  448.440000  440.73400  444.8960   \n",
       "2024-07-28 00:00:00+00:00  434.62800  438.638000  428.87600  432.0720   \n",
       "2024-08-04 00:00:00+00:00  422.61600  425.088000  414.34000  418.7200   \n",
       "2024-08-11 00:00:00+00:00  400.90200  406.134000  396.75100  400.3800   \n",
       "2024-08-18 00:00:00+00:00  414.46800  416.776000  412.24600  415.4360   \n",
       "2024-08-25 00:00:00+00:00  421.21600  424.012000  417.30400  420.5620   \n",
       "2024-09-01 00:00:00+00:00  414.93000  417.236000  410.32600  413.6380   \n",
       "2024-09-08 00:00:00+00:00  410.22125  413.717500  404.58250  407.1075   \n",
       "2024-09-15 00:00:00+00:00  416.01600  421.634000  412.92800  420.1100   \n",
       "2024-09-22 00:00:00+00:00  436.85600  438.430000  432.40400  434.2520   \n",
       "2024-09-29 00:00:00+00:00  432.74400  434.016000  428.33200  430.8240   \n",
       "2024-10-06 00:00:00+00:00  423.05600  424.191980  418.03500  420.1440   \n",
       "2024-10-13 00:00:00+00:00  414.82500  417.526000  411.57400  414.7740   \n",
       "2024-10-20 00:00:00+00:00  418.91000  421.006000  415.02200  417.7760   \n",
       "2024-10-27 00:00:00+00:00  423.61300  427.822000  420.66958  424.7540   \n",
       "2024-11-03 00:00:00+00:00  424.41200  427.035000  419.60800  421.5580   \n",
       "2024-11-10 00:00:00+00:00  415.41100  419.818000  413.16700  417.6140   \n",
       "2024-11-17 00:00:00+00:00  421.44600  425.910000  417.01000  421.6260   \n",
       "2024-11-24 00:00:00+00:00  415.14400  418.162740  411.11600  415.7820   \n",
       "2024-12-01 00:00:00+00:00  420.79125  425.557475  418.38000  423.3075   \n",
       "\n",
       "                               volume    adj_high    adj_low  adj_close  \\\n",
       "date                                                                      \n",
       "2024-07-14 00:00:00+00:00  19573219.0  460.570000  451.09750   454.1250   \n",
       "2024-07-21 00:00:00+00:00  18797552.4  448.440000  440.73400   444.8960   \n",
       "2024-07-28 00:00:00+00:00  21818540.0  438.637000  428.87550   432.0720   \n",
       "2024-08-04 00:00:00+00:00  29830160.0  425.087000  414.34086   418.7200   \n",
       "2024-08-11 00:00:00+00:00  24678226.8  406.140000  396.75062   400.3800   \n",
       "2024-08-18 00:00:00+00:00  19400316.8  416.776000  412.24380   415.2860   \n",
       "2024-08-25 00:00:00+00:00  17025660.0  424.011980  417.30400   420.5620   \n",
       "2024-09-01 00:00:00+00:00  16558804.8  417.235980  410.32600   413.6380   \n",
       "2024-09-08 00:00:00+00:00  17030365.5  413.717500  404.58250   407.1075   \n",
       "2024-09-15 00:00:00+00:00  17467920.0  421.633840  412.92800   420.1100   \n",
       "2024-09-22 00:00:00+00:00  25662580.0  438.430000  432.40400   434.2520   \n",
       "2024-09-29 00:00:00+00:00  14942700.0  434.015800  428.33178   430.8240   \n",
       "2024-10-06 00:00:00+00:00  16853735.8  424.204000  418.03000   420.1440   \n",
       "2024-10-13 00:00:00+00:00  16315662.0  417.526000  411.57400   414.7740   \n",
       "2024-10-20 00:00:00+00:00  16461336.0  421.006000  415.02202   417.7760   \n",
       "2024-10-27 00:00:00+00:00  17450623.0  427.823500  420.65702   424.7540   \n",
       "2024-11-03 00:00:00+00:00  27803633.8  427.054000  419.60002   421.5580   \n",
       "2024-11-10 00:00:00+00:00  19926970.8  419.823000  413.16626   417.6140   \n",
       "2024-11-17 00:00:00+00:00  24748840.0  425.909000  417.01000   421.6260   \n",
       "2024-11-24 00:00:00+00:00  21361869.0  418.162740  411.11574   415.6160   \n",
       "2024-12-01 00:00:00+00:00  21423811.0  425.557825  418.38000   423.3075   \n",
       "\n",
       "                           adj_open   adj_volume  split_factor  dividend  \n",
       "date                                                                      \n",
       "2024-07-14 00:00:00+00:00  458.6525  19717724.50           1.0     0.000  \n",
       "2024-07-21 00:00:00+00:00  445.5100  19018877.20           1.0     0.000  \n",
       "2024-07-28 00:00:00+00:00  434.6270  21849847.80           1.0     0.000  \n",
       "2024-08-04 00:00:00+00:00  422.6140  30087816.00           1.0     0.000  \n",
       "2024-08-11 00:00:00+00:00  400.8550  25157273.00           1.0     0.000  \n",
       "2024-08-18 00:00:00+00:00  414.3700  19594374.20           1.0     0.150  \n",
       "2024-08-25 00:00:00+00:00  421.2150  17108904.20           1.0     0.000  \n",
       "2024-09-01 00:00:00+00:00  414.9290  16576393.20           1.0     0.000  \n",
       "2024-09-08 00:00:00+00:00  410.1250  17251338.75           1.0     0.000  \n",
       "2024-09-15 00:00:00+00:00  416.0150  17489931.60           1.0     0.000  \n",
       "2024-09-22 00:00:00+00:00  436.8550  25696127.00           1.0     0.000  \n",
       "2024-09-29 00:00:00+00:00  432.7430  14985836.80           1.0     0.000  \n",
       "2024-10-06 00:00:00+00:00  423.0220  17081428.40           1.0     0.000  \n",
       "2024-10-13 00:00:00+00:00  414.8240  16623319.80           1.0     0.000  \n",
       "2024-10-20 00:00:00+00:00  418.9240  16605508.00           1.0     0.000  \n",
       "2024-10-27 00:00:00+00:00  423.5100  17964677.20           1.0     0.000  \n",
       "2024-11-03 00:00:00+00:00  424.2920  28095419.20           1.0     0.000  \n",
       "2024-11-10 00:00:00+00:00  415.4380  20154667.00           1.0     0.000  \n",
       "2024-11-17 00:00:00+00:00  421.4450  24780247.00           1.0     0.000  \n",
       "2024-11-24 00:00:00+00:00  415.1430  21532397.00           1.0     0.166  \n",
       "2024-12-01 00:00:00+00:00  420.7900  21438586.00           1.0     0.000  "
      ]
     },
     "execution_count": 39,
     "metadata": {},
     "output_type": "execute_result"
    }
   ],
   "source": [
    "weekly = df.groupby(pd.Grouper(key='date', freq='W')).mean() \n",
    "weekly"
   ]
  },
  {
   "cell_type": "code",
   "execution_count": 10,
   "metadata": {
    "extensions": {
     "jupyter_dashboards": {
      "version": 1,
      "views": {
       "grid_default": {},
       "report_default": {
        "hidden": false
       }
      }
     }
    }
   },
   "outputs": [],
   "source": [
    "def shorten_date(date):\n",
    "    return date[0:10]\n",
    "\n",
    "df['date']\n",
    "df['short_date'] = df['date'].apply(shorten_date)\n",
    "# df"
   ]
  },
  {
   "cell_type": "code",
   "execution_count": 20,
   "metadata": {},
   "outputs": [
    {
     "data": {
      "text/plain": [
       "<AxesSubplot:xlabel='short_date'>"
      ]
     },
     "execution_count": 20,
     "metadata": {},
     "output_type": "execute_result"
    },
    {
     "data": {
      "image/png": "[encoded data removed]",
      "text/plain": [
       "<Figure size 432x288 with 1 Axes>"
      ]
     },
     "metadata": {
      "needs_background": "light"
     },
     "output_type": "display_data"
    }
   ],
   "source": [
    "df.plot('short_date', 'volume', kind='bar')"
   ]
  },
  {
   "cell_type": "code",
   "execution_count": 49,
   "metadata": {
    "extensions": {
     "jupyter_dashboards": {
      "version": 1,
      "views": {
       "grid_default": {},
       "report_default": {
        "hidden": false
       }
      }
     }
    }
   },
   "outputs": [
    {
     "data": {
      "text/plain": [
       "<AxesSubplot:xlabel='date'>"
      ]
     },
     "execution_count": 49,
     "metadata": {},
     "output_type": "execute_result"
    },
    {
     "data": {
      "image/png": "[encoded data removed]",
      "text/plain": [
       "<Figure size 432x288 with 1 Axes>"
      ]
     },
     "metadata": {
      "needs_background": "light"
     },
     "output_type": "display_data"
    }
   ],
   "source": [
    "# weekly.plot.bar(x='date', y='adj_close')\n",
    "# weekly.plot.bar(weekly.index, y='adj_close')\n",
    "weekly.plot.bar(y='adj_close')\n",
    "\n",
    "# df.plot.bar('short_date', y='adj_close')\n",
    "# df.plot.line('short_date', y='adj_high', secondary_y=True)\n",
    "\n",
    "# plt.xlabel('Date')\n",
    "# plt.ylabel('Adjusted Price (USD)')\n",
    "# plt.title('Microsoft EOD Data')\n",
    "\n",
    "# # plt.legend(title='')\n",
    "# plt.legend(labels=['Adjusted High Price', 'Adjusted Closing Price'])\n",
    "# plt.show()\n",
    "\n",
    "# fig, ax = plt.subplots(figsize=(12,5))\n",
    "# ax2 = ax.twinx()\n",
    "# ax.set_title('Closing')\n",
    "# ax.set_xlabel('Date')\n",
    "# plt.xticks(rotation=90)\n",
    "# # ax.xticks(rotation=90)\n",
    "# ax.plot(df['short_date'], df['adj_close'], color='green', marker='x')\n",
    "# # ax = df.plot('short_date', 'adj_close', kind='bar')\n",
    "# ax2.plot(df['short_date'], df['volume'], color='red', marker='o')\n",
    "# ax.set_ylabel('Closing')\n",
    "# ax2.set_ylabel('Volume')\n",
    "# # plt.xticks(rotation=90)\n",
    "# plt.show()\n",
    "\n",
    "# fig, ax = plt.subplots(figsize=(12,5))\n",
    "# ax2 = ax.twinx()\n",
    "# ax.set_title('Closing')\n",
    "# ax.set_xlabel('Date')\n",
    "# plt.xticks(rotation=90)\n",
    "# # ax.xticks(rotation=90)\n",
    "# ax.plot(weekly['date'], weekly['adj_close'], color='green', marker='x')\n",
    "# # ax = df.plot('short_date', 'adj_close', kind='bar')\n",
    "# ax2.plot(weekly['date'], weekly['volume'], color='red', marker='o')\n",
    "# ax.set_ylabel('Closing')\n",
    "# ax2.set_ylabel('Volume')\n",
    "# # plt.xticks(rotation=90)\n",
    "# plt.show()"
   ]
  },
  {
   "cell_type": "code",
   "execution_count": 80,
   "metadata": {
    "extensions": {
     "jupyter_dashboards": {
      "version": 1,
      "views": {
       "grid_default": {},
       "report_default": {
        "hidden": false
       }
      }
     }
    }
   },
   "outputs": [
    {
     "data": {
      "text/plain": [
       "<matplotlib.legend.Legend at 0x11d06cc10>"
      ]
     },
     "execution_count": 80,
     "metadata": {},
     "output_type": "execute_result"
    },
    {
     "data": {
      "image/png": "[encoded data removed]",
      "text/plain": [
       "<Figure size 432x288 with 1 Axes>"
      ]
     },
     "metadata": {
      "needs_background": "light"
     },
     "output_type": "display_data"
    }
   ],
   "source": [
    "df.plot.line('short_date', 'volume')\n",
    "plt.xticks(rotation=90)\n",
    "plt.xlabel('Date')\n",
    "plt.ylabel('Volume')\n",
    "plt.title('Microsoft EOD Data')\n",
    "\n",
    "# plt.legend(title='')\n",
    "plt.legend(labels=['Volume'])"
   ]
  },
  {
   "cell_type": "markdown",
   "metadata": {
    "extensions": {
     "jupyter_dashboards": {
      "version": 1,
      "views": {
       "grid_default": {},
       "report_default": {
        "hidden": false
       }
      }
     }
    }
   },
   "source": [
    "numbers:\n",
    "    highest volume\n",
    "    lowest volume\n",
    "    highest price\n",
    "    lowest price\n",
    "    \n",
    "over time:\n",
    "    closing versus opening\n",
    "    volume\n",
    "    \n",
    "averages (over different periods):\n",
    "    volume\n",
    "    high\n",
    "    low\n",
    "    closing\n",
    "last week\n",
    "last month"
   ]
  },
  {
   "cell_type": "code",
   "execution_count": 82,
   "metadata": {
    "extensions": {
     "jupyter_dashboards": {
      "version": 1,
      "views": {
       "grid_default": {},
       "report_default": {
        "hidden": false
       }
      }
     }
    }
   },
   "outputs": [
    {
     "data": {
      "text/plain": [
       "55155300.0"
      ]
     },
     "execution_count": 82,
     "metadata": {},
     "output_type": "execute_result"
    }
   ],
   "source": [
    "df['volume'].max()"
   ]
  },
  {
   "cell_type": "code",
   "execution_count": 89,
   "metadata": {
    "extensions": {
     "jupyter_dashboards": {
      "version": 1,
      "views": {
       "grid_default": {},
       "report_default": {
        "hidden": false
       }
      }
     }
    }
   },
   "outputs": [
    {
     "data": {
      "text/html": [
       "<div>\n",
       "<style scoped>\n",
       "    .dataframe tbody tr th:only-of-type {\n",
       "        vertical-align: middle;\n",
       "    }\n",
       "\n",
       "    .dataframe tbody tr th {\n",
       "        vertical-align: top;\n",
       "    }\n",
       "\n",
       "    .dataframe thead th {\n",
       "        text-align: right;\n",
       "    }\n",
       "</style>\n",
       "<table border=\"1\" class=\"dataframe\">\n",
       "  <thead>\n",
       "    <tr style=\"text-align: right;\">\n",
       "      <th></th>\n",
       "      <th>volume</th>\n",
       "      <th>short_date</th>\n",
       "    </tr>\n",
       "  </thead>\n",
       "  <tbody>\n",
       "    <tr>\n",
       "      <th>49</th>\n",
       "      <td>55155300.0</td>\n",
       "      <td>2024-09-20</td>\n",
       "    </tr>\n",
       "    <tr>\n",
       "      <th>20</th>\n",
       "      <td>53473867.0</td>\n",
       "      <td>2024-10-31</td>\n",
       "    </tr>\n",
       "    <tr>\n",
       "      <th>85</th>\n",
       "      <td>42806400.0</td>\n",
       "      <td>2024-07-31</td>\n",
       "    </tr>\n",
       "    <tr>\n",
       "      <th>82</th>\n",
       "      <td>40652000.0</td>\n",
       "      <td>2024-08-05</td>\n",
       "    </tr>\n",
       "    <tr>\n",
       "      <th>86</th>\n",
       "      <td>31694300.0</td>\n",
       "      <td>2024-07-30</td>\n",
       "    </tr>\n",
       "    <tr>\n",
       "      <th>...</th>\n",
       "      <td>...</td>\n",
       "      <td>...</td>\n",
       "    </tr>\n",
       "    <tr>\n",
       "      <th>40</th>\n",
       "      <td>13460138.0</td>\n",
       "      <td>2024-10-03</td>\n",
       "    </tr>\n",
       "    <tr>\n",
       "      <th>46</th>\n",
       "      <td>13335000.0</td>\n",
       "      <td>2024-09-25</td>\n",
       "    </tr>\n",
       "    <tr>\n",
       "      <th>28</th>\n",
       "      <td>13284766.0</td>\n",
       "      <td>2024-10-21</td>\n",
       "    </tr>\n",
       "    <tr>\n",
       "      <th>67</th>\n",
       "      <td>13134700.0</td>\n",
       "      <td>2024-08-26</td>\n",
       "    </tr>\n",
       "    <tr>\n",
       "      <th>91</th>\n",
       "      <td>13075000.0</td>\n",
       "      <td>2024-07-23</td>\n",
       "    </tr>\n",
       "  </tbody>\n",
       "</table>\n",
       "<p>100 rows × 2 columns</p>\n",
       "</div>"
      ],
      "text/plain": [
       "        volume  short_date\n",
       "49  55155300.0  2024-09-20\n",
       "20  53473867.0  2024-10-31\n",
       "85  42806400.0  2024-07-31\n",
       "82  40652000.0  2024-08-05\n",
       "86  31694300.0  2024-07-30\n",
       "..         ...         ...\n",
       "40  13460138.0  2024-10-03\n",
       "46  13335000.0  2024-09-25\n",
       "28  13284766.0  2024-10-21\n",
       "67  13134700.0  2024-08-26\n",
       "91  13075000.0  2024-07-23\n",
       "\n",
       "[100 rows x 2 columns]"
      ]
     },
     "execution_count": 89,
     "metadata": {},
     "output_type": "execute_result"
    }
   ],
   "source": [
    "df[['volume', 'short_date']].sort_values('volume', ascending=False)"
   ]
  },
  {
   "cell_type": "code",
   "execution_count": 90,
   "metadata": {
    "extensions": {
     "jupyter_dashboards": {
      "version": 1,
      "views": {
       "grid_default": {},
       "report_default": {
        "hidden": false
       }
      }
     }
    }
   },
   "outputs": [
    {
     "data": {
      "text/html": [
       "<div>\n",
       "<style scoped>\n",
       "    .dataframe tbody tr th:only-of-type {\n",
       "        vertical-align: middle;\n",
       "    }\n",
       "\n",
       "    .dataframe tbody tr th {\n",
       "        vertical-align: top;\n",
       "    }\n",
       "\n",
       "    .dataframe thead th {\n",
       "        text-align: right;\n",
       "    }\n",
       "</style>\n",
       "<table border=\"1\" class=\"dataframe\">\n",
       "  <thead>\n",
       "    <tr style=\"text-align: right;\">\n",
       "      <th></th>\n",
       "      <th>volume</th>\n",
       "      <th>short_date</th>\n",
       "    </tr>\n",
       "  </thead>\n",
       "  <tbody>\n",
       "    <tr>\n",
       "      <th>91</th>\n",
       "      <td>13075000.0</td>\n",
       "      <td>2024-07-23</td>\n",
       "    </tr>\n",
       "  </tbody>\n",
       "</table>\n",
       "</div>"
      ],
      "text/plain": [
       "        volume  short_date\n",
       "91  13075000.0  2024-07-23"
      ]
     },
     "execution_count": 90,
     "metadata": {},
     "output_type": "execute_result"
    }
   ],
   "source": [
    "df[['volume', 'short_date']].sort_values('volume', ascending=True).head(1)"
   ]
  },
  {
   "cell_type": "code",
   "execution_count": 91,
   "metadata": {
    "extensions": {
     "jupyter_dashboards": {
      "version": 1,
      "views": {
       "grid_default": {},
       "report_default": {
        "hidden": false
       }
      }
     }
    }
   },
   "outputs": [
    {
     "data": {
      "text/html": [
       "<div>\n",
       "<style scoped>\n",
       "    .dataframe tbody tr th:only-of-type {\n",
       "        vertical-align: middle;\n",
       "    }\n",
       "\n",
       "    .dataframe tbody tr th {\n",
       "        vertical-align: top;\n",
       "    }\n",
       "\n",
       "    .dataframe thead th {\n",
       "        text-align: right;\n",
       "    }\n",
       "</style>\n",
       "<table border=\"1\" class=\"dataframe\">\n",
       "  <thead>\n",
       "    <tr style=\"text-align: right;\">\n",
       "      <th></th>\n",
       "      <th>adj_high</th>\n",
       "      <th>short_date</th>\n",
       "    </tr>\n",
       "  </thead>\n",
       "  <tbody>\n",
       "    <tr>\n",
       "      <th>99</th>\n",
       "      <td>464.78</td>\n",
       "      <td>2024-07-11</td>\n",
       "    </tr>\n",
       "    <tr>\n",
       "      <th>97</th>\n",
       "      <td>457.26</td>\n",
       "      <td>2024-07-15</td>\n",
       "    </tr>\n",
       "    <tr>\n",
       "      <th>98</th>\n",
       "      <td>456.36</td>\n",
       "      <td>2024-07-12</td>\n",
       "    </tr>\n",
       "    <tr>\n",
       "      <th>96</th>\n",
       "      <td>454.30</td>\n",
       "      <td>2024-07-16</td>\n",
       "    </tr>\n",
       "    <tr>\n",
       "      <th>91</th>\n",
       "      <td>448.39</td>\n",
       "      <td>2024-07-23</td>\n",
       "    </tr>\n",
       "    <tr>\n",
       "      <th>...</th>\n",
       "      <td>...</td>\n",
       "      <td>...</td>\n",
       "    </tr>\n",
       "    <tr>\n",
       "      <th>58</th>\n",
       "      <td>408.65</td>\n",
       "      <td>2024-09-09</td>\n",
       "    </tr>\n",
       "    <tr>\n",
       "      <th>78</th>\n",
       "      <td>408.05</td>\n",
       "      <td>2024-08-09</td>\n",
       "    </tr>\n",
       "    <tr>\n",
       "      <th>79</th>\n",
       "      <td>405.86</td>\n",
       "      <td>2024-08-08</td>\n",
       "    </tr>\n",
       "    <tr>\n",
       "      <th>81</th>\n",
       "      <td>405.67</td>\n",
       "      <td>2024-08-06</td>\n",
       "    </tr>\n",
       "    <tr>\n",
       "      <th>82</th>\n",
       "      <td>401.04</td>\n",
       "      <td>2024-08-05</td>\n",
       "    </tr>\n",
       "  </tbody>\n",
       "</table>\n",
       "<p>100 rows × 2 columns</p>\n",
       "</div>"
      ],
      "text/plain": [
       "    adj_high  short_date\n",
       "99    464.78  2024-07-11\n",
       "97    457.26  2024-07-15\n",
       "98    456.36  2024-07-12\n",
       "96    454.30  2024-07-16\n",
       "91    448.39  2024-07-23\n",
       "..       ...         ...\n",
       "58    408.65  2024-09-09\n",
       "78    408.05  2024-08-09\n",
       "79    405.86  2024-08-08\n",
       "81    405.67  2024-08-06\n",
       "82    401.04  2024-08-05\n",
       "\n",
       "[100 rows x 2 columns]"
      ]
     },
     "execution_count": 91,
     "metadata": {},
     "output_type": "execute_result"
    }
   ],
   "source": [
    "df[['adj_high', 'short_date']].sort_values('adj_high', ascending=False)"
   ]
  },
  {
   "cell_type": "code",
   "execution_count": 92,
   "metadata": {
    "extensions": {
     "jupyter_dashboards": {
      "version": 1,
      "views": {
       "grid_default": {},
       "report_default": {
        "hidden": false
       }
      }
     }
    }
   },
   "outputs": [
    {
     "data": {
      "text/html": [
       "<div>\n",
       "<style scoped>\n",
       "    .dataframe tbody tr th:only-of-type {\n",
       "        vertical-align: middle;\n",
       "    }\n",
       "\n",
       "    .dataframe tbody tr th {\n",
       "        vertical-align: top;\n",
       "    }\n",
       "\n",
       "    .dataframe thead th {\n",
       "        text-align: right;\n",
       "    }\n",
       "</style>\n",
       "<table border=\"1\" class=\"dataframe\">\n",
       "  <thead>\n",
       "    <tr style=\"text-align: right;\">\n",
       "      <th></th>\n",
       "      <th>adj_high</th>\n",
       "      <th>short_date</th>\n",
       "    </tr>\n",
       "  </thead>\n",
       "  <tbody>\n",
       "    <tr>\n",
       "      <th>82</th>\n",
       "      <td>401.04</td>\n",
       "      <td>2024-08-05</td>\n",
       "    </tr>\n",
       "  </tbody>\n",
       "</table>\n",
       "</div>"
      ],
      "text/plain": [
       "    adj_high  short_date\n",
       "82    401.04  2024-08-05"
      ]
     },
     "execution_count": 92,
     "metadata": {},
     "output_type": "execute_result"
    }
   ],
   "source": [
    "df[['adj_high', 'short_date']].sort_values('adj_high', ascending=True).head(1)"
   ]
  },
  {
   "cell_type": "code",
   "execution_count": 93,
   "metadata": {
    "extensions": {
     "jupyter_dashboards": {
      "version": 1,
      "views": {
       "grid_default": {},
       "report_default": {
        "hidden": false
       }
      }
     }
    }
   },
   "outputs": [
    {
     "data": {
      "text/plain": [
       "<matplotlib.legend.Legend at 0x11d2cbb20>"
      ]
     },
     "execution_count": 93,
     "metadata": {},
     "output_type": "execute_result"
    },
    {
     "data": {
      "image/png": "[encoded data removed]",
      "text/plain": [
       "<Figure size 432x288 with 1 Axes>"
      ]
     },
     "metadata": {
      "needs_background": "light"
     },
     "output_type": "display_data"
    }
   ],
   "source": [
    "df.plot.line('short_date', y=['adj_open', 'adj_close'])\n",
    "plt.xticks(rotation=90)\n",
    "plt.xlabel('Date')\n",
    "plt.ylabel('Adjusted Price (USD)')\n",
    "plt.title('Microsoft EOD Data')\n",
    "plt.legend(labels=['Adjusted Opening Price', 'Adjusted Closing Price'])"
   ]
  },
  {
   "cell_type": "code",
   "execution_count": 95,
   "metadata": {
    "extensions": {
     "jupyter_dashboards": {
      "version": 1,
      "views": {
       "grid_default": {},
       "report_default": {
        "hidden": false
       }
      }
     }
    }
   },
   "outputs": [
    {
     "data": {
      "text/plain": [
       "20284888.0"
      ]
     },
     "execution_count": 95,
     "metadata": {},
     "output_type": "execute_result"
    }
   ],
   "source": [
    "df['volume'].mean()"
   ]
  },
  {
   "cell_type": "code",
   "execution_count": 96,
   "metadata": {
    "extensions": {
     "jupyter_dashboards": {
      "version": 1,
      "views": {
       "grid_default": {},
       "report_default": {
        "hidden": false
       }
      }
     }
    }
   },
   "outputs": [
    {
     "data": {
      "text/plain": [
       "425.37820500000015"
      ]
     },
     "execution_count": 96,
     "metadata": {},
     "output_type": "execute_result"
    }
   ],
   "source": [
    "df['adj_high'].mean()"
   ]
  },
  {
   "cell_type": "code",
   "execution_count": 97,
   "metadata": {
    "extensions": {
     "jupyter_dashboards": {
      "version": 1,
      "views": {
       "grid_default": {},
       "report_default": {
        "hidden": false
       }
      }
     }
    }
   },
   "outputs": [
    {
     "data": {
      "text/plain": [
       "417.9611310000001"
      ]
     },
     "execution_count": 97,
     "metadata": {},
     "output_type": "execute_result"
    }
   ],
   "source": [
    "df['adj_low'].mean()"
   ]
  },
  {
   "cell_type": "code",
   "execution_count": 98,
   "metadata": {
    "extensions": {
     "jupyter_dashboards": {
      "version": 1,
      "views": {
       "grid_default": {},
       "report_default": {
        "hidden": false
       }
      }
     }
    }
   },
   "outputs": [
    {
     "data": {
      "text/plain": [
       "421.5292"
      ]
     },
     "execution_count": 98,
     "metadata": {},
     "output_type": "execute_result"
    }
   ],
   "source": [
    "df['adj_close'].mean()"
   ]
  },
  {
   "cell_type": "code",
   "execution_count": null,
   "metadata": {
    "extensions": {
     "jupyter_dashboards": {
      "version": 1,
      "views": {
       "grid_default": {},
       "report_default": {
        "hidden": true
       }
      }
     }
    }
   },
   "outputs": [],
   "source": []
  }
 ],
 "metadata": {
  "extensions": {
   "jupyter_dashboards": {
    "activeView": "report_default",
    "version": 1,
    "views": {
     "grid_default": {
      "name": "grid",
      "type": "grid"
     },
     "report_default": {
      "name": "report",
      "type": "report"
     }
    }
   }
  },
  "kernelspec": {
   "display_name": "Python 3",
   "language": "python",
   "name": "python3"
  },
  "language_info": {
   "codemirror_mode": {
    "name": "ipython",
    "version": 3
   },
   "file_extension": ".py",
   "mimetype": "text/x-python",
   "name": "python",
   "nbconvert_exporter": "python",
   "pygments_lexer": "ipython3",
   "version": "3.8.5"
  }
 },
 "nbformat": 4,
 "nbformat_minor": 4
}
