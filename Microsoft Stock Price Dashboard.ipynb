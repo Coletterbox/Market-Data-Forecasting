{
 "cells": [
  {
   "cell_type": "code",
   "execution_count": 111,
   "metadata": {
    "extensions": {
     "jupyter_dashboards": {
      "version": 1,
      "views": {
       "grid_default": {},
       "report_default": {
        "hidden": true
       }
      }
     }
    }
   },
   "outputs": [],
   "source": [
    "import requests\n",
    "import pandas as pd\n",
    "import matplotlib.pyplot as plt\n",
    "import numpy as np\n",
    "from api_key_container import api_key"
   ]
  },
  {
   "cell_type": "code",
   "execution_count": 156,
   "metadata": {
    "extensions": {
     "jupyter_dashboards": {
      "version": 1,
      "views": {
       "grid_default": {},
       "report_default": {
        "hidden": false
       }
      }
     }
    }
   },
   "outputs": [],
   "source": [
    "url = \"https://api.marketstack.com/v1/tickers?access_key=\" + api_key\n",
    "response = requests.get(url)\n",
    "response_json = response.json()\n",
    "# print(response_json)"
   ]
  },
  {
   "cell_type": "code",
   "execution_count": 157,
   "metadata": {
    "extensions": {
     "jupyter_dashboards": {
      "version": 1,
      "views": {
       "grid_default": {},
       "report_default": {
        "hidden": true
       }
      }
     }
    }
   },
   "outputs": [],
   "source": [
    "companies = response_json['data']"
   ]
  },
  {
   "cell_type": "code",
   "execution_count": 158,
   "metadata": {
    "extensions": {
     "jupyter_dashboards": {
      "version": 1,
      "views": {
       "grid_default": {},
       "report_default": {
        "hidden": false
       }
      }
     }
    }
   },
   "outputs": [],
   "source": [
    "df = pd.json_normalize(companies, meta=['name'])\n",
    "# print(df)"
   ]
  },
  {
   "cell_type": "code",
   "execution_count": 159,
   "metadata": {
    "extensions": {
     "jupyter_dashboards": {
      "version": 1,
      "views": {
       "grid_default": {},
       "report_default": {
        "hidden": false
       }
      }
     }
    }
   },
   "outputs": [],
   "source": [
    "url = \"https://api.marketstack.com/v1/splits?access_key=\" + api_key\n",
    "querystring = {\"symbols\":\"MSFT\"}\n",
    "response = requests.get(url, params=querystring)\n",
    "# print(response.json())"
   ]
  },
  {
   "cell_type": "code",
   "execution_count": 160,
   "metadata": {
    "extensions": {
     "jupyter_dashboards": {
      "version": 1,
      "views": {
       "grid_default": {},
       "report_default": {
        "hidden": false
       }
      }
     }
    },
    "scrolled": true
   },
   "outputs": [],
   "source": [
    "url = \"https://api.marketstack.com/v1/eod?access_key=\" + api_key\n",
    "querystring = {\"symbols\":\"MSFT\",\"date_from\":\"2023-12-19\", \"date_to\":\"2024-12-19\"}\n",
    "response = requests.get(url, params=querystring)\n",
    "# print(response.json())"
   ]
  },
  {
   "cell_type": "code",
   "execution_count": 161,
   "metadata": {
    "extensions": {
     "jupyter_dashboards": {
      "version": 1,
      "views": {
       "grid_default": {},
       "report_default": {
        "hidden": false
       }
      }
     }
    }
   },
   "outputs": [],
   "source": [
    "historical_data = response.json()['data']\n",
    "# historical_data"
   ]
  },
  {
   "cell_type": "code",
   "execution_count": 162,
   "metadata": {
    "extensions": {
     "jupyter_dashboards": {
      "version": 1,
      "views": {
       "grid_default": {},
       "report_default": {
        "hidden": false
       }
      }
     }
    }
   },
   "outputs": [],
   "source": [
    "df = pd.json_normalize(historical_data, meta=['date'])\n",
    "# df"
   ]
  },
  {
   "cell_type": "code",
   "execution_count": 163,
   "metadata": {},
   "outputs": [],
   "source": [
    "df['date'] = pd.to_datetime(df['date'])\n",
    "# df"
   ]
  },
  {
   "cell_type": "code",
   "execution_count": 164,
   "metadata": {},
   "outputs": [],
   "source": [
    "monthly = df.groupby(pd.Grouper(key='date', freq='M')).mean() \n",
    "# monthly"
   ]
  },
  {
   "cell_type": "code",
   "execution_count": 165,
   "metadata": {},
   "outputs": [],
   "source": [
    "weekly = df.groupby(pd.Grouper(key='date', freq='W')).mean() \n",
    "# weekly"
   ]
  },
  {
   "cell_type": "code",
   "execution_count": 166,
   "metadata": {
    "extensions": {
     "jupyter_dashboards": {
      "version": 1,
      "views": {
       "grid_default": {},
       "report_default": {
        "hidden": false
       }
      }
     }
    }
   },
   "outputs": [],
   "source": [
    "def shorten_date(date):\n",
    "    return date[0:10]\n",
    "\n",
    "# df['date']\n",
    "# df['short_date'] = df['date'].apply(shorten_date)\n",
    "# df"
   ]
  },
  {
   "cell_type": "code",
   "execution_count": 167,
   "metadata": {},
   "outputs": [],
   "source": [
    "# df.plot('short_date', 'volume', kind='bar')"
   ]
  },
  {
   "cell_type": "code",
   "execution_count": 168,
   "metadata": {
    "extensions": {
     "jupyter_dashboards": {
      "version": 1,
      "views": {
       "grid_default": {},
       "report_default": {
        "hidden": false
       }
      }
     }
    }
   },
   "outputs": [],
   "source": [
    "# weekly.plot.bar(y='adj_close')"
   ]
  },
  {
   "cell_type": "code",
   "execution_count": 169,
   "metadata": {},
   "outputs": [
    {
     "data": {
      "image/png": "[encoded data removed]",
      "text/plain": [
       "<Figure size 864x360 with 2 Axes>"
      ]
     },
     "metadata": {
      "needs_background": "light"
     },
     "output_type": "display_data"
    }
   ],
   "source": [
    "fig, ax = plt.subplots(figsize=(12,5))\n",
    "ax2 = ax.twinx()\n",
    "ax.set_title('Average Weekly Closing Price and Volume')\n",
    "ax.set_xlabel('Date')\n",
    "plt.xticks(rotation=90)\n",
    "plt.plot(kind='bar')\n",
    "# ax.xticks(rotation=90)\n",
    "# ax.plot(kind='bar')\n",
    "ax.plot(weekly['adj_close'], label='Closing Price', color='cyan', marker='x')\n",
    "# ax = df.plot('short_date', 'adj_close', kind='bar')\n",
    "ax2.plot(weekly['volume'], label='Volume', color='orange', marker='o')\n",
    "ax.set_ylabel('Closing Price (USD)')\n",
    "ax2.set_ylabel('Volume')\n",
    "# plt.xticks(rotation=90)\n",
    "# plt.legend()\n",
    "ax.legend(loc='upper left')\n",
    "ax2.legend()\n",
    "plt.show()"
   ]
  },
  {
   "cell_type": "markdown",
   "metadata": {
    "extensions": {
     "jupyter_dashboards": {
      "version": 1,
      "views": {
       "grid_default": {},
       "report_default": {
        "hidden": false
       }
      }
     }
    }
   },
   "source": [
    "numbers:\n",
    "    highest volume\n",
    "    lowest volume\n",
    "    highest price\n",
    "    lowest price\n",
    "    \n",
    "over time:\n",
    "    closing versus opening\n",
    "    volume\n",
    "    \n",
    "averages (over different periods):\n",
    "    volume\n",
    "    high\n",
    "    low\n",
    "    closing\n",
    "last week\n",
    "last month"
   ]
  },
  {
   "cell_type": "code",
   "execution_count": 170,
   "metadata": {},
   "outputs": [],
   "source": [
    "# df"
   ]
  },
  {
   "cell_type": "code",
   "execution_count": 171,
   "metadata": {
    "extensions": {
     "jupyter_dashboards": {
      "version": 1,
      "views": {
       "grid_default": {},
       "report_default": {
        "hidden": false
       }
      }
     }
    }
   },
   "outputs": [
    {
     "name": "stdout",
     "output_type": "stream",
     "text": [
      "Highest Volume\n"
     ]
    },
    {
     "data": {
      "text/plain": [
       "55155300"
      ]
     },
     "execution_count": 171,
     "metadata": {},
     "output_type": "execute_result"
    }
   ],
   "source": [
    "# highest_volume = round(df['volume'].max(), 0)\n",
    "# highest_volume\n",
    "\n",
    "# df['volume'].max()\n",
    "print('Highest Volume')\n",
    "int(df['volume'].max())"
   ]
  },
  {
   "cell_type": "code",
   "execution_count": 172,
   "metadata": {
    "extensions": {
     "jupyter_dashboards": {
      "version": 1,
      "views": {
       "grid_default": {},
       "report_default": {
        "hidden": false
       }
      }
     }
    }
   },
   "outputs": [],
   "source": [
    "# df[['volume', 'short_date']].sort_values('volume', ascending=False)"
   ]
  },
  {
   "cell_type": "code",
   "execution_count": 173,
   "metadata": {},
   "outputs": [
    {
     "name": "stdout",
     "output_type": "stream",
     "text": [
      "Lowest Volume\n"
     ]
    },
    {
     "data": {
      "text/plain": [
       "13134700"
      ]
     },
     "execution_count": 173,
     "metadata": {},
     "output_type": "execute_result"
    }
   ],
   "source": [
    "print('Lowest Volume')\n",
    "int(df['volume'].min())"
   ]
  },
  {
   "cell_type": "code",
   "execution_count": 174,
   "metadata": {
    "extensions": {
     "jupyter_dashboards": {
      "version": 1,
      "views": {
       "grid_default": {},
       "report_default": {
        "hidden": false
       }
      }
     }
    }
   },
   "outputs": [],
   "source": [
    "# df[['volume', 'short_date']].sort_values('volume', ascending=True).head(1)"
   ]
  },
  {
   "cell_type": "code",
   "execution_count": 175,
   "metadata": {
    "extensions": {
     "jupyter_dashboards": {
      "version": 1,
      "views": {
       "grid_default": {},
       "report_default": {
        "hidden": false
       }
      }
     }
    }
   },
   "outputs": [],
   "source": [
    "# df[['adj_high', 'short_date']].sort_values('adj_high', ascending=False)"
   ]
  },
  {
   "cell_type": "code",
   "execution_count": 177,
   "metadata": {},
   "outputs": [
    {
     "name": "stdout",
     "output_type": "stream",
     "text": [
      "Highest Adjusted Price\n"
     ]
    },
    {
     "data": {
      "text/plain": [
       "456.16"
      ]
     },
     "execution_count": 177,
     "metadata": {},
     "output_type": "execute_result"
    }
   ],
   "source": [
    "print('Highest Adjusted Price')\n",
    "round(df['adj_high'].max(), 2)"
   ]
  },
  {
   "cell_type": "code",
   "execution_count": 178,
   "metadata": {
    "extensions": {
     "jupyter_dashboards": {
      "version": 1,
      "views": {
       "grid_default": {},
       "report_default": {
        "hidden": false
       }
      }
     }
    }
   },
   "outputs": [],
   "source": [
    "# df[['adj_high', 'short_date']].sort_values('adj_high', ascending=True).head(1)"
   ]
  },
  {
   "cell_type": "code",
   "execution_count": 179,
   "metadata": {},
   "outputs": [
    {
     "name": "stdout",
     "output_type": "stream",
     "text": [
      "Lowest Adjusted Price\n"
     ]
    },
    {
     "data": {
      "text/plain": [
       "385.58"
      ]
     },
     "execution_count": 179,
     "metadata": {},
     "output_type": "execute_result"
    }
   ],
   "source": [
    "print('Lowest Adjusted Price')\n",
    "df['adj_low'].min()"
   ]
  },
  {
   "cell_type": "code",
   "execution_count": 180,
   "metadata": {
    "extensions": {
     "jupyter_dashboards": {
      "version": 1,
      "views": {
       "grid_default": {},
       "report_default": {
        "hidden": false
       }
      }
     }
    }
   },
   "outputs": [],
   "source": [
    "# df.plot.line('short_date', y=['adj_open', 'adj_close'])\n",
    "# plt.xticks(rotation=90)\n",
    "# plt.xlabel('Date')\n",
    "# plt.ylabel('Adjusted Price (USD)')\n",
    "# plt.title('Microsoft EOD Data')\n",
    "# plt.legend(labels=['Adjusted Opening Price', 'Adjusted Closing Price'])"
   ]
  },
  {
   "cell_type": "code",
   "execution_count": 95,
   "metadata": {
    "extensions": {
     "jupyter_dashboards": {
      "version": 1,
      "views": {
       "grid_default": {},
       "report_default": {
        "hidden": false
       }
      }
     }
    }
   },
   "outputs": [
    {
     "data": {
      "text/plain": [
       "20284888.0"
      ]
     },
     "execution_count": 95,
     "metadata": {},
     "output_type": "execute_result"
    }
   ],
   "source": [
    "df['volume'].mean()"
   ]
  },
  {
   "cell_type": "code",
   "execution_count": 96,
   "metadata": {
    "extensions": {
     "jupyter_dashboards": {
      "version": 1,
      "views": {
       "grid_default": {},
       "report_default": {
        "hidden": false
       }
      }
     }
    }
   },
   "outputs": [
    {
     "data": {
      "text/plain": [
       "425.37820500000015"
      ]
     },
     "execution_count": 96,
     "metadata": {},
     "output_type": "execute_result"
    }
   ],
   "source": [
    "df['adj_high'].mean()"
   ]
  },
  {
   "cell_type": "code",
   "execution_count": 97,
   "metadata": {
    "extensions": {
     "jupyter_dashboards": {
      "version": 1,
      "views": {
       "grid_default": {},
       "report_default": {
        "hidden": false
       }
      }
     }
    }
   },
   "outputs": [
    {
     "data": {
      "text/plain": [
       "417.9611310000001"
      ]
     },
     "execution_count": 97,
     "metadata": {},
     "output_type": "execute_result"
    }
   ],
   "source": [
    "df['adj_low'].mean()"
   ]
  },
  {
   "cell_type": "code",
   "execution_count": 98,
   "metadata": {
    "extensions": {
     "jupyter_dashboards": {
      "version": 1,
      "views": {
       "grid_default": {},
       "report_default": {
        "hidden": false
       }
      }
     }
    }
   },
   "outputs": [
    {
     "data": {
      "text/plain": [
       "421.5292"
      ]
     },
     "execution_count": 98,
     "metadata": {},
     "output_type": "execute_result"
    }
   ],
   "source": [
    "df['adj_close'].mean()"
   ]
  },
  {
   "cell_type": "code",
   "execution_count": 144,
   "metadata": {
    "extensions": {
     "jupyter_dashboards": {
      "version": 1,
      "views": {
       "grid_default": {},
       "report_default": {
        "hidden": true
       }
      }
     }
    }
   },
   "outputs": [
    {
     "data": {
      "text/html": [
       "<div>\n",
       "<style scoped>\n",
       "    .dataframe tbody tr th:only-of-type {\n",
       "        vertical-align: middle;\n",
       "    }\n",
       "\n",
       "    .dataframe tbody tr th {\n",
       "        vertical-align: top;\n",
       "    }\n",
       "\n",
       "    .dataframe thead th {\n",
       "        text-align: right;\n",
       "    }\n",
       "</style>\n",
       "<table border=\"1\" class=\"dataframe\">\n",
       "  <thead>\n",
       "    <tr style=\"text-align: right;\">\n",
       "      <th></th>\n",
       "      <th>open</th>\n",
       "      <th>high</th>\n",
       "      <th>low</th>\n",
       "      <th>close</th>\n",
       "      <th>volume</th>\n",
       "      <th>adj_high</th>\n",
       "      <th>adj_low</th>\n",
       "      <th>adj_close</th>\n",
       "      <th>adj_open</th>\n",
       "      <th>adj_volume</th>\n",
       "      <th>split_factor</th>\n",
       "      <th>dividend</th>\n",
       "      <th>symbol</th>\n",
       "      <th>exchange</th>\n",
       "    </tr>\n",
       "    <tr>\n",
       "      <th>date</th>\n",
       "      <th></th>\n",
       "      <th></th>\n",
       "      <th></th>\n",
       "      <th></th>\n",
       "      <th></th>\n",
       "      <th></th>\n",
       "      <th></th>\n",
       "      <th></th>\n",
       "      <th></th>\n",
       "      <th></th>\n",
       "      <th></th>\n",
       "      <th></th>\n",
       "      <th></th>\n",
       "      <th></th>\n",
       "    </tr>\n",
       "  </thead>\n",
       "  <tbody>\n",
       "    <tr>\n",
       "      <th>2024-11-29 00:00:00+00:00</th>\n",
       "      <td>420.090</td>\n",
       "      <td>424.8800</td>\n",
       "      <td>417.80</td>\n",
       "      <td>423.46</td>\n",
       "      <td>16271900.0</td>\n",
       "      <td>424.8800</td>\n",
       "      <td>417.800</td>\n",
       "      <td>423.46</td>\n",
       "      <td>420.090</td>\n",
       "      <td>16271921.0</td>\n",
       "      <td>1.0</td>\n",
       "      <td>0.0</td>\n",
       "      <td>MSFT</td>\n",
       "      <td>XNAS</td>\n",
       "    </tr>\n",
       "    <tr>\n",
       "      <th>2024-11-27 00:00:00+00:00</th>\n",
       "      <td>425.105</td>\n",
       "      <td>427.2299</td>\n",
       "      <td>422.02</td>\n",
       "      <td>422.99</td>\n",
       "      <td>18332444.0</td>\n",
       "      <td>427.2299</td>\n",
       "      <td>422.020</td>\n",
       "      <td>422.99</td>\n",
       "      <td>425.105</td>\n",
       "      <td>18332444.0</td>\n",
       "      <td>1.0</td>\n",
       "      <td>0.0</td>\n",
       "      <td>MSFT</td>\n",
       "      <td>XNAS</td>\n",
       "    </tr>\n",
       "    <tr>\n",
       "      <th>2024-11-26 00:00:00+00:00</th>\n",
       "      <td>419.590</td>\n",
       "      <td>429.0400</td>\n",
       "      <td>418.85</td>\n",
       "      <td>427.99</td>\n",
       "      <td>23439600.0</td>\n",
       "      <td>429.0414</td>\n",
       "      <td>418.850</td>\n",
       "      <td>427.99</td>\n",
       "      <td>419.585</td>\n",
       "      <td>23458889.0</td>\n",
       "      <td>1.0</td>\n",
       "      <td>0.0</td>\n",
       "      <td>MSFT</td>\n",
       "      <td>XNAS</td>\n",
       "    </tr>\n",
       "    <tr>\n",
       "      <th>2024-11-25 00:00:00+00:00</th>\n",
       "      <td>418.380</td>\n",
       "      <td>421.0800</td>\n",
       "      <td>414.85</td>\n",
       "      <td>418.79</td>\n",
       "      <td>27651300.0</td>\n",
       "      <td>421.0800</td>\n",
       "      <td>414.850</td>\n",
       "      <td>418.79</td>\n",
       "      <td>418.380</td>\n",
       "      <td>27691090.0</td>\n",
       "      <td>1.0</td>\n",
       "      <td>0.0</td>\n",
       "      <td>MSFT</td>\n",
       "      <td>XNAS</td>\n",
       "    </tr>\n",
       "    <tr>\n",
       "      <th>2024-11-22 00:00:00+00:00</th>\n",
       "      <td>411.370</td>\n",
       "      <td>417.4000</td>\n",
       "      <td>411.06</td>\n",
       "      <td>417.00</td>\n",
       "      <td>24802100.0</td>\n",
       "      <td>417.4000</td>\n",
       "      <td>411.060</td>\n",
       "      <td>417.00</td>\n",
       "      <td>411.365</td>\n",
       "      <td>24814626.0</td>\n",
       "      <td>1.0</td>\n",
       "      <td>0.0</td>\n",
       "      <td>MSFT</td>\n",
       "      <td>XNAS</td>\n",
       "    </tr>\n",
       "    <tr>\n",
       "      <th>...</th>\n",
       "      <td>...</td>\n",
       "      <td>...</td>\n",
       "      <td>...</td>\n",
       "      <td>...</td>\n",
       "      <td>...</td>\n",
       "      <td>...</td>\n",
       "      <td>...</td>\n",
       "      <td>...</td>\n",
       "      <td>...</td>\n",
       "      <td>...</td>\n",
       "      <td>...</td>\n",
       "      <td>...</td>\n",
       "      <td>...</td>\n",
       "      <td>...</td>\n",
       "    </tr>\n",
       "    <tr>\n",
       "      <th>2024-07-17 00:00:00+00:00</th>\n",
       "      <td>442.430</td>\n",
       "      <td>444.8500</td>\n",
       "      <td>439.18</td>\n",
       "      <td>443.52</td>\n",
       "      <td>21741478.0</td>\n",
       "      <td>444.8500</td>\n",
       "      <td>439.180</td>\n",
       "      <td>443.52</td>\n",
       "      <td>442.590</td>\n",
       "      <td>21754021.0</td>\n",
       "      <td>1.0</td>\n",
       "      <td>0.0</td>\n",
       "      <td>MSFT</td>\n",
       "      <td>XNAS</td>\n",
       "    </tr>\n",
       "    <tr>\n",
       "      <th>2024-07-16 00:00:00+00:00</th>\n",
       "      <td>454.220</td>\n",
       "      <td>454.3000</td>\n",
       "      <td>446.66</td>\n",
       "      <td>449.52</td>\n",
       "      <td>17038389.0</td>\n",
       "      <td>454.3000</td>\n",
       "      <td>446.660</td>\n",
       "      <td>449.52</td>\n",
       "      <td>454.220</td>\n",
       "      <td>17175679.0</td>\n",
       "      <td>1.0</td>\n",
       "      <td>0.0</td>\n",
       "      <td>MSFT</td>\n",
       "      <td>XNAS</td>\n",
       "    </tr>\n",
       "    <tr>\n",
       "      <th>2024-07-15 00:00:00+00:00</th>\n",
       "      <td>453.420</td>\n",
       "      <td>457.2600</td>\n",
       "      <td>451.43</td>\n",
       "      <td>453.96</td>\n",
       "      <td>13621481.0</td>\n",
       "      <td>457.2600</td>\n",
       "      <td>451.430</td>\n",
       "      <td>453.96</td>\n",
       "      <td>453.300</td>\n",
       "      <td>14429447.0</td>\n",
       "      <td>1.0</td>\n",
       "      <td>0.0</td>\n",
       "      <td>MSFT</td>\n",
       "      <td>XNAS</td>\n",
       "    </tr>\n",
       "    <tr>\n",
       "      <th>2024-07-12 00:00:00+00:00</th>\n",
       "      <td>454.330</td>\n",
       "      <td>456.3600</td>\n",
       "      <td>450.65</td>\n",
       "      <td>453.55</td>\n",
       "      <td>16311300.0</td>\n",
       "      <td>456.3600</td>\n",
       "      <td>450.645</td>\n",
       "      <td>453.55</td>\n",
       "      <td>454.325</td>\n",
       "      <td>16324274.0</td>\n",
       "      <td>1.0</td>\n",
       "      <td>0.0</td>\n",
       "      <td>MSFT</td>\n",
       "      <td>XNAS</td>\n",
       "    </tr>\n",
       "    <tr>\n",
       "      <th>2024-07-11 00:00:00+00:00</th>\n",
       "      <td>462.730</td>\n",
       "      <td>464.7800</td>\n",
       "      <td>451.55</td>\n",
       "      <td>454.70</td>\n",
       "      <td>22835138.0</td>\n",
       "      <td>464.7800</td>\n",
       "      <td>451.550</td>\n",
       "      <td>454.70</td>\n",
       "      <td>462.980</td>\n",
       "      <td>23111175.0</td>\n",
       "      <td>1.0</td>\n",
       "      <td>0.0</td>\n",
       "      <td>MSFT</td>\n",
       "      <td>XNAS</td>\n",
       "    </tr>\n",
       "  </tbody>\n",
       "</table>\n",
       "<p>100 rows × 14 columns</p>\n",
       "</div>"
      ],
      "text/plain": [
       "                              open      high     low   close      volume  \\\n",
       "date                                                                       \n",
       "2024-11-29 00:00:00+00:00  420.090  424.8800  417.80  423.46  16271900.0   \n",
       "2024-11-27 00:00:00+00:00  425.105  427.2299  422.02  422.99  18332444.0   \n",
       "2024-11-26 00:00:00+00:00  419.590  429.0400  418.85  427.99  23439600.0   \n",
       "2024-11-25 00:00:00+00:00  418.380  421.0800  414.85  418.79  27651300.0   \n",
       "2024-11-22 00:00:00+00:00  411.370  417.4000  411.06  417.00  24802100.0   \n",
       "...                            ...       ...     ...     ...         ...   \n",
       "2024-07-17 00:00:00+00:00  442.430  444.8500  439.18  443.52  21741478.0   \n",
       "2024-07-16 00:00:00+00:00  454.220  454.3000  446.66  449.52  17038389.0   \n",
       "2024-07-15 00:00:00+00:00  453.420  457.2600  451.43  453.96  13621481.0   \n",
       "2024-07-12 00:00:00+00:00  454.330  456.3600  450.65  453.55  16311300.0   \n",
       "2024-07-11 00:00:00+00:00  462.730  464.7800  451.55  454.70  22835138.0   \n",
       "\n",
       "                           adj_high  adj_low  adj_close  adj_open  adj_volume  \\\n",
       "date                                                                            \n",
       "2024-11-29 00:00:00+00:00  424.8800  417.800     423.46   420.090  16271921.0   \n",
       "2024-11-27 00:00:00+00:00  427.2299  422.020     422.99   425.105  18332444.0   \n",
       "2024-11-26 00:00:00+00:00  429.0414  418.850     427.99   419.585  23458889.0   \n",
       "2024-11-25 00:00:00+00:00  421.0800  414.850     418.79   418.380  27691090.0   \n",
       "2024-11-22 00:00:00+00:00  417.4000  411.060     417.00   411.365  24814626.0   \n",
       "...                             ...      ...        ...       ...         ...   \n",
       "2024-07-17 00:00:00+00:00  444.8500  439.180     443.52   442.590  21754021.0   \n",
       "2024-07-16 00:00:00+00:00  454.3000  446.660     449.52   454.220  17175679.0   \n",
       "2024-07-15 00:00:00+00:00  457.2600  451.430     453.96   453.300  14429447.0   \n",
       "2024-07-12 00:00:00+00:00  456.3600  450.645     453.55   454.325  16324274.0   \n",
       "2024-07-11 00:00:00+00:00  464.7800  451.550     454.70   462.980  23111175.0   \n",
       "\n",
       "                           split_factor  dividend symbol exchange  \n",
       "date                                                               \n",
       "2024-11-29 00:00:00+00:00           1.0       0.0   MSFT     XNAS  \n",
       "2024-11-27 00:00:00+00:00           1.0       0.0   MSFT     XNAS  \n",
       "2024-11-26 00:00:00+00:00           1.0       0.0   MSFT     XNAS  \n",
       "2024-11-25 00:00:00+00:00           1.0       0.0   MSFT     XNAS  \n",
       "2024-11-22 00:00:00+00:00           1.0       0.0   MSFT     XNAS  \n",
       "...                                 ...       ...    ...      ...  \n",
       "2024-07-17 00:00:00+00:00           1.0       0.0   MSFT     XNAS  \n",
       "2024-07-16 00:00:00+00:00           1.0       0.0   MSFT     XNAS  \n",
       "2024-07-15 00:00:00+00:00           1.0       0.0   MSFT     XNAS  \n",
       "2024-07-12 00:00:00+00:00           1.0       0.0   MSFT     XNAS  \n",
       "2024-07-11 00:00:00+00:00           1.0       0.0   MSFT     XNAS  \n",
       "\n",
       "[100 rows x 14 columns]"
      ]
     },
     "execution_count": 144,
     "metadata": {},
     "output_type": "execute_result"
    }
   ],
   "source": [
    "# df2 = df.set_index('date')\n",
    "# df2"
   ]
  },
  {
   "cell_type": "code",
   "execution_count": 189,
   "metadata": {},
   "outputs": [
    {
     "name": "stdout",
     "output_type": "stream",
     "text": [
      "Last Week\n"
     ]
    }
   ],
   "source": [
    "print('Last Week')"
   ]
  },
  {
   "cell_type": "code",
   "execution_count": 191,
   "metadata": {},
   "outputs": [
    {
     "name": "stdout",
     "output_type": "stream",
     "text": [
      "Average Volume\n"
     ]
    }
   ],
   "source": [
    "print('Average Volume')"
   ]
  },
  {
   "cell_type": "code",
   "execution_count": 190,
   "metadata": {},
   "outputs": [
    {
     "data": {
      "text/plain": [
       "20875650"
      ]
     },
     "execution_count": 190,
     "metadata": {},
     "output_type": "execute_result"
    }
   ],
   "source": [
    "df_last_week = df.loc[df['date'].between('2024-12-11','2024-12-17', inclusive=True)]\n",
    "# df_last_week\n",
    "int(df_last_week['volume'].mean())"
   ]
  },
  {
   "cell_type": "code",
   "execution_count": 192,
   "metadata": {},
   "outputs": [
    {
     "name": "stdout",
     "output_type": "stream",
     "text": [
      "Highest Price\n"
     ]
    }
   ],
   "source": [
    "print('Highest Price')"
   ]
  },
  {
   "cell_type": "code",
   "execution_count": 194,
   "metadata": {},
   "outputs": [
    {
     "data": {
      "text/plain": [
       "456.16"
      ]
     },
     "execution_count": 194,
     "metadata": {},
     "output_type": "execute_result"
    }
   ],
   "source": [
    "round(df_last_week['adj_high'].max(), 2)"
   ]
  },
  {
   "cell_type": "code",
   "execution_count": 195,
   "metadata": {},
   "outputs": [
    {
     "name": "stdout",
     "output_type": "stream",
     "text": [
      "Lowest Price\n"
     ]
    }
   ],
   "source": [
    "print('Lowest Price')"
   ]
  },
  {
   "cell_type": "code",
   "execution_count": 196,
   "metadata": {},
   "outputs": [
    {
     "data": {
      "text/plain": [
       "444.05"
      ]
     },
     "execution_count": 196,
     "metadata": {},
     "output_type": "execute_result"
    }
   ],
   "source": [
    "round(df_last_week['adj_low'].min(), 2)"
   ]
  },
  {
   "cell_type": "code",
   "execution_count": 197,
   "metadata": {},
   "outputs": [
    {
     "name": "stdout",
     "output_type": "stream",
     "text": [
      "Average Closing Price\n"
     ]
    }
   ],
   "source": [
    "print('Average Closing Price')"
   ]
  },
  {
   "cell_type": "code",
   "execution_count": 198,
   "metadata": {},
   "outputs": [
    {
     "data": {
      "text/plain": [
       "450.37"
      ]
     },
     "execution_count": 198,
     "metadata": {},
     "output_type": "execute_result"
    }
   ],
   "source": [
    "round(df_last_week['adj_close'].mean(), 2)"
   ]
  },
  {
   "cell_type": "code",
   "execution_count": 204,
   "metadata": {},
   "outputs": [
    {
     "name": "stdout",
     "output_type": "stream",
     "text": [
      "Last Two Weeks\n"
     ]
    }
   ],
   "source": [
    "print('Last Two Weeks')"
   ]
  },
  {
   "cell_type": "code",
   "execution_count": 199,
   "metadata": {},
   "outputs": [],
   "source": [
    "df_last_two_weeks = df.loc[df['date'].between('2024-12-04','2024-12-17', inclusive=True)]"
   ]
  },
  {
   "cell_type": "code",
   "execution_count": 200,
   "metadata": {},
   "outputs": [
    {
     "data": {
      "text/plain": [
       "20842295"
      ]
     },
     "execution_count": 200,
     "metadata": {},
     "output_type": "execute_result"
    }
   ],
   "source": [
    "int(df_last_two_weeks['volume'].mean())"
   ]
  },
  {
   "cell_type": "code",
   "execution_count": 201,
   "metadata": {},
   "outputs": [
    {
     "data": {
      "text/plain": [
       "456.16"
      ]
     },
     "execution_count": 201,
     "metadata": {},
     "output_type": "execute_result"
    }
   ],
   "source": [
    "round(df_last_two_weeks['adj_high'].max(), 2)"
   ]
  },
  {
   "cell_type": "code",
   "execution_count": 202,
   "metadata": {},
   "outputs": [
    {
     "data": {
      "text/plain": [
       "432.63"
      ]
     },
     "execution_count": 202,
     "metadata": {},
     "output_type": "execute_result"
    }
   ],
   "source": [
    "round(df_last_two_weeks['adj_low'].min(), 2)"
   ]
  },
  {
   "cell_type": "code",
   "execution_count": 203,
   "metadata": {},
   "outputs": [
    {
     "data": {
      "text/plain": [
       "446.48"
      ]
     },
     "execution_count": 203,
     "metadata": {},
     "output_type": "execute_result"
    }
   ],
   "source": [
    "round(df_last_two_weeks['adj_close'].mean(), 2)"
   ]
  },
  {
   "cell_type": "code",
   "execution_count": 205,
   "metadata": {},
   "outputs": [
    {
     "name": "stdout",
     "output_type": "stream",
     "text": [
      "Last Year\n"
     ]
    }
   ],
   "source": [
    "print('Last Year')"
   ]
  },
  {
   "cell_type": "code",
   "execution_count": 206,
   "metadata": {},
   "outputs": [
    {
     "data": {
      "text/plain": [
       "20331555"
      ]
     },
     "execution_count": 206,
     "metadata": {},
     "output_type": "execute_result"
    }
   ],
   "source": [
    "int(df['volume'].mean())"
   ]
  },
  {
   "cell_type": "code",
   "execution_count": 207,
   "metadata": {},
   "outputs": [
    {
     "data": {
      "text/plain": [
       "456.16"
      ]
     },
     "execution_count": 207,
     "metadata": {},
     "output_type": "execute_result"
    }
   ],
   "source": [
    "round(df['adj_high'].max(), 2)"
   ]
  },
  {
   "cell_type": "code",
   "execution_count": 208,
   "metadata": {},
   "outputs": [
    {
     "data": {
      "text/plain": [
       "385.58"
      ]
     },
     "execution_count": 208,
     "metadata": {},
     "output_type": "execute_result"
    }
   ],
   "source": [
    "round(df['adj_low'].min(), 2)"
   ]
  },
  {
   "cell_type": "code",
   "execution_count": 209,
   "metadata": {},
   "outputs": [
    {
     "data": {
      "text/plain": [
       "421.87"
      ]
     },
     "execution_count": 209,
     "metadata": {},
     "output_type": "execute_result"
    }
   ],
   "source": [
    "round(df['adj_close'].mean(), 2)"
   ]
  },
  {
   "cell_type": "code",
   "execution_count": null,
   "metadata": {},
   "outputs": [],
   "source": []
  }
 ],
 "metadata": {
  "extensions": {
   "jupyter_dashboards": {
    "activeView": "report_default",
    "version": 1,
    "views": {
     "grid_default": {
      "name": "grid",
      "type": "grid"
     },
     "report_default": {
      "name": "report",
      "type": "report"
     }
    }
   }
  },
  "kernelspec": {
   "display_name": "Python 3",
   "language": "python",
   "name": "python3"
  },
  "language_info": {
   "codemirror_mode": {
    "name": "ipython",
    "version": 3
   },
   "file_extension": ".py",
   "mimetype": "text/x-python",
   "name": "python",
   "nbconvert_exporter": "python",
   "pygments_lexer": "ipython3",
   "version": "3.8.5"
  }
 },
 "nbformat": 4,
 "nbformat_minor": 4
}
