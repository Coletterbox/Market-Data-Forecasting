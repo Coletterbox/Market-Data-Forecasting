{
 "cells": [
  {
   "cell_type": "code",
   "execution_count": 111,
   "metadata": {
    "extensions": {
     "jupyter_dashboards": {
      "version": 1,
      "views": {
       "grid_default": {},
       "report_default": {
        "hidden": true
       }
      }
     }
    }
   },
   "outputs": [],
   "source": [
    "import requests\n",
    "import pandas as pd\n",
    "import matplotlib.pyplot as plt\n",
    "import numpy as np\n",
    "from api_key_container import api_key"
   ]
  },
  {
   "cell_type": "code",
   "execution_count": 156,
   "metadata": {
    "extensions": {
     "jupyter_dashboards": {
      "version": 1,
      "views": {
       "grid_default": {},
       "report_default": {
        "hidden": false
       }
      }
     }
    }
   },
   "outputs": [],
   "source": [
    "url = \"https://api.marketstack.com/v1/tickers?access_key=\" + api_key\n",
    "response = requests.get(url)\n",
    "response_json = response.json()\n",
    "# print(response_json)"
   ]
  },
  {
   "cell_type": "code",
   "execution_count": 157,
   "metadata": {
    "extensions": {
     "jupyter_dashboards": {
      "version": 1,
      "views": {
       "grid_default": {},
       "report_default": {
        "hidden": true
       }
      }
     }
    }
   },
   "outputs": [],
   "source": [
    "companies = response_json['data']"
   ]
  },
  {
   "cell_type": "code",
   "execution_count": 158,
   "metadata": {
    "extensions": {
     "jupyter_dashboards": {
      "version": 1,
      "views": {
       "grid_default": {},
       "report_default": {
        "hidden": false
       }
      }
     }
    }
   },
   "outputs": [],
   "source": [
    "df = pd.json_normalize(companies, meta=['name'])\n",
    "# print(df)"
   ]
  },
  {
   "cell_type": "code",
   "execution_count": 159,
   "metadata": {
    "extensions": {
     "jupyter_dashboards": {
      "version": 1,
      "views": {
       "grid_default": {},
       "report_default": {
        "hidden": false
       }
      }
     }
    }
   },
   "outputs": [],
   "source": [
    "url = \"https://api.marketstack.com/v1/splits?access_key=\" + api_key\n",
    "querystring = {\"symbols\":\"MSFT\"}\n",
    "response = requests.get(url, params=querystring)\n",
    "# print(response.json())"
   ]
  },
  {
   "cell_type": "code",
   "execution_count": 160,
   "metadata": {
    "extensions": {
     "jupyter_dashboards": {
      "version": 1,
      "views": {
       "grid_default": {},
       "report_default": {
        "hidden": false
       }
      }
     }
    },
    "scrolled": true
   },
   "outputs": [],
   "source": [
    "url = \"https://api.marketstack.com/v1/eod?access_key=\" + api_key\n",
    "querystring = {\"symbols\":\"MSFT\",\"date_from\":\"2023-12-19\", \"date_to\":\"2024-12-19\"}\n",
    "response = requests.get(url, params=querystring)\n",
    "# print(response.json())"
   ]
  },
  {
   "cell_type": "code",
   "execution_count": 161,
   "metadata": {
    "extensions": {
     "jupyter_dashboards": {
      "version": 1,
      "views": {
       "grid_default": {},
       "report_default": {
        "hidden": false
       }
      }
     }
    }
   },
   "outputs": [],
   "source": [
    "historical_data = response.json()['data']\n",
    "# historical_data"
   ]
  },
  {
   "cell_type": "code",
   "execution_count": 162,
   "metadata": {
    "extensions": {
     "jupyter_dashboards": {
      "version": 1,
      "views": {
       "grid_default": {},
       "report_default": {
        "hidden": false
       }
      }
     }
    }
   },
   "outputs": [],
   "source": [
    "df = pd.json_normalize(historical_data, meta=['date'])\n",
    "# df"
   ]
  },
  {
   "cell_type": "code",
   "execution_count": 163,
   "metadata": {},
   "outputs": [],
   "source": [
    "df['date'] = pd.to_datetime(df['date'])\n",
    "# df"
   ]
  },
  {
   "cell_type": "code",
   "execution_count": 164,
   "metadata": {},
   "outputs": [],
   "source": [
    "monthly = df.groupby(pd.Grouper(key='date', freq='M')).mean() \n",
    "# monthly"
   ]
  },
  {
   "cell_type": "code",
   "execution_count": 165,
   "metadata": {},
   "outputs": [],
   "source": [
    "weekly = df.groupby(pd.Grouper(key='date', freq='W')).mean() \n",
    "# weekly"
   ]
  },
  {
   "cell_type": "code",
   "execution_count": 166,
   "metadata": {
    "extensions": {
     "jupyter_dashboards": {
      "version": 1,
      "views": {
       "grid_default": {},
       "report_default": {
        "hidden": false
       }
      }
     }
    }
   },
   "outputs": [],
   "source": [
    "def shorten_date(date):\n",
    "    return date[0:10]\n",
    "\n",
    "# df['date']\n",
    "# df['short_date'] = df['date'].apply(shorten_date)\n",
    "# df"
   ]
  },
  {
   "cell_type": "code",
   "execution_count": 167,
   "metadata": {},
   "outputs": [],
   "source": [
    "# df.plot('short_date', 'volume', kind='bar')"
   ]
  },
  {
   "cell_type": "code",
   "execution_count": 124,
   "metadata": {
    "extensions": {
     "jupyter_dashboards": {
      "version": 1,
      "views": {
       "grid_default": {},
       "report_default": {
        "hidden": false
       }
      }
     }
    }
   },
   "outputs": [
    {
     "data": {
      "text/plain": [
       "<AxesSubplot:xlabel='date'>"
      ]
     },
     "execution_count": 124,
     "metadata": {},
     "output_type": "execute_result"
    },
    {
     "data": {
      "image/png": "[encoded data removed]",
      "text/plain": [
       "<Figure size 432x288 with 1 Axes>"
      ]
     },
     "metadata": {
      "needs_background": "light"
     },
     "output_type": "display_data"
    }
   ],
   "source": [
    "# weekly.plot.bar(x='date', y='adj_close')\n",
    "# weekly.plot.bar(weekly.index, y='adj_close')\n",
    "weekly.plot.bar(y='adj_close')\n",
    "\n",
    "# df.plot.bar('short_date', y='adj_close')\n",
    "# df.plot.line('short_date', y='adj_high', secondary_y=True)\n",
    "\n",
    "# plt.xlabel('Date')\n",
    "# plt.ylabel('Adjusted Price (USD)')\n",
    "# plt.title('Microsoft EOD Data')\n",
    "\n",
    "# # plt.legend(title='')\n",
    "# plt.legend(labels=['Adjusted High Price', 'Adjusted Closing Price'])\n",
    "# plt.show()"
   ]
  },
  {
   "cell_type": "code",
   "execution_count": 125,
   "metadata": {},
   "outputs": [
    {
     "data": {
      "image/png": "[encoded data removed]",
      "text/plain": [
       "<Figure size 864x360 with 2 Axes>"
      ]
     },
     "metadata": {
      "needs_background": "light"
     },
     "output_type": "display_data"
    }
   ],
   "source": [
    "# fig, ax = plt.subplots(figsize=(12,5))\n",
    "# ax2 = ax.twinx()\n",
    "# ax.set_title('Closing')\n",
    "# ax.set_xlabel('Date')\n",
    "# plt.xticks(rotation=90)\n",
    "# # ax.xticks(rotation=90)\n",
    "# ax.plot(df['short_date'], df['adj_close'], color='green', marker='x')\n",
    "# # ax = df.plot('short_date', 'adj_close', kind='bar')\n",
    "# ax2.plot(df['short_date'], df['volume'], color='red', marker='o')\n",
    "# ax.set_ylabel('Closing')\n",
    "# ax2.set_ylabel('Volume')\n",
    "# # plt.xticks(rotation=90)\n",
    "# plt.show()\n",
    "\n",
    "fig, ax = plt.subplots(figsize=(12,5))\n",
    "ax2 = ax.twinx()\n",
    "ax.set_title('Average Weekly Closing Price and Volume')\n",
    "ax.set_xlabel('Date')\n",
    "plt.xticks(rotation=90)\n",
    "plt.plot(kind='bar')\n",
    "# ax.xticks(rotation=90)\n",
    "# ax.plot(kind='bar')\n",
    "ax.plot(weekly['adj_close'], label='Closing Price', color='cyan', marker='x')\n",
    "# ax = df.plot('short_date', 'adj_close', kind='bar')\n",
    "ax2.plot(weekly['volume'], label='Volume', color='orange', marker='o')\n",
    "ax.set_ylabel('Closing Price (USD)')\n",
    "ax2.set_ylabel('Volume')\n",
    "# plt.xticks(rotation=90)\n",
    "# plt.legend()\n",
    "ax.legend(loc='upper left')\n",
    "ax2.legend()\n",
    "plt.show()"
   ]
  },
  {
   "cell_type": "code",
   "execution_count": 126,
   "metadata": {
    "extensions": {
     "jupyter_dashboards": {
      "version": 1,
      "views": {
       "grid_default": {},
       "report_default": {
        "hidden": false
       }
      }
     }
    }
   },
   "outputs": [],
   "source": [
    "# df.plot.line('short_date', 'volume')\n",
    "# plt.xticks(rotation=90)\n",
    "# plt.xlabel('Date')\n",
    "# plt.ylabel('Volume')\n",
    "# plt.title('Microsoft EOD Data')\n",
    "\n",
    "# # plt.legend(title='')\n",
    "# plt.legend(labels=['Volume'])"
   ]
  },
  {
   "cell_type": "markdown",
   "metadata": {
    "extensions": {
     "jupyter_dashboards": {
      "version": 1,
      "views": {
       "grid_default": {},
       "report_default": {
        "hidden": false
       }
      }
     }
    }
   },
   "source": [
    "numbers:\n",
    "    highest volume\n",
    "    lowest volume\n",
    "    highest price\n",
    "    lowest price\n",
    "    \n",
    "over time:\n",
    "    closing versus opening\n",
    "    volume\n",
    "    \n",
    "averages (over different periods):\n",
    "    volume\n",
    "    high\n",
    "    low\n",
    "    closing\n",
    "last week\n",
    "last month"
   ]
  },
  {
   "cell_type": "code",
   "execution_count": 127,
   "metadata": {},
   "outputs": [
    {
     "data": {
      "text/html": [
       "<div>\n",
       "<style scoped>\n",
       "    .dataframe tbody tr th:only-of-type {\n",
       "        vertical-align: middle;\n",
       "    }\n",
       "\n",
       "    .dataframe tbody tr th {\n",
       "        vertical-align: top;\n",
       "    }\n",
       "\n",
       "    .dataframe thead th {\n",
       "        text-align: right;\n",
       "    }\n",
       "</style>\n",
       "<table border=\"1\" class=\"dataframe\">\n",
       "  <thead>\n",
       "    <tr style=\"text-align: right;\">\n",
       "      <th></th>\n",
       "      <th>open</th>\n",
       "      <th>high</th>\n",
       "      <th>low</th>\n",
       "      <th>close</th>\n",
       "      <th>volume</th>\n",
       "      <th>adj_high</th>\n",
       "      <th>adj_low</th>\n",
       "      <th>adj_close</th>\n",
       "      <th>adj_open</th>\n",
       "      <th>adj_volume</th>\n",
       "      <th>split_factor</th>\n",
       "      <th>dividend</th>\n",
       "      <th>symbol</th>\n",
       "      <th>exchange</th>\n",
       "      <th>date</th>\n",
       "    </tr>\n",
       "  </thead>\n",
       "  <tbody>\n",
       "    <tr>\n",
       "      <th>0</th>\n",
       "      <td>420.090</td>\n",
       "      <td>424.8800</td>\n",
       "      <td>417.80</td>\n",
       "      <td>423.46</td>\n",
       "      <td>16271900.0</td>\n",
       "      <td>424.8800</td>\n",
       "      <td>417.800</td>\n",
       "      <td>423.46</td>\n",
       "      <td>420.090</td>\n",
       "      <td>16271921.0</td>\n",
       "      <td>1.0</td>\n",
       "      <td>0.0</td>\n",
       "      <td>MSFT</td>\n",
       "      <td>XNAS</td>\n",
       "      <td>2024-11-29 00:00:00+00:00</td>\n",
       "    </tr>\n",
       "    <tr>\n",
       "      <th>1</th>\n",
       "      <td>425.105</td>\n",
       "      <td>427.2299</td>\n",
       "      <td>422.02</td>\n",
       "      <td>422.99</td>\n",
       "      <td>18332444.0</td>\n",
       "      <td>427.2299</td>\n",
       "      <td>422.020</td>\n",
       "      <td>422.99</td>\n",
       "      <td>425.105</td>\n",
       "      <td>18332444.0</td>\n",
       "      <td>1.0</td>\n",
       "      <td>0.0</td>\n",
       "      <td>MSFT</td>\n",
       "      <td>XNAS</td>\n",
       "      <td>2024-11-27 00:00:00+00:00</td>\n",
       "    </tr>\n",
       "    <tr>\n",
       "      <th>2</th>\n",
       "      <td>419.590</td>\n",
       "      <td>429.0400</td>\n",
       "      <td>418.85</td>\n",
       "      <td>427.99</td>\n",
       "      <td>23439600.0</td>\n",
       "      <td>429.0414</td>\n",
       "      <td>418.850</td>\n",
       "      <td>427.99</td>\n",
       "      <td>419.585</td>\n",
       "      <td>23458889.0</td>\n",
       "      <td>1.0</td>\n",
       "      <td>0.0</td>\n",
       "      <td>MSFT</td>\n",
       "      <td>XNAS</td>\n",
       "      <td>2024-11-26 00:00:00+00:00</td>\n",
       "    </tr>\n",
       "    <tr>\n",
       "      <th>3</th>\n",
       "      <td>418.380</td>\n",
       "      <td>421.0800</td>\n",
       "      <td>414.85</td>\n",
       "      <td>418.79</td>\n",
       "      <td>27651300.0</td>\n",
       "      <td>421.0800</td>\n",
       "      <td>414.850</td>\n",
       "      <td>418.79</td>\n",
       "      <td>418.380</td>\n",
       "      <td>27691090.0</td>\n",
       "      <td>1.0</td>\n",
       "      <td>0.0</td>\n",
       "      <td>MSFT</td>\n",
       "      <td>XNAS</td>\n",
       "      <td>2024-11-25 00:00:00+00:00</td>\n",
       "    </tr>\n",
       "    <tr>\n",
       "      <th>4</th>\n",
       "      <td>411.370</td>\n",
       "      <td>417.4000</td>\n",
       "      <td>411.06</td>\n",
       "      <td>417.00</td>\n",
       "      <td>24802100.0</td>\n",
       "      <td>417.4000</td>\n",
       "      <td>411.060</td>\n",
       "      <td>417.00</td>\n",
       "      <td>411.365</td>\n",
       "      <td>24814626.0</td>\n",
       "      <td>1.0</td>\n",
       "      <td>0.0</td>\n",
       "      <td>MSFT</td>\n",
       "      <td>XNAS</td>\n",
       "      <td>2024-11-22 00:00:00+00:00</td>\n",
       "    </tr>\n",
       "    <tr>\n",
       "      <th>...</th>\n",
       "      <td>...</td>\n",
       "      <td>...</td>\n",
       "      <td>...</td>\n",
       "      <td>...</td>\n",
       "      <td>...</td>\n",
       "      <td>...</td>\n",
       "      <td>...</td>\n",
       "      <td>...</td>\n",
       "      <td>...</td>\n",
       "      <td>...</td>\n",
       "      <td>...</td>\n",
       "      <td>...</td>\n",
       "      <td>...</td>\n",
       "      <td>...</td>\n",
       "      <td>...</td>\n",
       "    </tr>\n",
       "    <tr>\n",
       "      <th>95</th>\n",
       "      <td>442.430</td>\n",
       "      <td>444.8500</td>\n",
       "      <td>439.18</td>\n",
       "      <td>443.52</td>\n",
       "      <td>21741478.0</td>\n",
       "      <td>444.8500</td>\n",
       "      <td>439.180</td>\n",
       "      <td>443.52</td>\n",
       "      <td>442.590</td>\n",
       "      <td>21754021.0</td>\n",
       "      <td>1.0</td>\n",
       "      <td>0.0</td>\n",
       "      <td>MSFT</td>\n",
       "      <td>XNAS</td>\n",
       "      <td>2024-07-17 00:00:00+00:00</td>\n",
       "    </tr>\n",
       "    <tr>\n",
       "      <th>96</th>\n",
       "      <td>454.220</td>\n",
       "      <td>454.3000</td>\n",
       "      <td>446.66</td>\n",
       "      <td>449.52</td>\n",
       "      <td>17038389.0</td>\n",
       "      <td>454.3000</td>\n",
       "      <td>446.660</td>\n",
       "      <td>449.52</td>\n",
       "      <td>454.220</td>\n",
       "      <td>17175679.0</td>\n",
       "      <td>1.0</td>\n",
       "      <td>0.0</td>\n",
       "      <td>MSFT</td>\n",
       "      <td>XNAS</td>\n",
       "      <td>2024-07-16 00:00:00+00:00</td>\n",
       "    </tr>\n",
       "    <tr>\n",
       "      <th>97</th>\n",
       "      <td>453.420</td>\n",
       "      <td>457.2600</td>\n",
       "      <td>451.43</td>\n",
       "      <td>453.96</td>\n",
       "      <td>13621481.0</td>\n",
       "      <td>457.2600</td>\n",
       "      <td>451.430</td>\n",
       "      <td>453.96</td>\n",
       "      <td>453.300</td>\n",
       "      <td>14429447.0</td>\n",
       "      <td>1.0</td>\n",
       "      <td>0.0</td>\n",
       "      <td>MSFT</td>\n",
       "      <td>XNAS</td>\n",
       "      <td>2024-07-15 00:00:00+00:00</td>\n",
       "    </tr>\n",
       "    <tr>\n",
       "      <th>98</th>\n",
       "      <td>454.330</td>\n",
       "      <td>456.3600</td>\n",
       "      <td>450.65</td>\n",
       "      <td>453.55</td>\n",
       "      <td>16311300.0</td>\n",
       "      <td>456.3600</td>\n",
       "      <td>450.645</td>\n",
       "      <td>453.55</td>\n",
       "      <td>454.325</td>\n",
       "      <td>16324274.0</td>\n",
       "      <td>1.0</td>\n",
       "      <td>0.0</td>\n",
       "      <td>MSFT</td>\n",
       "      <td>XNAS</td>\n",
       "      <td>2024-07-12 00:00:00+00:00</td>\n",
       "    </tr>\n",
       "    <tr>\n",
       "      <th>99</th>\n",
       "      <td>462.730</td>\n",
       "      <td>464.7800</td>\n",
       "      <td>451.55</td>\n",
       "      <td>454.70</td>\n",
       "      <td>22835138.0</td>\n",
       "      <td>464.7800</td>\n",
       "      <td>451.550</td>\n",
       "      <td>454.70</td>\n",
       "      <td>462.980</td>\n",
       "      <td>23111175.0</td>\n",
       "      <td>1.0</td>\n",
       "      <td>0.0</td>\n",
       "      <td>MSFT</td>\n",
       "      <td>XNAS</td>\n",
       "      <td>2024-07-11 00:00:00+00:00</td>\n",
       "    </tr>\n",
       "  </tbody>\n",
       "</table>\n",
       "<p>100 rows × 15 columns</p>\n",
       "</div>"
      ],
      "text/plain": [
       "       open      high     low   close      volume  adj_high  adj_low  \\\n",
       "0   420.090  424.8800  417.80  423.46  16271900.0  424.8800  417.800   \n",
       "1   425.105  427.2299  422.02  422.99  18332444.0  427.2299  422.020   \n",
       "2   419.590  429.0400  418.85  427.99  23439600.0  429.0414  418.850   \n",
       "3   418.380  421.0800  414.85  418.79  27651300.0  421.0800  414.850   \n",
       "4   411.370  417.4000  411.06  417.00  24802100.0  417.4000  411.060   \n",
       "..      ...       ...     ...     ...         ...       ...      ...   \n",
       "95  442.430  444.8500  439.18  443.52  21741478.0  444.8500  439.180   \n",
       "96  454.220  454.3000  446.66  449.52  17038389.0  454.3000  446.660   \n",
       "97  453.420  457.2600  451.43  453.96  13621481.0  457.2600  451.430   \n",
       "98  454.330  456.3600  450.65  453.55  16311300.0  456.3600  450.645   \n",
       "99  462.730  464.7800  451.55  454.70  22835138.0  464.7800  451.550   \n",
       "\n",
       "    adj_close  adj_open  adj_volume  split_factor  dividend symbol exchange  \\\n",
       "0      423.46   420.090  16271921.0           1.0       0.0   MSFT     XNAS   \n",
       "1      422.99   425.105  18332444.0           1.0       0.0   MSFT     XNAS   \n",
       "2      427.99   419.585  23458889.0           1.0       0.0   MSFT     XNAS   \n",
       "3      418.79   418.380  27691090.0           1.0       0.0   MSFT     XNAS   \n",
       "4      417.00   411.365  24814626.0           1.0       0.0   MSFT     XNAS   \n",
       "..        ...       ...         ...           ...       ...    ...      ...   \n",
       "95     443.52   442.590  21754021.0           1.0       0.0   MSFT     XNAS   \n",
       "96     449.52   454.220  17175679.0           1.0       0.0   MSFT     XNAS   \n",
       "97     453.96   453.300  14429447.0           1.0       0.0   MSFT     XNAS   \n",
       "98     453.55   454.325  16324274.0           1.0       0.0   MSFT     XNAS   \n",
       "99     454.70   462.980  23111175.0           1.0       0.0   MSFT     XNAS   \n",
       "\n",
       "                        date  \n",
       "0  2024-11-29 00:00:00+00:00  \n",
       "1  2024-11-27 00:00:00+00:00  \n",
       "2  2024-11-26 00:00:00+00:00  \n",
       "3  2024-11-25 00:00:00+00:00  \n",
       "4  2024-11-22 00:00:00+00:00  \n",
       "..                       ...  \n",
       "95 2024-07-17 00:00:00+00:00  \n",
       "96 2024-07-16 00:00:00+00:00  \n",
       "97 2024-07-15 00:00:00+00:00  \n",
       "98 2024-07-12 00:00:00+00:00  \n",
       "99 2024-07-11 00:00:00+00:00  \n",
       "\n",
       "[100 rows x 15 columns]"
      ]
     },
     "execution_count": 127,
     "metadata": {},
     "output_type": "execute_result"
    }
   ],
   "source": [
    "df"
   ]
  },
  {
   "cell_type": "code",
   "execution_count": 128,
   "metadata": {
    "extensions": {
     "jupyter_dashboards": {
      "version": 1,
      "views": {
       "grid_default": {},
       "report_default": {
        "hidden": false
       }
      }
     }
    }
   },
   "outputs": [
    {
     "name": "stdout",
     "output_type": "stream",
     "text": [
      "Highest Volume\n"
     ]
    },
    {
     "data": {
      "text/plain": [
       "55155300"
      ]
     },
     "execution_count": 128,
     "metadata": {},
     "output_type": "execute_result"
    }
   ],
   "source": [
    "# highest_volume = round(df['volume'].max(), 0)\n",
    "# highest_volume\n",
    "\n",
    "# df['volume'].max()\n",
    "print('Highest Volume')\n",
    "int(df['volume'].max())"
   ]
  },
  {
   "cell_type": "code",
   "execution_count": 129,
   "metadata": {
    "extensions": {
     "jupyter_dashboards": {
      "version": 1,
      "views": {
       "grid_default": {},
       "report_default": {
        "hidden": false
       }
      }
     }
    }
   },
   "outputs": [],
   "source": [
    "# df[['volume', 'short_date']].sort_values('volume', ascending=False)"
   ]
  },
  {
   "cell_type": "code",
   "execution_count": 130,
   "metadata": {},
   "outputs": [
    {
     "name": "stdout",
     "output_type": "stream",
     "text": [
      "Lowest Volume\n"
     ]
    },
    {
     "data": {
      "text/plain": [
       "13075000"
      ]
     },
     "execution_count": 130,
     "metadata": {},
     "output_type": "execute_result"
    }
   ],
   "source": [
    "print('Lowest Volume')\n",
    "int(df['volume'].min())"
   ]
  },
  {
   "cell_type": "code",
   "execution_count": 131,
   "metadata": {
    "extensions": {
     "jupyter_dashboards": {
      "version": 1,
      "views": {
       "grid_default": {},
       "report_default": {
        "hidden": false
       }
      }
     }
    }
   },
   "outputs": [],
   "source": [
    "# df[['volume', 'short_date']].sort_values('volume', ascending=True).head(1)"
   ]
  },
  {
   "cell_type": "code",
   "execution_count": 133,
   "metadata": {
    "extensions": {
     "jupyter_dashboards": {
      "version": 1,
      "views": {
       "grid_default": {},
       "report_default": {
        "hidden": false
       }
      }
     }
    }
   },
   "outputs": [],
   "source": [
    "# df[['adj_high', 'short_date']].sort_values('adj_high', ascending=False)"
   ]
  },
  {
   "cell_type": "code",
   "execution_count": 134,
   "metadata": {},
   "outputs": [
    {
     "name": "stdout",
     "output_type": "stream",
     "text": [
      "Highest Adjusted Price\n"
     ]
    },
    {
     "data": {
      "text/plain": [
       "464.78"
      ]
     },
     "execution_count": 134,
     "metadata": {},
     "output_type": "execute_result"
    }
   ],
   "source": [
    "print('Highest Adjusted Price')\n",
    "df['adj_high'].max()"
   ]
  },
  {
   "cell_type": "code",
   "execution_count": 135,
   "metadata": {
    "extensions": {
     "jupyter_dashboards": {
      "version": 1,
      "views": {
       "grid_default": {},
       "report_default": {
        "hidden": false
       }
      }
     }
    }
   },
   "outputs": [],
   "source": [
    "# df[['adj_high', 'short_date']].sort_values('adj_high', ascending=True).head(1)"
   ]
  },
  {
   "cell_type": "code",
   "execution_count": 136,
   "metadata": {},
   "outputs": [
    {
     "name": "stdout",
     "output_type": "stream",
     "text": [
      "Lowest Adjusted Price\n"
     ]
    },
    {
     "data": {
      "text/plain": [
       "385.58"
      ]
     },
     "execution_count": 136,
     "metadata": {},
     "output_type": "execute_result"
    }
   ],
   "source": [
    "print('Lowest Adjusted Price')\n",
    "df['adj_low'].min()"
   ]
  },
  {
   "cell_type": "code",
   "execution_count": 137,
   "metadata": {
    "extensions": {
     "jupyter_dashboards": {
      "version": 1,
      "views": {
       "grid_default": {},
       "report_default": {
        "hidden": false
       }
      }
     }
    }
   },
   "outputs": [],
   "source": [
    "# df.plot.line('short_date', y=['adj_open', 'adj_close'])\n",
    "# plt.xticks(rotation=90)\n",
    "# plt.xlabel('Date')\n",
    "# plt.ylabel('Adjusted Price (USD)')\n",
    "# plt.title('Microsoft EOD Data')\n",
    "# plt.legend(labels=['Adjusted Opening Price', 'Adjusted Closing Price'])"
   ]
  },
  {
   "cell_type": "code",
   "execution_count": 95,
   "metadata": {
    "extensions": {
     "jupyter_dashboards": {
      "version": 1,
      "views": {
       "grid_default": {},
       "report_default": {
        "hidden": false
       }
      }
     }
    }
   },
   "outputs": [
    {
     "data": {
      "text/plain": [
       "20284888.0"
      ]
     },
     "execution_count": 95,
     "metadata": {},
     "output_type": "execute_result"
    }
   ],
   "source": [
    "df['volume'].mean()"
   ]
  },
  {
   "cell_type": "code",
   "execution_count": 96,
   "metadata": {
    "extensions": {
     "jupyter_dashboards": {
      "version": 1,
      "views": {
       "grid_default": {},
       "report_default": {
        "hidden": false
       }
      }
     }
    }
   },
   "outputs": [
    {
     "data": {
      "text/plain": [
       "425.37820500000015"
      ]
     },
     "execution_count": 96,
     "metadata": {},
     "output_type": "execute_result"
    }
   ],
   "source": [
    "df['adj_high'].mean()"
   ]
  },
  {
   "cell_type": "code",
   "execution_count": 97,
   "metadata": {
    "extensions": {
     "jupyter_dashboards": {
      "version": 1,
      "views": {
       "grid_default": {},
       "report_default": {
        "hidden": false
       }
      }
     }
    }
   },
   "outputs": [
    {
     "data": {
      "text/plain": [
       "417.9611310000001"
      ]
     },
     "execution_count": 97,
     "metadata": {},
     "output_type": "execute_result"
    }
   ],
   "source": [
    "df['adj_low'].mean()"
   ]
  },
  {
   "cell_type": "code",
   "execution_count": 98,
   "metadata": {
    "extensions": {
     "jupyter_dashboards": {
      "version": 1,
      "views": {
       "grid_default": {},
       "report_default": {
        "hidden": false
       }
      }
     }
    }
   },
   "outputs": [
    {
     "data": {
      "text/plain": [
       "421.5292"
      ]
     },
     "execution_count": 98,
     "metadata": {},
     "output_type": "execute_result"
    }
   ],
   "source": [
    "df['adj_close'].mean()"
   ]
  },
  {
   "cell_type": "code",
   "execution_count": 144,
   "metadata": {
    "extensions": {
     "jupyter_dashboards": {
      "version": 1,
      "views": {
       "grid_default": {},
       "report_default": {
        "hidden": true
       }
      }
     }
    }
   },
   "outputs": [
    {
     "data": {
      "text/html": [
       "<div>\n",
       "<style scoped>\n",
       "    .dataframe tbody tr th:only-of-type {\n",
       "        vertical-align: middle;\n",
       "    }\n",
       "\n",
       "    .dataframe tbody tr th {\n",
       "        vertical-align: top;\n",
       "    }\n",
       "\n",
       "    .dataframe thead th {\n",
       "        text-align: right;\n",
       "    }\n",
       "</style>\n",
       "<table border=\"1\" class=\"dataframe\">\n",
       "  <thead>\n",
       "    <tr style=\"text-align: right;\">\n",
       "      <th></th>\n",
       "      <th>open</th>\n",
       "      <th>high</th>\n",
       "      <th>low</th>\n",
       "      <th>close</th>\n",
       "      <th>volume</th>\n",
       "      <th>adj_high</th>\n",
       "      <th>adj_low</th>\n",
       "      <th>adj_close</th>\n",
       "      <th>adj_open</th>\n",
       "      <th>adj_volume</th>\n",
       "      <th>split_factor</th>\n",
       "      <th>dividend</th>\n",
       "      <th>symbol</th>\n",
       "      <th>exchange</th>\n",
       "    </tr>\n",
       "    <tr>\n",
       "      <th>date</th>\n",
       "      <th></th>\n",
       "      <th></th>\n",
       "      <th></th>\n",
       "      <th></th>\n",
       "      <th></th>\n",
       "      <th></th>\n",
       "      <th></th>\n",
       "      <th></th>\n",
       "      <th></th>\n",
       "      <th></th>\n",
       "      <th></th>\n",
       "      <th></th>\n",
       "      <th></th>\n",
       "      <th></th>\n",
       "    </tr>\n",
       "  </thead>\n",
       "  <tbody>\n",
       "    <tr>\n",
       "      <th>2024-11-29 00:00:00+00:00</th>\n",
       "      <td>420.090</td>\n",
       "      <td>424.8800</td>\n",
       "      <td>417.80</td>\n",
       "      <td>423.46</td>\n",
       "      <td>16271900.0</td>\n",
       "      <td>424.8800</td>\n",
       "      <td>417.800</td>\n",
       "      <td>423.46</td>\n",
       "      <td>420.090</td>\n",
       "      <td>16271921.0</td>\n",
       "      <td>1.0</td>\n",
       "      <td>0.0</td>\n",
       "      <td>MSFT</td>\n",
       "      <td>XNAS</td>\n",
       "    </tr>\n",
       "    <tr>\n",
       "      <th>2024-11-27 00:00:00+00:00</th>\n",
       "      <td>425.105</td>\n",
       "      <td>427.2299</td>\n",
       "      <td>422.02</td>\n",
       "      <td>422.99</td>\n",
       "      <td>18332444.0</td>\n",
       "      <td>427.2299</td>\n",
       "      <td>422.020</td>\n",
       "      <td>422.99</td>\n",
       "      <td>425.105</td>\n",
       "      <td>18332444.0</td>\n",
       "      <td>1.0</td>\n",
       "      <td>0.0</td>\n",
       "      <td>MSFT</td>\n",
       "      <td>XNAS</td>\n",
       "    </tr>\n",
       "    <tr>\n",
       "      <th>2024-11-26 00:00:00+00:00</th>\n",
       "      <td>419.590</td>\n",
       "      <td>429.0400</td>\n",
       "      <td>418.85</td>\n",
       "      <td>427.99</td>\n",
       "      <td>23439600.0</td>\n",
       "      <td>429.0414</td>\n",
       "      <td>418.850</td>\n",
       "      <td>427.99</td>\n",
       "      <td>419.585</td>\n",
       "      <td>23458889.0</td>\n",
       "      <td>1.0</td>\n",
       "      <td>0.0</td>\n",
       "      <td>MSFT</td>\n",
       "      <td>XNAS</td>\n",
       "    </tr>\n",
       "    <tr>\n",
       "      <th>2024-11-25 00:00:00+00:00</th>\n",
       "      <td>418.380</td>\n",
       "      <td>421.0800</td>\n",
       "      <td>414.85</td>\n",
       "      <td>418.79</td>\n",
       "      <td>27651300.0</td>\n",
       "      <td>421.0800</td>\n",
       "      <td>414.850</td>\n",
       "      <td>418.79</td>\n",
       "      <td>418.380</td>\n",
       "      <td>27691090.0</td>\n",
       "      <td>1.0</td>\n",
       "      <td>0.0</td>\n",
       "      <td>MSFT</td>\n",
       "      <td>XNAS</td>\n",
       "    </tr>\n",
       "    <tr>\n",
       "      <th>2024-11-22 00:00:00+00:00</th>\n",
       "      <td>411.370</td>\n",
       "      <td>417.4000</td>\n",
       "      <td>411.06</td>\n",
       "      <td>417.00</td>\n",
       "      <td>24802100.0</td>\n",
       "      <td>417.4000</td>\n",
       "      <td>411.060</td>\n",
       "      <td>417.00</td>\n",
       "      <td>411.365</td>\n",
       "      <td>24814626.0</td>\n",
       "      <td>1.0</td>\n",
       "      <td>0.0</td>\n",
       "      <td>MSFT</td>\n",
       "      <td>XNAS</td>\n",
       "    </tr>\n",
       "    <tr>\n",
       "      <th>...</th>\n",
       "      <td>...</td>\n",
       "      <td>...</td>\n",
       "      <td>...</td>\n",
       "      <td>...</td>\n",
       "      <td>...</td>\n",
       "      <td>...</td>\n",
       "      <td>...</td>\n",
       "      <td>...</td>\n",
       "      <td>...</td>\n",
       "      <td>...</td>\n",
       "      <td>...</td>\n",
       "      <td>...</td>\n",
       "      <td>...</td>\n",
       "      <td>...</td>\n",
       "    </tr>\n",
       "    <tr>\n",
       "      <th>2024-07-17 00:00:00+00:00</th>\n",
       "      <td>442.430</td>\n",
       "      <td>444.8500</td>\n",
       "      <td>439.18</td>\n",
       "      <td>443.52</td>\n",
       "      <td>21741478.0</td>\n",
       "      <td>444.8500</td>\n",
       "      <td>439.180</td>\n",
       "      <td>443.52</td>\n",
       "      <td>442.590</td>\n",
       "      <td>21754021.0</td>\n",
       "      <td>1.0</td>\n",
       "      <td>0.0</td>\n",
       "      <td>MSFT</td>\n",
       "      <td>XNAS</td>\n",
       "    </tr>\n",
       "    <tr>\n",
       "      <th>2024-07-16 00:00:00+00:00</th>\n",
       "      <td>454.220</td>\n",
       "      <td>454.3000</td>\n",
       "      <td>446.66</td>\n",
       "      <td>449.52</td>\n",
       "      <td>17038389.0</td>\n",
       "      <td>454.3000</td>\n",
       "      <td>446.660</td>\n",
       "      <td>449.52</td>\n",
       "      <td>454.220</td>\n",
       "      <td>17175679.0</td>\n",
       "      <td>1.0</td>\n",
       "      <td>0.0</td>\n",
       "      <td>MSFT</td>\n",
       "      <td>XNAS</td>\n",
       "    </tr>\n",
       "    <tr>\n",
       "      <th>2024-07-15 00:00:00+00:00</th>\n",
       "      <td>453.420</td>\n",
       "      <td>457.2600</td>\n",
       "      <td>451.43</td>\n",
       "      <td>453.96</td>\n",
       "      <td>13621481.0</td>\n",
       "      <td>457.2600</td>\n",
       "      <td>451.430</td>\n",
       "      <td>453.96</td>\n",
       "      <td>453.300</td>\n",
       "      <td>14429447.0</td>\n",
       "      <td>1.0</td>\n",
       "      <td>0.0</td>\n",
       "      <td>MSFT</td>\n",
       "      <td>XNAS</td>\n",
       "    </tr>\n",
       "    <tr>\n",
       "      <th>2024-07-12 00:00:00+00:00</th>\n",
       "      <td>454.330</td>\n",
       "      <td>456.3600</td>\n",
       "      <td>450.65</td>\n",
       "      <td>453.55</td>\n",
       "      <td>16311300.0</td>\n",
       "      <td>456.3600</td>\n",
       "      <td>450.645</td>\n",
       "      <td>453.55</td>\n",
       "      <td>454.325</td>\n",
       "      <td>16324274.0</td>\n",
       "      <td>1.0</td>\n",
       "      <td>0.0</td>\n",
       "      <td>MSFT</td>\n",
       "      <td>XNAS</td>\n",
       "    </tr>\n",
       "    <tr>\n",
       "      <th>2024-07-11 00:00:00+00:00</th>\n",
       "      <td>462.730</td>\n",
       "      <td>464.7800</td>\n",
       "      <td>451.55</td>\n",
       "      <td>454.70</td>\n",
       "      <td>22835138.0</td>\n",
       "      <td>464.7800</td>\n",
       "      <td>451.550</td>\n",
       "      <td>454.70</td>\n",
       "      <td>462.980</td>\n",
       "      <td>23111175.0</td>\n",
       "      <td>1.0</td>\n",
       "      <td>0.0</td>\n",
       "      <td>MSFT</td>\n",
       "      <td>XNAS</td>\n",
       "    </tr>\n",
       "  </tbody>\n",
       "</table>\n",
       "<p>100 rows × 14 columns</p>\n",
       "</div>"
      ],
      "text/plain": [
       "                              open      high     low   close      volume  \\\n",
       "date                                                                       \n",
       "2024-11-29 00:00:00+00:00  420.090  424.8800  417.80  423.46  16271900.0   \n",
       "2024-11-27 00:00:00+00:00  425.105  427.2299  422.02  422.99  18332444.0   \n",
       "2024-11-26 00:00:00+00:00  419.590  429.0400  418.85  427.99  23439600.0   \n",
       "2024-11-25 00:00:00+00:00  418.380  421.0800  414.85  418.79  27651300.0   \n",
       "2024-11-22 00:00:00+00:00  411.370  417.4000  411.06  417.00  24802100.0   \n",
       "...                            ...       ...     ...     ...         ...   \n",
       "2024-07-17 00:00:00+00:00  442.430  444.8500  439.18  443.52  21741478.0   \n",
       "2024-07-16 00:00:00+00:00  454.220  454.3000  446.66  449.52  17038389.0   \n",
       "2024-07-15 00:00:00+00:00  453.420  457.2600  451.43  453.96  13621481.0   \n",
       "2024-07-12 00:00:00+00:00  454.330  456.3600  450.65  453.55  16311300.0   \n",
       "2024-07-11 00:00:00+00:00  462.730  464.7800  451.55  454.70  22835138.0   \n",
       "\n",
       "                           adj_high  adj_low  adj_close  adj_open  adj_volume  \\\n",
       "date                                                                            \n",
       "2024-11-29 00:00:00+00:00  424.8800  417.800     423.46   420.090  16271921.0   \n",
       "2024-11-27 00:00:00+00:00  427.2299  422.020     422.99   425.105  18332444.0   \n",
       "2024-11-26 00:00:00+00:00  429.0414  418.850     427.99   419.585  23458889.0   \n",
       "2024-11-25 00:00:00+00:00  421.0800  414.850     418.79   418.380  27691090.0   \n",
       "2024-11-22 00:00:00+00:00  417.4000  411.060     417.00   411.365  24814626.0   \n",
       "...                             ...      ...        ...       ...         ...   \n",
       "2024-07-17 00:00:00+00:00  444.8500  439.180     443.52   442.590  21754021.0   \n",
       "2024-07-16 00:00:00+00:00  454.3000  446.660     449.52   454.220  17175679.0   \n",
       "2024-07-15 00:00:00+00:00  457.2600  451.430     453.96   453.300  14429447.0   \n",
       "2024-07-12 00:00:00+00:00  456.3600  450.645     453.55   454.325  16324274.0   \n",
       "2024-07-11 00:00:00+00:00  464.7800  451.550     454.70   462.980  23111175.0   \n",
       "\n",
       "                           split_factor  dividend symbol exchange  \n",
       "date                                                               \n",
       "2024-11-29 00:00:00+00:00           1.0       0.0   MSFT     XNAS  \n",
       "2024-11-27 00:00:00+00:00           1.0       0.0   MSFT     XNAS  \n",
       "2024-11-26 00:00:00+00:00           1.0       0.0   MSFT     XNAS  \n",
       "2024-11-25 00:00:00+00:00           1.0       0.0   MSFT     XNAS  \n",
       "2024-11-22 00:00:00+00:00           1.0       0.0   MSFT     XNAS  \n",
       "...                                 ...       ...    ...      ...  \n",
       "2024-07-17 00:00:00+00:00           1.0       0.0   MSFT     XNAS  \n",
       "2024-07-16 00:00:00+00:00           1.0       0.0   MSFT     XNAS  \n",
       "2024-07-15 00:00:00+00:00           1.0       0.0   MSFT     XNAS  \n",
       "2024-07-12 00:00:00+00:00           1.0       0.0   MSFT     XNAS  \n",
       "2024-07-11 00:00:00+00:00           1.0       0.0   MSFT     XNAS  \n",
       "\n",
       "[100 rows x 14 columns]"
      ]
     },
     "execution_count": 144,
     "metadata": {},
     "output_type": "execute_result"
    }
   ],
   "source": [
    "# df2 = df.set_index('date')\n",
    "# df2"
   ]
  },
  {
   "cell_type": "code",
   "execution_count": 152,
   "metadata": {},
   "outputs": [
    {
     "data": {
      "text/html": [
       "<div>\n",
       "<style scoped>\n",
       "    .dataframe tbody tr th:only-of-type {\n",
       "        vertical-align: middle;\n",
       "    }\n",
       "\n",
       "    .dataframe tbody tr th {\n",
       "        vertical-align: top;\n",
       "    }\n",
       "\n",
       "    .dataframe thead th {\n",
       "        text-align: right;\n",
       "    }\n",
       "</style>\n",
       "<table border=\"1\" class=\"dataframe\">\n",
       "  <thead>\n",
       "    <tr style=\"text-align: right;\">\n",
       "      <th></th>\n",
       "      <th>open</th>\n",
       "      <th>high</th>\n",
       "      <th>low</th>\n",
       "      <th>close</th>\n",
       "      <th>volume</th>\n",
       "      <th>adj_high</th>\n",
       "      <th>adj_low</th>\n",
       "      <th>adj_close</th>\n",
       "      <th>adj_open</th>\n",
       "      <th>adj_volume</th>\n",
       "      <th>split_factor</th>\n",
       "      <th>dividend</th>\n",
       "      <th>symbol</th>\n",
       "      <th>exchange</th>\n",
       "    </tr>\n",
       "    <tr>\n",
       "      <th>date</th>\n",
       "      <th></th>\n",
       "      <th></th>\n",
       "      <th></th>\n",
       "      <th></th>\n",
       "      <th></th>\n",
       "      <th></th>\n",
       "      <th></th>\n",
       "      <th></th>\n",
       "      <th></th>\n",
       "      <th></th>\n",
       "      <th></th>\n",
       "      <th></th>\n",
       "      <th></th>\n",
       "      <th></th>\n",
       "    </tr>\n",
       "  </thead>\n",
       "  <tbody>\n",
       "    <tr>\n",
       "      <th>2024-11-27 00:00:00+00:00</th>\n",
       "      <td>425.105</td>\n",
       "      <td>427.2299</td>\n",
       "      <td>422.02</td>\n",
       "      <td>422.99</td>\n",
       "      <td>18332444.0</td>\n",
       "      <td>427.2299</td>\n",
       "      <td>422.02</td>\n",
       "      <td>422.99</td>\n",
       "      <td>425.105</td>\n",
       "      <td>18332444.0</td>\n",
       "      <td>1.0</td>\n",
       "      <td>0.0</td>\n",
       "      <td>MSFT</td>\n",
       "      <td>XNAS</td>\n",
       "    </tr>\n",
       "  </tbody>\n",
       "</table>\n",
       "</div>"
      ],
      "text/plain": [
       "                              open      high     low   close      volume  \\\n",
       "date                                                                       \n",
       "2024-11-27 00:00:00+00:00  425.105  427.2299  422.02  422.99  18332444.0   \n",
       "\n",
       "                           adj_high  adj_low  adj_close  adj_open  adj_volume  \\\n",
       "date                                                                            \n",
       "2024-11-27 00:00:00+00:00  427.2299   422.02     422.99   425.105  18332444.0   \n",
       "\n",
       "                           split_factor  dividend symbol exchange  \n",
       "date                                                               \n",
       "2024-11-27 00:00:00+00:00           1.0       0.0   MSFT     XNAS  "
      ]
     },
     "execution_count": 152,
     "metadata": {},
     "output_type": "execute_result"
    }
   ],
   "source": [
    "# df_november = df2.loc['20241101':'20241201']\n",
    "# df_november = df2.loc['2024-11-27 00:00:00+00:00':'2024-12-27 00:00:00+00:00']\n",
    "# df_november = df2.loc['2024-11-27 00:00:00+00:00']\n",
    "# df_november"
   ]
  },
  {
   "cell_type": "code",
   "execution_count": 153,
   "metadata": {},
   "outputs": [
    {
     "ename": "KeyError",
     "evalue": "'date'",
     "output_type": "error",
     "traceback": [
      "\u001b[0;31m---------------------------------------------------------------------------\u001b[0m",
      "\u001b[0;31mKeyError\u001b[0m                                  Traceback (most recent call last)",
      "\u001b[0;32m~/opt/anaconda3/lib/python3.8/site-packages/pandas/core/indexes/base.py\u001b[0m in \u001b[0;36mget_loc\u001b[0;34m(self, key, method, tolerance)\u001b[0m\n\u001b[1;32m   2894\u001b[0m             \u001b[0;32mtry\u001b[0m\u001b[0;34m:\u001b[0m\u001b[0;34m\u001b[0m\u001b[0;34m\u001b[0m\u001b[0m\n\u001b[0;32m-> 2895\u001b[0;31m                 \u001b[0;32mreturn\u001b[0m \u001b[0mself\u001b[0m\u001b[0;34m.\u001b[0m\u001b[0m_engine\u001b[0m\u001b[0;34m.\u001b[0m\u001b[0mget_loc\u001b[0m\u001b[0;34m(\u001b[0m\u001b[0mcasted_key\u001b[0m\u001b[0;34m)\u001b[0m\u001b[0;34m\u001b[0m\u001b[0;34m\u001b[0m\u001b[0m\n\u001b[0m\u001b[1;32m   2896\u001b[0m             \u001b[0;32mexcept\u001b[0m \u001b[0mKeyError\u001b[0m \u001b[0;32mas\u001b[0m \u001b[0merr\u001b[0m\u001b[0;34m:\u001b[0m\u001b[0;34m\u001b[0m\u001b[0;34m\u001b[0m\u001b[0m\n",
      "\u001b[0;32mpandas/_libs/index.pyx\u001b[0m in \u001b[0;36mpandas._libs.index.IndexEngine.get_loc\u001b[0;34m()\u001b[0m\n",
      "\u001b[0;32mpandas/_libs/index.pyx\u001b[0m in \u001b[0;36mpandas._libs.index.IndexEngine.get_loc\u001b[0;34m()\u001b[0m\n",
      "\u001b[0;32mpandas/_libs/hashtable_class_helper.pxi\u001b[0m in \u001b[0;36mpandas._libs.hashtable.PyObjectHashTable.get_item\u001b[0;34m()\u001b[0m\n",
      "\u001b[0;32mpandas/_libs/hashtable_class_helper.pxi\u001b[0m in \u001b[0;36mpandas._libs.hashtable.PyObjectHashTable.get_item\u001b[0;34m()\u001b[0m\n",
      "\u001b[0;31mKeyError\u001b[0m: 'date'",
      "\nThe above exception was the direct cause of the following exception:\n",
      "\u001b[0;31mKeyError\u001b[0m                                  Traceback (most recent call last)",
      "\u001b[0;32m<ipython-input-153-cbbe252a73f5>\u001b[0m in \u001b[0;36m<module>\u001b[0;34m\u001b[0m\n\u001b[0;32m----> 1\u001b[0;31m \u001b[0mdf2\u001b[0m\u001b[0;34m.\u001b[0m\u001b[0mloc\u001b[0m\u001b[0;34m[\u001b[0m\u001b[0mdf2\u001b[0m\u001b[0;34m[\u001b[0m\u001b[0;34m'date'\u001b[0m\u001b[0;34m]\u001b[0m\u001b[0;34m.\u001b[0m\u001b[0mbetween\u001b[0m\u001b[0;34m(\u001b[0m\u001b[0;34m'2024-11-27'\u001b[0m\u001b[0;34m,\u001b[0m\u001b[0;34m'2024-12-15'\u001b[0m\u001b[0;34m,\u001b[0m \u001b[0minclusive\u001b[0m\u001b[0;34m=\u001b[0m\u001b[0;32mTrue\u001b[0m\u001b[0;34m)\u001b[0m\u001b[0;34m]\u001b[0m\u001b[0;34m\u001b[0m\u001b[0;34m\u001b[0m\u001b[0m\n\u001b[0m",
      "\u001b[0;32m~/opt/anaconda3/lib/python3.8/site-packages/pandas/core/frame.py\u001b[0m in \u001b[0;36m__getitem__\u001b[0;34m(self, key)\u001b[0m\n\u001b[1;32m   2900\u001b[0m             \u001b[0;32mif\u001b[0m \u001b[0mself\u001b[0m\u001b[0;34m.\u001b[0m\u001b[0mcolumns\u001b[0m\u001b[0;34m.\u001b[0m\u001b[0mnlevels\u001b[0m \u001b[0;34m>\u001b[0m \u001b[0;36m1\u001b[0m\u001b[0;34m:\u001b[0m\u001b[0;34m\u001b[0m\u001b[0;34m\u001b[0m\u001b[0m\n\u001b[1;32m   2901\u001b[0m                 \u001b[0;32mreturn\u001b[0m \u001b[0mself\u001b[0m\u001b[0;34m.\u001b[0m\u001b[0m_getitem_multilevel\u001b[0m\u001b[0;34m(\u001b[0m\u001b[0mkey\u001b[0m\u001b[0;34m)\u001b[0m\u001b[0;34m\u001b[0m\u001b[0;34m\u001b[0m\u001b[0m\n\u001b[0;32m-> 2902\u001b[0;31m             \u001b[0mindexer\u001b[0m \u001b[0;34m=\u001b[0m \u001b[0mself\u001b[0m\u001b[0;34m.\u001b[0m\u001b[0mcolumns\u001b[0m\u001b[0;34m.\u001b[0m\u001b[0mget_loc\u001b[0m\u001b[0;34m(\u001b[0m\u001b[0mkey\u001b[0m\u001b[0;34m)\u001b[0m\u001b[0;34m\u001b[0m\u001b[0;34m\u001b[0m\u001b[0m\n\u001b[0m\u001b[1;32m   2903\u001b[0m             \u001b[0;32mif\u001b[0m \u001b[0mis_integer\u001b[0m\u001b[0;34m(\u001b[0m\u001b[0mindexer\u001b[0m\u001b[0;34m)\u001b[0m\u001b[0;34m:\u001b[0m\u001b[0;34m\u001b[0m\u001b[0;34m\u001b[0m\u001b[0m\n\u001b[1;32m   2904\u001b[0m                 \u001b[0mindexer\u001b[0m \u001b[0;34m=\u001b[0m \u001b[0;34m[\u001b[0m\u001b[0mindexer\u001b[0m\u001b[0;34m]\u001b[0m\u001b[0;34m\u001b[0m\u001b[0;34m\u001b[0m\u001b[0m\n",
      "\u001b[0;32m~/opt/anaconda3/lib/python3.8/site-packages/pandas/core/indexes/base.py\u001b[0m in \u001b[0;36mget_loc\u001b[0;34m(self, key, method, tolerance)\u001b[0m\n\u001b[1;32m   2895\u001b[0m                 \u001b[0;32mreturn\u001b[0m \u001b[0mself\u001b[0m\u001b[0;34m.\u001b[0m\u001b[0m_engine\u001b[0m\u001b[0;34m.\u001b[0m\u001b[0mget_loc\u001b[0m\u001b[0;34m(\u001b[0m\u001b[0mcasted_key\u001b[0m\u001b[0;34m)\u001b[0m\u001b[0;34m\u001b[0m\u001b[0;34m\u001b[0m\u001b[0m\n\u001b[1;32m   2896\u001b[0m             \u001b[0;32mexcept\u001b[0m \u001b[0mKeyError\u001b[0m \u001b[0;32mas\u001b[0m \u001b[0merr\u001b[0m\u001b[0;34m:\u001b[0m\u001b[0;34m\u001b[0m\u001b[0;34m\u001b[0m\u001b[0m\n\u001b[0;32m-> 2897\u001b[0;31m                 \u001b[0;32mraise\u001b[0m \u001b[0mKeyError\u001b[0m\u001b[0;34m(\u001b[0m\u001b[0mkey\u001b[0m\u001b[0;34m)\u001b[0m \u001b[0;32mfrom\u001b[0m \u001b[0merr\u001b[0m\u001b[0;34m\u001b[0m\u001b[0;34m\u001b[0m\u001b[0m\n\u001b[0m\u001b[1;32m   2898\u001b[0m \u001b[0;34m\u001b[0m\u001b[0m\n\u001b[1;32m   2899\u001b[0m         \u001b[0;32mif\u001b[0m \u001b[0mtolerance\u001b[0m \u001b[0;32mis\u001b[0m \u001b[0;32mnot\u001b[0m \u001b[0;32mNone\u001b[0m\u001b[0;34m:\u001b[0m\u001b[0;34m\u001b[0m\u001b[0;34m\u001b[0m\u001b[0m\n",
      "\u001b[0;31mKeyError\u001b[0m: 'date'"
     ]
    }
   ],
   "source": [
    "# df2.loc[df2['date'].between('2024-11-27','2024-12-15', inclusive=True)]"
   ]
  },
  {
   "cell_type": "code",
   "execution_count": 155,
   "metadata": {},
   "outputs": [
    {
     "data": {
      "text/html": [
       "<div>\n",
       "<style scoped>\n",
       "    .dataframe tbody tr th:only-of-type {\n",
       "        vertical-align: middle;\n",
       "    }\n",
       "\n",
       "    .dataframe tbody tr th {\n",
       "        vertical-align: top;\n",
       "    }\n",
       "\n",
       "    .dataframe thead th {\n",
       "        text-align: right;\n",
       "    }\n",
       "</style>\n",
       "<table border=\"1\" class=\"dataframe\">\n",
       "  <thead>\n",
       "    <tr style=\"text-align: right;\">\n",
       "      <th></th>\n",
       "      <th>open</th>\n",
       "      <th>high</th>\n",
       "      <th>low</th>\n",
       "      <th>close</th>\n",
       "      <th>volume</th>\n",
       "      <th>adj_high</th>\n",
       "      <th>adj_low</th>\n",
       "      <th>adj_close</th>\n",
       "      <th>adj_open</th>\n",
       "      <th>adj_volume</th>\n",
       "      <th>split_factor</th>\n",
       "      <th>dividend</th>\n",
       "      <th>symbol</th>\n",
       "      <th>exchange</th>\n",
       "      <th>date</th>\n",
       "    </tr>\n",
       "  </thead>\n",
       "  <tbody>\n",
       "    <tr>\n",
       "      <th>0</th>\n",
       "      <td>420.090</td>\n",
       "      <td>424.8800</td>\n",
       "      <td>417.800</td>\n",
       "      <td>423.46</td>\n",
       "      <td>16271900.0</td>\n",
       "      <td>424.8800</td>\n",
       "      <td>417.8000</td>\n",
       "      <td>423.46</td>\n",
       "      <td>420.090</td>\n",
       "      <td>16271921.0</td>\n",
       "      <td>1.0</td>\n",
       "      <td>0.00</td>\n",
       "      <td>MSFT</td>\n",
       "      <td>XNAS</td>\n",
       "      <td>2024-11-29 00:00:00+00:00</td>\n",
       "    </tr>\n",
       "    <tr>\n",
       "      <th>1</th>\n",
       "      <td>425.105</td>\n",
       "      <td>427.2299</td>\n",
       "      <td>422.020</td>\n",
       "      <td>422.99</td>\n",
       "      <td>18332444.0</td>\n",
       "      <td>427.2299</td>\n",
       "      <td>422.0200</td>\n",
       "      <td>422.99</td>\n",
       "      <td>425.105</td>\n",
       "      <td>18332444.0</td>\n",
       "      <td>1.0</td>\n",
       "      <td>0.00</td>\n",
       "      <td>MSFT</td>\n",
       "      <td>XNAS</td>\n",
       "      <td>2024-11-27 00:00:00+00:00</td>\n",
       "    </tr>\n",
       "    <tr>\n",
       "      <th>2</th>\n",
       "      <td>419.590</td>\n",
       "      <td>429.0400</td>\n",
       "      <td>418.850</td>\n",
       "      <td>427.99</td>\n",
       "      <td>23439600.0</td>\n",
       "      <td>429.0414</td>\n",
       "      <td>418.8500</td>\n",
       "      <td>427.99</td>\n",
       "      <td>419.585</td>\n",
       "      <td>23458889.0</td>\n",
       "      <td>1.0</td>\n",
       "      <td>0.00</td>\n",
       "      <td>MSFT</td>\n",
       "      <td>XNAS</td>\n",
       "      <td>2024-11-26 00:00:00+00:00</td>\n",
       "    </tr>\n",
       "    <tr>\n",
       "      <th>3</th>\n",
       "      <td>418.380</td>\n",
       "      <td>421.0800</td>\n",
       "      <td>414.850</td>\n",
       "      <td>418.79</td>\n",
       "      <td>27651300.0</td>\n",
       "      <td>421.0800</td>\n",
       "      <td>414.8500</td>\n",
       "      <td>418.79</td>\n",
       "      <td>418.380</td>\n",
       "      <td>27691090.0</td>\n",
       "      <td>1.0</td>\n",
       "      <td>0.00</td>\n",
       "      <td>MSFT</td>\n",
       "      <td>XNAS</td>\n",
       "      <td>2024-11-25 00:00:00+00:00</td>\n",
       "    </tr>\n",
       "    <tr>\n",
       "      <th>4</th>\n",
       "      <td>411.370</td>\n",
       "      <td>417.4000</td>\n",
       "      <td>411.060</td>\n",
       "      <td>417.00</td>\n",
       "      <td>24802100.0</td>\n",
       "      <td>417.4000</td>\n",
       "      <td>411.0600</td>\n",
       "      <td>417.00</td>\n",
       "      <td>411.365</td>\n",
       "      <td>24814626.0</td>\n",
       "      <td>1.0</td>\n",
       "      <td>0.00</td>\n",
       "      <td>MSFT</td>\n",
       "      <td>XNAS</td>\n",
       "      <td>2024-11-22 00:00:00+00:00</td>\n",
       "    </tr>\n",
       "    <tr>\n",
       "      <th>5</th>\n",
       "      <td>419.500</td>\n",
       "      <td>419.7800</td>\n",
       "      <td>410.290</td>\n",
       "      <td>412.87</td>\n",
       "      <td>20745300.0</td>\n",
       "      <td>419.7800</td>\n",
       "      <td>410.2887</td>\n",
       "      <td>412.87</td>\n",
       "      <td>419.500</td>\n",
       "      <td>20780162.0</td>\n",
       "      <td>1.0</td>\n",
       "      <td>0.83</td>\n",
       "      <td>MSFT</td>\n",
       "      <td>XNAS</td>\n",
       "      <td>2024-11-21 00:00:00+00:00</td>\n",
       "    </tr>\n",
       "    <tr>\n",
       "      <th>6</th>\n",
       "      <td>416.870</td>\n",
       "      <td>417.2900</td>\n",
       "      <td>410.580</td>\n",
       "      <td>415.49</td>\n",
       "      <td>19166200.0</td>\n",
       "      <td>417.2900</td>\n",
       "      <td>410.5800</td>\n",
       "      <td>414.66</td>\n",
       "      <td>416.870</td>\n",
       "      <td>19191655.0</td>\n",
       "      <td>1.0</td>\n",
       "      <td>0.00</td>\n",
       "      <td>MSFT</td>\n",
       "      <td>XNAS</td>\n",
       "      <td>2024-11-20 00:00:00+00:00</td>\n",
       "    </tr>\n",
       "    <tr>\n",
       "      <th>7</th>\n",
       "      <td>413.110</td>\n",
       "      <td>417.9400</td>\n",
       "      <td>411.550</td>\n",
       "      <td>417.79</td>\n",
       "      <td>18111900.0</td>\n",
       "      <td>417.9400</td>\n",
       "      <td>411.5500</td>\n",
       "      <td>417.79</td>\n",
       "      <td>413.110</td>\n",
       "      <td>18133529.0</td>\n",
       "      <td>1.0</td>\n",
       "      <td>0.00</td>\n",
       "      <td>MSFT</td>\n",
       "      <td>XNAS</td>\n",
       "      <td>2024-11-19 00:00:00+00:00</td>\n",
       "    </tr>\n",
       "    <tr>\n",
       "      <th>8</th>\n",
       "      <td>414.870</td>\n",
       "      <td>418.4037</td>\n",
       "      <td>412.100</td>\n",
       "      <td>415.76</td>\n",
       "      <td>23983845.0</td>\n",
       "      <td>418.4037</td>\n",
       "      <td>412.1000</td>\n",
       "      <td>415.76</td>\n",
       "      <td>414.870</td>\n",
       "      <td>24742013.0</td>\n",
       "      <td>1.0</td>\n",
       "      <td>0.00</td>\n",
       "      <td>MSFT</td>\n",
       "      <td>XNAS</td>\n",
       "      <td>2024-11-18 00:00:00+00:00</td>\n",
       "    </tr>\n",
       "    <tr>\n",
       "      <th>9</th>\n",
       "      <td>419.820</td>\n",
       "      <td>422.8000</td>\n",
       "      <td>413.640</td>\n",
       "      <td>415.00</td>\n",
       "      <td>28196600.0</td>\n",
       "      <td>422.8000</td>\n",
       "      <td>413.6400</td>\n",
       "      <td>415.00</td>\n",
       "      <td>419.820</td>\n",
       "      <td>28247644.0</td>\n",
       "      <td>1.0</td>\n",
       "      <td>0.00</td>\n",
       "      <td>MSFT</td>\n",
       "      <td>XNAS</td>\n",
       "      <td>2024-11-15 00:00:00+00:00</td>\n",
       "    </tr>\n",
       "    <tr>\n",
       "      <th>10</th>\n",
       "      <td>425.000</td>\n",
       "      <td>428.1700</td>\n",
       "      <td>420.000</td>\n",
       "      <td>426.89</td>\n",
       "      <td>30213400.0</td>\n",
       "      <td>428.1700</td>\n",
       "      <td>420.0000</td>\n",
       "      <td>426.89</td>\n",
       "      <td>425.000</td>\n",
       "      <td>30246881.0</td>\n",
       "      <td>1.0</td>\n",
       "      <td>0.00</td>\n",
       "      <td>MSFT</td>\n",
       "      <td>XNAS</td>\n",
       "      <td>2024-11-14 00:00:00+00:00</td>\n",
       "    </tr>\n",
       "    <tr>\n",
       "      <th>11</th>\n",
       "      <td>421.640</td>\n",
       "      <td>429.3300</td>\n",
       "      <td>418.210</td>\n",
       "      <td>425.20</td>\n",
       "      <td>21477900.0</td>\n",
       "      <td>429.3250</td>\n",
       "      <td>418.2100</td>\n",
       "      <td>425.20</td>\n",
       "      <td>421.640</td>\n",
       "      <td>21502185.0</td>\n",
       "      <td>1.0</td>\n",
       "      <td>0.00</td>\n",
       "      <td>MSFT</td>\n",
       "      <td>XNAS</td>\n",
       "      <td>2024-11-13 00:00:00+00:00</td>\n",
       "    </tr>\n",
       "    <tr>\n",
       "      <th>12</th>\n",
       "      <td>418.250</td>\n",
       "      <td>424.4400</td>\n",
       "      <td>417.200</td>\n",
       "      <td>423.03</td>\n",
       "      <td>19382500.0</td>\n",
       "      <td>424.4400</td>\n",
       "      <td>417.2000</td>\n",
       "      <td>423.03</td>\n",
       "      <td>418.250</td>\n",
       "      <td>19401204.0</td>\n",
       "      <td>1.0</td>\n",
       "      <td>0.00</td>\n",
       "      <td>MSFT</td>\n",
       "      <td>XNAS</td>\n",
       "      <td>2024-11-12 00:00:00+00:00</td>\n",
       "    </tr>\n",
       "    <tr>\n",
       "      <th>13</th>\n",
       "      <td>422.520</td>\n",
       "      <td>424.8100</td>\n",
       "      <td>416.000</td>\n",
       "      <td>418.01</td>\n",
       "      <td>24473800.0</td>\n",
       "      <td>424.8100</td>\n",
       "      <td>416.0000</td>\n",
       "      <td>418.01</td>\n",
       "      <td>422.515</td>\n",
       "      <td>24503321.0</td>\n",
       "      <td>1.0</td>\n",
       "      <td>0.00</td>\n",
       "      <td>MSFT</td>\n",
       "      <td>XNAS</td>\n",
       "      <td>2024-11-11 00:00:00+00:00</td>\n",
       "    </tr>\n",
       "    <tr>\n",
       "      <th>14</th>\n",
       "      <td>425.320</td>\n",
       "      <td>426.5000</td>\n",
       "      <td>421.780</td>\n",
       "      <td>422.54</td>\n",
       "      <td>16875500.0</td>\n",
       "      <td>426.5000</td>\n",
       "      <td>421.7800</td>\n",
       "      <td>422.54</td>\n",
       "      <td>425.320</td>\n",
       "      <td>16891414.0</td>\n",
       "      <td>1.0</td>\n",
       "      <td>0.00</td>\n",
       "      <td>MSFT</td>\n",
       "      <td>XNAS</td>\n",
       "      <td>2024-11-08 00:00:00+00:00</td>\n",
       "    </tr>\n",
       "    <tr>\n",
       "      <th>15</th>\n",
       "      <td>421.120</td>\n",
       "      <td>426.8500</td>\n",
       "      <td>419.880</td>\n",
       "      <td>425.43</td>\n",
       "      <td>19615445.0</td>\n",
       "      <td>426.8500</td>\n",
       "      <td>419.8800</td>\n",
       "      <td>425.43</td>\n",
       "      <td>421.280</td>\n",
       "      <td>19901782.0</td>\n",
       "      <td>1.0</td>\n",
       "      <td>0.00</td>\n",
       "      <td>MSFT</td>\n",
       "      <td>XNAS</td>\n",
       "      <td>2024-11-07 00:00:00+00:00</td>\n",
       "    </tr>\n",
       "    <tr>\n",
       "      <th>16</th>\n",
       "      <td>412.430</td>\n",
       "      <td>420.4300</td>\n",
       "      <td>410.520</td>\n",
       "      <td>420.18</td>\n",
       "      <td>26429288.0</td>\n",
       "      <td>420.4500</td>\n",
       "      <td>410.5200</td>\n",
       "      <td>420.18</td>\n",
       "      <td>412.420</td>\n",
       "      <td>26681842.0</td>\n",
       "      <td>1.0</td>\n",
       "      <td>0.00</td>\n",
       "      <td>MSFT</td>\n",
       "      <td>XNAS</td>\n",
       "      <td>2024-11-06 00:00:00+00:00</td>\n",
       "    </tr>\n",
       "    <tr>\n",
       "      <th>17</th>\n",
       "      <td>408.330</td>\n",
       "      <td>414.9000</td>\n",
       "      <td>408.080</td>\n",
       "      <td>411.46</td>\n",
       "      <td>17429735.0</td>\n",
       "      <td>414.9000</td>\n",
       "      <td>408.0800</td>\n",
       "      <td>411.46</td>\n",
       "      <td>408.370</td>\n",
       "      <td>17626011.0</td>\n",
       "      <td>1.0</td>\n",
       "      <td>0.00</td>\n",
       "      <td>MSFT</td>\n",
       "      <td>XNAS</td>\n",
       "      <td>2024-11-05 00:00:00+00:00</td>\n",
       "    </tr>\n",
       "    <tr>\n",
       "      <th>18</th>\n",
       "      <td>409.855</td>\n",
       "      <td>410.4100</td>\n",
       "      <td>405.575</td>\n",
       "      <td>408.46</td>\n",
       "      <td>19284886.0</td>\n",
       "      <td>410.4150</td>\n",
       "      <td>405.5713</td>\n",
       "      <td>408.46</td>\n",
       "      <td>409.800</td>\n",
       "      <td>19672286.0</td>\n",
       "      <td>1.0</td>\n",
       "      <td>0.00</td>\n",
       "      <td>MSFT</td>\n",
       "      <td>XNAS</td>\n",
       "      <td>2024-11-04 00:00:00+00:00</td>\n",
       "    </tr>\n",
       "    <tr>\n",
       "      <th>19</th>\n",
       "      <td>409.010</td>\n",
       "      <td>415.5000</td>\n",
       "      <td>407.500</td>\n",
       "      <td>410.37</td>\n",
       "      <td>24209400.0</td>\n",
       "      <td>415.5000</td>\n",
       "      <td>407.5000</td>\n",
       "      <td>410.37</td>\n",
       "      <td>409.010</td>\n",
       "      <td>24230442.0</td>\n",
       "      <td>1.0</td>\n",
       "      <td>0.00</td>\n",
       "      <td>MSFT</td>\n",
       "      <td>XNAS</td>\n",
       "      <td>2024-11-01 00:00:00+00:00</td>\n",
       "    </tr>\n",
       "  </tbody>\n",
       "</table>\n",
       "</div>"
      ],
      "text/plain": [
       "       open      high      low   close      volume  adj_high   adj_low  \\\n",
       "0   420.090  424.8800  417.800  423.46  16271900.0  424.8800  417.8000   \n",
       "1   425.105  427.2299  422.020  422.99  18332444.0  427.2299  422.0200   \n",
       "2   419.590  429.0400  418.850  427.99  23439600.0  429.0414  418.8500   \n",
       "3   418.380  421.0800  414.850  418.79  27651300.0  421.0800  414.8500   \n",
       "4   411.370  417.4000  411.060  417.00  24802100.0  417.4000  411.0600   \n",
       "5   419.500  419.7800  410.290  412.87  20745300.0  419.7800  410.2887   \n",
       "6   416.870  417.2900  410.580  415.49  19166200.0  417.2900  410.5800   \n",
       "7   413.110  417.9400  411.550  417.79  18111900.0  417.9400  411.5500   \n",
       "8   414.870  418.4037  412.100  415.76  23983845.0  418.4037  412.1000   \n",
       "9   419.820  422.8000  413.640  415.00  28196600.0  422.8000  413.6400   \n",
       "10  425.000  428.1700  420.000  426.89  30213400.0  428.1700  420.0000   \n",
       "11  421.640  429.3300  418.210  425.20  21477900.0  429.3250  418.2100   \n",
       "12  418.250  424.4400  417.200  423.03  19382500.0  424.4400  417.2000   \n",
       "13  422.520  424.8100  416.000  418.01  24473800.0  424.8100  416.0000   \n",
       "14  425.320  426.5000  421.780  422.54  16875500.0  426.5000  421.7800   \n",
       "15  421.120  426.8500  419.880  425.43  19615445.0  426.8500  419.8800   \n",
       "16  412.430  420.4300  410.520  420.18  26429288.0  420.4500  410.5200   \n",
       "17  408.330  414.9000  408.080  411.46  17429735.0  414.9000  408.0800   \n",
       "18  409.855  410.4100  405.575  408.46  19284886.0  410.4150  405.5713   \n",
       "19  409.010  415.5000  407.500  410.37  24209400.0  415.5000  407.5000   \n",
       "\n",
       "    adj_close  adj_open  adj_volume  split_factor  dividend symbol exchange  \\\n",
       "0      423.46   420.090  16271921.0           1.0      0.00   MSFT     XNAS   \n",
       "1      422.99   425.105  18332444.0           1.0      0.00   MSFT     XNAS   \n",
       "2      427.99   419.585  23458889.0           1.0      0.00   MSFT     XNAS   \n",
       "3      418.79   418.380  27691090.0           1.0      0.00   MSFT     XNAS   \n",
       "4      417.00   411.365  24814626.0           1.0      0.00   MSFT     XNAS   \n",
       "5      412.87   419.500  20780162.0           1.0      0.83   MSFT     XNAS   \n",
       "6      414.66   416.870  19191655.0           1.0      0.00   MSFT     XNAS   \n",
       "7      417.79   413.110  18133529.0           1.0      0.00   MSFT     XNAS   \n",
       "8      415.76   414.870  24742013.0           1.0      0.00   MSFT     XNAS   \n",
       "9      415.00   419.820  28247644.0           1.0      0.00   MSFT     XNAS   \n",
       "10     426.89   425.000  30246881.0           1.0      0.00   MSFT     XNAS   \n",
       "11     425.20   421.640  21502185.0           1.0      0.00   MSFT     XNAS   \n",
       "12     423.03   418.250  19401204.0           1.0      0.00   MSFT     XNAS   \n",
       "13     418.01   422.515  24503321.0           1.0      0.00   MSFT     XNAS   \n",
       "14     422.54   425.320  16891414.0           1.0      0.00   MSFT     XNAS   \n",
       "15     425.43   421.280  19901782.0           1.0      0.00   MSFT     XNAS   \n",
       "16     420.18   412.420  26681842.0           1.0      0.00   MSFT     XNAS   \n",
       "17     411.46   408.370  17626011.0           1.0      0.00   MSFT     XNAS   \n",
       "18     408.46   409.800  19672286.0           1.0      0.00   MSFT     XNAS   \n",
       "19     410.37   409.010  24230442.0           1.0      0.00   MSFT     XNAS   \n",
       "\n",
       "                        date  \n",
       "0  2024-11-29 00:00:00+00:00  \n",
       "1  2024-11-27 00:00:00+00:00  \n",
       "2  2024-11-26 00:00:00+00:00  \n",
       "3  2024-11-25 00:00:00+00:00  \n",
       "4  2024-11-22 00:00:00+00:00  \n",
       "5  2024-11-21 00:00:00+00:00  \n",
       "6  2024-11-20 00:00:00+00:00  \n",
       "7  2024-11-19 00:00:00+00:00  \n",
       "8  2024-11-18 00:00:00+00:00  \n",
       "9  2024-11-15 00:00:00+00:00  \n",
       "10 2024-11-14 00:00:00+00:00  \n",
       "11 2024-11-13 00:00:00+00:00  \n",
       "12 2024-11-12 00:00:00+00:00  \n",
       "13 2024-11-11 00:00:00+00:00  \n",
       "14 2024-11-08 00:00:00+00:00  \n",
       "15 2024-11-07 00:00:00+00:00  \n",
       "16 2024-11-06 00:00:00+00:00  \n",
       "17 2024-11-05 00:00:00+00:00  \n",
       "18 2024-11-04 00:00:00+00:00  \n",
       "19 2024-11-01 00:00:00+00:00  "
      ]
     },
     "execution_count": 155,
     "metadata": {},
     "output_type": "execute_result"
    }
   ],
   "source": [
    "df_last_week = df.loc[df['date'].between('2024-11-01','2024-11-30', inclusive=True)]"
   ]
  },
  {
   "cell_type": "code",
   "execution_count": null,
   "metadata": {},
   "outputs": [],
   "source": []
  }
 ],
 "metadata": {
  "extensions": {
   "jupyter_dashboards": {
    "activeView": "report_default",
    "version": 1,
    "views": {
     "grid_default": {
      "name": "grid",
      "type": "grid"
     },
     "report_default": {
      "name": "report",
      "type": "report"
     }
    }
   }
  },
  "kernelspec": {
   "display_name": "Python 3",
   "language": "python",
   "name": "python3"
  },
  "language_info": {
   "codemirror_mode": {
    "name": "ipython",
    "version": 3
   },
   "file_extension": ".py",
   "mimetype": "text/x-python",
   "name": "python",
   "nbconvert_exporter": "python",
   "pygments_lexer": "ipython3",
   "version": "3.8.5"
  }
 },
 "nbformat": 4,
 "nbformat_minor": 4
}
