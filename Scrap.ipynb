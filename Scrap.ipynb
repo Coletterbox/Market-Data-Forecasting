{
 "cells": [
  {
   "cell_type": "code",
   "execution_count": 1,
   "metadata": {
    "extensions": {
     "jupyter_dashboards": {
      "version": 1,
      "views": {
       "grid_default": {},
       "report_default": {
        "hidden": true
       }
      }
     }
    }
   },
   "outputs": [],
   "source": [
    "import requests\n",
    "import pandas as pd\n",
    "import matplotlib.pyplot as plt\n",
    "import numpy as np\n",
    "from api_key_container import api_key"
   ]
  },
  {
   "cell_type": "code",
   "execution_count": 2,
   "metadata": {
    "extensions": {
     "jupyter_dashboards": {
      "version": 1,
      "views": {
       "grid_default": {},
       "report_default": {
        "hidden": false
       }
      }
     }
    }
   },
   "outputs": [
    {
     "name": "stdout",
     "output_type": "stream",
     "text": [
      "{'pagination': {'limit': 100, 'offset': 0, 'count': 100, 'total': 294939}, 'data': [{'name': 'Microsoft Corporation', 'symbol': 'MSFT', 'has_intraday': False, 'has_eod': True, 'country': None, 'stock_exchange': {'name': 'NASDAQ Stock Exchange', 'acronym': 'NASDAQ', 'mic': 'XNAS', 'country': 'USA', 'country_code': 'US', 'city': 'New York', 'website': 'www.nasdaq.com'}}, {'name': 'Apple Inc', 'symbol': 'AAPL', 'has_intraday': False, 'has_eod': True, 'country': None, 'stock_exchange': {'name': 'NASDAQ Stock Exchange', 'acronym': 'NASDAQ', 'mic': 'XNAS', 'country': 'USA', 'country_code': 'US', 'city': 'New York', 'website': 'www.nasdaq.com'}}, {'name': 'Amazon.com Inc', 'symbol': 'AMZN', 'has_intraday': False, 'has_eod': True, 'country': None, 'stock_exchange': {'name': 'NASDAQ Stock Exchange', 'acronym': 'NASDAQ', 'mic': 'XNAS', 'country': 'USA', 'country_code': 'US', 'city': 'New York', 'website': 'www.nasdaq.com'}}, {'name': 'Alphabet Inc - Class C', 'symbol': 'GOOG', 'has_intraday': False, 'has_eod': True, 'country': None, 'stock_exchange': {'name': 'NASDAQ Stock Exchange', 'acronym': 'NASDAQ', 'mic': 'XNAS', 'country': 'USA', 'country_code': 'US', 'city': 'New York', 'website': 'www.nasdaq.com'}}, {'name': 'Alphabet Inc - Class A', 'symbol': 'GOOGL', 'has_intraday': False, 'has_eod': True, 'country': None, 'stock_exchange': {'name': 'NASDAQ Stock Exchange', 'acronym': 'NASDAQ', 'mic': 'XNAS', 'country': 'USA', 'country_code': 'US', 'city': 'New York', 'website': 'www.nasdaq.com'}}, {'name': 'Alibaba Group Holding Ltd', 'symbol': 'BABA', 'has_intraday': False, 'has_eod': True, 'country': None, 'stock_exchange': {'name': 'New York Stock Exchange', 'acronym': 'NYSE', 'mic': 'XNYS', 'country': 'USA', 'country_code': 'US', 'city': 'New York', 'website': 'www.nyse.com'}}, {'name': 'Meta Platforms Inc - Class A', 'symbol': 'FB', 'has_intraday': False, 'has_eod': True, 'country': None, 'stock_exchange': {'name': 'NASDAQ Stock Exchange', 'acronym': 'NASDAQ', 'mic': 'XNAS', 'country': 'USA', 'country_code': 'US', 'city': 'New York', 'website': 'www.nasdaq.com'}}, {'name': 'BERKSHIRE HATHAWAY INC', 'symbol': 'BRK.B', 'has_intraday': False, 'has_eod': False, 'country': None, 'stock_exchange': {'name': 'New York Stock Exchange', 'acronym': 'NYSE', 'mic': 'XNYS', 'country': 'USA', 'country_code': 'US', 'city': 'New York', 'website': 'www.nyse.com'}}, {'name': 'BERKSHIRE HATHAWAY INC', 'symbol': 'BRK.A', 'has_intraday': False, 'has_eod': False, 'country': None, 'stock_exchange': {'name': 'New York Stock Exchange', 'acronym': 'NYSE', 'mic': 'XNYS', 'country': 'USA', 'country_code': 'US', 'city': 'New York', 'website': 'www.nyse.com'}}, {'name': 'Vodafone Group plc', 'symbol': 'VOD', 'has_intraday': False, 'has_eod': True, 'country': None, 'stock_exchange': {'name': 'NASDAQ Stock Exchange', 'acronym': 'NASDAQ', 'mic': 'XNAS', 'country': 'USA', 'country_code': 'US', 'city': 'New York', 'website': 'www.nasdaq.com'}}, {'name': 'Visa Inc - Class A', 'symbol': 'V', 'has_intraday': False, 'has_eod': True, 'country': None, 'stock_exchange': {'name': 'New York Stock Exchange', 'acronym': 'NYSE', 'mic': 'XNYS', 'country': 'USA', 'country_code': 'US', 'city': 'New York', 'website': 'www.nyse.com'}}, {'name': 'JPMorgan Chase & Company', 'symbol': 'JPM', 'has_intraday': False, 'has_eod': True, 'country': None, 'stock_exchange': {'name': 'New York Stock Exchange', 'acronym': 'NYSE', 'mic': 'XNYS', 'country': 'USA', 'country_code': 'US', 'city': 'New York', 'website': 'www.nyse.com'}}, {'name': 'Johnson & Johnson', 'symbol': 'JNJ', 'has_intraday': False, 'has_eod': True, 'country': None, 'stock_exchange': {'name': 'New York Stock Exchange', 'acronym': 'NYSE', 'mic': 'XNYS', 'country': 'USA', 'country_code': 'US', 'city': 'New York', 'website': 'www.nyse.com'}}, {'name': 'Walmart Inc', 'symbol': 'WMT', 'has_intraday': False, 'has_eod': True, 'country': None, 'stock_exchange': {'name': 'New York Stock Exchange', 'acronym': 'NYSE', 'mic': 'XNYS', 'country': 'USA', 'country_code': 'US', 'city': 'New York', 'website': 'www.nyse.com'}}, {'name': 'Mastercard Incorporated - Class A', 'symbol': 'MA', 'has_intraday': False, 'has_eod': True, 'country': None, 'stock_exchange': {'name': 'New York Stock Exchange', 'acronym': 'NYSE', 'mic': 'XNYS', 'country': 'USA', 'country_code': 'US', 'city': 'New York', 'website': 'www.nyse.com'}}, {'name': 'Procter & Gamble Company', 'symbol': 'PG', 'has_intraday': False, 'has_eod': True, 'country': None, 'stock_exchange': {'name': 'New York Stock Exchange', 'acronym': 'NYSE', 'mic': 'XNYS', 'country': 'USA', 'country_code': 'US', 'city': 'New York', 'website': 'www.nyse.com'}}, {'name': 'Taiwan Semiconductor Manufacturing', 'symbol': 'TSM', 'has_intraday': False, 'has_eod': True, 'country': None, 'stock_exchange': {'name': 'New York Stock Exchange', 'acronym': 'NYSE', 'mic': 'XNYS', 'country': 'USA', 'country_code': 'US', 'city': 'New York', 'website': 'www.nyse.com'}}, {'name': 'Chunghwa Telecom', 'symbol': 'CHT', 'has_intraday': False, 'has_eod': True, 'country': None, 'stock_exchange': {'name': 'New York Stock Exchange', 'acronym': 'NYSE', 'mic': 'XNYS', 'country': 'USA', 'country_code': 'US', 'city': 'New York', 'website': 'www.nyse.com'}}, {'name': 'Roche Holding AG', 'symbol': 'RHHBF', 'has_intraday': False, 'has_eod': True, 'country': None, 'stock_exchange': {'name': 'OTC Markets', 'acronym': '', 'mic': 'OTCM', 'country': 'USA', 'country_code': 'US', 'city': 'New York', 'website': 'www.otcmarkets.com'}}, {'name': 'Roche Holding AG', 'symbol': 'RHHVF', 'has_intraday': False, 'has_eod': True, 'country': None, 'stock_exchange': {'name': 'OTC Markets', 'acronym': '', 'mic': 'OTCM', 'country': 'USA', 'country_code': 'US', 'city': 'New York', 'website': 'www.otcmarkets.com'}}, {'name': 'AT&T Inc', 'symbol': 'T', 'has_intraday': False, 'has_eod': True, 'country': None, 'stock_exchange': {'name': 'New York Stock Exchange', 'acronym': 'NYSE', 'mic': 'XNYS', 'country': 'USA', 'country_code': 'US', 'city': 'New York', 'website': 'www.nyse.com'}}, {'name': 'Unitedhealth Group Inc', 'symbol': 'UNH', 'has_intraday': False, 'has_eod': True, 'country': None, 'stock_exchange': {'name': 'New York Stock Exchange', 'acronym': 'NYSE', 'mic': 'XNYS', 'country': 'USA', 'country_code': 'US', 'city': 'New York', 'website': 'www.nyse.com'}}, {'name': 'Bank Of America Corp', 'symbol': 'BAC', 'has_intraday': False, 'has_eod': True, 'country': None, 'stock_exchange': {'name': 'New York Stock Exchange', 'acronym': 'NYSE', 'mic': 'XNYS', 'country': 'USA', 'country_code': 'US', 'city': 'New York', 'website': 'www.nyse.com'}}, {'name': 'Home Depot Inc', 'symbol': 'HD', 'has_intraday': False, 'has_eod': True, 'country': None, 'stock_exchange': {'name': 'New York Stock Exchange', 'acronym': 'NYSE', 'mic': 'XNYS', 'country': 'USA', 'country_code': 'US', 'city': 'New York', 'website': 'www.nyse.com'}}, {'name': 'Intel Corp', 'symbol': 'INTC', 'has_intraday': False, 'has_eod': True, 'country': None, 'stock_exchange': {'name': 'NASDAQ Stock Exchange', 'acronym': 'NASDAQ', 'mic': 'XNAS', 'country': 'USA', 'country_code': 'US', 'city': 'New York', 'website': 'www.nasdaq.com'}}, {'name': 'Coca-Cola Company', 'symbol': 'KO', 'has_intraday': False, 'has_eod': True, 'country': None, 'stock_exchange': {'name': 'New York Stock Exchange', 'acronym': 'NYSE', 'mic': 'XNYS', 'country': 'USA', 'country_code': 'US', 'city': 'New York', 'website': 'www.nyse.com'}}, {'name': 'Verizon Communications Inc', 'symbol': 'VZ', 'has_intraday': False, 'has_eod': True, 'country': None, 'stock_exchange': {'name': 'New York Stock Exchange', 'acronym': 'NYSE', 'mic': 'XNYS', 'country': 'USA', 'country_code': 'US', 'city': 'New York', 'website': 'www.nyse.com'}}, {'name': 'Roche Holding AG', 'symbol': 'RHHBY', 'has_intraday': False, 'has_eod': True, 'country': None, 'stock_exchange': {'name': 'OTC Markets', 'acronym': '', 'mic': 'OTCM', 'country': 'USA', 'country_code': 'US', 'city': 'New York', 'website': 'www.otcmarkets.com'}}, {'name': 'Exxon Mobil Corp', 'symbol': 'XOM', 'has_intraday': False, 'has_eod': True, 'country': None, 'stock_exchange': {'name': 'New York Stock Exchange', 'acronym': 'NYSE', 'mic': 'XNYS', 'country': 'USA', 'country_code': 'US', 'city': 'New York', 'website': 'www.nyse.com'}}, {'name': 'Walt Disney Co (The)', 'symbol': 'DIS', 'has_intraday': False, 'has_eod': True, 'country': None, 'stock_exchange': {'name': 'New York Stock Exchange', 'acronym': 'NYSE', 'mic': 'XNYS', 'country': 'USA', 'country_code': 'US', 'city': 'New York', 'website': 'www.nyse.com'}}, {'name': 'Merck & Co Inc', 'symbol': 'MRK', 'has_intraday': False, 'has_eod': True, 'country': None, 'stock_exchange': {'name': 'New York Stock Exchange', 'acronym': 'NYSE', 'mic': 'XNYS', 'country': 'USA', 'country_code': 'US', 'city': 'New York', 'website': 'www.nyse.com'}}, {'name': 'Novartis AG', 'symbol': 'NVS', 'has_intraday': False, 'has_eod': True, 'country': None, 'stock_exchange': {'name': 'New York Stock Exchange', 'acronym': 'NYSE', 'mic': 'XNYS', 'country': 'USA', 'country_code': 'US', 'city': 'New York', 'website': 'www.nyse.com'}}, {'name': 'Comcast Corp - Class A', 'symbol': 'CMCSA', 'has_intraday': False, 'has_eod': True, 'country': None, 'stock_exchange': {'name': 'NASDAQ Stock Exchange', 'acronym': 'NASDAQ', 'mic': 'XNAS', 'country': 'USA', 'country_code': 'US', 'city': 'New York', 'website': 'www.nasdaq.com'}}, {'name': 'Pfizer Inc', 'symbol': 'PFE', 'has_intraday': False, 'has_eod': True, 'country': None, 'stock_exchange': {'name': 'New York Stock Exchange', 'acronym': 'NYSE', 'mic': 'XNYS', 'country': 'USA', 'country_code': 'US', 'city': 'New York', 'website': 'www.nyse.com'}}, {'name': 'PepsiCo Inc', 'symbol': 'PEP', 'has_intraday': False, 'has_eod': True, 'country': None, 'stock_exchange': {'name': 'NASDAQ Stock Exchange', 'acronym': 'NASDAQ', 'mic': 'XNAS', 'country': 'USA', 'country_code': 'US', 'city': 'New York', 'website': 'www.nasdaq.com'}}, {'name': 'Toyota Motor Corporation', 'symbol': 'TM', 'has_intraday': False, 'has_eod': True, 'country': None, 'stock_exchange': {'name': 'New York Stock Exchange', 'acronym': 'NYSE', 'mic': 'XNYS', 'country': 'USA', 'country_code': 'US', 'city': 'New York', 'website': 'www.nyse.com'}}, {'name': 'Chevron Corp', 'symbol': 'CVX', 'has_intraday': False, 'has_eod': True, 'country': None, 'stock_exchange': {'name': 'New York Stock Exchange', 'acronym': 'NYSE', 'mic': 'XNYS', 'country': 'USA', 'country_code': 'US', 'city': 'New York', 'website': 'www.nyse.com'}}, {'name': 'Adobe Inc', 'symbol': 'ADBE', 'has_intraday': False, 'has_eod': True, 'country': None, 'stock_exchange': {'name': 'NASDAQ Stock Exchange', 'acronym': 'NASDAQ', 'mic': 'XNAS', 'country': 'USA', 'country_code': 'US', 'city': 'New York', 'website': 'www.nasdaq.com'}}, {'name': 'Cisco Systems Inc', 'symbol': 'CSCO', 'has_intraday': False, 'has_eod': True, 'country': None, 'stock_exchange': {'name': 'NASDAQ Stock Exchange', 'acronym': 'NASDAQ', 'mic': 'XNAS', 'country': 'USA', 'country_code': 'US', 'city': 'New York', 'website': 'www.nasdaq.com'}}, {'name': 'Wells Fargo & Company', 'symbol': 'WFC', 'has_intraday': False, 'has_eod': True, 'country': None, 'stock_exchange': {'name': 'New York Stock Exchange', 'acronym': 'NYSE', 'mic': 'XNYS', 'country': 'USA', 'country_code': 'US', 'city': 'New York', 'website': 'www.nyse.com'}}, {'name': 'NVIDIA Corp', 'symbol': 'NVDA', 'has_intraday': False, 'has_eod': True, 'country': None, 'stock_exchange': {'name': 'NASDAQ Stock Exchange', 'acronym': 'NASDAQ', 'mic': 'XNAS', 'country': 'USA', 'country_code': 'US', 'city': 'New York', 'website': 'www.nasdaq.com'}}, {'name': 'Netflix Inc', 'symbol': 'NFLX', 'has_intraday': False, 'has_eod': True, 'country': None, 'stock_exchange': {'name': 'NASDAQ Stock Exchange', 'acronym': 'NASDAQ', 'mic': 'XNAS', 'country': 'USA', 'country_code': 'US', 'city': 'New York', 'website': 'www.nasdaq.com'}}, {'name': 'Oracle Corp', 'symbol': 'ORCL', 'has_intraday': False, 'has_eod': True, 'country': None, 'stock_exchange': {'name': 'New York Stock Exchange', 'acronym': 'NYSE', 'mic': 'XNYS', 'country': 'USA', 'country_code': 'US', 'city': 'New York', 'website': 'www.nyse.com'}}, {'name': 'Boeing Company', 'symbol': 'BA', 'has_intraday': False, 'has_eod': True, 'country': None, 'stock_exchange': {'name': 'New York Stock Exchange', 'acronym': 'NYSE', 'mic': 'XNYS', 'country': 'USA', 'country_code': 'US', 'city': 'New York', 'website': 'www.nyse.com'}}, {'name': 'China Mobile Ltd ADR', 'symbol': 'CHL', 'has_intraday': False, 'has_eod': True, 'country': None, 'stock_exchange': {'name': 'New York Stock Exchange', 'acronym': 'NYSE', 'mic': 'XNYS', 'country': 'USA', 'country_code': 'US', 'city': 'New York', 'website': 'www.nyse.com'}}, {'name': 'Salesforce Inc', 'symbol': 'CRM', 'has_intraday': False, 'has_eod': True, 'country': None, 'stock_exchange': {'name': 'New York Stock Exchange', 'acronym': 'NYSE', 'mic': 'XNYS', 'country': 'USA', 'country_code': 'US', 'city': 'New York', 'website': 'www.nyse.com'}}, {'name': 'Sap SE', 'symbol': 'SAP', 'has_intraday': False, 'has_eod': True, 'country': None, 'stock_exchange': {'name': 'New York Stock Exchange', 'acronym': 'NYSE', 'mic': 'XNYS', 'country': 'USA', 'country_code': 'US', 'city': 'New York', 'website': 'www.nyse.com'}}, {'name': 'McDonald`s Corp', 'symbol': 'MCD', 'has_intraday': False, 'has_eod': True, 'country': None, 'stock_exchange': {'name': 'New York Stock Exchange', 'acronym': 'NYSE', 'mic': 'XNYS', 'country': 'USA', 'country_code': 'US', 'city': 'New York', 'website': 'www.nyse.com'}}, {'name': 'Nike Inc - Class B', 'symbol': 'NKE', 'has_intraday': False, 'has_eod': True, 'country': None, 'stock_exchange': {'name': 'New York Stock Exchange', 'acronym': 'NYSE', 'mic': 'XNYS', 'country': 'USA', 'country_code': 'US', 'city': 'New York', 'website': 'www.nyse.com'}}, {'name': 'Abbott Laboratories', 'symbol': 'ABT', 'has_intraday': False, 'has_eod': True, 'country': None, 'stock_exchange': {'name': 'New York Stock Exchange', 'acronym': 'NYSE', 'mic': 'XNYS', 'country': 'USA', 'country_code': 'US', 'city': 'New York', 'website': 'www.nyse.com'}}, {'name': 'Citigroup Inc', 'symbol': 'C', 'has_intraday': False, 'has_eod': True, 'country': None, 'stock_exchange': {'name': 'New York Stock Exchange', 'acronym': 'NYSE', 'mic': 'XNYS', 'country': 'USA', 'country_code': 'US', 'city': 'New York', 'website': 'www.nyse.com'}}, {'name': 'Medtronic Plc', 'symbol': 'MDT', 'has_intraday': False, 'has_eod': True, 'country': None, 'stock_exchange': {'name': 'New York Stock Exchange', 'acronym': 'NYSE', 'mic': 'XNYS', 'country': 'USA', 'country_code': 'US', 'city': 'New York', 'website': 'www.nyse.com'}}, {'name': 'HSBC Holdings plc', 'symbol': 'HSBC', 'has_intraday': False, 'has_eod': True, 'country': None, 'stock_exchange': {'name': 'New York Stock Exchange', 'acronym': 'NYSE', 'mic': 'XNYS', 'country': 'USA', 'country_code': 'US', 'city': 'New York', 'website': 'www.nyse.com'}}, {'name': 'Tesla Inc', 'symbol': 'TSLA', 'has_intraday': False, 'has_eod': True, 'country': None, 'stock_exchange': {'name': 'NASDAQ Stock Exchange', 'acronym': 'NASDAQ', 'mic': 'XNAS', 'country': 'USA', 'country_code': 'US', 'city': 'New York', 'website': 'www.nasdaq.com'}}, {'name': 'Costco Wholesale Corp', 'symbol': 'COST', 'has_intraday': False, 'has_eod': True, 'country': None, 'stock_exchange': {'name': 'NASDAQ Stock Exchange', 'acronym': 'NASDAQ', 'mic': 'XNAS', 'country': 'USA', 'country_code': 'US', 'city': 'New York', 'website': 'www.nasdaq.com'}}, {'name': 'Bristol-Myers Squibb Company', 'symbol': 'BMY', 'has_intraday': False, 'has_eod': True, 'country': None, 'stock_exchange': {'name': 'New York Stock Exchange', 'acronym': 'NYSE', 'mic': 'XNYS', 'country': 'USA', 'country_code': 'US', 'city': 'New York', 'website': 'www.nyse.com'}}, {'name': \"HSBC HOLDINGS PLC ADR EACH REPR 1/40 PREF SERIES '\", 'symbol': 'HSBC/PA', 'has_intraday': False, 'has_eod': True, 'country': None, 'stock_exchange': {'name': 'New York Stock Exchange', 'acronym': 'NYSE', 'mic': 'XNYS', 'country': 'USA', 'country_code': 'US', 'city': 'New York', 'website': 'www.nyse.com'}}, {'name': 'PayPal Holdings Inc', 'symbol': 'PYPL', 'has_intraday': False, 'has_eod': True, 'country': None, 'stock_exchange': {'name': 'NASDAQ Stock Exchange', 'acronym': 'NASDAQ', 'mic': 'XNAS', 'country': 'USA', 'country_code': 'US', 'city': 'New York', 'website': 'www.nasdaq.com'}}, {'name': 'Philip Morris International Inc', 'symbol': 'PM', 'has_intraday': False, 'has_eod': True, 'country': None, 'stock_exchange': {'name': 'New York Stock Exchange', 'acronym': 'NYSE', 'mic': 'XNYS', 'country': 'USA', 'country_code': 'US', 'city': 'New York', 'website': 'www.nyse.com'}}, {'name': 'NextEra Energy Inc', 'symbol': 'NEE', 'has_intraday': False, 'has_eod': True, 'country': None, 'stock_exchange': {'name': 'New York Stock Exchange', 'acronym': 'NYSE', 'mic': 'XNYS', 'country': 'USA', 'country_code': 'US', 'city': 'New York', 'website': 'www.nyse.com'}}, {'name': 'Abbvie Inc', 'symbol': 'ABBV', 'has_intraday': False, 'has_eod': True, 'country': None, 'stock_exchange': {'name': 'New York Stock Exchange', 'acronym': 'NYSE', 'mic': 'XNYS', 'country': 'USA', 'country_code': 'US', 'city': 'New York', 'website': 'www.nyse.com'}}, {'name': 'Lilly(Eli) & Company', 'symbol': 'LLY', 'has_intraday': False, 'has_eod': True, 'country': None, 'stock_exchange': {'name': 'New York Stock Exchange', 'acronym': 'NYSE', 'mic': 'XNYS', 'country': 'USA', 'country_code': 'US', 'city': 'New York', 'website': 'www.nyse.com'}}, {'name': 'AMGEN Inc', 'symbol': 'AMGN', 'has_intraday': False, 'has_eod': True, 'country': None, 'stock_exchange': {'name': 'NASDAQ Stock Exchange', 'acronym': 'NASDAQ', 'mic': 'XNAS', 'country': 'USA', 'country_code': 'US', 'city': 'New York', 'website': 'www.nasdaq.com'}}, {'name': 'Sanofi', 'symbol': 'SNY', 'has_intraday': False, 'has_eod': True, 'country': None, 'stock_exchange': {'name': 'NASDAQ Stock Exchange', 'acronym': 'NASDAQ', 'mic': 'XNAS', 'country': 'USA', 'country_code': 'US', 'city': 'New York', 'website': 'www.nasdaq.com'}}, {'name': 'Thermo Fisher Scientific Inc', 'symbol': 'TMO', 'has_intraday': False, 'has_eod': True, 'country': None, 'stock_exchange': {'name': 'New York Stock Exchange', 'acronym': 'NYSE', 'mic': 'XNYS', 'country': 'USA', 'country_code': 'US', 'city': 'New York', 'website': 'www.nyse.com'}}, {'name': 'ASML Holding NV', 'symbol': 'ASML', 'has_intraday': False, 'has_eod': True, 'country': None, 'stock_exchange': {'name': 'NASDAQ Stock Exchange', 'acronym': 'NASDAQ', 'mic': 'XNAS', 'country': 'USA', 'country_code': 'US', 'city': 'New York', 'website': 'www.nasdaq.com'}}, {'name': 'Astrazeneca plc', 'symbol': 'AZN', 'has_intraday': False, 'has_eod': True, 'country': None, 'stock_exchange': {'name': 'New York Stock Exchange', 'acronym': 'NYSE', 'mic': 'XNYS', 'country': 'USA', 'country_code': 'US', 'city': 'New York', 'website': 'www.nyse.com'}}, {'name': 'Accenture plc - Class A', 'symbol': 'ACN', 'has_intraday': False, 'has_eod': True, 'country': None, 'stock_exchange': {'name': 'New York Stock Exchange', 'acronym': 'NYSE', 'mic': 'XNYS', 'country': 'USA', 'country_code': 'US', 'city': 'New York', 'website': 'www.nyse.com'}}, {'name': 'International Business Machines Corp', 'symbol': 'IBM', 'has_intraday': False, 'has_eod': True, 'country': None, 'stock_exchange': {'name': 'New York Stock Exchange', 'acronym': 'NYSE', 'mic': 'XNYS', 'country': 'USA', 'country_code': 'US', 'city': 'New York', 'website': 'www.nyse.com'}}, {'name': 'Honeywell International Inc', 'symbol': 'HON', 'has_intraday': False, 'has_eod': True, 'country': None, 'stock_exchange': {'name': 'New York Stock Exchange', 'acronym': 'NYSE', 'mic': 'XNYS', 'country': 'USA', 'country_code': 'US', 'city': 'New York', 'website': 'www.nyse.com'}}, {'name': 'UNITED TECHNOLOGIES CORP', 'symbol': 'UTX', 'has_intraday': False, 'has_eod': True, 'country': None, 'stock_exchange': {'name': 'New York Stock Exchange', 'acronym': 'NYSE', 'mic': 'XNYS', 'country': 'USA', 'country_code': 'US', 'city': 'New York', 'website': 'www.nyse.com'}}, {'name': 'TotalEnergies SE', 'symbol': 'TOT', 'has_intraday': False, 'has_eod': True, 'country': None, 'stock_exchange': {'name': 'New York Stock Exchange', 'acronym': 'NYSE', 'mic': 'XNYS', 'country': 'USA', 'country_code': 'US', 'city': 'New York', 'website': 'www.nyse.com'}}, {'name': 'Broadcom Inc', 'symbol': 'AVGO', 'has_intraday': False, 'has_eod': True, 'country': None, 'stock_exchange': {'name': 'NASDAQ Stock Exchange', 'acronym': 'NASDAQ', 'mic': 'XNAS', 'country': 'USA', 'country_code': 'US', 'city': 'New York', 'website': 'www.nasdaq.com'}}, {'name': 'Texas Instruments Inc', 'symbol': 'TXN', 'has_intraday': False, 'has_eod': True, 'country': None, 'stock_exchange': {'name': 'NASDAQ Stock Exchange', 'acronym': 'NASDAQ', 'mic': 'XNAS', 'country': 'USA', 'country_code': 'US', 'city': 'New York', 'website': 'www.nasdaq.com'}}, {'name': 'Novo Nordisk', 'symbol': 'NVO', 'has_intraday': False, 'has_eod': True, 'country': None, 'stock_exchange': {'name': 'New York Stock Exchange', 'acronym': 'NYSE', 'mic': 'XNYS', 'country': 'USA', 'country_code': 'US', 'city': 'New York', 'website': 'www.nyse.com'}}, {'name': 'Union Pacific Corp', 'symbol': 'UNP', 'has_intraday': False, 'has_eod': True, 'country': None, 'stock_exchange': {'name': 'New York Stock Exchange', 'acronym': 'NYSE', 'mic': 'XNYS', 'country': 'USA', 'country_code': 'US', 'city': 'New York', 'website': 'www.nyse.com'}}, {'name': 'Royal Bank Of Canada', 'symbol': 'RY', 'has_intraday': False, 'has_eod': True, 'country': None, 'stock_exchange': {'name': 'New York Stock Exchange', 'acronym': 'NYSE', 'mic': 'XNYS', 'country': 'USA', 'country_code': 'US', 'city': 'New York', 'website': 'www.nyse.com'}}, {'name': 'BP plc', 'symbol': 'BP', 'has_intraday': False, 'has_eod': True, 'country': None, 'stock_exchange': {'name': 'New York Stock Exchange', 'acronym': 'NYSE', 'mic': 'XNYS', 'country': 'USA', 'country_code': 'US', 'city': 'New York', 'website': 'www.nyse.com'}}, {'name': 'Lockheed Martin Corp', 'symbol': 'LMT', 'has_intraday': False, 'has_eod': True, 'country': None, 'stock_exchange': {'name': 'New York Stock Exchange', 'acronym': 'NYSE', 'mic': 'XNYS', 'country': 'USA', 'country_code': 'US', 'city': 'New York', 'website': 'www.nyse.com'}}, {'name': 'American Tower Corp', 'symbol': 'AMT', 'has_intraday': False, 'has_eod': True, 'country': None, 'stock_exchange': {'name': 'New York Stock Exchange', 'acronym': 'NYSE', 'mic': 'XNYS', 'country': 'USA', 'country_code': 'US', 'city': 'New York', 'website': 'www.nyse.com'}}, {'name': 'Linde Plc.', 'symbol': 'LIN', 'has_intraday': False, 'has_eod': True, 'country': None, 'stock_exchange': {'name': 'New York Stock Exchange', 'acronym': 'NYSE', 'mic': 'XNYS', 'country': 'USA', 'country_code': 'US', 'city': 'New York', 'website': 'www.nyse.com'}}, {'name': 'GSK Plc', 'symbol': 'GSK', 'has_intraday': False, 'has_eod': True, 'country': None, 'stock_exchange': {'name': 'New York Stock Exchange', 'acronym': 'NYSE', 'mic': 'XNYS', 'country': 'USA', 'country_code': 'US', 'city': 'New York', 'website': 'www.nyse.com'}}, {'name': 'Danaher Corp', 'symbol': 'DHR', 'has_intraday': False, 'has_eod': True, 'country': None, 'stock_exchange': {'name': 'New York Stock Exchange', 'acronym': 'NYSE', 'mic': 'XNYS', 'country': 'USA', 'country_code': 'US', 'city': 'New York', 'website': 'www.nyse.com'}}, {'name': 'Charter Communications Inc - Class A', 'symbol': 'CHTR', 'has_intraday': False, 'has_eod': True, 'country': None, 'stock_exchange': {'name': 'NASDAQ Stock Exchange', 'acronym': 'NASDAQ', 'mic': 'XNAS', 'country': 'USA', 'country_code': 'US', 'city': 'New York', 'website': 'www.nasdaq.com'}}, {'name': 'HDFC Bank Ltd', 'symbol': 'HDB', 'has_intraday': False, 'has_eod': True, 'country': None, 'stock_exchange': {'name': 'New York Stock Exchange', 'acronym': 'NYSE', 'mic': 'XNYS', 'country': 'USA', 'country_code': 'US', 'city': 'New York', 'website': 'www.nyse.com'}}, {'name': 'General Electric Company', 'symbol': 'GE', 'has_intraday': False, 'has_eod': True, 'country': None, 'stock_exchange': {'name': 'New York Stock Exchange', 'acronym': 'NYSE', 'mic': 'XNYS', 'country': 'USA', 'country_code': 'US', 'city': 'New York', 'website': 'www.nyse.com'}}, {'name': 'Starbucks Corp', 'symbol': 'SBUX', 'has_intraday': False, 'has_eod': True, 'country': None, 'stock_exchange': {'name': 'NASDAQ Stock Exchange', 'acronym': 'NASDAQ', 'mic': 'XNAS', 'country': 'USA', 'country_code': 'US', 'city': 'New York', 'website': 'www.nasdaq.com'}}, {'name': 'Anheuser-Busch InBev SA/NV', 'symbol': 'BUD', 'has_intraday': False, 'has_eod': True, 'country': None, 'stock_exchange': {'name': 'New York Stock Exchange', 'acronym': 'NYSE', 'mic': 'XNYS', 'country': 'USA', 'country_code': 'US', 'city': 'New York', 'website': 'www.nyse.com'}}, {'name': 'Gilead Sciences Inc', 'symbol': 'GILD', 'has_intraday': False, 'has_eod': True, 'country': None, 'stock_exchange': {'name': 'NASDAQ Stock Exchange', 'acronym': 'NASDAQ', 'mic': 'XNAS', 'country': 'USA', 'country_code': 'US', 'city': 'New York', 'website': 'www.nasdaq.com'}}, {'name': 'Toronto Dominion Bank', 'symbol': 'TD', 'has_intraday': False, 'has_eod': True, 'country': None, 'stock_exchange': {'name': 'New York Stock Exchange', 'acronym': 'NYSE', 'mic': 'XNYS', 'country': 'USA', 'country_code': 'US', 'city': 'New York', 'website': 'www.nyse.com'}}, {'name': 'Sinopec Shanghai Petrochemical Co. Ltd', 'symbol': 'SHI', 'has_intraday': False, 'has_eod': True, 'country': None, 'stock_exchange': {'name': 'New York Stock Exchange', 'acronym': 'NYSE', 'mic': 'XNYS', 'country': 'USA', 'country_code': 'US', 'city': 'New York', 'website': 'www.nyse.com'}}, {'name': 'Qualcomm Inc', 'symbol': 'QCOM', 'has_intraday': False, 'has_eod': True, 'country': None, 'stock_exchange': {'name': 'NASDAQ Stock Exchange', 'acronym': 'NASDAQ', 'mic': 'XNAS', 'country': 'USA', 'country_code': 'US', 'city': 'New York', 'website': 'www.nasdaq.com'}}, {'name': 'American Express Company', 'symbol': 'AXP', 'has_intraday': False, 'has_eod': True, 'country': None, 'stock_exchange': {'name': 'New York Stock Exchange', 'acronym': 'NYSE', 'mic': 'XNYS', 'country': 'USA', 'country_code': 'US', 'city': 'New York', 'website': 'www.nyse.com'}}, {'name': \"ROYAL DUTCH SHELL ADR EA REP 2 CL'A' EUR0.07\", 'symbol': 'RDS.A', 'has_intraday': False, 'has_eod': False, 'country': None, 'stock_exchange': {'name': 'New York Stock Exchange', 'acronym': 'NYSE', 'mic': 'XNYS', 'country': 'USA', 'country_code': 'US', 'city': 'New York', 'website': 'www.nyse.com'}}, {'name': 'Fidelity National Information Services Inc', 'symbol': 'FIS', 'has_intraday': False, 'has_eod': True, 'country': None, 'stock_exchange': {'name': 'New York Stock Exchange', 'acronym': 'NYSE', 'mic': 'XNYS', 'country': 'USA', 'country_code': 'US', 'city': 'New York', 'website': 'www.nyse.com'}}, {'name': 'British American Tobacco Plc', 'symbol': 'BTI', 'has_intraday': False, 'has_eod': True, 'country': None, 'stock_exchange': {'name': 'New York Stock Exchange', 'acronym': 'NYSE', 'mic': 'XNYS', 'country': 'USA', 'country_code': 'US', 'city': 'New York', 'website': 'www.nyse.com'}}, {'name': '3M Company', 'symbol': 'MMM', 'has_intraday': False, 'has_eod': True, 'country': None, 'stock_exchange': {'name': 'New York Stock Exchange', 'acronym': 'NYSE', 'mic': 'XNYS', 'country': 'USA', 'country_code': 'US', 'city': 'New York', 'website': 'www.nyse.com'}}, {'name': 'Lowe`s Cos. Inc', 'symbol': 'LOW', 'has_intraday': False, 'has_eod': True, 'country': None, 'stock_exchange': {'name': 'New York Stock Exchange', 'acronym': 'NYSE', 'mic': 'XNYS', 'country': 'USA', 'country_code': 'US', 'city': 'New York', 'website': 'www.nyse.com'}}, {'name': 'Diageo plc', 'symbol': 'DEO', 'has_intraday': False, 'has_eod': True, 'country': None, 'stock_exchange': {'name': 'New York Stock Exchange', 'acronym': 'NYSE', 'mic': 'XNYS', 'country': 'USA', 'country_code': 'US', 'city': 'New York', 'website': 'www.nyse.com'}}, {'name': \"ROYAL DUTCH SHELL ADR EA REP 2 CL'B' EUR0.07\", 'symbol': 'RDS.B', 'has_intraday': False, 'has_eod': False, 'country': None, 'stock_exchange': {'name': 'New York Stock Exchange', 'acronym': 'NYSE', 'mic': 'XNYS', 'country': 'USA', 'country_code': 'US', 'city': 'New York', 'website': 'www.nyse.com'}}]}\n"
     ]
    }
   ],
   "source": [
    "url = \"https://api.marketstack.com/v1/tickers?access_key=\" + api_key\n",
    "response = requests.get(url)\n",
    "response_json = response.json()\n",
    "print(response_json)"
   ]
  },
  {
   "cell_type": "code",
   "execution_count": 3,
   "metadata": {
    "extensions": {
     "jupyter_dashboards": {
      "version": 1,
      "views": {
       "grid_default": {},
       "report_default": {
        "hidden": false
       }
      }
     }
    }
   },
   "outputs": [
    {
     "data": {
      "text/plain": [
       "{'pagination': {'limit': 100, 'offset': 0, 'count': 100, 'total': 294939},\n",
       " 'data': [{'name': 'Microsoft Corporation',\n",
       "   'symbol': 'MSFT',\n",
       "   'has_intraday': False,\n",
       "   'has_eod': True,\n",
       "   'country': None,\n",
       "   'stock_exchange': {'name': 'NASDAQ Stock Exchange',\n",
       "    'acronym': 'NASDAQ',\n",
       "    'mic': 'XNAS',\n",
       "    'country': 'USA',\n",
       "    'country_code': 'US',\n",
       "    'city': 'New York',\n",
       "    'website': 'www.nasdaq.com'}},\n",
       "  {'name': 'Apple Inc',\n",
       "   'symbol': 'AAPL',\n",
       "   'has_intraday': False,\n",
       "   'has_eod': True,\n",
       "   'country': None,\n",
       "   'stock_exchange': {'name': 'NASDAQ Stock Exchange',\n",
       "    'acronym': 'NASDAQ',\n",
       "    'mic': 'XNAS',\n",
       "    'country': 'USA',\n",
       "    'country_code': 'US',\n",
       "    'city': 'New York',\n",
       "    'website': 'www.nasdaq.com'}},\n",
       "  {'name': 'Amazon.com Inc',\n",
       "   'symbol': 'AMZN',\n",
       "   'has_intraday': False,\n",
       "   'has_eod': True,\n",
       "   'country': None,\n",
       "   'stock_exchange': {'name': 'NASDAQ Stock Exchange',\n",
       "    'acronym': 'NASDAQ',\n",
       "    'mic': 'XNAS',\n",
       "    'country': 'USA',\n",
       "    'country_code': 'US',\n",
       "    'city': 'New York',\n",
       "    'website': 'www.nasdaq.com'}},\n",
       "  {'name': 'Alphabet Inc - Class C',\n",
       "   'symbol': 'GOOG',\n",
       "   'has_intraday': False,\n",
       "   'has_eod': True,\n",
       "   'country': None,\n",
       "   'stock_exchange': {'name': 'NASDAQ Stock Exchange',\n",
       "    'acronym': 'NASDAQ',\n",
       "    'mic': 'XNAS',\n",
       "    'country': 'USA',\n",
       "    'country_code': 'US',\n",
       "    'city': 'New York',\n",
       "    'website': 'www.nasdaq.com'}},\n",
       "  {'name': 'Alphabet Inc - Class A',\n",
       "   'symbol': 'GOOGL',\n",
       "   'has_intraday': False,\n",
       "   'has_eod': True,\n",
       "   'country': None,\n",
       "   'stock_exchange': {'name': 'NASDAQ Stock Exchange',\n",
       "    'acronym': 'NASDAQ',\n",
       "    'mic': 'XNAS',\n",
       "    'country': 'USA',\n",
       "    'country_code': 'US',\n",
       "    'city': 'New York',\n",
       "    'website': 'www.nasdaq.com'}},\n",
       "  {'name': 'Alibaba Group Holding Ltd',\n",
       "   'symbol': 'BABA',\n",
       "   'has_intraday': False,\n",
       "   'has_eod': True,\n",
       "   'country': None,\n",
       "   'stock_exchange': {'name': 'New York Stock Exchange',\n",
       "    'acronym': 'NYSE',\n",
       "    'mic': 'XNYS',\n",
       "    'country': 'USA',\n",
       "    'country_code': 'US',\n",
       "    'city': 'New York',\n",
       "    'website': 'www.nyse.com'}},\n",
       "  {'name': 'Meta Platforms Inc - Class A',\n",
       "   'symbol': 'FB',\n",
       "   'has_intraday': False,\n",
       "   'has_eod': True,\n",
       "   'country': None,\n",
       "   'stock_exchange': {'name': 'NASDAQ Stock Exchange',\n",
       "    'acronym': 'NASDAQ',\n",
       "    'mic': 'XNAS',\n",
       "    'country': 'USA',\n",
       "    'country_code': 'US',\n",
       "    'city': 'New York',\n",
       "    'website': 'www.nasdaq.com'}},\n",
       "  {'name': 'BERKSHIRE HATHAWAY INC',\n",
       "   'symbol': 'BRK.B',\n",
       "   'has_intraday': False,\n",
       "   'has_eod': False,\n",
       "   'country': None,\n",
       "   'stock_exchange': {'name': 'New York Stock Exchange',\n",
       "    'acronym': 'NYSE',\n",
       "    'mic': 'XNYS',\n",
       "    'country': 'USA',\n",
       "    'country_code': 'US',\n",
       "    'city': 'New York',\n",
       "    'website': 'www.nyse.com'}},\n",
       "  {'name': 'BERKSHIRE HATHAWAY INC',\n",
       "   'symbol': 'BRK.A',\n",
       "   'has_intraday': False,\n",
       "   'has_eod': False,\n",
       "   'country': None,\n",
       "   'stock_exchange': {'name': 'New York Stock Exchange',\n",
       "    'acronym': 'NYSE',\n",
       "    'mic': 'XNYS',\n",
       "    'country': 'USA',\n",
       "    'country_code': 'US',\n",
       "    'city': 'New York',\n",
       "    'website': 'www.nyse.com'}},\n",
       "  {'name': 'Vodafone Group plc',\n",
       "   'symbol': 'VOD',\n",
       "   'has_intraday': False,\n",
       "   'has_eod': True,\n",
       "   'country': None,\n",
       "   'stock_exchange': {'name': 'NASDAQ Stock Exchange',\n",
       "    'acronym': 'NASDAQ',\n",
       "    'mic': 'XNAS',\n",
       "    'country': 'USA',\n",
       "    'country_code': 'US',\n",
       "    'city': 'New York',\n",
       "    'website': 'www.nasdaq.com'}},\n",
       "  {'name': 'Visa Inc - Class A',\n",
       "   'symbol': 'V',\n",
       "   'has_intraday': False,\n",
       "   'has_eod': True,\n",
       "   'country': None,\n",
       "   'stock_exchange': {'name': 'New York Stock Exchange',\n",
       "    'acronym': 'NYSE',\n",
       "    'mic': 'XNYS',\n",
       "    'country': 'USA',\n",
       "    'country_code': 'US',\n",
       "    'city': 'New York',\n",
       "    'website': 'www.nyse.com'}},\n",
       "  {'name': 'JPMorgan Chase & Company',\n",
       "   'symbol': 'JPM',\n",
       "   'has_intraday': False,\n",
       "   'has_eod': True,\n",
       "   'country': None,\n",
       "   'stock_exchange': {'name': 'New York Stock Exchange',\n",
       "    'acronym': 'NYSE',\n",
       "    'mic': 'XNYS',\n",
       "    'country': 'USA',\n",
       "    'country_code': 'US',\n",
       "    'city': 'New York',\n",
       "    'website': 'www.nyse.com'}},\n",
       "  {'name': 'Johnson & Johnson',\n",
       "   'symbol': 'JNJ',\n",
       "   'has_intraday': False,\n",
       "   'has_eod': True,\n",
       "   'country': None,\n",
       "   'stock_exchange': {'name': 'New York Stock Exchange',\n",
       "    'acronym': 'NYSE',\n",
       "    'mic': 'XNYS',\n",
       "    'country': 'USA',\n",
       "    'country_code': 'US',\n",
       "    'city': 'New York',\n",
       "    'website': 'www.nyse.com'}},\n",
       "  {'name': 'Walmart Inc',\n",
       "   'symbol': 'WMT',\n",
       "   'has_intraday': False,\n",
       "   'has_eod': True,\n",
       "   'country': None,\n",
       "   'stock_exchange': {'name': 'New York Stock Exchange',\n",
       "    'acronym': 'NYSE',\n",
       "    'mic': 'XNYS',\n",
       "    'country': 'USA',\n",
       "    'country_code': 'US',\n",
       "    'city': 'New York',\n",
       "    'website': 'www.nyse.com'}},\n",
       "  {'name': 'Mastercard Incorporated - Class A',\n",
       "   'symbol': 'MA',\n",
       "   'has_intraday': False,\n",
       "   'has_eod': True,\n",
       "   'country': None,\n",
       "   'stock_exchange': {'name': 'New York Stock Exchange',\n",
       "    'acronym': 'NYSE',\n",
       "    'mic': 'XNYS',\n",
       "    'country': 'USA',\n",
       "    'country_code': 'US',\n",
       "    'city': 'New York',\n",
       "    'website': 'www.nyse.com'}},\n",
       "  {'name': 'Procter & Gamble Company',\n",
       "   'symbol': 'PG',\n",
       "   'has_intraday': False,\n",
       "   'has_eod': True,\n",
       "   'country': None,\n",
       "   'stock_exchange': {'name': 'New York Stock Exchange',\n",
       "    'acronym': 'NYSE',\n",
       "    'mic': 'XNYS',\n",
       "    'country': 'USA',\n",
       "    'country_code': 'US',\n",
       "    'city': 'New York',\n",
       "    'website': 'www.nyse.com'}},\n",
       "  {'name': 'Taiwan Semiconductor Manufacturing',\n",
       "   'symbol': 'TSM',\n",
       "   'has_intraday': False,\n",
       "   'has_eod': True,\n",
       "   'country': None,\n",
       "   'stock_exchange': {'name': 'New York Stock Exchange',\n",
       "    'acronym': 'NYSE',\n",
       "    'mic': 'XNYS',\n",
       "    'country': 'USA',\n",
       "    'country_code': 'US',\n",
       "    'city': 'New York',\n",
       "    'website': 'www.nyse.com'}},\n",
       "  {'name': 'Chunghwa Telecom',\n",
       "   'symbol': 'CHT',\n",
       "   'has_intraday': False,\n",
       "   'has_eod': True,\n",
       "   'country': None,\n",
       "   'stock_exchange': {'name': 'New York Stock Exchange',\n",
       "    'acronym': 'NYSE',\n",
       "    'mic': 'XNYS',\n",
       "    'country': 'USA',\n",
       "    'country_code': 'US',\n",
       "    'city': 'New York',\n",
       "    'website': 'www.nyse.com'}},\n",
       "  {'name': 'Roche Holding AG',\n",
       "   'symbol': 'RHHBF',\n",
       "   'has_intraday': False,\n",
       "   'has_eod': True,\n",
       "   'country': None,\n",
       "   'stock_exchange': {'name': 'OTC Markets',\n",
       "    'acronym': '',\n",
       "    'mic': 'OTCM',\n",
       "    'country': 'USA',\n",
       "    'country_code': 'US',\n",
       "    'city': 'New York',\n",
       "    'website': 'www.otcmarkets.com'}},\n",
       "  {'name': 'Roche Holding AG',\n",
       "   'symbol': 'RHHVF',\n",
       "   'has_intraday': False,\n",
       "   'has_eod': True,\n",
       "   'country': None,\n",
       "   'stock_exchange': {'name': 'OTC Markets',\n",
       "    'acronym': '',\n",
       "    'mic': 'OTCM',\n",
       "    'country': 'USA',\n",
       "    'country_code': 'US',\n",
       "    'city': 'New York',\n",
       "    'website': 'www.otcmarkets.com'}},\n",
       "  {'name': 'AT&T Inc',\n",
       "   'symbol': 'T',\n",
       "   'has_intraday': False,\n",
       "   'has_eod': True,\n",
       "   'country': None,\n",
       "   'stock_exchange': {'name': 'New York Stock Exchange',\n",
       "    'acronym': 'NYSE',\n",
       "    'mic': 'XNYS',\n",
       "    'country': 'USA',\n",
       "    'country_code': 'US',\n",
       "    'city': 'New York',\n",
       "    'website': 'www.nyse.com'}},\n",
       "  {'name': 'Unitedhealth Group Inc',\n",
       "   'symbol': 'UNH',\n",
       "   'has_intraday': False,\n",
       "   'has_eod': True,\n",
       "   'country': None,\n",
       "   'stock_exchange': {'name': 'New York Stock Exchange',\n",
       "    'acronym': 'NYSE',\n",
       "    'mic': 'XNYS',\n",
       "    'country': 'USA',\n",
       "    'country_code': 'US',\n",
       "    'city': 'New York',\n",
       "    'website': 'www.nyse.com'}},\n",
       "  {'name': 'Bank Of America Corp',\n",
       "   'symbol': 'BAC',\n",
       "   'has_intraday': False,\n",
       "   'has_eod': True,\n",
       "   'country': None,\n",
       "   'stock_exchange': {'name': 'New York Stock Exchange',\n",
       "    'acronym': 'NYSE',\n",
       "    'mic': 'XNYS',\n",
       "    'country': 'USA',\n",
       "    'country_code': 'US',\n",
       "    'city': 'New York',\n",
       "    'website': 'www.nyse.com'}},\n",
       "  {'name': 'Home Depot Inc',\n",
       "   'symbol': 'HD',\n",
       "   'has_intraday': False,\n",
       "   'has_eod': True,\n",
       "   'country': None,\n",
       "   'stock_exchange': {'name': 'New York Stock Exchange',\n",
       "    'acronym': 'NYSE',\n",
       "    'mic': 'XNYS',\n",
       "    'country': 'USA',\n",
       "    'country_code': 'US',\n",
       "    'city': 'New York',\n",
       "    'website': 'www.nyse.com'}},\n",
       "  {'name': 'Intel Corp',\n",
       "   'symbol': 'INTC',\n",
       "   'has_intraday': False,\n",
       "   'has_eod': True,\n",
       "   'country': None,\n",
       "   'stock_exchange': {'name': 'NASDAQ Stock Exchange',\n",
       "    'acronym': 'NASDAQ',\n",
       "    'mic': 'XNAS',\n",
       "    'country': 'USA',\n",
       "    'country_code': 'US',\n",
       "    'city': 'New York',\n",
       "    'website': 'www.nasdaq.com'}},\n",
       "  {'name': 'Coca-Cola Company',\n",
       "   'symbol': 'KO',\n",
       "   'has_intraday': False,\n",
       "   'has_eod': True,\n",
       "   'country': None,\n",
       "   'stock_exchange': {'name': 'New York Stock Exchange',\n",
       "    'acronym': 'NYSE',\n",
       "    'mic': 'XNYS',\n",
       "    'country': 'USA',\n",
       "    'country_code': 'US',\n",
       "    'city': 'New York',\n",
       "    'website': 'www.nyse.com'}},\n",
       "  {'name': 'Verizon Communications Inc',\n",
       "   'symbol': 'VZ',\n",
       "   'has_intraday': False,\n",
       "   'has_eod': True,\n",
       "   'country': None,\n",
       "   'stock_exchange': {'name': 'New York Stock Exchange',\n",
       "    'acronym': 'NYSE',\n",
       "    'mic': 'XNYS',\n",
       "    'country': 'USA',\n",
       "    'country_code': 'US',\n",
       "    'city': 'New York',\n",
       "    'website': 'www.nyse.com'}},\n",
       "  {'name': 'Roche Holding AG',\n",
       "   'symbol': 'RHHBY',\n",
       "   'has_intraday': False,\n",
       "   'has_eod': True,\n",
       "   'country': None,\n",
       "   'stock_exchange': {'name': 'OTC Markets',\n",
       "    'acronym': '',\n",
       "    'mic': 'OTCM',\n",
       "    'country': 'USA',\n",
       "    'country_code': 'US',\n",
       "    'city': 'New York',\n",
       "    'website': 'www.otcmarkets.com'}},\n",
       "  {'name': 'Exxon Mobil Corp',\n",
       "   'symbol': 'XOM',\n",
       "   'has_intraday': False,\n",
       "   'has_eod': True,\n",
       "   'country': None,\n",
       "   'stock_exchange': {'name': 'New York Stock Exchange',\n",
       "    'acronym': 'NYSE',\n",
       "    'mic': 'XNYS',\n",
       "    'country': 'USA',\n",
       "    'country_code': 'US',\n",
       "    'city': 'New York',\n",
       "    'website': 'www.nyse.com'}},\n",
       "  {'name': 'Walt Disney Co (The)',\n",
       "   'symbol': 'DIS',\n",
       "   'has_intraday': False,\n",
       "   'has_eod': True,\n",
       "   'country': None,\n",
       "   'stock_exchange': {'name': 'New York Stock Exchange',\n",
       "    'acronym': 'NYSE',\n",
       "    'mic': 'XNYS',\n",
       "    'country': 'USA',\n",
       "    'country_code': 'US',\n",
       "    'city': 'New York',\n",
       "    'website': 'www.nyse.com'}},\n",
       "  {'name': 'Merck & Co Inc',\n",
       "   'symbol': 'MRK',\n",
       "   'has_intraday': False,\n",
       "   'has_eod': True,\n",
       "   'country': None,\n",
       "   'stock_exchange': {'name': 'New York Stock Exchange',\n",
       "    'acronym': 'NYSE',\n",
       "    'mic': 'XNYS',\n",
       "    'country': 'USA',\n",
       "    'country_code': 'US',\n",
       "    'city': 'New York',\n",
       "    'website': 'www.nyse.com'}},\n",
       "  {'name': 'Novartis AG',\n",
       "   'symbol': 'NVS',\n",
       "   'has_intraday': False,\n",
       "   'has_eod': True,\n",
       "   'country': None,\n",
       "   'stock_exchange': {'name': 'New York Stock Exchange',\n",
       "    'acronym': 'NYSE',\n",
       "    'mic': 'XNYS',\n",
       "    'country': 'USA',\n",
       "    'country_code': 'US',\n",
       "    'city': 'New York',\n",
       "    'website': 'www.nyse.com'}},\n",
       "  {'name': 'Comcast Corp - Class A',\n",
       "   'symbol': 'CMCSA',\n",
       "   'has_intraday': False,\n",
       "   'has_eod': True,\n",
       "   'country': None,\n",
       "   'stock_exchange': {'name': 'NASDAQ Stock Exchange',\n",
       "    'acronym': 'NASDAQ',\n",
       "    'mic': 'XNAS',\n",
       "    'country': 'USA',\n",
       "    'country_code': 'US',\n",
       "    'city': 'New York',\n",
       "    'website': 'www.nasdaq.com'}},\n",
       "  {'name': 'Pfizer Inc',\n",
       "   'symbol': 'PFE',\n",
       "   'has_intraday': False,\n",
       "   'has_eod': True,\n",
       "   'country': None,\n",
       "   'stock_exchange': {'name': 'New York Stock Exchange',\n",
       "    'acronym': 'NYSE',\n",
       "    'mic': 'XNYS',\n",
       "    'country': 'USA',\n",
       "    'country_code': 'US',\n",
       "    'city': 'New York',\n",
       "    'website': 'www.nyse.com'}},\n",
       "  {'name': 'PepsiCo Inc',\n",
       "   'symbol': 'PEP',\n",
       "   'has_intraday': False,\n",
       "   'has_eod': True,\n",
       "   'country': None,\n",
       "   'stock_exchange': {'name': 'NASDAQ Stock Exchange',\n",
       "    'acronym': 'NASDAQ',\n",
       "    'mic': 'XNAS',\n",
       "    'country': 'USA',\n",
       "    'country_code': 'US',\n",
       "    'city': 'New York',\n",
       "    'website': 'www.nasdaq.com'}},\n",
       "  {'name': 'Toyota Motor Corporation',\n",
       "   'symbol': 'TM',\n",
       "   'has_intraday': False,\n",
       "   'has_eod': True,\n",
       "   'country': None,\n",
       "   'stock_exchange': {'name': 'New York Stock Exchange',\n",
       "    'acronym': 'NYSE',\n",
       "    'mic': 'XNYS',\n",
       "    'country': 'USA',\n",
       "    'country_code': 'US',\n",
       "    'city': 'New York',\n",
       "    'website': 'www.nyse.com'}},\n",
       "  {'name': 'Chevron Corp',\n",
       "   'symbol': 'CVX',\n",
       "   'has_intraday': False,\n",
       "   'has_eod': True,\n",
       "   'country': None,\n",
       "   'stock_exchange': {'name': 'New York Stock Exchange',\n",
       "    'acronym': 'NYSE',\n",
       "    'mic': 'XNYS',\n",
       "    'country': 'USA',\n",
       "    'country_code': 'US',\n",
       "    'city': 'New York',\n",
       "    'website': 'www.nyse.com'}},\n",
       "  {'name': 'Adobe Inc',\n",
       "   'symbol': 'ADBE',\n",
       "   'has_intraday': False,\n",
       "   'has_eod': True,\n",
       "   'country': None,\n",
       "   'stock_exchange': {'name': 'NASDAQ Stock Exchange',\n",
       "    'acronym': 'NASDAQ',\n",
       "    'mic': 'XNAS',\n",
       "    'country': 'USA',\n",
       "    'country_code': 'US',\n",
       "    'city': 'New York',\n",
       "    'website': 'www.nasdaq.com'}},\n",
       "  {'name': 'Cisco Systems Inc',\n",
       "   'symbol': 'CSCO',\n",
       "   'has_intraday': False,\n",
       "   'has_eod': True,\n",
       "   'country': None,\n",
       "   'stock_exchange': {'name': 'NASDAQ Stock Exchange',\n",
       "    'acronym': 'NASDAQ',\n",
       "    'mic': 'XNAS',\n",
       "    'country': 'USA',\n",
       "    'country_code': 'US',\n",
       "    'city': 'New York',\n",
       "    'website': 'www.nasdaq.com'}},\n",
       "  {'name': 'Wells Fargo & Company',\n",
       "   'symbol': 'WFC',\n",
       "   'has_intraday': False,\n",
       "   'has_eod': True,\n",
       "   'country': None,\n",
       "   'stock_exchange': {'name': 'New York Stock Exchange',\n",
       "    'acronym': 'NYSE',\n",
       "    'mic': 'XNYS',\n",
       "    'country': 'USA',\n",
       "    'country_code': 'US',\n",
       "    'city': 'New York',\n",
       "    'website': 'www.nyse.com'}},\n",
       "  {'name': 'NVIDIA Corp',\n",
       "   'symbol': 'NVDA',\n",
       "   'has_intraday': False,\n",
       "   'has_eod': True,\n",
       "   'country': None,\n",
       "   'stock_exchange': {'name': 'NASDAQ Stock Exchange',\n",
       "    'acronym': 'NASDAQ',\n",
       "    'mic': 'XNAS',\n",
       "    'country': 'USA',\n",
       "    'country_code': 'US',\n",
       "    'city': 'New York',\n",
       "    'website': 'www.nasdaq.com'}},\n",
       "  {'name': 'Netflix Inc',\n",
       "   'symbol': 'NFLX',\n",
       "   'has_intraday': False,\n",
       "   'has_eod': True,\n",
       "   'country': None,\n",
       "   'stock_exchange': {'name': 'NASDAQ Stock Exchange',\n",
       "    'acronym': 'NASDAQ',\n",
       "    'mic': 'XNAS',\n",
       "    'country': 'USA',\n",
       "    'country_code': 'US',\n",
       "    'city': 'New York',\n",
       "    'website': 'www.nasdaq.com'}},\n",
       "  {'name': 'Oracle Corp',\n",
       "   'symbol': 'ORCL',\n",
       "   'has_intraday': False,\n",
       "   'has_eod': True,\n",
       "   'country': None,\n",
       "   'stock_exchange': {'name': 'New York Stock Exchange',\n",
       "    'acronym': 'NYSE',\n",
       "    'mic': 'XNYS',\n",
       "    'country': 'USA',\n",
       "    'country_code': 'US',\n",
       "    'city': 'New York',\n",
       "    'website': 'www.nyse.com'}},\n",
       "  {'name': 'Boeing Company',\n",
       "   'symbol': 'BA',\n",
       "   'has_intraday': False,\n",
       "   'has_eod': True,\n",
       "   'country': None,\n",
       "   'stock_exchange': {'name': 'New York Stock Exchange',\n",
       "    'acronym': 'NYSE',\n",
       "    'mic': 'XNYS',\n",
       "    'country': 'USA',\n",
       "    'country_code': 'US',\n",
       "    'city': 'New York',\n",
       "    'website': 'www.nyse.com'}},\n",
       "  {'name': 'China Mobile Ltd ADR',\n",
       "   'symbol': 'CHL',\n",
       "   'has_intraday': False,\n",
       "   'has_eod': True,\n",
       "   'country': None,\n",
       "   'stock_exchange': {'name': 'New York Stock Exchange',\n",
       "    'acronym': 'NYSE',\n",
       "    'mic': 'XNYS',\n",
       "    'country': 'USA',\n",
       "    'country_code': 'US',\n",
       "    'city': 'New York',\n",
       "    'website': 'www.nyse.com'}},\n",
       "  {'name': 'Salesforce Inc',\n",
       "   'symbol': 'CRM',\n",
       "   'has_intraday': False,\n",
       "   'has_eod': True,\n",
       "   'country': None,\n",
       "   'stock_exchange': {'name': 'New York Stock Exchange',\n",
       "    'acronym': 'NYSE',\n",
       "    'mic': 'XNYS',\n",
       "    'country': 'USA',\n",
       "    'country_code': 'US',\n",
       "    'city': 'New York',\n",
       "    'website': 'www.nyse.com'}},\n",
       "  {'name': 'Sap SE',\n",
       "   'symbol': 'SAP',\n",
       "   'has_intraday': False,\n",
       "   'has_eod': True,\n",
       "   'country': None,\n",
       "   'stock_exchange': {'name': 'New York Stock Exchange',\n",
       "    'acronym': 'NYSE',\n",
       "    'mic': 'XNYS',\n",
       "    'country': 'USA',\n",
       "    'country_code': 'US',\n",
       "    'city': 'New York',\n",
       "    'website': 'www.nyse.com'}},\n",
       "  {'name': 'McDonald`s Corp',\n",
       "   'symbol': 'MCD',\n",
       "   'has_intraday': False,\n",
       "   'has_eod': True,\n",
       "   'country': None,\n",
       "   'stock_exchange': {'name': 'New York Stock Exchange',\n",
       "    'acronym': 'NYSE',\n",
       "    'mic': 'XNYS',\n",
       "    'country': 'USA',\n",
       "    'country_code': 'US',\n",
       "    'city': 'New York',\n",
       "    'website': 'www.nyse.com'}},\n",
       "  {'name': 'Nike Inc - Class B',\n",
       "   'symbol': 'NKE',\n",
       "   'has_intraday': False,\n",
       "   'has_eod': True,\n",
       "   'country': None,\n",
       "   'stock_exchange': {'name': 'New York Stock Exchange',\n",
       "    'acronym': 'NYSE',\n",
       "    'mic': 'XNYS',\n",
       "    'country': 'USA',\n",
       "    'country_code': 'US',\n",
       "    'city': 'New York',\n",
       "    'website': 'www.nyse.com'}},\n",
       "  {'name': 'Abbott Laboratories',\n",
       "   'symbol': 'ABT',\n",
       "   'has_intraday': False,\n",
       "   'has_eod': True,\n",
       "   'country': None,\n",
       "   'stock_exchange': {'name': 'New York Stock Exchange',\n",
       "    'acronym': 'NYSE',\n",
       "    'mic': 'XNYS',\n",
       "    'country': 'USA',\n",
       "    'country_code': 'US',\n",
       "    'city': 'New York',\n",
       "    'website': 'www.nyse.com'}},\n",
       "  {'name': 'Citigroup Inc',\n",
       "   'symbol': 'C',\n",
       "   'has_intraday': False,\n",
       "   'has_eod': True,\n",
       "   'country': None,\n",
       "   'stock_exchange': {'name': 'New York Stock Exchange',\n",
       "    'acronym': 'NYSE',\n",
       "    'mic': 'XNYS',\n",
       "    'country': 'USA',\n",
       "    'country_code': 'US',\n",
       "    'city': 'New York',\n",
       "    'website': 'www.nyse.com'}},\n",
       "  {'name': 'Medtronic Plc',\n",
       "   'symbol': 'MDT',\n",
       "   'has_intraday': False,\n",
       "   'has_eod': True,\n",
       "   'country': None,\n",
       "   'stock_exchange': {'name': 'New York Stock Exchange',\n",
       "    'acronym': 'NYSE',\n",
       "    'mic': 'XNYS',\n",
       "    'country': 'USA',\n",
       "    'country_code': 'US',\n",
       "    'city': 'New York',\n",
       "    'website': 'www.nyse.com'}},\n",
       "  {'name': 'HSBC Holdings plc',\n",
       "   'symbol': 'HSBC',\n",
       "   'has_intraday': False,\n",
       "   'has_eod': True,\n",
       "   'country': None,\n",
       "   'stock_exchange': {'name': 'New York Stock Exchange',\n",
       "    'acronym': 'NYSE',\n",
       "    'mic': 'XNYS',\n",
       "    'country': 'USA',\n",
       "    'country_code': 'US',\n",
       "    'city': 'New York',\n",
       "    'website': 'www.nyse.com'}},\n",
       "  {'name': 'Tesla Inc',\n",
       "   'symbol': 'TSLA',\n",
       "   'has_intraday': False,\n",
       "   'has_eod': True,\n",
       "   'country': None,\n",
       "   'stock_exchange': {'name': 'NASDAQ Stock Exchange',\n",
       "    'acronym': 'NASDAQ',\n",
       "    'mic': 'XNAS',\n",
       "    'country': 'USA',\n",
       "    'country_code': 'US',\n",
       "    'city': 'New York',\n",
       "    'website': 'www.nasdaq.com'}},\n",
       "  {'name': 'Costco Wholesale Corp',\n",
       "   'symbol': 'COST',\n",
       "   'has_intraday': False,\n",
       "   'has_eod': True,\n",
       "   'country': None,\n",
       "   'stock_exchange': {'name': 'NASDAQ Stock Exchange',\n",
       "    'acronym': 'NASDAQ',\n",
       "    'mic': 'XNAS',\n",
       "    'country': 'USA',\n",
       "    'country_code': 'US',\n",
       "    'city': 'New York',\n",
       "    'website': 'www.nasdaq.com'}},\n",
       "  {'name': 'Bristol-Myers Squibb Company',\n",
       "   'symbol': 'BMY',\n",
       "   'has_intraday': False,\n",
       "   'has_eod': True,\n",
       "   'country': None,\n",
       "   'stock_exchange': {'name': 'New York Stock Exchange',\n",
       "    'acronym': 'NYSE',\n",
       "    'mic': 'XNYS',\n",
       "    'country': 'USA',\n",
       "    'country_code': 'US',\n",
       "    'city': 'New York',\n",
       "    'website': 'www.nyse.com'}},\n",
       "  {'name': \"HSBC HOLDINGS PLC ADR EACH REPR 1/40 PREF SERIES '\",\n",
       "   'symbol': 'HSBC/PA',\n",
       "   'has_intraday': False,\n",
       "   'has_eod': True,\n",
       "   'country': None,\n",
       "   'stock_exchange': {'name': 'New York Stock Exchange',\n",
       "    'acronym': 'NYSE',\n",
       "    'mic': 'XNYS',\n",
       "    'country': 'USA',\n",
       "    'country_code': 'US',\n",
       "    'city': 'New York',\n",
       "    'website': 'www.nyse.com'}},\n",
       "  {'name': 'PayPal Holdings Inc',\n",
       "   'symbol': 'PYPL',\n",
       "   'has_intraday': False,\n",
       "   'has_eod': True,\n",
       "   'country': None,\n",
       "   'stock_exchange': {'name': 'NASDAQ Stock Exchange',\n",
       "    'acronym': 'NASDAQ',\n",
       "    'mic': 'XNAS',\n",
       "    'country': 'USA',\n",
       "    'country_code': 'US',\n",
       "    'city': 'New York',\n",
       "    'website': 'www.nasdaq.com'}},\n",
       "  {'name': 'Philip Morris International Inc',\n",
       "   'symbol': 'PM',\n",
       "   'has_intraday': False,\n",
       "   'has_eod': True,\n",
       "   'country': None,\n",
       "   'stock_exchange': {'name': 'New York Stock Exchange',\n",
       "    'acronym': 'NYSE',\n",
       "    'mic': 'XNYS',\n",
       "    'country': 'USA',\n",
       "    'country_code': 'US',\n",
       "    'city': 'New York',\n",
       "    'website': 'www.nyse.com'}},\n",
       "  {'name': 'NextEra Energy Inc',\n",
       "   'symbol': 'NEE',\n",
       "   'has_intraday': False,\n",
       "   'has_eod': True,\n",
       "   'country': None,\n",
       "   'stock_exchange': {'name': 'New York Stock Exchange',\n",
       "    'acronym': 'NYSE',\n",
       "    'mic': 'XNYS',\n",
       "    'country': 'USA',\n",
       "    'country_code': 'US',\n",
       "    'city': 'New York',\n",
       "    'website': 'www.nyse.com'}},\n",
       "  {'name': 'Abbvie Inc',\n",
       "   'symbol': 'ABBV',\n",
       "   'has_intraday': False,\n",
       "   'has_eod': True,\n",
       "   'country': None,\n",
       "   'stock_exchange': {'name': 'New York Stock Exchange',\n",
       "    'acronym': 'NYSE',\n",
       "    'mic': 'XNYS',\n",
       "    'country': 'USA',\n",
       "    'country_code': 'US',\n",
       "    'city': 'New York',\n",
       "    'website': 'www.nyse.com'}},\n",
       "  {'name': 'Lilly(Eli) & Company',\n",
       "   'symbol': 'LLY',\n",
       "   'has_intraday': False,\n",
       "   'has_eod': True,\n",
       "   'country': None,\n",
       "   'stock_exchange': {'name': 'New York Stock Exchange',\n",
       "    'acronym': 'NYSE',\n",
       "    'mic': 'XNYS',\n",
       "    'country': 'USA',\n",
       "    'country_code': 'US',\n",
       "    'city': 'New York',\n",
       "    'website': 'www.nyse.com'}},\n",
       "  {'name': 'AMGEN Inc',\n",
       "   'symbol': 'AMGN',\n",
       "   'has_intraday': False,\n",
       "   'has_eod': True,\n",
       "   'country': None,\n",
       "   'stock_exchange': {'name': 'NASDAQ Stock Exchange',\n",
       "    'acronym': 'NASDAQ',\n",
       "    'mic': 'XNAS',\n",
       "    'country': 'USA',\n",
       "    'country_code': 'US',\n",
       "    'city': 'New York',\n",
       "    'website': 'www.nasdaq.com'}},\n",
       "  {'name': 'Sanofi',\n",
       "   'symbol': 'SNY',\n",
       "   'has_intraday': False,\n",
       "   'has_eod': True,\n",
       "   'country': None,\n",
       "   'stock_exchange': {'name': 'NASDAQ Stock Exchange',\n",
       "    'acronym': 'NASDAQ',\n",
       "    'mic': 'XNAS',\n",
       "    'country': 'USA',\n",
       "    'country_code': 'US',\n",
       "    'city': 'New York',\n",
       "    'website': 'www.nasdaq.com'}},\n",
       "  {'name': 'Thermo Fisher Scientific Inc',\n",
       "   'symbol': 'TMO',\n",
       "   'has_intraday': False,\n",
       "   'has_eod': True,\n",
       "   'country': None,\n",
       "   'stock_exchange': {'name': 'New York Stock Exchange',\n",
       "    'acronym': 'NYSE',\n",
       "    'mic': 'XNYS',\n",
       "    'country': 'USA',\n",
       "    'country_code': 'US',\n",
       "    'city': 'New York',\n",
       "    'website': 'www.nyse.com'}},\n",
       "  {'name': 'ASML Holding NV',\n",
       "   'symbol': 'ASML',\n",
       "   'has_intraday': False,\n",
       "   'has_eod': True,\n",
       "   'country': None,\n",
       "   'stock_exchange': {'name': 'NASDAQ Stock Exchange',\n",
       "    'acronym': 'NASDAQ',\n",
       "    'mic': 'XNAS',\n",
       "    'country': 'USA',\n",
       "    'country_code': 'US',\n",
       "    'city': 'New York',\n",
       "    'website': 'www.nasdaq.com'}},\n",
       "  {'name': 'Astrazeneca plc',\n",
       "   'symbol': 'AZN',\n",
       "   'has_intraday': False,\n",
       "   'has_eod': True,\n",
       "   'country': None,\n",
       "   'stock_exchange': {'name': 'New York Stock Exchange',\n",
       "    'acronym': 'NYSE',\n",
       "    'mic': 'XNYS',\n",
       "    'country': 'USA',\n",
       "    'country_code': 'US',\n",
       "    'city': 'New York',\n",
       "    'website': 'www.nyse.com'}},\n",
       "  {'name': 'Accenture plc - Class A',\n",
       "   'symbol': 'ACN',\n",
       "   'has_intraday': False,\n",
       "   'has_eod': True,\n",
       "   'country': None,\n",
       "   'stock_exchange': {'name': 'New York Stock Exchange',\n",
       "    'acronym': 'NYSE',\n",
       "    'mic': 'XNYS',\n",
       "    'country': 'USA',\n",
       "    'country_code': 'US',\n",
       "    'city': 'New York',\n",
       "    'website': 'www.nyse.com'}},\n",
       "  {'name': 'International Business Machines Corp',\n",
       "   'symbol': 'IBM',\n",
       "   'has_intraday': False,\n",
       "   'has_eod': True,\n",
       "   'country': None,\n",
       "   'stock_exchange': {'name': 'New York Stock Exchange',\n",
       "    'acronym': 'NYSE',\n",
       "    'mic': 'XNYS',\n",
       "    'country': 'USA',\n",
       "    'country_code': 'US',\n",
       "    'city': 'New York',\n",
       "    'website': 'www.nyse.com'}},\n",
       "  {'name': 'Honeywell International Inc',\n",
       "   'symbol': 'HON',\n",
       "   'has_intraday': False,\n",
       "   'has_eod': True,\n",
       "   'country': None,\n",
       "   'stock_exchange': {'name': 'New York Stock Exchange',\n",
       "    'acronym': 'NYSE',\n",
       "    'mic': 'XNYS',\n",
       "    'country': 'USA',\n",
       "    'country_code': 'US',\n",
       "    'city': 'New York',\n",
       "    'website': 'www.nyse.com'}},\n",
       "  {'name': 'UNITED TECHNOLOGIES CORP',\n",
       "   'symbol': 'UTX',\n",
       "   'has_intraday': False,\n",
       "   'has_eod': True,\n",
       "   'country': None,\n",
       "   'stock_exchange': {'name': 'New York Stock Exchange',\n",
       "    'acronym': 'NYSE',\n",
       "    'mic': 'XNYS',\n",
       "    'country': 'USA',\n",
       "    'country_code': 'US',\n",
       "    'city': 'New York',\n",
       "    'website': 'www.nyse.com'}},\n",
       "  {'name': 'TotalEnergies SE',\n",
       "   'symbol': 'TOT',\n",
       "   'has_intraday': False,\n",
       "   'has_eod': True,\n",
       "   'country': None,\n",
       "   'stock_exchange': {'name': 'New York Stock Exchange',\n",
       "    'acronym': 'NYSE',\n",
       "    'mic': 'XNYS',\n",
       "    'country': 'USA',\n",
       "    'country_code': 'US',\n",
       "    'city': 'New York',\n",
       "    'website': 'www.nyse.com'}},\n",
       "  {'name': 'Broadcom Inc',\n",
       "   'symbol': 'AVGO',\n",
       "   'has_intraday': False,\n",
       "   'has_eod': True,\n",
       "   'country': None,\n",
       "   'stock_exchange': {'name': 'NASDAQ Stock Exchange',\n",
       "    'acronym': 'NASDAQ',\n",
       "    'mic': 'XNAS',\n",
       "    'country': 'USA',\n",
       "    'country_code': 'US',\n",
       "    'city': 'New York',\n",
       "    'website': 'www.nasdaq.com'}},\n",
       "  {'name': 'Texas Instruments Inc',\n",
       "   'symbol': 'TXN',\n",
       "   'has_intraday': False,\n",
       "   'has_eod': True,\n",
       "   'country': None,\n",
       "   'stock_exchange': {'name': 'NASDAQ Stock Exchange',\n",
       "    'acronym': 'NASDAQ',\n",
       "    'mic': 'XNAS',\n",
       "    'country': 'USA',\n",
       "    'country_code': 'US',\n",
       "    'city': 'New York',\n",
       "    'website': 'www.nasdaq.com'}},\n",
       "  {'name': 'Novo Nordisk',\n",
       "   'symbol': 'NVO',\n",
       "   'has_intraday': False,\n",
       "   'has_eod': True,\n",
       "   'country': None,\n",
       "   'stock_exchange': {'name': 'New York Stock Exchange',\n",
       "    'acronym': 'NYSE',\n",
       "    'mic': 'XNYS',\n",
       "    'country': 'USA',\n",
       "    'country_code': 'US',\n",
       "    'city': 'New York',\n",
       "    'website': 'www.nyse.com'}},\n",
       "  {'name': 'Union Pacific Corp',\n",
       "   'symbol': 'UNP',\n",
       "   'has_intraday': False,\n",
       "   'has_eod': True,\n",
       "   'country': None,\n",
       "   'stock_exchange': {'name': 'New York Stock Exchange',\n",
       "    'acronym': 'NYSE',\n",
       "    'mic': 'XNYS',\n",
       "    'country': 'USA',\n",
       "    'country_code': 'US',\n",
       "    'city': 'New York',\n",
       "    'website': 'www.nyse.com'}},\n",
       "  {'name': 'Royal Bank Of Canada',\n",
       "   'symbol': 'RY',\n",
       "   'has_intraday': False,\n",
       "   'has_eod': True,\n",
       "   'country': None,\n",
       "   'stock_exchange': {'name': 'New York Stock Exchange',\n",
       "    'acronym': 'NYSE',\n",
       "    'mic': 'XNYS',\n",
       "    'country': 'USA',\n",
       "    'country_code': 'US',\n",
       "    'city': 'New York',\n",
       "    'website': 'www.nyse.com'}},\n",
       "  {'name': 'BP plc',\n",
       "   'symbol': 'BP',\n",
       "   'has_intraday': False,\n",
       "   'has_eod': True,\n",
       "   'country': None,\n",
       "   'stock_exchange': {'name': 'New York Stock Exchange',\n",
       "    'acronym': 'NYSE',\n",
       "    'mic': 'XNYS',\n",
       "    'country': 'USA',\n",
       "    'country_code': 'US',\n",
       "    'city': 'New York',\n",
       "    'website': 'www.nyse.com'}},\n",
       "  {'name': 'Lockheed Martin Corp',\n",
       "   'symbol': 'LMT',\n",
       "   'has_intraday': False,\n",
       "   'has_eod': True,\n",
       "   'country': None,\n",
       "   'stock_exchange': {'name': 'New York Stock Exchange',\n",
       "    'acronym': 'NYSE',\n",
       "    'mic': 'XNYS',\n",
       "    'country': 'USA',\n",
       "    'country_code': 'US',\n",
       "    'city': 'New York',\n",
       "    'website': 'www.nyse.com'}},\n",
       "  {'name': 'American Tower Corp',\n",
       "   'symbol': 'AMT',\n",
       "   'has_intraday': False,\n",
       "   'has_eod': True,\n",
       "   'country': None,\n",
       "   'stock_exchange': {'name': 'New York Stock Exchange',\n",
       "    'acronym': 'NYSE',\n",
       "    'mic': 'XNYS',\n",
       "    'country': 'USA',\n",
       "    'country_code': 'US',\n",
       "    'city': 'New York',\n",
       "    'website': 'www.nyse.com'}},\n",
       "  {'name': 'Linde Plc.',\n",
       "   'symbol': 'LIN',\n",
       "   'has_intraday': False,\n",
       "   'has_eod': True,\n",
       "   'country': None,\n",
       "   'stock_exchange': {'name': 'New York Stock Exchange',\n",
       "    'acronym': 'NYSE',\n",
       "    'mic': 'XNYS',\n",
       "    'country': 'USA',\n",
       "    'country_code': 'US',\n",
       "    'city': 'New York',\n",
       "    'website': 'www.nyse.com'}},\n",
       "  {'name': 'GSK Plc',\n",
       "   'symbol': 'GSK',\n",
       "   'has_intraday': False,\n",
       "   'has_eod': True,\n",
       "   'country': None,\n",
       "   'stock_exchange': {'name': 'New York Stock Exchange',\n",
       "    'acronym': 'NYSE',\n",
       "    'mic': 'XNYS',\n",
       "    'country': 'USA',\n",
       "    'country_code': 'US',\n",
       "    'city': 'New York',\n",
       "    'website': 'www.nyse.com'}},\n",
       "  {'name': 'Danaher Corp',\n",
       "   'symbol': 'DHR',\n",
       "   'has_intraday': False,\n",
       "   'has_eod': True,\n",
       "   'country': None,\n",
       "   'stock_exchange': {'name': 'New York Stock Exchange',\n",
       "    'acronym': 'NYSE',\n",
       "    'mic': 'XNYS',\n",
       "    'country': 'USA',\n",
       "    'country_code': 'US',\n",
       "    'city': 'New York',\n",
       "    'website': 'www.nyse.com'}},\n",
       "  {'name': 'Charter Communications Inc - Class A',\n",
       "   'symbol': 'CHTR',\n",
       "   'has_intraday': False,\n",
       "   'has_eod': True,\n",
       "   'country': None,\n",
       "   'stock_exchange': {'name': 'NASDAQ Stock Exchange',\n",
       "    'acronym': 'NASDAQ',\n",
       "    'mic': 'XNAS',\n",
       "    'country': 'USA',\n",
       "    'country_code': 'US',\n",
       "    'city': 'New York',\n",
       "    'website': 'www.nasdaq.com'}},\n",
       "  {'name': 'HDFC Bank Ltd',\n",
       "   'symbol': 'HDB',\n",
       "   'has_intraday': False,\n",
       "   'has_eod': True,\n",
       "   'country': None,\n",
       "   'stock_exchange': {'name': 'New York Stock Exchange',\n",
       "    'acronym': 'NYSE',\n",
       "    'mic': 'XNYS',\n",
       "    'country': 'USA',\n",
       "    'country_code': 'US',\n",
       "    'city': 'New York',\n",
       "    'website': 'www.nyse.com'}},\n",
       "  {'name': 'General Electric Company',\n",
       "   'symbol': 'GE',\n",
       "   'has_intraday': False,\n",
       "   'has_eod': True,\n",
       "   'country': None,\n",
       "   'stock_exchange': {'name': 'New York Stock Exchange',\n",
       "    'acronym': 'NYSE',\n",
       "    'mic': 'XNYS',\n",
       "    'country': 'USA',\n",
       "    'country_code': 'US',\n",
       "    'city': 'New York',\n",
       "    'website': 'www.nyse.com'}},\n",
       "  {'name': 'Starbucks Corp',\n",
       "   'symbol': 'SBUX',\n",
       "   'has_intraday': False,\n",
       "   'has_eod': True,\n",
       "   'country': None,\n",
       "   'stock_exchange': {'name': 'NASDAQ Stock Exchange',\n",
       "    'acronym': 'NASDAQ',\n",
       "    'mic': 'XNAS',\n",
       "    'country': 'USA',\n",
       "    'country_code': 'US',\n",
       "    'city': 'New York',\n",
       "    'website': 'www.nasdaq.com'}},\n",
       "  {'name': 'Anheuser-Busch InBev SA/NV',\n",
       "   'symbol': 'BUD',\n",
       "   'has_intraday': False,\n",
       "   'has_eod': True,\n",
       "   'country': None,\n",
       "   'stock_exchange': {'name': 'New York Stock Exchange',\n",
       "    'acronym': 'NYSE',\n",
       "    'mic': 'XNYS',\n",
       "    'country': 'USA',\n",
       "    'country_code': 'US',\n",
       "    'city': 'New York',\n",
       "    'website': 'www.nyse.com'}},\n",
       "  {'name': 'Gilead Sciences Inc',\n",
       "   'symbol': 'GILD',\n",
       "   'has_intraday': False,\n",
       "   'has_eod': True,\n",
       "   'country': None,\n",
       "   'stock_exchange': {'name': 'NASDAQ Stock Exchange',\n",
       "    'acronym': 'NASDAQ',\n",
       "    'mic': 'XNAS',\n",
       "    'country': 'USA',\n",
       "    'country_code': 'US',\n",
       "    'city': 'New York',\n",
       "    'website': 'www.nasdaq.com'}},\n",
       "  {'name': 'Toronto Dominion Bank',\n",
       "   'symbol': 'TD',\n",
       "   'has_intraday': False,\n",
       "   'has_eod': True,\n",
       "   'country': None,\n",
       "   'stock_exchange': {'name': 'New York Stock Exchange',\n",
       "    'acronym': 'NYSE',\n",
       "    'mic': 'XNYS',\n",
       "    'country': 'USA',\n",
       "    'country_code': 'US',\n",
       "    'city': 'New York',\n",
       "    'website': 'www.nyse.com'}},\n",
       "  {'name': 'Sinopec Shanghai Petrochemical Co. Ltd',\n",
       "   'symbol': 'SHI',\n",
       "   'has_intraday': False,\n",
       "   'has_eod': True,\n",
       "   'country': None,\n",
       "   'stock_exchange': {'name': 'New York Stock Exchange',\n",
       "    'acronym': 'NYSE',\n",
       "    'mic': 'XNYS',\n",
       "    'country': 'USA',\n",
       "    'country_code': 'US',\n",
       "    'city': 'New York',\n",
       "    'website': 'www.nyse.com'}},\n",
       "  {'name': 'Qualcomm Inc',\n",
       "   'symbol': 'QCOM',\n",
       "   'has_intraday': False,\n",
       "   'has_eod': True,\n",
       "   'country': None,\n",
       "   'stock_exchange': {'name': 'NASDAQ Stock Exchange',\n",
       "    'acronym': 'NASDAQ',\n",
       "    'mic': 'XNAS',\n",
       "    'country': 'USA',\n",
       "    'country_code': 'US',\n",
       "    'city': 'New York',\n",
       "    'website': 'www.nasdaq.com'}},\n",
       "  {'name': 'American Express Company',\n",
       "   'symbol': 'AXP',\n",
       "   'has_intraday': False,\n",
       "   'has_eod': True,\n",
       "   'country': None,\n",
       "   'stock_exchange': {'name': 'New York Stock Exchange',\n",
       "    'acronym': 'NYSE',\n",
       "    'mic': 'XNYS',\n",
       "    'country': 'USA',\n",
       "    'country_code': 'US',\n",
       "    'city': 'New York',\n",
       "    'website': 'www.nyse.com'}},\n",
       "  {'name': \"ROYAL DUTCH SHELL ADR EA REP 2 CL'A' EUR0.07\",\n",
       "   'symbol': 'RDS.A',\n",
       "   'has_intraday': False,\n",
       "   'has_eod': False,\n",
       "   'country': None,\n",
       "   'stock_exchange': {'name': 'New York Stock Exchange',\n",
       "    'acronym': 'NYSE',\n",
       "    'mic': 'XNYS',\n",
       "    'country': 'USA',\n",
       "    'country_code': 'US',\n",
       "    'city': 'New York',\n",
       "    'website': 'www.nyse.com'}},\n",
       "  {'name': 'Fidelity National Information Services Inc',\n",
       "   'symbol': 'FIS',\n",
       "   'has_intraday': False,\n",
       "   'has_eod': True,\n",
       "   'country': None,\n",
       "   'stock_exchange': {'name': 'New York Stock Exchange',\n",
       "    'acronym': 'NYSE',\n",
       "    'mic': 'XNYS',\n",
       "    'country': 'USA',\n",
       "    'country_code': 'US',\n",
       "    'city': 'New York',\n",
       "    'website': 'www.nyse.com'}},\n",
       "  {'name': 'British American Tobacco Plc',\n",
       "   'symbol': 'BTI',\n",
       "   'has_intraday': False,\n",
       "   'has_eod': True,\n",
       "   'country': None,\n",
       "   'stock_exchange': {'name': 'New York Stock Exchange',\n",
       "    'acronym': 'NYSE',\n",
       "    'mic': 'XNYS',\n",
       "    'country': 'USA',\n",
       "    'country_code': 'US',\n",
       "    'city': 'New York',\n",
       "    'website': 'www.nyse.com'}},\n",
       "  {'name': '3M Company',\n",
       "   'symbol': 'MMM',\n",
       "   'has_intraday': False,\n",
       "   'has_eod': True,\n",
       "   'country': None,\n",
       "   'stock_exchange': {'name': 'New York Stock Exchange',\n",
       "    'acronym': 'NYSE',\n",
       "    'mic': 'XNYS',\n",
       "    'country': 'USA',\n",
       "    'country_code': 'US',\n",
       "    'city': 'New York',\n",
       "    'website': 'www.nyse.com'}},\n",
       "  {'name': 'Lowe`s Cos. Inc',\n",
       "   'symbol': 'LOW',\n",
       "   'has_intraday': False,\n",
       "   'has_eod': True,\n",
       "   'country': None,\n",
       "   'stock_exchange': {'name': 'New York Stock Exchange',\n",
       "    'acronym': 'NYSE',\n",
       "    'mic': 'XNYS',\n",
       "    'country': 'USA',\n",
       "    'country_code': 'US',\n",
       "    'city': 'New York',\n",
       "    'website': 'www.nyse.com'}},\n",
       "  {'name': 'Diageo plc',\n",
       "   'symbol': 'DEO',\n",
       "   'has_intraday': False,\n",
       "   'has_eod': True,\n",
       "   'country': None,\n",
       "   'stock_exchange': {'name': 'New York Stock Exchange',\n",
       "    'acronym': 'NYSE',\n",
       "    'mic': 'XNYS',\n",
       "    'country': 'USA',\n",
       "    'country_code': 'US',\n",
       "    'city': 'New York',\n",
       "    'website': 'www.nyse.com'}},\n",
       "  {'name': \"ROYAL DUTCH SHELL ADR EA REP 2 CL'B' EUR0.07\",\n",
       "   'symbol': 'RDS.B',\n",
       "   'has_intraday': False,\n",
       "   'has_eod': False,\n",
       "   'country': None,\n",
       "   'stock_exchange': {'name': 'New York Stock Exchange',\n",
       "    'acronym': 'NYSE',\n",
       "    'mic': 'XNYS',\n",
       "    'country': 'USA',\n",
       "    'country_code': 'US',\n",
       "    'city': 'New York',\n",
       "    'website': 'www.nyse.com'}}]}"
      ]
     },
     "execution_count": 3,
     "metadata": {},
     "output_type": "execute_result"
    }
   ],
   "source": [
    "response_json"
   ]
  },
  {
   "cell_type": "code",
   "execution_count": 4,
   "metadata": {
    "extensions": {
     "jupyter_dashboards": {
      "version": 1,
      "views": {
       "grid_default": {},
       "report_default": {
        "hidden": true
       }
      }
     }
    }
   },
   "outputs": [],
   "source": [
    "companies = response_json['data']"
   ]
  },
  {
   "cell_type": "code",
   "execution_count": 5,
   "metadata": {
    "extensions": {
     "jupyter_dashboards": {
      "version": 1,
      "views": {
       "grid_default": {},
       "report_default": {
        "hidden": false
       }
      }
     }
    }
   },
   "outputs": [
    {
     "name": "stdout",
     "output_type": "stream",
     "text": [
      "                                            name symbol  has_intraday  \\\n",
      "0                          Microsoft Corporation   MSFT         False   \n",
      "1                                      Apple Inc   AAPL         False   \n",
      "2                                 Amazon.com Inc   AMZN         False   \n",
      "3                         Alphabet Inc - Class C   GOOG         False   \n",
      "4                         Alphabet Inc - Class A  GOOGL         False   \n",
      "..                                           ...    ...           ...   \n",
      "95                  British American Tobacco Plc    BTI         False   \n",
      "96                                    3M Company    MMM         False   \n",
      "97                               Lowe`s Cos. Inc    LOW         False   \n",
      "98                                    Diageo plc    DEO         False   \n",
      "99  ROYAL DUTCH SHELL ADR EA REP 2 CL'B' EUR0.07  RDS.B         False   \n",
      "\n",
      "    has_eod country      stock_exchange.name stock_exchange.acronym  \\\n",
      "0      True    None    NASDAQ Stock Exchange                 NASDAQ   \n",
      "1      True    None    NASDAQ Stock Exchange                 NASDAQ   \n",
      "2      True    None    NASDAQ Stock Exchange                 NASDAQ   \n",
      "3      True    None    NASDAQ Stock Exchange                 NASDAQ   \n",
      "4      True    None    NASDAQ Stock Exchange                 NASDAQ   \n",
      "..      ...     ...                      ...                    ...   \n",
      "95     True    None  New York Stock Exchange                   NYSE   \n",
      "96     True    None  New York Stock Exchange                   NYSE   \n",
      "97     True    None  New York Stock Exchange                   NYSE   \n",
      "98     True    None  New York Stock Exchange                   NYSE   \n",
      "99    False    None  New York Stock Exchange                   NYSE   \n",
      "\n",
      "   stock_exchange.mic stock_exchange.country stock_exchange.country_code  \\\n",
      "0                XNAS                    USA                          US   \n",
      "1                XNAS                    USA                          US   \n",
      "2                XNAS                    USA                          US   \n",
      "3                XNAS                    USA                          US   \n",
      "4                XNAS                    USA                          US   \n",
      "..                ...                    ...                         ...   \n",
      "95               XNYS                    USA                          US   \n",
      "96               XNYS                    USA                          US   \n",
      "97               XNYS                    USA                          US   \n",
      "98               XNYS                    USA                          US   \n",
      "99               XNYS                    USA                          US   \n",
      "\n",
      "   stock_exchange.city stock_exchange.website  \n",
      "0             New York         www.nasdaq.com  \n",
      "1             New York         www.nasdaq.com  \n",
      "2             New York         www.nasdaq.com  \n",
      "3             New York         www.nasdaq.com  \n",
      "4             New York         www.nasdaq.com  \n",
      "..                 ...                    ...  \n",
      "95            New York           www.nyse.com  \n",
      "96            New York           www.nyse.com  \n",
      "97            New York           www.nyse.com  \n",
      "98            New York           www.nyse.com  \n",
      "99            New York           www.nyse.com  \n",
      "\n",
      "[100 rows x 12 columns]\n"
     ]
    }
   ],
   "source": [
    "df = pd.json_normalize(companies, meta=['name'])\n",
    "print(df)"
   ]
  },
  {
   "cell_type": "code",
   "execution_count": 6,
   "metadata": {
    "extensions": {
     "jupyter_dashboards": {
      "version": 1,
      "views": {
       "grid_default": {},
       "report_default": {
        "hidden": false
       }
      }
     }
    }
   },
   "outputs": [
    {
     "name": "stdout",
     "output_type": "stream",
     "text": [
      "{'pagination': {'limit': 100, 'offset': 0, 'count': 8, 'total': 8}, 'data': [{'date': '2008-09-08', 'split_factor': 2.0, 'symbol': 'ATVI'}, {'date': '2005-10-25', 'split_factor': 1.33, 'symbol': 'ATVI'}, {'date': '2005-03-23', 'split_factor': 1.33, 'symbol': 'ATVI'}, {'date': '2004-03-16', 'split_factor': 1.5, 'symbol': 'ATVI'}, {'date': '2003-06-09', 'split_factor': 1.5, 'symbol': 'ATVI'}, {'date': '2001-11-21', 'split_factor': 1.5, 'symbol': 'ATVI'}, {'date': '1993-10-20', 'split_factor': 0.33, 'symbol': 'ATVI'}, {'date': '1992-08-03', 'split_factor': 0.1, 'symbol': 'ATVI'}]}\n"
     ]
    }
   ],
   "source": [
    "url = \"https://api.marketstack.com/v1/splits?access_key=\" + api_key\n",
    "querystring = {\"symbols\":\"ATVI\"}\n",
    "response = requests.get(url, params=querystring)\n",
    "print(response.json())"
   ]
  },
  {
   "cell_type": "code",
   "execution_count": 28,
   "metadata": {
    "extensions": {
     "jupyter_dashboards": {
      "version": 1,
      "views": {
       "grid_default": {},
       "report_default": {
        "hidden": false
       }
      }
     }
    },
    "scrolled": true
   },
   "outputs": [
    {
     "name": "stdout",
     "output_type": "stream",
     "text": [
      "{'pagination': {'limit': 100, 'offset': 0, 'count': 0, 'total': 0}, 'data': []}\n"
     ]
    }
   ],
   "source": [
    "url = \"https://api.marketstack.com/v1/eod?access_key=\" + api_key\n",
    "querystring = {\"symbols\":\"ATVI\",\"date_from\":\"2023-12-01\", \"date_to\":\"2024-12-01\"}\n",
    "response = requests.get(url, params=querystring)\n",
    "print(response.json())"
   ]
  },
  {
   "cell_type": "code",
   "execution_count": 24,
   "metadata": {
    "extensions": {
     "jupyter_dashboards": {
      "version": 1,
      "views": {
       "grid_default": {},
       "report_default": {
        "hidden": false
       }
      }
     }
    }
   },
   "outputs": [
    {
     "data": {
      "text/plain": [
       "[]"
      ]
     },
     "execution_count": 24,
     "metadata": {},
     "output_type": "execute_result"
    }
   ],
   "source": [
    "historical_data = response.json()['data']\n",
    "historical_data"
   ]
  },
  {
   "cell_type": "code",
   "execution_count": 25,
   "metadata": {
    "extensions": {
     "jupyter_dashboards": {
      "version": 1,
      "views": {
       "grid_default": {},
       "report_default": {
        "hidden": false
       }
      }
     }
    }
   },
   "outputs": [
    {
     "data": {
      "text/html": [
       "<div>\n",
       "<style scoped>\n",
       "    .dataframe tbody tr th:only-of-type {\n",
       "        vertical-align: middle;\n",
       "    }\n",
       "\n",
       "    .dataframe tbody tr th {\n",
       "        vertical-align: top;\n",
       "    }\n",
       "\n",
       "    .dataframe thead th {\n",
       "        text-align: right;\n",
       "    }\n",
       "</style>\n",
       "<table border=\"1\" class=\"dataframe\">\n",
       "  <thead>\n",
       "    <tr style=\"text-align: right;\">\n",
       "      <th></th>\n",
       "    </tr>\n",
       "  </thead>\n",
       "  <tbody>\n",
       "  </tbody>\n",
       "</table>\n",
       "</div>"
      ],
      "text/plain": [
       "Empty DataFrame\n",
       "Columns: []\n",
       "Index: []"
      ]
     },
     "execution_count": 25,
     "metadata": {},
     "output_type": "execute_result"
    }
   ],
   "source": [
    "df = pd.json_normalize(historical_data, meta=['date'])\n",
    "df"
   ]
  },
  {
   "cell_type": "code",
   "execution_count": 26,
   "metadata": {
    "extensions": {
     "jupyter_dashboards": {
      "version": 1,
      "views": {
       "grid_default": {},
       "report_default": {
        "hidden": false
       }
      }
     }
    }
   },
   "outputs": [
    {
     "ename": "KeyError",
     "evalue": "'date'",
     "output_type": "error",
     "traceback": [
      "\u001b[0;31m---------------------------------------------------------------------------\u001b[0m",
      "\u001b[0;31mKeyError\u001b[0m                                  Traceback (most recent call last)",
      "\u001b[0;32m~/opt/anaconda3/lib/python3.8/site-packages/pandas/core/indexes/base.py\u001b[0m in \u001b[0;36mget_loc\u001b[0;34m(self, key, method, tolerance)\u001b[0m\n\u001b[1;32m   2894\u001b[0m             \u001b[0;32mtry\u001b[0m\u001b[0;34m:\u001b[0m\u001b[0;34m\u001b[0m\u001b[0;34m\u001b[0m\u001b[0m\n\u001b[0;32m-> 2895\u001b[0;31m                 \u001b[0;32mreturn\u001b[0m \u001b[0mself\u001b[0m\u001b[0;34m.\u001b[0m\u001b[0m_engine\u001b[0m\u001b[0;34m.\u001b[0m\u001b[0mget_loc\u001b[0m\u001b[0;34m(\u001b[0m\u001b[0mcasted_key\u001b[0m\u001b[0;34m)\u001b[0m\u001b[0;34m\u001b[0m\u001b[0;34m\u001b[0m\u001b[0m\n\u001b[0m\u001b[1;32m   2896\u001b[0m             \u001b[0;32mexcept\u001b[0m \u001b[0mKeyError\u001b[0m \u001b[0;32mas\u001b[0m \u001b[0merr\u001b[0m\u001b[0;34m:\u001b[0m\u001b[0;34m\u001b[0m\u001b[0;34m\u001b[0m\u001b[0m\n",
      "\u001b[0;32mpandas/_libs/index.pyx\u001b[0m in \u001b[0;36mpandas._libs.index.IndexEngine.get_loc\u001b[0;34m()\u001b[0m\n",
      "\u001b[0;32mpandas/_libs/index.pyx\u001b[0m in \u001b[0;36mpandas._libs.index.IndexEngine.get_loc\u001b[0;34m()\u001b[0m\n",
      "\u001b[0;32mpandas/_libs/hashtable_class_helper.pxi\u001b[0m in \u001b[0;36mpandas._libs.hashtable.PyObjectHashTable.get_item\u001b[0;34m()\u001b[0m\n",
      "\u001b[0;32mpandas/_libs/hashtable_class_helper.pxi\u001b[0m in \u001b[0;36mpandas._libs.hashtable.PyObjectHashTable.get_item\u001b[0;34m()\u001b[0m\n",
      "\u001b[0;31mKeyError\u001b[0m: 'date'",
      "\nThe above exception was the direct cause of the following exception:\n",
      "\u001b[0;31mKeyError\u001b[0m                                  Traceback (most recent call last)",
      "\u001b[0;32m<ipython-input-26-7fce892580df>\u001b[0m in \u001b[0;36m<module>\u001b[0;34m\u001b[0m\n\u001b[1;32m      2\u001b[0m     \u001b[0;32mreturn\u001b[0m \u001b[0mdate\u001b[0m\u001b[0;34m[\u001b[0m\u001b[0;36m0\u001b[0m\u001b[0;34m:\u001b[0m\u001b[0;36m10\u001b[0m\u001b[0;34m]\u001b[0m\u001b[0;34m\u001b[0m\u001b[0;34m\u001b[0m\u001b[0m\n\u001b[1;32m      3\u001b[0m \u001b[0;34m\u001b[0m\u001b[0m\n\u001b[0;32m----> 4\u001b[0;31m \u001b[0mdf\u001b[0m\u001b[0;34m[\u001b[0m\u001b[0;34m'date'\u001b[0m\u001b[0;34m]\u001b[0m\u001b[0;34m\u001b[0m\u001b[0;34m\u001b[0m\u001b[0m\n\u001b[0m\u001b[1;32m      5\u001b[0m \u001b[0mdf\u001b[0m\u001b[0;34m[\u001b[0m\u001b[0;34m'short_date'\u001b[0m\u001b[0;34m]\u001b[0m \u001b[0;34m=\u001b[0m \u001b[0mdf\u001b[0m\u001b[0;34m[\u001b[0m\u001b[0;34m'date'\u001b[0m\u001b[0;34m]\u001b[0m\u001b[0;34m.\u001b[0m\u001b[0mapply\u001b[0m\u001b[0;34m(\u001b[0m\u001b[0mshorten_date\u001b[0m\u001b[0;34m)\u001b[0m\u001b[0;34m\u001b[0m\u001b[0;34m\u001b[0m\u001b[0m\n\u001b[1;32m      6\u001b[0m \u001b[0mdf\u001b[0m\u001b[0;34m\u001b[0m\u001b[0;34m\u001b[0m\u001b[0m\n",
      "\u001b[0;32m~/opt/anaconda3/lib/python3.8/site-packages/pandas/core/frame.py\u001b[0m in \u001b[0;36m__getitem__\u001b[0;34m(self, key)\u001b[0m\n\u001b[1;32m   2900\u001b[0m             \u001b[0;32mif\u001b[0m \u001b[0mself\u001b[0m\u001b[0;34m.\u001b[0m\u001b[0mcolumns\u001b[0m\u001b[0;34m.\u001b[0m\u001b[0mnlevels\u001b[0m \u001b[0;34m>\u001b[0m \u001b[0;36m1\u001b[0m\u001b[0;34m:\u001b[0m\u001b[0;34m\u001b[0m\u001b[0;34m\u001b[0m\u001b[0m\n\u001b[1;32m   2901\u001b[0m                 \u001b[0;32mreturn\u001b[0m \u001b[0mself\u001b[0m\u001b[0;34m.\u001b[0m\u001b[0m_getitem_multilevel\u001b[0m\u001b[0;34m(\u001b[0m\u001b[0mkey\u001b[0m\u001b[0;34m)\u001b[0m\u001b[0;34m\u001b[0m\u001b[0;34m\u001b[0m\u001b[0m\n\u001b[0;32m-> 2902\u001b[0;31m             \u001b[0mindexer\u001b[0m \u001b[0;34m=\u001b[0m \u001b[0mself\u001b[0m\u001b[0;34m.\u001b[0m\u001b[0mcolumns\u001b[0m\u001b[0;34m.\u001b[0m\u001b[0mget_loc\u001b[0m\u001b[0;34m(\u001b[0m\u001b[0mkey\u001b[0m\u001b[0;34m)\u001b[0m\u001b[0;34m\u001b[0m\u001b[0;34m\u001b[0m\u001b[0m\n\u001b[0m\u001b[1;32m   2903\u001b[0m             \u001b[0;32mif\u001b[0m \u001b[0mis_integer\u001b[0m\u001b[0;34m(\u001b[0m\u001b[0mindexer\u001b[0m\u001b[0;34m)\u001b[0m\u001b[0;34m:\u001b[0m\u001b[0;34m\u001b[0m\u001b[0;34m\u001b[0m\u001b[0m\n\u001b[1;32m   2904\u001b[0m                 \u001b[0mindexer\u001b[0m \u001b[0;34m=\u001b[0m \u001b[0;34m[\u001b[0m\u001b[0mindexer\u001b[0m\u001b[0;34m]\u001b[0m\u001b[0;34m\u001b[0m\u001b[0;34m\u001b[0m\u001b[0m\n",
      "\u001b[0;32m~/opt/anaconda3/lib/python3.8/site-packages/pandas/core/indexes/base.py\u001b[0m in \u001b[0;36mget_loc\u001b[0;34m(self, key, method, tolerance)\u001b[0m\n\u001b[1;32m   2895\u001b[0m                 \u001b[0;32mreturn\u001b[0m \u001b[0mself\u001b[0m\u001b[0;34m.\u001b[0m\u001b[0m_engine\u001b[0m\u001b[0;34m.\u001b[0m\u001b[0mget_loc\u001b[0m\u001b[0;34m(\u001b[0m\u001b[0mcasted_key\u001b[0m\u001b[0;34m)\u001b[0m\u001b[0;34m\u001b[0m\u001b[0;34m\u001b[0m\u001b[0m\n\u001b[1;32m   2896\u001b[0m             \u001b[0;32mexcept\u001b[0m \u001b[0mKeyError\u001b[0m \u001b[0;32mas\u001b[0m \u001b[0merr\u001b[0m\u001b[0;34m:\u001b[0m\u001b[0;34m\u001b[0m\u001b[0;34m\u001b[0m\u001b[0m\n\u001b[0;32m-> 2897\u001b[0;31m                 \u001b[0;32mraise\u001b[0m \u001b[0mKeyError\u001b[0m\u001b[0;34m(\u001b[0m\u001b[0mkey\u001b[0m\u001b[0;34m)\u001b[0m \u001b[0;32mfrom\u001b[0m \u001b[0merr\u001b[0m\u001b[0;34m\u001b[0m\u001b[0;34m\u001b[0m\u001b[0m\n\u001b[0m\u001b[1;32m   2898\u001b[0m \u001b[0;34m\u001b[0m\u001b[0m\n\u001b[1;32m   2899\u001b[0m         \u001b[0;32mif\u001b[0m \u001b[0mtolerance\u001b[0m \u001b[0;32mis\u001b[0m \u001b[0;32mnot\u001b[0m \u001b[0;32mNone\u001b[0m\u001b[0;34m:\u001b[0m\u001b[0;34m\u001b[0m\u001b[0;34m\u001b[0m\u001b[0m\n",
      "\u001b[0;31mKeyError\u001b[0m: 'date'"
     ]
    }
   ],
   "source": [
    "def shorten_date(date):\n",
    "    return date[0:10]\n",
    "\n",
    "df['date']\n",
    "df['short_date'] = df['date'].apply(shorten_date)\n",
    "df"
   ]
  },
  {
   "cell_type": "code",
   "execution_count": 27,
   "metadata": {
    "extensions": {
     "jupyter_dashboards": {
      "version": 1,
      "views": {
       "grid_default": {},
       "report_default": {
        "hidden": false
       }
      }
     }
    }
   },
   "outputs": [
    {
     "ename": "KeyError",
     "evalue": "'short_date'",
     "output_type": "error",
     "traceback": [
      "\u001b[0;31m---------------------------------------------------------------------------\u001b[0m",
      "\u001b[0;31mKeyError\u001b[0m                                  Traceback (most recent call last)",
      "\u001b[0;32m~/opt/anaconda3/lib/python3.8/site-packages/pandas/core/indexes/base.py\u001b[0m in \u001b[0;36mget_loc\u001b[0;34m(self, key, method, tolerance)\u001b[0m\n\u001b[1;32m   2894\u001b[0m             \u001b[0;32mtry\u001b[0m\u001b[0;34m:\u001b[0m\u001b[0;34m\u001b[0m\u001b[0;34m\u001b[0m\u001b[0m\n\u001b[0;32m-> 2895\u001b[0;31m                 \u001b[0;32mreturn\u001b[0m \u001b[0mself\u001b[0m\u001b[0;34m.\u001b[0m\u001b[0m_engine\u001b[0m\u001b[0;34m.\u001b[0m\u001b[0mget_loc\u001b[0m\u001b[0;34m(\u001b[0m\u001b[0mcasted_key\u001b[0m\u001b[0;34m)\u001b[0m\u001b[0;34m\u001b[0m\u001b[0;34m\u001b[0m\u001b[0m\n\u001b[0m\u001b[1;32m   2896\u001b[0m             \u001b[0;32mexcept\u001b[0m \u001b[0mKeyError\u001b[0m \u001b[0;32mas\u001b[0m \u001b[0merr\u001b[0m\u001b[0;34m:\u001b[0m\u001b[0;34m\u001b[0m\u001b[0;34m\u001b[0m\u001b[0m\n",
      "\u001b[0;32mpandas/_libs/index.pyx\u001b[0m in \u001b[0;36mpandas._libs.index.IndexEngine.get_loc\u001b[0;34m()\u001b[0m\n",
      "\u001b[0;32mpandas/_libs/index.pyx\u001b[0m in \u001b[0;36mpandas._libs.index.IndexEngine.get_loc\u001b[0;34m()\u001b[0m\n",
      "\u001b[0;32mpandas/_libs/hashtable_class_helper.pxi\u001b[0m in \u001b[0;36mpandas._libs.hashtable.PyObjectHashTable.get_item\u001b[0;34m()\u001b[0m\n",
      "\u001b[0;32mpandas/_libs/hashtable_class_helper.pxi\u001b[0m in \u001b[0;36mpandas._libs.hashtable.PyObjectHashTable.get_item\u001b[0;34m()\u001b[0m\n",
      "\u001b[0;31mKeyError\u001b[0m: 'short_date'",
      "\nThe above exception was the direct cause of the following exception:\n",
      "\u001b[0;31mKeyError\u001b[0m                                  Traceback (most recent call last)",
      "\u001b[0;32m<ipython-input-27-1e452ff0ade8>\u001b[0m in \u001b[0;36m<module>\u001b[0;34m\u001b[0m\n\u001b[0;32m----> 1\u001b[0;31m \u001b[0mdf\u001b[0m\u001b[0;34m.\u001b[0m\u001b[0mplot\u001b[0m\u001b[0;34m.\u001b[0m\u001b[0mline\u001b[0m\u001b[0;34m(\u001b[0m\u001b[0;34m'short_date'\u001b[0m\u001b[0;34m,\u001b[0m \u001b[0my\u001b[0m\u001b[0;34m=\u001b[0m\u001b[0;34m[\u001b[0m\u001b[0;34m'adj_high'\u001b[0m\u001b[0;34m,\u001b[0m \u001b[0;34m'adj_close'\u001b[0m\u001b[0;34m]\u001b[0m\u001b[0;34m)\u001b[0m\u001b[0;34m\u001b[0m\u001b[0;34m\u001b[0m\u001b[0m\n\u001b[0m\u001b[1;32m      2\u001b[0m \u001b[0mplt\u001b[0m\u001b[0;34m.\u001b[0m\u001b[0mxticks\u001b[0m\u001b[0;34m(\u001b[0m\u001b[0mrotation\u001b[0m\u001b[0;34m=\u001b[0m\u001b[0;36m90\u001b[0m\u001b[0;34m)\u001b[0m\u001b[0;34m\u001b[0m\u001b[0;34m\u001b[0m\u001b[0m\n\u001b[1;32m      3\u001b[0m \u001b[0mplt\u001b[0m\u001b[0;34m.\u001b[0m\u001b[0mxlabel\u001b[0m\u001b[0;34m(\u001b[0m\u001b[0;34m'Date'\u001b[0m\u001b[0;34m)\u001b[0m\u001b[0;34m\u001b[0m\u001b[0;34m\u001b[0m\u001b[0m\n\u001b[1;32m      4\u001b[0m \u001b[0mplt\u001b[0m\u001b[0;34m.\u001b[0m\u001b[0mylabel\u001b[0m\u001b[0;34m(\u001b[0m\u001b[0;34m'Adjusted Price (USD)'\u001b[0m\u001b[0;34m)\u001b[0m\u001b[0;34m\u001b[0m\u001b[0;34m\u001b[0m\u001b[0m\n\u001b[1;32m      5\u001b[0m \u001b[0mplt\u001b[0m\u001b[0;34m.\u001b[0m\u001b[0mtitle\u001b[0m\u001b[0;34m(\u001b[0m\u001b[0;34m'Microsoft EOD Data'\u001b[0m\u001b[0;34m)\u001b[0m\u001b[0;34m\u001b[0m\u001b[0;34m\u001b[0m\u001b[0m\n",
      "\u001b[0;32m~/opt/anaconda3/lib/python3.8/site-packages/pandas/plotting/_core.py\u001b[0m in \u001b[0;36mline\u001b[0;34m(self, x, y, **kwargs)\u001b[0m\n\u001b[1;32m   1015\u001b[0m         \u001b[0;32mas\u001b[0m \u001b[0mcoordinates\u001b[0m\u001b[0;34m.\u001b[0m\u001b[0;34m\u001b[0m\u001b[0;34m\u001b[0m\u001b[0m\n\u001b[1;32m   1016\u001b[0m         \"\"\"\n\u001b[0;32m-> 1017\u001b[0;31m         \u001b[0;32mreturn\u001b[0m \u001b[0mself\u001b[0m\u001b[0;34m(\u001b[0m\u001b[0mkind\u001b[0m\u001b[0;34m=\u001b[0m\u001b[0;34m\"line\"\u001b[0m\u001b[0;34m,\u001b[0m \u001b[0mx\u001b[0m\u001b[0;34m=\u001b[0m\u001b[0mx\u001b[0m\u001b[0;34m,\u001b[0m \u001b[0my\u001b[0m\u001b[0;34m=\u001b[0m\u001b[0my\u001b[0m\u001b[0;34m,\u001b[0m \u001b[0;34m**\u001b[0m\u001b[0mkwargs\u001b[0m\u001b[0;34m)\u001b[0m\u001b[0;34m\u001b[0m\u001b[0;34m\u001b[0m\u001b[0m\n\u001b[0m\u001b[1;32m   1018\u001b[0m \u001b[0;34m\u001b[0m\u001b[0m\n\u001b[1;32m   1019\u001b[0m     @Appender(\n",
      "\u001b[0;32m~/opt/anaconda3/lib/python3.8/site-packages/pandas/plotting/_core.py\u001b[0m in \u001b[0;36m__call__\u001b[0;34m(self, *args, **kwargs)\u001b[0m\n\u001b[1;32m    912\u001b[0m                 \u001b[0;32mif\u001b[0m \u001b[0mis_integer\u001b[0m\u001b[0;34m(\u001b[0m\u001b[0mx\u001b[0m\u001b[0;34m)\u001b[0m \u001b[0;32mand\u001b[0m \u001b[0;32mnot\u001b[0m \u001b[0mdata\u001b[0m\u001b[0;34m.\u001b[0m\u001b[0mcolumns\u001b[0m\u001b[0;34m.\u001b[0m\u001b[0mholds_integer\u001b[0m\u001b[0;34m(\u001b[0m\u001b[0;34m)\u001b[0m\u001b[0;34m:\u001b[0m\u001b[0;34m\u001b[0m\u001b[0;34m\u001b[0m\u001b[0m\n\u001b[1;32m    913\u001b[0m                     \u001b[0mx\u001b[0m \u001b[0;34m=\u001b[0m \u001b[0mdata_cols\u001b[0m\u001b[0;34m[\u001b[0m\u001b[0mx\u001b[0m\u001b[0;34m]\u001b[0m\u001b[0;34m\u001b[0m\u001b[0;34m\u001b[0m\u001b[0m\n\u001b[0;32m--> 914\u001b[0;31m                 \u001b[0;32melif\u001b[0m \u001b[0;32mnot\u001b[0m \u001b[0misinstance\u001b[0m\u001b[0;34m(\u001b[0m\u001b[0mdata\u001b[0m\u001b[0;34m[\u001b[0m\u001b[0mx\u001b[0m\u001b[0;34m]\u001b[0m\u001b[0;34m,\u001b[0m \u001b[0mABCSeries\u001b[0m\u001b[0;34m)\u001b[0m\u001b[0;34m:\u001b[0m\u001b[0;34m\u001b[0m\u001b[0;34m\u001b[0m\u001b[0m\n\u001b[0m\u001b[1;32m    915\u001b[0m                     \u001b[0;32mraise\u001b[0m \u001b[0mValueError\u001b[0m\u001b[0;34m(\u001b[0m\u001b[0;34m\"x must be a label or position\"\u001b[0m\u001b[0;34m)\u001b[0m\u001b[0;34m\u001b[0m\u001b[0;34m\u001b[0m\u001b[0m\n\u001b[1;32m    916\u001b[0m                 \u001b[0mdata\u001b[0m \u001b[0;34m=\u001b[0m \u001b[0mdata\u001b[0m\u001b[0;34m.\u001b[0m\u001b[0mset_index\u001b[0m\u001b[0;34m(\u001b[0m\u001b[0mx\u001b[0m\u001b[0;34m)\u001b[0m\u001b[0;34m\u001b[0m\u001b[0;34m\u001b[0m\u001b[0m\n",
      "\u001b[0;32m~/opt/anaconda3/lib/python3.8/site-packages/pandas/core/frame.py\u001b[0m in \u001b[0;36m__getitem__\u001b[0;34m(self, key)\u001b[0m\n\u001b[1;32m   2900\u001b[0m             \u001b[0;32mif\u001b[0m \u001b[0mself\u001b[0m\u001b[0;34m.\u001b[0m\u001b[0mcolumns\u001b[0m\u001b[0;34m.\u001b[0m\u001b[0mnlevels\u001b[0m \u001b[0;34m>\u001b[0m \u001b[0;36m1\u001b[0m\u001b[0;34m:\u001b[0m\u001b[0;34m\u001b[0m\u001b[0;34m\u001b[0m\u001b[0m\n\u001b[1;32m   2901\u001b[0m                 \u001b[0;32mreturn\u001b[0m \u001b[0mself\u001b[0m\u001b[0;34m.\u001b[0m\u001b[0m_getitem_multilevel\u001b[0m\u001b[0;34m(\u001b[0m\u001b[0mkey\u001b[0m\u001b[0;34m)\u001b[0m\u001b[0;34m\u001b[0m\u001b[0;34m\u001b[0m\u001b[0m\n\u001b[0;32m-> 2902\u001b[0;31m             \u001b[0mindexer\u001b[0m \u001b[0;34m=\u001b[0m \u001b[0mself\u001b[0m\u001b[0;34m.\u001b[0m\u001b[0mcolumns\u001b[0m\u001b[0;34m.\u001b[0m\u001b[0mget_loc\u001b[0m\u001b[0;34m(\u001b[0m\u001b[0mkey\u001b[0m\u001b[0;34m)\u001b[0m\u001b[0;34m\u001b[0m\u001b[0;34m\u001b[0m\u001b[0m\n\u001b[0m\u001b[1;32m   2903\u001b[0m             \u001b[0;32mif\u001b[0m \u001b[0mis_integer\u001b[0m\u001b[0;34m(\u001b[0m\u001b[0mindexer\u001b[0m\u001b[0;34m)\u001b[0m\u001b[0;34m:\u001b[0m\u001b[0;34m\u001b[0m\u001b[0;34m\u001b[0m\u001b[0m\n\u001b[1;32m   2904\u001b[0m                 \u001b[0mindexer\u001b[0m \u001b[0;34m=\u001b[0m \u001b[0;34m[\u001b[0m\u001b[0mindexer\u001b[0m\u001b[0;34m]\u001b[0m\u001b[0;34m\u001b[0m\u001b[0;34m\u001b[0m\u001b[0m\n",
      "\u001b[0;32m~/opt/anaconda3/lib/python3.8/site-packages/pandas/core/indexes/base.py\u001b[0m in \u001b[0;36mget_loc\u001b[0;34m(self, key, method, tolerance)\u001b[0m\n\u001b[1;32m   2895\u001b[0m                 \u001b[0;32mreturn\u001b[0m \u001b[0mself\u001b[0m\u001b[0;34m.\u001b[0m\u001b[0m_engine\u001b[0m\u001b[0;34m.\u001b[0m\u001b[0mget_loc\u001b[0m\u001b[0;34m(\u001b[0m\u001b[0mcasted_key\u001b[0m\u001b[0;34m)\u001b[0m\u001b[0;34m\u001b[0m\u001b[0;34m\u001b[0m\u001b[0m\n\u001b[1;32m   2896\u001b[0m             \u001b[0;32mexcept\u001b[0m \u001b[0mKeyError\u001b[0m \u001b[0;32mas\u001b[0m \u001b[0merr\u001b[0m\u001b[0;34m:\u001b[0m\u001b[0;34m\u001b[0m\u001b[0;34m\u001b[0m\u001b[0m\n\u001b[0;32m-> 2897\u001b[0;31m                 \u001b[0;32mraise\u001b[0m \u001b[0mKeyError\u001b[0m\u001b[0;34m(\u001b[0m\u001b[0mkey\u001b[0m\u001b[0;34m)\u001b[0m \u001b[0;32mfrom\u001b[0m \u001b[0merr\u001b[0m\u001b[0;34m\u001b[0m\u001b[0;34m\u001b[0m\u001b[0m\n\u001b[0m\u001b[1;32m   2898\u001b[0m \u001b[0;34m\u001b[0m\u001b[0m\n\u001b[1;32m   2899\u001b[0m         \u001b[0;32mif\u001b[0m \u001b[0mtolerance\u001b[0m \u001b[0;32mis\u001b[0m \u001b[0;32mnot\u001b[0m \u001b[0;32mNone\u001b[0m\u001b[0;34m:\u001b[0m\u001b[0;34m\u001b[0m\u001b[0;34m\u001b[0m\u001b[0m\n",
      "\u001b[0;31mKeyError\u001b[0m: 'short_date'"
     ]
    }
   ],
   "source": [
    "df.plot.line('short_date', y=['adj_high', 'adj_close'])\n",
    "plt.xticks(rotation=90)\n",
    "plt.xlabel('Date')\n",
    "plt.ylabel('Adjusted Price (USD)')\n",
    "plt.title('Microsoft EOD Data')\n",
    "\n",
    "# plt.legend(title='')\n",
    "plt.legend(labels=['Adjusted High Price', 'Adjusted Closing Price'])"
   ]
  },
  {
   "cell_type": "code",
   "execution_count": 12,
   "metadata": {
    "extensions": {
     "jupyter_dashboards": {
      "version": 1,
      "views": {
       "grid_default": {},
       "report_default": {
        "hidden": false
       }
      }
     }
    }
   },
   "outputs": [
    {
     "data": {
      "text/plain": [
       "<matplotlib.legend.Legend at 0x115de8700>"
      ]
     },
     "execution_count": 12,
     "metadata": {},
     "output_type": "execute_result"
    },
    {
     "data": {
      "image/png": "[encoded data removed]",
      "text/plain": [
       "<Figure size 432x288 with 1 Axes>"
      ]
     },
     "metadata": {
      "needs_background": "light"
     },
     "output_type": "display_data"
    }
   ],
   "source": [
    "df.plot.line('short_date', 'volume')\n",
    "plt.xticks(rotation=90)\n",
    "plt.xlabel('Date')\n",
    "plt.ylabel('Volume')\n",
    "plt.title('Microsoft EOD Data')\n",
    "\n",
    "# plt.legend(title='')\n",
    "plt.legend(labels=['Volume'])"
   ]
  },
  {
   "cell_type": "markdown",
   "metadata": {
    "extensions": {
     "jupyter_dashboards": {
      "version": 1,
      "views": {
       "grid_default": {},
       "report_default": {
        "hidden": false
       }
      }
     }
    }
   },
   "source": [
    "numbers:\n",
    "    highest volume\n",
    "    lowest volume\n",
    "    highest price\n",
    "    lowest price\n",
    "    \n",
    "over time:\n",
    "    closing versus opening\n",
    "    volume\n",
    "    \n",
    "averages (over different periods):\n",
    "    volume\n",
    "    high\n",
    "    low\n",
    "    closing\n",
    "last week\n",
    "last month"
   ]
  },
  {
   "cell_type": "code",
   "execution_count": 13,
   "metadata": {
    "extensions": {
     "jupyter_dashboards": {
      "version": 1,
      "views": {
       "grid_default": {},
       "report_default": {
        "hidden": false
       }
      }
     }
    }
   },
   "outputs": [
    {
     "data": {
      "text/plain": [
       "55155300.0"
      ]
     },
     "execution_count": 13,
     "metadata": {},
     "output_type": "execute_result"
    }
   ],
   "source": [
    "df['volume'].max()"
   ]
  },
  {
   "cell_type": "code",
   "execution_count": 14,
   "metadata": {
    "extensions": {
     "jupyter_dashboards": {
      "version": 1,
      "views": {
       "grid_default": {},
       "report_default": {
        "hidden": false
       }
      }
     }
    }
   },
   "outputs": [
    {
     "data": {
      "text/html": [
       "<div>\n",
       "<style scoped>\n",
       "    .dataframe tbody tr th:only-of-type {\n",
       "        vertical-align: middle;\n",
       "    }\n",
       "\n",
       "    .dataframe tbody tr th {\n",
       "        vertical-align: top;\n",
       "    }\n",
       "\n",
       "    .dataframe thead th {\n",
       "        text-align: right;\n",
       "    }\n",
       "</style>\n",
       "<table border=\"1\" class=\"dataframe\">\n",
       "  <thead>\n",
       "    <tr style=\"text-align: right;\">\n",
       "      <th></th>\n",
       "      <th>volume</th>\n",
       "      <th>short_date</th>\n",
       "    </tr>\n",
       "  </thead>\n",
       "  <tbody>\n",
       "    <tr>\n",
       "      <th>49</th>\n",
       "      <td>55155300.0</td>\n",
       "      <td>2024-09-20</td>\n",
       "    </tr>\n",
       "    <tr>\n",
       "      <th>20</th>\n",
       "      <td>53473867.0</td>\n",
       "      <td>2024-10-31</td>\n",
       "    </tr>\n",
       "    <tr>\n",
       "      <th>85</th>\n",
       "      <td>42806400.0</td>\n",
       "      <td>2024-07-31</td>\n",
       "    </tr>\n",
       "    <tr>\n",
       "      <th>82</th>\n",
       "      <td>40652000.0</td>\n",
       "      <td>2024-08-05</td>\n",
       "    </tr>\n",
       "    <tr>\n",
       "      <th>86</th>\n",
       "      <td>31694300.0</td>\n",
       "      <td>2024-07-30</td>\n",
       "    </tr>\n",
       "    <tr>\n",
       "      <th>...</th>\n",
       "      <td>...</td>\n",
       "      <td>...</td>\n",
       "    </tr>\n",
       "    <tr>\n",
       "      <th>40</th>\n",
       "      <td>13460138.0</td>\n",
       "      <td>2024-10-03</td>\n",
       "    </tr>\n",
       "    <tr>\n",
       "      <th>46</th>\n",
       "      <td>13335000.0</td>\n",
       "      <td>2024-09-25</td>\n",
       "    </tr>\n",
       "    <tr>\n",
       "      <th>28</th>\n",
       "      <td>13284766.0</td>\n",
       "      <td>2024-10-21</td>\n",
       "    </tr>\n",
       "    <tr>\n",
       "      <th>67</th>\n",
       "      <td>13134700.0</td>\n",
       "      <td>2024-08-26</td>\n",
       "    </tr>\n",
       "    <tr>\n",
       "      <th>91</th>\n",
       "      <td>13075000.0</td>\n",
       "      <td>2024-07-23</td>\n",
       "    </tr>\n",
       "  </tbody>\n",
       "</table>\n",
       "<p>100 rows × 2 columns</p>\n",
       "</div>"
      ],
      "text/plain": [
       "        volume  short_date\n",
       "49  55155300.0  2024-09-20\n",
       "20  53473867.0  2024-10-31\n",
       "85  42806400.0  2024-07-31\n",
       "82  40652000.0  2024-08-05\n",
       "86  31694300.0  2024-07-30\n",
       "..         ...         ...\n",
       "40  13460138.0  2024-10-03\n",
       "46  13335000.0  2024-09-25\n",
       "28  13284766.0  2024-10-21\n",
       "67  13134700.0  2024-08-26\n",
       "91  13075000.0  2024-07-23\n",
       "\n",
       "[100 rows x 2 columns]"
      ]
     },
     "execution_count": 14,
     "metadata": {},
     "output_type": "execute_result"
    }
   ],
   "source": [
    "df[['volume', 'short_date']].sort_values('volume', ascending=False)"
   ]
  },
  {
   "cell_type": "code",
   "execution_count": 15,
   "metadata": {
    "extensions": {
     "jupyter_dashboards": {
      "version": 1,
      "views": {
       "grid_default": {},
       "report_default": {
        "hidden": false
       }
      }
     }
    }
   },
   "outputs": [
    {
     "data": {
      "text/html": [
       "<div>\n",
       "<style scoped>\n",
       "    .dataframe tbody tr th:only-of-type {\n",
       "        vertical-align: middle;\n",
       "    }\n",
       "\n",
       "    .dataframe tbody tr th {\n",
       "        vertical-align: top;\n",
       "    }\n",
       "\n",
       "    .dataframe thead th {\n",
       "        text-align: right;\n",
       "    }\n",
       "</style>\n",
       "<table border=\"1\" class=\"dataframe\">\n",
       "  <thead>\n",
       "    <tr style=\"text-align: right;\">\n",
       "      <th></th>\n",
       "      <th>volume</th>\n",
       "      <th>short_date</th>\n",
       "    </tr>\n",
       "  </thead>\n",
       "  <tbody>\n",
       "    <tr>\n",
       "      <th>91</th>\n",
       "      <td>13075000.0</td>\n",
       "      <td>2024-07-23</td>\n",
       "    </tr>\n",
       "  </tbody>\n",
       "</table>\n",
       "</div>"
      ],
      "text/plain": [
       "        volume  short_date\n",
       "91  13075000.0  2024-07-23"
      ]
     },
     "execution_count": 15,
     "metadata": {},
     "output_type": "execute_result"
    }
   ],
   "source": [
    "df[['volume', 'short_date']].sort_values('volume', ascending=True).head(1)"
   ]
  },
  {
   "cell_type": "code",
   "execution_count": 16,
   "metadata": {
    "extensions": {
     "jupyter_dashboards": {
      "version": 1,
      "views": {
       "grid_default": {},
       "report_default": {
        "hidden": false
       }
      }
     }
    }
   },
   "outputs": [
    {
     "data": {
      "text/html": [
       "<div>\n",
       "<style scoped>\n",
       "    .dataframe tbody tr th:only-of-type {\n",
       "        vertical-align: middle;\n",
       "    }\n",
       "\n",
       "    .dataframe tbody tr th {\n",
       "        vertical-align: top;\n",
       "    }\n",
       "\n",
       "    .dataframe thead th {\n",
       "        text-align: right;\n",
       "    }\n",
       "</style>\n",
       "<table border=\"1\" class=\"dataframe\">\n",
       "  <thead>\n",
       "    <tr style=\"text-align: right;\">\n",
       "      <th></th>\n",
       "      <th>adj_high</th>\n",
       "      <th>short_date</th>\n",
       "    </tr>\n",
       "  </thead>\n",
       "  <tbody>\n",
       "    <tr>\n",
       "      <th>99</th>\n",
       "      <td>464.78</td>\n",
       "      <td>2024-07-11</td>\n",
       "    </tr>\n",
       "    <tr>\n",
       "      <th>97</th>\n",
       "      <td>457.26</td>\n",
       "      <td>2024-07-15</td>\n",
       "    </tr>\n",
       "    <tr>\n",
       "      <th>98</th>\n",
       "      <td>456.36</td>\n",
       "      <td>2024-07-12</td>\n",
       "    </tr>\n",
       "    <tr>\n",
       "      <th>96</th>\n",
       "      <td>454.30</td>\n",
       "      <td>2024-07-16</td>\n",
       "    </tr>\n",
       "    <tr>\n",
       "      <th>91</th>\n",
       "      <td>448.39</td>\n",
       "      <td>2024-07-23</td>\n",
       "    </tr>\n",
       "    <tr>\n",
       "      <th>...</th>\n",
       "      <td>...</td>\n",
       "      <td>...</td>\n",
       "    </tr>\n",
       "    <tr>\n",
       "      <th>58</th>\n",
       "      <td>408.65</td>\n",
       "      <td>2024-09-09</td>\n",
       "    </tr>\n",
       "    <tr>\n",
       "      <th>78</th>\n",
       "      <td>408.05</td>\n",
       "      <td>2024-08-09</td>\n",
       "    </tr>\n",
       "    <tr>\n",
       "      <th>79</th>\n",
       "      <td>405.86</td>\n",
       "      <td>2024-08-08</td>\n",
       "    </tr>\n",
       "    <tr>\n",
       "      <th>81</th>\n",
       "      <td>405.67</td>\n",
       "      <td>2024-08-06</td>\n",
       "    </tr>\n",
       "    <tr>\n",
       "      <th>82</th>\n",
       "      <td>401.04</td>\n",
       "      <td>2024-08-05</td>\n",
       "    </tr>\n",
       "  </tbody>\n",
       "</table>\n",
       "<p>100 rows × 2 columns</p>\n",
       "</div>"
      ],
      "text/plain": [
       "    adj_high  short_date\n",
       "99    464.78  2024-07-11\n",
       "97    457.26  2024-07-15\n",
       "98    456.36  2024-07-12\n",
       "96    454.30  2024-07-16\n",
       "91    448.39  2024-07-23\n",
       "..       ...         ...\n",
       "58    408.65  2024-09-09\n",
       "78    408.05  2024-08-09\n",
       "79    405.86  2024-08-08\n",
       "81    405.67  2024-08-06\n",
       "82    401.04  2024-08-05\n",
       "\n",
       "[100 rows x 2 columns]"
      ]
     },
     "execution_count": 16,
     "metadata": {},
     "output_type": "execute_result"
    }
   ],
   "source": [
    "df[['adj_high', 'short_date']].sort_values('adj_high', ascending=False)"
   ]
  },
  {
   "cell_type": "code",
   "execution_count": 17,
   "metadata": {
    "extensions": {
     "jupyter_dashboards": {
      "version": 1,
      "views": {
       "grid_default": {},
       "report_default": {
        "hidden": false
       }
      }
     }
    }
   },
   "outputs": [
    {
     "data": {
      "text/html": [
       "<div>\n",
       "<style scoped>\n",
       "    .dataframe tbody tr th:only-of-type {\n",
       "        vertical-align: middle;\n",
       "    }\n",
       "\n",
       "    .dataframe tbody tr th {\n",
       "        vertical-align: top;\n",
       "    }\n",
       "\n",
       "    .dataframe thead th {\n",
       "        text-align: right;\n",
       "    }\n",
       "</style>\n",
       "<table border=\"1\" class=\"dataframe\">\n",
       "  <thead>\n",
       "    <tr style=\"text-align: right;\">\n",
       "      <th></th>\n",
       "      <th>adj_high</th>\n",
       "      <th>short_date</th>\n",
       "    </tr>\n",
       "  </thead>\n",
       "  <tbody>\n",
       "    <tr>\n",
       "      <th>82</th>\n",
       "      <td>401.04</td>\n",
       "      <td>2024-08-05</td>\n",
       "    </tr>\n",
       "  </tbody>\n",
       "</table>\n",
       "</div>"
      ],
      "text/plain": [
       "    adj_high  short_date\n",
       "82    401.04  2024-08-05"
      ]
     },
     "execution_count": 17,
     "metadata": {},
     "output_type": "execute_result"
    }
   ],
   "source": [
    "df[['adj_high', 'short_date']].sort_values('adj_high', ascending=True).head(1)"
   ]
  },
  {
   "cell_type": "code",
   "execution_count": 18,
   "metadata": {
    "extensions": {
     "jupyter_dashboards": {
      "version": 1,
      "views": {
       "grid_default": {},
       "report_default": {
        "hidden": false
       }
      }
     }
    }
   },
   "outputs": [
    {
     "data": {
      "text/plain": [
       "<matplotlib.legend.Legend at 0x1162ae190>"
      ]
     },
     "execution_count": 18,
     "metadata": {},
     "output_type": "execute_result"
    },
    {
     "data": {
      "image/png": "[encoded data removed]",
      "text/plain": [
       "<Figure size 432x288 with 1 Axes>"
      ]
     },
     "metadata": {
      "needs_background": "light"
     },
     "output_type": "display_data"
    }
   ],
   "source": [
    "df.plot.line('short_date', y=['adj_open', 'adj_close'])\n",
    "plt.xticks(rotation=90)\n",
    "plt.xlabel('Date')\n",
    "plt.ylabel('Adjusted Price (USD)')\n",
    "plt.title('Microsoft EOD Data')\n",
    "plt.legend(labels=['Adjusted Opening Price', 'Adjusted Closing Price'])"
   ]
  },
  {
   "cell_type": "code",
   "execution_count": 19,
   "metadata": {
    "extensions": {
     "jupyter_dashboards": {
      "version": 1,
      "views": {
       "grid_default": {},
       "report_default": {
        "hidden": false
       }
      }
     }
    }
   },
   "outputs": [
    {
     "data": {
      "text/plain": [
       "20284888.0"
      ]
     },
     "execution_count": 19,
     "metadata": {},
     "output_type": "execute_result"
    }
   ],
   "source": [
    "df['volume'].mean()"
   ]
  },
  {
   "cell_type": "code",
   "execution_count": 20,
   "metadata": {
    "extensions": {
     "jupyter_dashboards": {
      "version": 1,
      "views": {
       "grid_default": {},
       "report_default": {
        "hidden": false
       }
      }
     }
    }
   },
   "outputs": [
    {
     "data": {
      "text/plain": [
       "425.37820500000015"
      ]
     },
     "execution_count": 20,
     "metadata": {},
     "output_type": "execute_result"
    }
   ],
   "source": [
    "df['adj_high'].mean()"
   ]
  },
  {
   "cell_type": "code",
   "execution_count": 21,
   "metadata": {
    "extensions": {
     "jupyter_dashboards": {
      "version": 1,
      "views": {
       "grid_default": {},
       "report_default": {
        "hidden": false
       }
      }
     }
    }
   },
   "outputs": [
    {
     "data": {
      "text/plain": [
       "417.9611310000001"
      ]
     },
     "execution_count": 21,
     "metadata": {},
     "output_type": "execute_result"
    }
   ],
   "source": [
    "df['adj_low'].mean()"
   ]
  },
  {
   "cell_type": "code",
   "execution_count": 22,
   "metadata": {
    "extensions": {
     "jupyter_dashboards": {
      "version": 1,
      "views": {
       "grid_default": {},
       "report_default": {
        "hidden": false
       }
      }
     }
    }
   },
   "outputs": [
    {
     "data": {
      "text/plain": [
       "421.5292"
      ]
     },
     "execution_count": 22,
     "metadata": {},
     "output_type": "execute_result"
    }
   ],
   "source": [
    "df['adj_close'].mean()"
   ]
  },
  {
   "cell_type": "code",
   "execution_count": null,
   "metadata": {
    "extensions": {
     "jupyter_dashboards": {
      "version": 1,
      "views": {
       "grid_default": {},
       "report_default": {
        "hidden": true
       }
      }
     }
    }
   },
   "outputs": [],
   "source": []
  }
 ],
 "metadata": {
  "extensions": {
   "jupyter_dashboards": {
    "activeView": "report_default",
    "version": 1,
    "views": {
     "grid_default": {
      "name": "grid",
      "type": "grid"
     },
     "report_default": {
      "name": "report",
      "type": "report"
     }
    }
   }
  },
  "kernelspec": {
   "display_name": "Python 3",
   "language": "python",
   "name": "python3"
  },
  "language_info": {
   "codemirror_mode": {
    "name": "ipython",
    "version": 3
   },
   "file_extension": ".py",
   "mimetype": "text/x-python",
   "name": "python",
   "nbconvert_exporter": "python",
   "pygments_lexer": "ipython3",
   "version": "3.8.5"
  }
 },
 "nbformat": 4,
 "nbformat_minor": 4
}
